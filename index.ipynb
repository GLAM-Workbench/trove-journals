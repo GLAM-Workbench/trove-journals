{
 "cells": [
  {
   "cell_type": "markdown",
   "id": "95c104a1",
   "metadata": {},
   "source": [
    "# Trove journals\n",
    "\n",
    "Current version: [v1.0.0](https://github.com/GLAM-Workbench/trove-journals/releases/tag/v1.0.0)\n",
    "\n",
    "Examples of working with data from Trove's Journals zone. For more information see the [Trove Journals](https://glam-workbench.net/trove-journals/) section of the GLAM Workbench.\n",
    "\n",
    "## Harvesting metadata\n",
    "\n",
    "* [Create a list of Trove's digitised journals](Create-digitised-journals-list.ipynb) – uses the Trove API to harvest metadata relating to periodicals available from Trove in digital form.\n",
    "\n",
    "## Harvesting text\n",
    "\n",
    "* [Get OCRd text from a digitised journal in Trove](Get-text-from-a-Trove-journal.ipynb) – shows how to extract issue data from a digitised journal and download OCRd text for each issue.\n",
    "* [Download the OCRd text for ALL the digitised journals in Trove!](Download-text-for-all-digitised-journals.ipynb) – using the code and data from the previous two notebooks, you can download the OCRd text from every digitised journal.\n",
    "* [Harvest parliament press releases from Trove](Harvest-parliament-press-releases.ipynb) – shows you how to harvest both metadata and full text from a search of the parliamentary press releases.\n",
    "* [Create a database to search across each line of text in a series of volumes](index-each-line-in-series.ipynb) – index any series of publication where it would be useful to search by line.\n",
    "\n",
    "## Harvesting images\n",
    "\n",
    "* [Get covers (or any other pages) from a digitised journal in Trove](Get-page-images-from-a-Trove-journal.ipynb) – shows how to download all the cover images from a specified journal. With some minor modifications you could download any page, or range of pages.\n",
    "* [Finding editorial cartoons in the Bulletin](Finding_editorial_cartoons_in_the_Bulletin.ipynb) – full page editorial cartoons were a consistent feature of The Bulletin for many decades, I wanted to try and assemble a collection of all the editorial cartoons, but how?\n",
    "\n",
    "## Datasets\n",
    "\n",
    "* [CSV formatted list of journals available from Trove in digital form](digital-journals-20220831.csv) – harvested 31 August 2022\n",
    "* [CSV formatted list of journals with OCRd text](digital-journals-with-text-20220831.csv) – harvested 31 August 2022"
   ]
  },
  {
   "cell_type": "markdown",
   "id": "7f02fd15",
   "metadata": {},
   "source": [
    "See the [GLAM Workbench for more details](https://glam-workbench.github.io/trove-journals/).\n"
   ]
  },
  {
   "cell_type": "markdown",
   "id": "47312816",
   "metadata": {},
   "source": [
    "## Cite as\n",
    "\n",
    "See the [GLAM Workbench](https://glam-workbench.net/trove-journals/#cite-as) or [Zenodo](https://doi.org/10.5281/zenodo.3545215) for up-to-date citation details.\n",
    "\n",
    "----\n",
    "\n",
    "This repository is part of the [GLAM Workbench](https://glam-workbench.github.io/).  "
   ]
  }
 ],
 "metadata": {
  "jupytext": {
   "cell_metadata_filter": "-all"
  },
  "kernelspec": {
   "display_name": "Python 3 (ipykernel)",
   "language": "python",
   "name": "python3"
  }
 },
 "nbformat": 4,
 "nbformat_minor": 5
}
