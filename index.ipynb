{
 "cells": [
  {
   "cell_type": "markdown",
   "id": "8b76c6bc",
   "metadata": {},
   "source": [
    "# trove-journals\n",
    "\n",
    "CURRENT VERSION: v2.2.0\n",
    "\n",
    "There are hundreds of digitised periodicals in Trove (not including newspapers). Information about them is spread across a number of categories, and it's not always easy to find what's available. The notebooks in this repository help you harvest metadata, text, and images from digitised periodicals in Trove. There are also a number of pre-harvested datasets.\n",
    "\n",
    "For more information and documentation see the [Trove periodicals](https://glam-workbench.net/trove-journals) section of the [GLAM Workbench](https://glam-workbench.net).\n",
    "\n",
    "## Notebooks\n",
    "- [Get covers (or any other pages) from a digitised journal in Trove](https://github.com/GLAM-Workbench/trove-journals/blob/master/Get-page-images-from-a-Trove-journal.ipynb)\n",
    "- [Get OCRd text from a digitised journal in Trove](https://github.com/GLAM-Workbench/trove-journals/blob/master/Get-text-from-a-Trove-journal.ipynb)\n",
    "- [Word frequencies in digitised journals](https://github.com/GLAM-Workbench/trove-journals/blob/master/word_frequences_in_digitised_journals.ipynb)\n",
    "- [Download the OCRd text for ALL the digitised periodicals in Trove!](https://github.com/GLAM-Workbench/trove-journals/blob/master/Download-text-for-all-digitised-journals.ipynb)\n",
    "- [Create a database to search across each line of text in a series of volumes](https://github.com/GLAM-Workbench/trove-journals/blob/master/index-each-line-in-series.ipynb)\n",
    "- [Finding editorial cartoons in the Bulletin](https://github.com/GLAM-Workbench/trove-journals/blob/master/Finding_editorial_cartoons_in_the_Bulletin.ipynb)\n",
    "- [TF-IDF in digitised journals](https://github.com/GLAM-Workbench/trove-journals/blob/master/tfidf_in_digitised_journals.ipynb)\n",
    "- [Enrich the list of periodicals from the Trove API](https://github.com/GLAM-Workbench/trove-journals/blob/master/periodicals-enrich-for-datasette.ipynb)\n",
    "- [Get details of periodicals from the `/magazine/titles` API endpoint](https://github.com/GLAM-Workbench/trove-journals/blob/master/periodicals-from-api.ipynb)\n",
    "- [Download issues of a periodical as PDFs](https://github.com/GLAM-Workbench/trove-journals/blob/master/save-issues-as-pdfs.ipynb)\n",
    "- [Create a list of Trove's digital periodicals](https://github.com/GLAM-Workbench/trove-journals/blob/master/Create-digitised-journals-list.ipynb)\n",
    "- [Harvest details of periodicals submitted to Trove through the National edeposit scheme (NED)](https://github.com/GLAM-Workbench/trove-journals/blob/master/harvest-ned-periodicals.ipynb)\n",
    "- [Harvest illustrations from periodicals](https://github.com/GLAM-Workbench/trove-journals/blob/master/harvest-illustrations-from-periodicals.ipynb)"
   ]
  },
  {
   "cell_type": "markdown",
   "id": "eccd28c2",
   "metadata": {},
   "source": [
    "## Associated datasets\n",
    "- [titles-issues-added.ndjson](https://github.com/GLAM-Workbench/trove-periodicals-data/raw/main/titles-issues-added.ndjson)\n",
    "- [ned-periodical-issues.csv](https://github.com/GLAM-Workbench/trove-ned-periodicals-data/raw/main/ned-periodical-issues.csv)\n",
    "- [bulletin-editorial-cartoons](https://github.com/GLAM-Workbench/bulletin-editorial-cartoons)\n",
    "- [ned-periodicals.db](https://github.com/GLAM-Workbench/trove-ned-periodicals-data/raw/main/ned-periodicals.db)\n",
    "- [periodical-issues.csv](https://github.com/GLAM-Workbench/trove-periodicals-data/raw/main/periodical-issues.csv)\n",
    "- [periodicals.db](https://github.com/GLAM-Workbench/trove-periodicals-data/raw/main/periodicals.db)\n",
    "- [bulletin_cartoons.zip](https://trove-journals.s3.ap-southeast-2.amazonaws.com/bulletin_cartoons.zip)\n",
    "- [trove-periodicals-data](https://github.com/GLAM-Workbench/trove-periodicals-data/)\n",
    "- [bulletin-editorial-cartoons.db](https://github.com/GLAM-Workbench/bulletin-editorial-cartoons/raw/main/bulletin-editorial-cartoons.db)\n",
    "- [trove-ned-periodicals-data](https://github.com/GLAM-Workbench/trove-ned-periodicals-data)\n",
    "- [trove-periodical-works-data](https://github.com/GLAM-Workbench/trove-periodical-works-data)\n",
    "- [trove-periodicals.zip](https://trove-journals.s3.ap-southeast-2.amazonaws.com/trove-periodicals.zip)\n"
   ]
  },
  {
   "cell_type": "markdown",
   "id": "ec819f8d",
   "metadata": {},
   "source": [
    "----\n",
    "Created by [Tim Sherratt](https://timsherratt.au) for the [GLAM Workbench](https://glam-workbench.net)"
   ]
  }
 ],
 "metadata": {
  "jupytext": {
   "cell_metadata_filter": "-all"
  },
  "kernelspec": {
   "display_name": "Python 3 (ipykernel)",
   "language": "python",
   "name": "python3"
  }
 },
 "nbformat": 4,
 "nbformat_minor": 5
}
