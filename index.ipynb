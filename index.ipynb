{
 "cells": [
  {
   "cell_type": "markdown",
   "id": "91ecbbd3",
   "metadata": {},
   "source": [
    "# trove-journals\n",
    "\n",
    "A GLAM Workbench repository\n",
    "\n",
    "For more information and documentation see the [Trove journals](https://glam-workbench.net/trove-journals) section of the [GLAM Workbench](https://glam-workbench.net).\n",
    "\n",
    "## Notebooks\n",
    "- [Get covers (or any other pages) from a digitised journal in Trove](https://github.com/GLAM-Workbench/trove-journals/blob/master/Get-page-images-from-a-Trove-journal.ipynb)\n",
    "- [Get OCRd text from a digitised journal in Trove](https://github.com/GLAM-Workbench/trove-journals/blob/None/Get-text-from-a-Trove-journal.ipynb)\n",
    "- [Word frequencies in digitised journals](https://github.com/GLAM-Workbench/trove-journals/blob/None/word_frequences_in_digitised_journals.ipynb)\n",
    "- [Download the OCRd text for ALL the digitised periodicals in Trove!](https://github.com/GLAM-Workbench/trove-journals/blob/None/Download-text-for-all-digitised-journals.ipynb)\n",
    "- [Create a database to search across each line of text in a series of volumes](https://github.com/GLAM-Workbench/trove-journals/blob/None/index-each-line-in-series.ipynb)\n",
    "- [Finding editorial cartoons in the Bulletin](https://github.com/GLAM-Workbench/trove-journals/blob/None/Finding_editorial_cartoons_in_the_Bulletin.ipynb)\n",
    "- [TF-IDF in digitised journals](https://github.com/GLAM-Workbench/trove-journals/blob/None/tfidf_in_digitised_journals.ipynb)\n",
    "- [Enrich the list of periodicals from the Trove API](https://github.com/GLAM-Workbench/trove-journals/blob/None/periodicals-enrich-for-datasette.ipynb)\n",
    "- [Get details of periodicals from the `/magazine/titles` API endpoint](https://github.com/GLAM-Workbench/trove-journals/blob/None/periodicals-from-api.ipynb)\n",
    "- [Create a list of Trove's digital periodicals](https://github.com/GLAM-Workbench/trove-journals/blob/None/Create-digitised-journals-list.ipynb)"
   ]
  },
  {
   "cell_type": "markdown",
   "id": "32a8783e",
   "metadata": {},
   "source": [
    "## Associated datasets\n",
    "- [bulletin_cartoons.zip](https://trove-journals.s3.ap-southeast-2.amazonaws.com/bulletin_cartoons.zip)\n",
    "- [trove-periodicals-data](https://github.com/GLAM-Workbench/trove-periodicals-data/)\n",
    "- [trove-periodical-works-data](https://github.com/GLAM-Workbench/trove-periodical-works-data)\n",
    "- [trove-periodicals.zip](https://trove-journals.s3.ap-southeast-2.amazonaws.com/trove-periodicals.zip)\n"
   ]
  },
  {
   "cell_type": "markdown",
   "id": "32f8013a",
   "metadata": {},
   "source": [
    "----\n",
    "Created by [Tim Sherratt](https://timsherratt.au) for the [GLAM Workbench](https://glam-workbench.net)"
   ]
  }
 ],
 "metadata": {
  "jupytext": {
   "cell_metadata_filter": "-all"
  },
  "kernelspec": {
   "display_name": "Python 3 (ipykernel)",
   "language": "python",
   "name": "python3"
  }
 },
 "nbformat": 4,
 "nbformat_minor": 5
}
