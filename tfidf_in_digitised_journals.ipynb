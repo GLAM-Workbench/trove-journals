{
 "cells": [
  {
   "cell_type": "markdown",
   "metadata": {},
   "source": [
    "# TF-IDF in digitised journals\n",
    "\n",
    "This notebook calculates TF-IDF values for words in digitised journals harvested from Trove. See also the notebook on [word frequences in digitised journals](word_frequences_in_digitised_journals.ipynb). More documentation coming..."
   ]
  },
  {
   "cell_type": "code",
   "execution_count": 1,
   "metadata": {},
   "outputs": [],
   "source": [
    "import re\n",
    "import tarfile\n",
    "import zipfile\n",
    "from io import BytesIO\n",
    "import pandas as pd\n",
    "import requests\n",
    "from tqdm.auto import tqdm\n",
    "import altair as alt\n",
    "import os\n",
    "from pathlib import Path\n",
    "import ipywidgets as widgets\n",
    "from sklearn.feature_extraction.text import TfidfVectorizer, CountVectorizer\n",
    "import numpy as np"
   ]
  },
  {
   "cell_type": "markdown",
   "metadata": {},
   "source": [
    "## Select a journal\n",
    "\n",
    "Create a dropdown widget to select a digitised journal. The cells below will use this widget to get the value of the currently selected journal."
   ]
  },
  {
   "cell_type": "code",
   "execution_count": 2,
   "metadata": {},
   "outputs": [
    {
     "data": {
      "application/vnd.jupyter.widget-view+json": {
       "model_id": "b651c0336a0540bb825f81114099cd9a",
       "version_major": 2,
       "version_minor": 0
      },
      "text/plain": [
       "Dropdown(options=(('\"Coo-ee!\" (Bishops Knoll Hospital (Bristol, England)) (12 issues)', 'coo-ee-bishops-knoll-…"
      ]
     },
     "metadata": {},
     "output_type": "display_data"
    }
   ],
   "source": [
    "# Load details of digitised journals from CSV\n",
    "df_journals = pd.read_csv('digital-journals-with-text.csv').sort_values(by='title')\n",
    "journal_list = [(f\"{j['title']} ({j['issues_with_text']} issues)\", j['directory']) for j in df_journals[['title', 'directory', 'issues_with_text']].to_dict('records')]\n",
    "journals = widgets.Dropdown(options=journal_list, disabled=False)\n",
    "display(journals)"
   ]
  },
  {
   "cell_type": "markdown",
   "metadata": {},
   "source": [
    "## Download all the issues of the journal\n",
    "\n",
    "Download a zip file containing the OCRd text of all the selected journal's available issues from the repository on CloudStor. Then unzip!"
   ]
  },
  {
   "cell_type": "code",
   "execution_count": null,
   "metadata": {},
   "outputs": [],
   "source": [
    "def download_journal(journals.value):\n",
    "    '''\n",
    "    Download the OCRd text of the selected journal from the respoitory on CloudStor. \n",
    "    '''\n",
    "    \n",
    "    # Create a directory to put the downloaded files\n",
    "    path = os.path.join('downloads', journal)\n",
    "    os.makedirs(path, exist_ok=True)\n",
    "    \n",
    "    # To get a sub-folder on Cloudstor you add a 'path' parameter\n",
    "    params = {\n",
    "        'path': f'/{journal}/texts'\n",
    "    }\n",
    "    \n",
    "    # Get the zipped texts folder from Cloudstor -- note the 'download' in the url to get the zipped folder\n",
    "    response = requests.get('https://cloudstor.aarnet.edu.au/plus/s/QOmnqpGQCNCSC2h/download', params=params)\n",
    "    \n",
    "    # Unzip the zip!\n",
    "    zipped = zipfile.ZipFile(BytesIO(response.content))\n",
    "    zipped.extractall(path)\n",
    "    \n",
    "    print(f'{len(get_docs_path(journal))} issues downloaded')"
   ]
  },
  {
   "cell_type": "code",
   "execution_count": null,
   "metadata": {},
   "outputs": [],
   "source": [
    "# Get the OCRd text of the selected journal\n",
    "download_journal(journals.value)"
   ]
  },
  {
   "cell_type": "markdown",
   "metadata": {},
   "source": [
    "## Calculate the TF-IDF values"
   ]
  },
  {
   "cell_type": "code",
   "execution_count": 3,
   "metadata": {},
   "outputs": [],
   "source": [
    "def get_docs(journal):\n",
    "    docs_path = get_docs_path(journal)\n",
    "    for p in docs_path:\n",
    "        yield p.read_text(encoding='utf-8').strip()\n",
    "        \n",
    "def get_docs_path(journal):\n",
    "    path = os.path.join('downloads', journal, 'texts')\n",
    "    docs_path = [p for p in sorted(Path(path).glob('*.txt'))]\n",
    "    return docs_path\n",
    "\n",
    "def get_file_names(journal):\n",
    "    return [p.stem for p in get_docs_path(journal)]\n",
    "\n",
    "def get_years(journal):\n",
    "    '''\n",
    "    Get a list of years extracted from the filenames of the issues.\n",
    "    '''\n",
    "    years = []\n",
    "    for doc in get_docs_path(journal):\n",
    "        try:\n",
    "            matches = re.findall(r'-((?:18|19|20)\\d{2})-', doc.stem)\n",
    "            years.append(int(matches[-1]))\n",
    "        except IndexError:\n",
    "            print(f'YEAR NOT FOUND: {doc}')\n",
    "    return sorted(list(set(years)))\n",
    "\n",
    "def get_docs_year(journal):\n",
    "    '''\n",
    "    Combine all the issues from a year into a single document ready to be fed into the pipeline.\n",
    "    '''\n",
    "    docs_year = {}\n",
    "    path = Path(f'{journals}/texts')\n",
    "    for doc in get_docs_path(journal):\n",
    "        try:\n",
    "            matches = re.findall(r'-((?:18|19|20)\\d{2})-', doc.stem)\n",
    "            year = int(matches[-1])\n",
    "        except IndexError:\n",
    "            print(f'YEAR NOT FOUND: {doc}')\n",
    "        else:\n",
    "            try:\n",
    "                docs_year[year].append(doc)\n",
    "            except KeyError:\n",
    "                docs_year[year] = [doc]\n",
    "    for y in sorted(docs_year.keys()):\n",
    "        year_doc = ' '.join([p.read_text(encoding='utf-8').strip() for p in docs_year[y]])\n",
    "        yield year_doc"
   ]
  },
  {
   "cell_type": "markdown",
   "metadata": {},
   "source": [
    "Calculate the TF-IDF values for each year."
   ]
  },
  {
   "cell_type": "code",
   "execution_count": 9,
   "metadata": {},
   "outputs": [
    {
     "name": "stdout",
     "output_type": "stream",
     "text": [
      "YEAR NOT FOUND: downloads/the-school-magazine-of-literature-for-our-boys-and-nla.obj-748113553/texts/the-school-magazine-of-literature-for-our-boys-and-150th-anniversary-celebrations-on-the-founding-of--nla.obj-774678501.txt\n",
      "YEAR NOT FOUND: downloads/the-school-magazine-of-literature-for-our-boys-and-nla.obj-748113553/texts/the-school-magazine-of-literature-for-our-boys-and-souvenir-of-children-s-festival-coronation-celebra-nla.obj-774657223.txt\n",
      "YEAR NOT FOUND: downloads/the-school-magazine-of-literature-for-our-boys-and-nla.obj-748113553/texts/the-school-magazine-of-literature-for-our-boys-and-150th-anniversary-celebrations-on-the-founding-of--nla.obj-774678501.txt\n",
      "YEAR NOT FOUND: downloads/the-school-magazine-of-literature-for-our-boys-and-nla.obj-748113553/texts/the-school-magazine-of-literature-for-our-boys-and-souvenir-of-children-s-festival-coronation-celebra-nla.obj-774657223.txt\n"
     ]
    }
   ],
   "source": [
    "vectorizer = TfidfVectorizer(stop_words='english', max_features=10000, ngram_range=(1,1), min_df=5, max_df=0.5)\n",
    "# preprocessor = lambda x: re.sub(r'(\\d[\\d\\.])+', 'NUM', x.lower())\n",
    "X_freq = np.asarray(vectorizer.fit_transform(get_docs_year(journals.value)).todense())\n",
    "df_tfidf_years = pd.DataFrame(X_freq, columns=vectorizer.get_feature_names(), index=get_years(journals.value))"
   ]
  },
  {
   "cell_type": "code",
   "execution_count": 10,
   "metadata": {},
   "outputs": [],
   "source": [
    "# Save as a CSV\n",
    "#df_freq.to_csv(f'{journals.value}-word-frequencies.csv')"
   ]
  },
  {
   "cell_type": "code",
   "execution_count": 11,
   "metadata": {},
   "outputs": [
    {
     "data": {
      "text/html": [
       "<div>\n",
       "<style scoped>\n",
       "    .dataframe tbody tr th:only-of-type {\n",
       "        vertical-align: middle;\n",
       "    }\n",
       "\n",
       "    .dataframe tbody tr th {\n",
       "        vertical-align: top;\n",
       "    }\n",
       "\n",
       "    .dataframe thead th {\n",
       "        text-align: right;\n",
       "    }\n",
       "</style>\n",
       "<table border=\"1\" class=\"dataframe\">\n",
       "  <thead>\n",
       "    <tr style=\"text-align: right;\">\n",
       "      <th></th>\n",
       "      <th>01</th>\n",
       "      <th>0f</th>\n",
       "      <th>102</th>\n",
       "      <th>103</th>\n",
       "      <th>104</th>\n",
       "      <th>105</th>\n",
       "      <th>106</th>\n",
       "      <th>107</th>\n",
       "      <th>108</th>\n",
       "      <th>109</th>\n",
       "      <th>...</th>\n",
       "      <th>zest</th>\n",
       "      <th>zeus</th>\n",
       "      <th>zig</th>\n",
       "      <th>zinc</th>\n",
       "      <th>zone</th>\n",
       "      <th>zoos</th>\n",
       "      <th>zora</th>\n",
       "      <th>zuider</th>\n",
       "      <th>zulu</th>\n",
       "      <th>zure</th>\n",
       "    </tr>\n",
       "  </thead>\n",
       "  <tbody>\n",
       "    <tr>\n",
       "      <th>1916</th>\n",
       "      <td>0.000000</td>\n",
       "      <td>0.000000</td>\n",
       "      <td>0.000000</td>\n",
       "      <td>0.011439</td>\n",
       "      <td>0.005720</td>\n",
       "      <td>0.013360</td>\n",
       "      <td>0.000000</td>\n",
       "      <td>0.000000</td>\n",
       "      <td>0.000000</td>\n",
       "      <td>0.000000</td>\n",
       "      <td>...</td>\n",
       "      <td>0.000000</td>\n",
       "      <td>0.0</td>\n",
       "      <td>0.00552</td>\n",
       "      <td>0.000000</td>\n",
       "      <td>0.005520</td>\n",
       "      <td>0.0</td>\n",
       "      <td>0.000000</td>\n",
       "      <td>0.0</td>\n",
       "      <td>0.0</td>\n",
       "      <td>0.000000</td>\n",
       "    </tr>\n",
       "    <tr>\n",
       "      <th>1917</th>\n",
       "      <td>0.011817</td>\n",
       "      <td>0.006174</td>\n",
       "      <td>0.000000</td>\n",
       "      <td>0.004370</td>\n",
       "      <td>0.008741</td>\n",
       "      <td>0.000000</td>\n",
       "      <td>0.018135</td>\n",
       "      <td>0.004709</td>\n",
       "      <td>0.015757</td>\n",
       "      <td>0.004218</td>\n",
       "      <td>...</td>\n",
       "      <td>0.000000</td>\n",
       "      <td>0.0</td>\n",
       "      <td>0.00000</td>\n",
       "      <td>0.004709</td>\n",
       "      <td>0.008436</td>\n",
       "      <td>0.0</td>\n",
       "      <td>0.000000</td>\n",
       "      <td>0.0</td>\n",
       "      <td>0.0</td>\n",
       "      <td>0.000000</td>\n",
       "    </tr>\n",
       "    <tr>\n",
       "      <th>1918</th>\n",
       "      <td>0.000000</td>\n",
       "      <td>0.000000</td>\n",
       "      <td>0.016972</td>\n",
       "      <td>0.005048</td>\n",
       "      <td>0.000000</td>\n",
       "      <td>0.005895</td>\n",
       "      <td>0.010472</td>\n",
       "      <td>0.000000</td>\n",
       "      <td>0.009099</td>\n",
       "      <td>0.000000</td>\n",
       "      <td>...</td>\n",
       "      <td>0.006156</td>\n",
       "      <td>0.0</td>\n",
       "      <td>0.00000</td>\n",
       "      <td>0.000000</td>\n",
       "      <td>0.014614</td>\n",
       "      <td>0.0</td>\n",
       "      <td>0.014614</td>\n",
       "      <td>0.0</td>\n",
       "      <td>0.0</td>\n",
       "      <td>0.011315</td>\n",
       "    </tr>\n",
       "    <tr>\n",
       "      <th>1919</th>\n",
       "      <td>0.000000</td>\n",
       "      <td>0.000000</td>\n",
       "      <td>0.011773</td>\n",
       "      <td>0.010504</td>\n",
       "      <td>0.005252</td>\n",
       "      <td>0.006134</td>\n",
       "      <td>0.016344</td>\n",
       "      <td>0.011318</td>\n",
       "      <td>0.014201</td>\n",
       "      <td>0.005068</td>\n",
       "      <td>...</td>\n",
       "      <td>0.000000</td>\n",
       "      <td>0.0</td>\n",
       "      <td>0.00000</td>\n",
       "      <td>0.000000</td>\n",
       "      <td>0.020274</td>\n",
       "      <td>0.0</td>\n",
       "      <td>0.000000</td>\n",
       "      <td>0.0</td>\n",
       "      <td>0.0</td>\n",
       "      <td>0.000000</td>\n",
       "    </tr>\n",
       "    <tr>\n",
       "      <th>1920</th>\n",
       "      <td>0.000000</td>\n",
       "      <td>0.000000</td>\n",
       "      <td>0.000000</td>\n",
       "      <td>0.000000</td>\n",
       "      <td>0.000000</td>\n",
       "      <td>0.000000</td>\n",
       "      <td>0.000000</td>\n",
       "      <td>0.000000</td>\n",
       "      <td>0.005483</td>\n",
       "      <td>0.000000</td>\n",
       "      <td>...</td>\n",
       "      <td>0.007419</td>\n",
       "      <td>0.0</td>\n",
       "      <td>0.00000</td>\n",
       "      <td>0.000000</td>\n",
       "      <td>0.023484</td>\n",
       "      <td>0.0</td>\n",
       "      <td>0.000000</td>\n",
       "      <td>0.0</td>\n",
       "      <td>0.0</td>\n",
       "      <td>0.013637</td>\n",
       "    </tr>\n",
       "  </tbody>\n",
       "</table>\n",
       "<p>5 rows × 10000 columns</p>\n",
       "</div>"
      ],
      "text/plain": [
       "            01        0f       102       103       104       105       106  \\\n",
       "1916  0.000000  0.000000  0.000000  0.011439  0.005720  0.013360  0.000000   \n",
       "1917  0.011817  0.006174  0.000000  0.004370  0.008741  0.000000  0.018135   \n",
       "1918  0.000000  0.000000  0.016972  0.005048  0.000000  0.005895  0.010472   \n",
       "1919  0.000000  0.000000  0.011773  0.010504  0.005252  0.006134  0.016344   \n",
       "1920  0.000000  0.000000  0.000000  0.000000  0.000000  0.000000  0.000000   \n",
       "\n",
       "           107       108       109  ...      zest  zeus      zig      zinc  \\\n",
       "1916  0.000000  0.000000  0.000000  ...  0.000000   0.0  0.00552  0.000000   \n",
       "1917  0.004709  0.015757  0.004218  ...  0.000000   0.0  0.00000  0.004709   \n",
       "1918  0.000000  0.009099  0.000000  ...  0.006156   0.0  0.00000  0.000000   \n",
       "1919  0.011318  0.014201  0.005068  ...  0.000000   0.0  0.00000  0.000000   \n",
       "1920  0.000000  0.005483  0.000000  ...  0.007419   0.0  0.00000  0.000000   \n",
       "\n",
       "          zone  zoos      zora  zuider  zulu      zure  \n",
       "1916  0.005520   0.0  0.000000     0.0   0.0  0.000000  \n",
       "1917  0.008436   0.0  0.000000     0.0   0.0  0.000000  \n",
       "1918  0.014614   0.0  0.014614     0.0   0.0  0.011315  \n",
       "1919  0.020274   0.0  0.000000     0.0   0.0  0.000000  \n",
       "1920  0.023484   0.0  0.000000     0.0   0.0  0.013637  \n",
       "\n",
       "[5 rows x 10000 columns]"
      ]
     },
     "execution_count": 11,
     "metadata": {},
     "output_type": "execute_result"
    }
   ],
   "source": [
    "# Display the results\n",
    "df_tfidf_years.head()"
   ]
  },
  {
   "cell_type": "markdown",
   "metadata": {},
   "source": [
    "Let's display the words each year with the highest TF-IDF scores."
   ]
  },
  {
   "cell_type": "code",
   "execution_count": 12,
   "metadata": {},
   "outputs": [
    {
     "name": "stdout",
     "output_type": "stream",
     "text": [
      "YEAR NOT FOUND: downloads/the-school-magazine-of-literature-for-our-boys-and-nla.obj-748113553/texts/the-school-magazine-of-literature-for-our-boys-and-150th-anniversary-celebrations-on-the-founding-of--nla.obj-774678501.txt\n",
      "YEAR NOT FOUND: downloads/the-school-magazine-of-literature-for-our-boys-and-nla.obj-748113553/texts/the-school-magazine-of-literature-for-our-boys-and-souvenir-of-children-s-festival-coronation-celebra-nla.obj-774657223.txt\n"
     ]
    },
    {
     "data": {
      "text/html": [
       "<div>\n",
       "<style scoped>\n",
       "    .dataframe tbody tr th:only-of-type {\n",
       "        vertical-align: middle;\n",
       "    }\n",
       "\n",
       "    .dataframe tbody tr th {\n",
       "        vertical-align: top;\n",
       "    }\n",
       "\n",
       "    .dataframe thead th {\n",
       "        text-align: right;\n",
       "    }\n",
       "</style>\n",
       "<table border=\"1\" class=\"dataframe\">\n",
       "  <thead>\n",
       "    <tr style=\"text-align: right;\">\n",
       "      <th></th>\n",
       "      <th>0</th>\n",
       "      <th>1</th>\n",
       "      <th>2</th>\n",
       "      <th>3</th>\n",
       "      <th>4</th>\n",
       "      <th>5</th>\n",
       "      <th>6</th>\n",
       "      <th>7</th>\n",
       "      <th>8</th>\n",
       "      <th>9</th>\n",
       "    </tr>\n",
       "  </thead>\n",
       "  <tbody>\n",
       "    <tr>\n",
       "      <th>1916</th>\n",
       "      <td>1916</td>\n",
       "      <td>patty</td>\n",
       "      <td>ore</td>\n",
       "      <td>skipper</td>\n",
       "      <td>kitchener</td>\n",
       "      <td>lal</td>\n",
       "      <td>pincushion</td>\n",
       "      <td>torpedo</td>\n",
       "      <td>howe</td>\n",
       "      <td>phaeton</td>\n",
       "    </tr>\n",
       "    <tr>\n",
       "      <th>1917</th>\n",
       "      <td>ulysses</td>\n",
       "      <td>saul</td>\n",
       "      <td>achilles</td>\n",
       "      <td>1917</td>\n",
       "      <td>samson</td>\n",
       "      <td>trojans</td>\n",
       "      <td>israel</td>\n",
       "      <td>bertha</td>\n",
       "      <td>snipe</td>\n",
       "      <td>ithaca</td>\n",
       "    </tr>\n",
       "    <tr>\n",
       "      <th>1918</th>\n",
       "      <td>lincoln</td>\n",
       "      <td>abraham</td>\n",
       "      <td>gauls</td>\n",
       "      <td>hatter</td>\n",
       "      <td>dormouse</td>\n",
       "      <td>tag</td>\n",
       "      <td>porsena</td>\n",
       "      <td>patty</td>\n",
       "      <td>lii</td>\n",
       "      <td>bruin</td>\n",
       "    </tr>\n",
       "    <tr>\n",
       "      <th>1919</th>\n",
       "      <td>saul</td>\n",
       "      <td>tyltyl</td>\n",
       "      <td>mytyl</td>\n",
       "      <td>1919</td>\n",
       "      <td>gulliver</td>\n",
       "      <td>ned</td>\n",
       "      <td>civic</td>\n",
       "      <td>daniel</td>\n",
       "      <td>israel</td>\n",
       "      <td>helena</td>\n",
       "    </tr>\n",
       "    <tr>\n",
       "      <th>1920</th>\n",
       "      <td>tyltyl</td>\n",
       "      <td>clink</td>\n",
       "      <td>1920</td>\n",
       "      <td>laddie</td>\n",
       "      <td>magellan</td>\n",
       "      <td>roland</td>\n",
       "      <td>stamens</td>\n",
       "      <td>raindrop</td>\n",
       "      <td>jacko</td>\n",
       "      <td>finland</td>\n",
       "    </tr>\n",
       "  </tbody>\n",
       "</table>\n",
       "</div>"
      ],
      "text/plain": [
       "            0        1         2        3          4        5           6  \\\n",
       "1916     1916    patty       ore  skipper  kitchener      lal  pincushion   \n",
       "1917  ulysses     saul  achilles     1917     samson  trojans      israel   \n",
       "1918  lincoln  abraham     gauls   hatter   dormouse      tag     porsena   \n",
       "1919     saul   tyltyl     mytyl     1919   gulliver      ned       civic   \n",
       "1920   tyltyl    clink      1920   laddie   magellan   roland     stamens   \n",
       "\n",
       "             7       8        9  \n",
       "1916   torpedo    howe  phaeton  \n",
       "1917    bertha   snipe   ithaca  \n",
       "1918     patty     lii    bruin  \n",
       "1919    daniel  israel   helena  \n",
       "1920  raindrop   jacko  finland  "
      ]
     },
     "execution_count": 12,
     "metadata": {},
     "output_type": "execute_result"
    }
   ],
   "source": [
    "# Top words per year\n",
    "df_years_top = pd.DataFrame({n: df_tfidf_years.T[col].nlargest(10).index.tolist() for n, col in enumerate(df_tfidf_years.T)}).T\n",
    "df_years_top.index = get_years(journals.value)\n",
    "df_years_top.head()"
   ]
  },
  {
   "cell_type": "markdown",
   "metadata": {},
   "source": [
    "And know we'll display the results in one huuuge chart."
   ]
  },
  {
   "cell_type": "code",
   "execution_count": 13,
   "metadata": {},
   "outputs": [
    {
     "name": "stdout",
     "output_type": "stream",
     "text": [
      "YEAR NOT FOUND: downloads/the-school-magazine-of-literature-for-our-boys-and-nla.obj-748113553/texts/the-school-magazine-of-literature-for-our-boys-and-150th-anniversary-celebrations-on-the-founding-of--nla.obj-774678501.txt\n",
      "YEAR NOT FOUND: downloads/the-school-magazine-of-literature-for-our-boys-and-nla.obj-748113553/texts/the-school-magazine-of-literature-for-our-boys-and-souvenir-of-children-s-festival-coronation-celebra-nla.obj-774657223.txt\n"
     ]
    },
    {
     "data": {
      "application/vnd.vegalite.v3+json": {
       "$schema": "https://vega.github.io/schema/vega-lite/v3.3.0.json",
       "config": {
        "mark": {
         "tooltip": null
        },
        "view": {
         "height": 300,
         "width": 400
        }
       },
       "data": {
        "name": "data-eb2e9e7489804f1b88b633282f2a792a"
       },
       "datasets": {
        "data-0b9aeb9887d76cd155191421254f8161": [
         {
          "count": 0.4810630202239142,
          "word": "tyltyl"
         },
         {
          "count": 0.18858812363483435,
          "word": "clink"
         },
         {
          "count": 0.18199947387536863,
          "word": "1920"
         },
         {
          "count": 0.1814816916326928,
          "word": "laddie"
         },
         {
          "count": 0.1563074579475226,
          "word": "magellan"
         },
         {
          "count": 0.15075913421578294,
          "word": "roland"
         },
         {
          "count": 0.1304577681963157,
          "word": "stamens"
         },
         {
          "count": 0.12954846306351106,
          "word": "raindrop"
         },
         {
          "count": 0.12425167283682667,
          "word": "jacko"
         },
         {
          "count": 0.12030695146682648,
          "word": "finland"
         }
        ],
        "data-0edc9a8010dfc2f4f6ad52bdc91d9849": [
         {
          "count": 0.37629635317083765,
          "word": "dolittle"
         },
         {
          "count": 0.3108941700976085,
          "word": "chee"
         },
         {
          "count": 0.21014355936102266,
          "word": "1934"
         },
         {
          "count": 0.18341610770942823,
          "word": "kay"
         },
         {
          "count": 0.18012305088087657,
          "word": "sheriff"
         },
         {
          "count": 0.17858936803286435,
          "word": "winkle"
         },
         {
          "count": 0.17424508451764534,
          "word": "lasseter"
         },
         {
          "count": 0.16410914900317264,
          "word": "jip"
         },
         {
          "count": 0.16011734155807492,
          "word": "xix"
         },
         {
          "count": 0.15010254240073045,
          "word": "blinky"
         }
        ],
        "data-12aac49c1ebb2c0baf8cb5f98756c3d1": [
         {
          "count": 0.5632958779839512,
          "word": "ulysses"
         },
         {
          "count": 0.20372925013873158,
          "word": "saul"
         },
         {
          "count": 0.20083494475768565,
          "word": "achilles"
         },
         {
          "count": 0.1930707198523018,
          "word": "1917"
         },
         {
          "count": 0.14199311373305534,
          "word": "samson"
         },
         {
          "count": 0.1296458864519201,
          "word": "trojans"
         },
         {
          "count": 0.11809818697793083,
          "word": "israel"
         },
         {
          "count": 0.11715971781101037,
          "word": "bertha"
         },
         {
          "count": 0.11715971781101037,
          "word": "snipe"
         },
         {
          "count": 0.1112961966337653,
          "word": "ithaca"
         }
        ],
        "data-23634c772f51215a0ccdd33eba84f8c7": [
         {
          "count": 0.48816457713515804,
          "word": "ulysses"
         },
         {
          "count": 0.293665937556399,
          "word": "emma"
         },
         {
          "count": 0.23836017763832956,
          "word": "1921"
         },
         {
          "count": 0.16555782817696046,
          "word": "achilles"
         },
         {
          "count": 0.16228907075485208,
          "word": "trojans"
         },
         {
          "count": 0.1414732507582309,
          "word": "winkle"
         },
         {
          "count": 0.13198657505985792,
          "word": "polyphemus"
         },
         {
          "count": 0.11732140005320706,
          "word": "minerva"
         },
         {
          "count": 0.11174022381122742,
          "word": "circe"
         },
         {
          "count": 0.10819271383656806,
          "word": "menelaus"
         }
        ],
        "data-38557c7b4b21f7209a41fedccb88da08": [
         {
          "count": 0.3631245160163866,
          "word": "nobby"
         },
         {
          "count": 0.2377903396759378,
          "word": "piggy"
         },
         {
          "count": 0.2049477559867637,
          "word": "andy"
         },
         {
          "count": 0.1942293922878347,
          "word": "pongo"
         },
         {
          "count": 0.1580551613920222,
          "word": "madame"
         },
         {
          "count": 0.14834313766660995,
          "word": "monsieur"
         },
         {
          "count": 0.141296113915932,
          "word": "andrews"
         },
         {
          "count": 0.13793101771165073,
          "word": "baldy"
         },
         {
          "count": 0.1378610120084153,
          "word": "bobby"
         },
         {
          "count": 0.13547585262173328,
          "word": "beethoven"
         }
        ],
        "data-454e346b977ebe89d74d36080b4f97f5": [
         {
          "count": 0.34003046669639225,
          "word": "ulysses"
         },
         {
          "count": 0.2785326027132604,
          "word": "finn"
         },
         {
          "count": 0.2346087507957858,
          "word": "toby"
         },
         {
          "count": 0.18121574754178893,
          "word": "pasteur"
         },
         {
          "count": 0.17073660477442681,
          "word": "1933"
         },
         {
          "count": 0.16658461664050786,
          "word": "dab"
         },
         {
          "count": 0.1591819620472311,
          "word": "rowland"
         },
         {
          "count": 0.15760301979177857,
          "word": "dottrel"
         },
         {
          "count": 0.15103622730045446,
          "word": "kak"
         },
         {
          "count": 0.13841909743237485,
          "word": "everest"
         }
        ],
        "data-513be4838f55599c0b6cf7887ce95f48": [
         {
          "count": 0.3077985273576927,
          "word": "jimmie"
         },
         {
          "count": 0.2682296460100816,
          "word": "chut"
         },
         {
          "count": 0.2445346388403905,
          "word": "carlos"
         },
         {
          "count": 0.22706787892321972,
          "word": "annette"
         },
         {
          "count": 0.1988599099729915,
          "word": "1941"
         },
         {
          "count": 0.18036131369643416,
          "word": "perseus"
         },
         {
          "count": 0.17815913302348438,
          "word": "blinky"
         },
         {
          "count": 0.1711120155581555,
          "word": "gumtree"
         },
         {
          "count": 0.15071783556581916,
          "word": "wally"
         },
         {
          "count": 0.13873947207418014,
          "word": "nimmitybelle"
         }
        ],
        "data-53a24e9f2f8535a64fa72b3681106d36": [
         {
          "count": 0.8421223801651041,
          "word": "greenleaf"
         },
         {
          "count": 0.15025613122978151,
          "word": "1922"
         },
         {
          "count": 0.10952791413369024,
          "word": "bunyan"
         },
         {
          "count": 0.10940901492823578,
          "word": "defoe"
         },
         {
          "count": 0.10807637063171226,
          "word": "vii"
         },
         {
          "count": 0.08747786985932379,
          "word": "flora"
         },
         {
          "count": 0.08503106627301425,
          "word": "raphael"
         },
         {
          "count": 0.0845575274504625,
          "word": "mammy"
         },
         {
          "count": 0.0680248530184114,
          "word": "bobbie"
         },
         {
          "count": 0.06509775855214231,
          "word": "abraham"
         }
        ],
        "data-57442175d88dbcaec9b558d8ab61ec5a": [
         {
          "count": 0.35335517919725634,
          "word": "scrooge"
         },
         {
          "count": 0.2927548808291717,
          "word": "poo"
         },
         {
          "count": 0.2274067984932838,
          "word": "timothy"
         },
         {
          "count": 0.20789992055549417,
          "word": "grannie"
         },
         {
          "count": 0.19277992633327642,
          "word": "lorn"
         },
         {
          "count": 0.17274022350465665,
          "word": "marmaduke"
         },
         {
          "count": 0.13118235634403477,
          "word": "swaggie"
         },
         {
          "count": 0.13019113101543067,
          "word": "woodcutter"
         },
         {
          "count": 0.12485134623597027,
          "word": "jimmie"
         },
         {
          "count": 0.12261974745844705,
          "word": "turnips"
         }
        ],
        "data-6071fe51513fb71ff32eea9720a64c4a": [
         {
          "count": 0.5451135443580468,
          "word": "chut"
         },
         {
          "count": 0.3824563141122463,
          "word": "jackadgery"
         },
         {
          "count": 0.3482669866731966,
          "word": "nimmitybelle"
         },
         {
          "count": 0.22334513275781087,
          "word": "gumtree"
         },
         {
          "count": 0.16957246658132216,
          "word": "caxton"
         },
         {
          "count": 0.16663274471195186,
          "word": "jason"
         },
         {
          "count": 0.14297432303261542,
          "word": "carlos"
         },
         {
          "count": 0.11450922101393204,
          "word": "rosalind"
         },
         {
          "count": 0.1034333128447275,
          "word": "bunyip"
         },
         {
          "count": 0.10262936936703349,
          "word": "thor"
         }
        ],
        "data-636a5ee6615b8edbd04ad901d7828ab3": [
         {
          "count": 0.4535336896006638,
          "word": "ulysses"
         },
         {
          "count": 0.2452091126447722,
          "word": "ko"
         },
         {
          "count": 0.20441132249308508,
          "word": "titania"
         },
         {
          "count": 0.17248393503443946,
          "word": "1926"
         },
         {
          "count": 0.17132473479575916,
          "word": "oberon"
         },
         {
          "count": 0.16420861217241806,
          "word": "kak"
         },
         {
          "count": 0.14524962950268586,
          "word": "xi"
         },
         {
          "count": 0.13731710308107242,
          "word": "achilles"
         },
         {
          "count": 0.13053313127295937,
          "word": "duckling"
         },
         {
          "count": 0.1297985731859893,
          "word": "trojans"
         }
        ],
        "data-6b4552c442c6bb33f31352c9670051fa": [
         {
          "count": 0.20970725212707542,
          "word": "mars"
         },
         {
          "count": 0.20257916280199562,
          "word": "bett"
         },
         {
          "count": 0.19987351472986953,
          "word": "lou"
         },
         {
          "count": 0.19221268594628557,
          "word": "chisholm"
         },
         {
          "count": 0.1912730013445454,
          "word": "1924"
         },
         {
          "count": 0.18960697694549888,
          "word": "lal"
         },
         {
          "count": 0.18064672349207064,
          "word": "scrooge"
         },
         {
          "count": 0.16239723071801898,
          "word": "planet"
         },
         {
          "count": 0.16090978655262125,
          "word": "viola"
         },
         {
          "count": 0.15324741576440118,
          "word": "constellation"
         }
        ],
        "data-72765005b534a686dec9720366aa3452": [
         {
          "count": 0.5350585878659604,
          "word": "lincoln"
         },
         {
          "count": 0.2356310179519705,
          "word": "abraham"
         },
         {
          "count": 0.22552419134509968,
          "word": "gauls"
         },
         {
          "count": 0.20313650912705686,
          "word": "hatter"
         },
         {
          "count": 0.19633841730977072,
          "word": "dormouse"
         },
         {
          "count": 0.15772357948059657,
          "word": "tag"
         },
         {
          "count": 0.15102955177674673,
          "word": "porsena"
         },
         {
          "count": 0.1354749861963375,
          "word": "patty"
         },
         {
          "count": 0.12566987624105094,
          "word": "lii"
         },
         {
          "count": 0.12121446133356512,
          "word": "bruin"
         }
        ],
        "data-747d381d127e01b6fc3583efef398fee": [
         {
          "count": 0.35240585315508477,
          "word": "nobby"
         },
         {
          "count": 0.30519731488230645,
          "word": "commodore"
         },
         {
          "count": 0.23493723543672318,
          "word": "gyp"
         },
         {
          "count": 0.21927475307427496,
          "word": "chut"
         },
         {
          "count": 0.2071502420902802,
          "word": "tam"
         },
         {
          "count": 0.17746610502235385,
          "word": "carlos"
         },
         {
          "count": 0.17423819718342787,
          "word": "gabriel"
         },
         {
          "count": 0.15270920303387006,
          "word": "pongo"
         },
         {
          "count": 0.14096234126203389,
          "word": "pinocchio"
         },
         {
          "count": 0.13679678928806444,
          "word": "larry"
         }
        ],
        "data-758b544d1ce3115765b60233132c8ca8": [
         {
          "count": 0.7276323649616482,
          "word": "greenleaf"
         },
         {
          "count": 0.2531222825633574,
          "word": "lasseter"
         },
         {
          "count": 0.213747705275724,
          "word": "theseus"
         },
         {
          "count": 0.1631886439133885,
          "word": "1932"
         },
         {
          "count": 0.15394590814315337,
          "word": "roland"
         },
         {
          "count": 0.1343906479286729,
          "word": "penn"
         },
         {
          "count": 0.11917646851942074,
          "word": "apollo"
         },
         {
          "count": 0.10531000572196311,
          "word": "scrooge"
         },
         {
          "count": 0.09599331994905205,
          "word": "tad"
         },
         {
          "count": 0.09119365395159945,
          "word": "cockchafer"
         }
        ],
        "data-7fdda19d1d0e461a242ab3d2d9b0c28d": [
         {
          "count": 0.39044469221009126,
          "word": "dolittle"
         },
         {
          "count": 0.2737071758422992,
          "word": "chee"
         },
         {
          "count": 0.24739645850208605,
          "word": "norah"
         },
         {
          "count": 0.19122294195564207,
          "word": "jip"
         },
         {
          "count": 0.17182964428505906,
          "word": "1928"
         },
         {
          "count": 0.17182964428505906,
          "word": "dave"
         },
         {
          "count": 0.1711034595680366,
          "word": "gub"
         },
         {
          "count": 0.16121177016462232,
          "word": "dicky"
         },
         {
          "count": 0.16121177016462232,
          "word": "snugglepot"
         },
         {
          "count": 0.14728255224433637,
          "word": "wally"
         }
        ],
        "data-8ba06f7b8fb309a782f28f019615ccc3": [
         {
          "count": 0.34123441678381344,
          "word": "chut"
         },
         {
          "count": 0.27064232231231206,
          "word": "jess"
         },
         {
          "count": 0.2121186915142624,
          "word": "gustav"
         },
         {
          "count": 0.20609230382106014,
          "word": "septimus"
         },
         {
          "count": 0.17830266822938,
          "word": "pongo"
         },
         {
          "count": 0.17312785022788457,
          "word": "piggy"
         },
         {
          "count": 0.1537091967494655,
          "word": "nobby"
         },
         {
          "count": 0.15200691271660544,
          "word": "andrews"
         },
         {
          "count": 0.1514793351650128,
          "word": "neville"
         },
         {
          "count": 0.1475608288794869,
          "word": "edwina"
         }
        ],
        "data-933778585679c5b13089926c43534693": [
         {
          "count": 0.21423648244569204,
          "word": "maggie"
         },
         {
          "count": 0.20342242588265466,
          "word": "betsy"
         },
         {
          "count": 0.18161320417314977,
          "word": "ulysses"
         },
         {
          "count": 0.17394229353971352,
          "word": "tricia"
         },
         {
          "count": 0.16860664368508485,
          "word": "leprechaun"
         },
         {
          "count": 0.1656675662031916,
          "word": "bradbury"
         },
         {
          "count": 0.16402620507540586,
          "word": "finey"
         },
         {
          "count": 0.15327876698644077,
          "word": "wilfrid"
         },
         {
          "count": 0.15156965065766426,
          "word": "loki"
         },
         {
          "count": 0.1495533046275759,
          "word": "miranda"
         }
        ],
        "data-a16066f589934087d11906c45dd679a0": [
         {
          "count": 0.25033418613057756,
          "word": "marmaduke"
         },
         {
          "count": 0.20158142986332295,
          "word": "bunny"
         },
         {
          "count": 0.1942649946179926,
          "word": "andy"
         },
         {
          "count": 0.1930837128588568,
          "word": "hargrave"
         },
         {
          "count": 0.18822551740774046,
          "word": "pandora"
         },
         {
          "count": 0.16278963667696472,
          "word": "epimetheus"
         },
         {
          "count": 0.15371397393982833,
          "word": "lou"
         },
         {
          "count": 0.15141664156419643,
          "word": "woof"
         },
         {
          "count": 0.14546783091805976,
          "word": "biggies"
         },
         {
          "count": 0.13429409626105515,
          "word": "authority"
         }
        ],
        "data-b7be96cb5d5a7125000530ed05042a5b": [
         {
          "count": 0.35610100386946447,
          "word": "saul"
         },
         {
          "count": 0.344917568713637,
          "word": "tyltyl"
         },
         {
          "count": 0.21514435650446814,
          "word": "mytyl"
         },
         {
          "count": 0.2056370689679773,
          "word": "1919"
         },
         {
          "count": 0.16090249473914595,
          "word": "gulliver"
         },
         {
          "count": 0.15667586207083986,
          "word": "ned"
         },
         {
          "count": 0.14837541827894352,
          "word": "civic"
         },
         {
          "count": 0.14198750000169863,
          "word": "daniel"
         },
         {
          "count": 0.14191743208297253,
          "word": "israel"
         },
         {
          "count": 0.14095664736499636,
          "word": "helena"
         }
        ],
        "data-b85161432ffa1d1a8cd3895656f78353": [
         {
          "count": 0.29037974819331175,
          "word": "jeremy"
         },
         {
          "count": 0.2830301936599827,
          "word": "1931"
         },
         {
          "count": 0.26986112456814676,
          "word": "nigger"
         },
         {
          "count": 0.183397735701039,
          "word": "dave"
         },
         {
          "count": 0.17679480421483137,
          "word": "beethoven"
         },
         {
          "count": 0.17632532885872473,
          "word": "xvi"
         },
         {
          "count": 0.173677502728654,
          "word": "jason"
         },
         {
          "count": 0.17113453570138493,
          "word": "haydn"
         },
         {
          "count": 0.16302020951203466,
          "word": "andy"
         },
         {
          "count": 0.15138824312045587,
          "word": "clara"
         }
        ],
        "data-b98d33c4a0303c507f31ed03b8a74614": [
         {
          "count": 0.4582359538594387,
          "word": "nobby"
         },
         {
          "count": 0.39600637987852727,
          "word": "pongo"
         },
         {
          "count": 0.24210600043083952,
          "word": "odin"
         },
         {
          "count": 0.22047241120230604,
          "word": "gluck"
         },
         {
          "count": 0.15686698922092923,
          "word": "clancy"
         },
         {
          "count": 0.1523670809216625,
          "word": "betsy"
         },
         {
          "count": 0.13937911053019347,
          "word": "tyltyl"
         },
         {
          "count": 0.13924992470416123,
          "word": "kate"
         },
         {
          "count": 0.13294499895921988,
          "word": "pegmen"
         },
         {
          "count": 0.12068055628842464,
          "word": "poo"
         }
        ],
        "data-c07f7709f01f48b27267317076ff2c2c": [
         {
          "count": 0.4248110039356328,
          "word": "lincoln"
         },
         {
          "count": 0.22939589313863915,
          "word": "toby"
         },
         {
          "count": 0.19496624387469774,
          "word": "1925"
         },
         {
          "count": 0.18953842720013256,
          "word": "abraham"
         },
         {
          "count": 0.18076074360441566,
          "word": "antonio"
         },
         {
          "count": 0.14765128025236965,
          "word": "winkle"
         },
         {
          "count": 0.13741535972009608,
          "word": "frilly"
         },
         {
          "count": 0.13267689904009278,
          "word": "imps"
         },
         {
          "count": 0.1298383160676511,
          "word": "ariel"
         },
         {
          "count": 0.1280349171006358,
          "word": "jester"
         }
        ],
        "data-c168242a69169adee0bdbda03a047f7c": [
         {
          "count": 0.2420560739232005,
          "word": "ulysses"
         },
         {
          "count": 0.23641458230445805,
          "word": "1939"
         },
         {
          "count": 0.1954648154108408,
          "word": "toby"
         },
         {
          "count": 0.18050694764583056,
          "word": "theseus"
         },
         {
          "count": 0.1759364333428525,
          "word": "bett"
         },
         {
          "count": 0.17043841980088836,
          "word": "conrad"
         },
         {
          "count": 0.15965357056642773,
          "word": "turnips"
         },
         {
          "count": 0.15721572859475563,
          "word": "mandy"
         },
         {
          "count": 0.15721572859475563,
          "word": "sahib"
         },
         {
          "count": 0.15663480675433658,
          "word": "midas"
         }
        ],
        "data-c4381a9518076374a19528d04b997d4d": [
         {
          "count": 0.4110276915166275,
          "word": "nobby"
         },
         {
          "count": 0.3735924626003203,
          "word": "algy"
         },
         {
          "count": 0.2804207615019982,
          "word": "pongo"
         },
         {
          "count": 0.2079868411429772,
          "word": "madame"
         },
         {
          "count": 0.17393348844395015,
          "word": "eileen"
         },
         {
          "count": 0.12332178377097952,
          "word": "antony"
         },
         {
          "count": 0.12252737904850247,
          "word": "monsieur"
         },
         {
          "count": 0.12173253601483458,
          "word": "nigger"
         },
         {
          "count": 0.11606756119621602,
          "word": "bridget"
         },
         {
          "count": 0.11144468815766592,
          "word": "liam"
         }
        ],
        "data-c5d4978252976156a1b9071062de1c36": [
         {
          "count": 0.338553928131664,
          "word": "finn"
         },
         {
          "count": 0.27604577907240885,
          "word": "aladdin"
         },
         {
          "count": 0.26605628785448876,
          "word": "scrooge"
         },
         {
          "count": 0.2592762455759089,
          "word": "cratchit"
         },
         {
          "count": 0.23569661891478996,
          "word": "thor"
         },
         {
          "count": 0.22216001139511946,
          "word": "1929"
         },
         {
          "count": 0.18056209500355413,
          "word": "tup"
         },
         {
          "count": 0.14828556502337464,
          "word": "kak"
         },
         {
          "count": 0.14123137139662237,
          "word": "lal"
         },
         {
          "count": 0.130753170144864,
          "word": "hercules"
         }
        ],
        "data-cc0fb8d5ce7ccc656c7d0c4a3fe9692d": [
         {
          "count": 0.679041687959251,
          "word": "pinocchio"
         },
         {
          "count": 0.23140526796376712,
          "word": "baldy"
         },
         {
          "count": 0.16312174626954073,
          "word": "jem"
         },
         {
          "count": 0.15044102145746802,
          "word": "pandora"
         },
         {
          "count": 0.13934394935105668,
          "word": "1940"
         },
         {
          "count": 0.13595207764415781,
          "word": "silkworms"
         },
         {
          "count": 0.12987776427524403,
          "word": "marmaduke"
         },
         {
          "count": 0.12897998542242756,
          "word": "leprechaun"
         },
         {
          "count": 0.12178558879890268,
          "word": "epimetheus"
         },
         {
          "count": 0.1197673064960438,
          "word": "puppet"
         }
        ],
        "data-d197ede87489e4696f3816ee8804f1a7": [
         {
          "count": 0.582533274271413,
          "word": "perseus"
         },
         {
          "count": 0.4274124864386686,
          "word": "gluck"
         },
         {
          "count": 0.26764624622467265,
          "word": "canberra"
         },
         {
          "count": 0.18435222447046634,
          "word": "1927"
         },
         {
          "count": 0.17568705254213782,
          "word": "cocktail"
         },
         {
          "count": 0.1556769957104638,
          "word": "xii"
         },
         {
          "count": 0.1323226995682699,
          "word": "cobb"
         },
         {
          "count": 0.12690143965899622,
          "word": "lou"
         },
         {
          "count": 0.0989797337015864,
          "word": "yum"
         },
         {
          "count": 0.08570100124006723,
          "word": "bertha"
         }
        ],
        "data-d403c640984d7018214b68bf8bccfcab": [
         {
          "count": 0.33039605114554366,
          "word": "maggie"
         },
         {
          "count": 0.2710678924666828,
          "word": "duckling"
         },
         {
          "count": 0.26880207944941215,
          "word": "gnat"
         },
         {
          "count": 0.20265731883516025,
          "word": "friar"
         },
         {
          "count": 0.20166226952913824,
          "word": "1930"
         },
         {
          "count": 0.19485663794921299,
          "word": "xv"
         },
         {
          "count": 0.19237076239571038,
          "word": "shoemaker"
         },
         {
          "count": 0.1683851936446307,
          "word": "gilpin"
         },
         {
          "count": 0.15217027495300756,
          "word": "goanna"
         },
         {
          "count": 0.14032099470385892,
          "word": "tulliver"
         }
        ],
        "data-d61590ee1d7ea2cbe05a21507c09757e": [
         {
          "count": 0.34157354108190574,
          "word": "aladdin"
         },
         {
          "count": 0.33275266587421054,
          "word": "scrooge"
         },
         {
          "count": 0.2265568077309638,
          "word": "shag"
         },
         {
          "count": 0.20231843338700284,
          "word": "1935"
         },
         {
          "count": 0.20230276543557887,
          "word": "lasseter"
         },
         {
          "count": 0.19759804996033284,
          "word": "perseus"
         },
         {
          "count": 0.1693697571088567,
          "word": "kim"
         },
         {
          "count": 0.15525561068311866,
          "word": "ashley"
         },
         {
          "count": 0.14330889031579366,
          "word": "blinky"
         },
         {
          "count": 0.12232260235639653,
          "word": "mandy"
         }
        ],
        "data-d6a20f8d88518995f0ee108be8682d8e": [
         {
          "count": 0.4225827138347333,
          "word": "1938"
         },
         {
          "count": 0.29541714742091624,
          "word": "poo"
         },
         {
          "count": 0.2599976025170486,
          "word": "neville"
         },
         {
          "count": 0.1830899167042636,
          "word": "lorn"
         },
         {
          "count": 0.17967862042795632,
          "word": "winkle"
         },
         {
          "count": 0.16870617949222388,
          "word": "thor"
         },
         {
          "count": 0.1629234559362827,
          "word": "bennelong"
         },
         {
          "count": 0.14594364806071589,
          "word": "anniversary"
         },
         {
          "count": 0.14255802394424738,
          "word": "reuben"
         },
         {
          "count": 0.1368408434300256,
          "word": "blinky"
         }
        ],
        "data-d9ad500c8602b2807fa497cd031a62dd": [
         {
          "count": 0.7866713392734158,
          "word": "pinocchio"
         },
         {
          "count": 0.29440937337865764,
          "word": "puppet"
         },
         {
          "count": 0.27511187680644184,
          "word": "gluck"
         },
         {
          "count": 0.14334572119164907,
          "word": "1936"
         },
         {
          "count": 0.10598737441631675,
          "word": "xxi"
         },
         {
          "count": 0.08796214709487556,
          "word": "pease"
         },
         {
          "count": 0.07454979001283771,
          "word": "kay"
         },
         {
          "count": 0.07418747239724274,
          "word": "sidney"
         },
         {
          "count": 0.06800518303080585,
          "word": "yum"
         },
         {
          "count": 0.06491403834758741,
          "word": "marygold"
         }
        ],
        "data-e0ea42bec8c43b2290c79979d3bb7551": [
         {
          "count": 0.31611175690249643,
          "word": "1923"
         },
         {
          "count": 0.20838066587926452,
          "word": "planets"
         },
         {
          "count": 0.20291695457556294,
          "word": "hubert"
         },
         {
          "count": 0.19326482513111354,
          "word": "shalott"
         },
         {
          "count": 0.18762092852501872,
          "word": "viii"
         },
         {
          "count": 0.17392881820762537,
          "word": "gem"
         },
         {
          "count": 0.1737612451720817,
          "word": "opal"
         },
         {
          "count": 0.1488594956784852,
          "word": "ronnie"
         },
         {
          "count": 0.14169885279789987,
          "word": "lory"
         },
         {
          "count": 0.1289281019729032,
          "word": "planet"
         }
        ],
        "data-eb2e9e7489804f1b88b633282f2a792a": [
         {
          "count": 0.2526716724910997,
          "word": "1916"
         },
         {
          "count": 0.2504616745467747,
          "word": "patty"
         },
         {
          "count": 0.17062777140230312,
          "word": "ore"
         },
         {
          "count": 0.15455511040052008,
          "word": "skipper"
         },
         {
          "count": 0.15332693569765204,
          "word": "kitchener"
         },
         {
          "count": 0.15332693569765204,
          "word": "lal"
         },
         {
          "count": 0.15331931040258756,
          "word": "pincushion"
         },
         {
          "count": 0.13690710656864605,
          "word": "torpedo"
         },
         {
          "count": 0.13646518027630283,
          "word": "howe"
         },
         {
          "count": 0.12412180508857548,
          "word": "phaeton"
         }
        ]
       },
       "vconcat": [
        {
         "hconcat": [
          {
           "columns": 4,
           "encoding": {
            "x": {
             "field": "count",
             "type": "quantitative"
            },
            "y": {
             "field": "word",
             "type": "nominal"
            }
           },
           "height": 120,
           "mark": "bar",
           "title": "1916",
           "width": 120
          },
          {
           "columns": 4,
           "data": {
            "name": "data-12aac49c1ebb2c0baf8cb5f98756c3d1"
           },
           "encoding": {
            "x": {
             "field": "count",
             "type": "quantitative"
            },
            "y": {
             "field": "word",
             "type": "nominal"
            }
           },
           "height": 120,
           "mark": "bar",
           "title": "1917",
           "width": 120
          },
          {
           "columns": 4,
           "data": {
            "name": "data-72765005b534a686dec9720366aa3452"
           },
           "encoding": {
            "x": {
             "field": "count",
             "type": "quantitative"
            },
            "y": {
             "field": "word",
             "type": "nominal"
            }
           },
           "height": 120,
           "mark": "bar",
           "title": "1918",
           "width": 120
          },
          {
           "columns": 4,
           "data": {
            "name": "data-b7be96cb5d5a7125000530ed05042a5b"
           },
           "encoding": {
            "x": {
             "field": "count",
             "type": "quantitative"
            },
            "y": {
             "field": "word",
             "type": "nominal"
            }
           },
           "height": 120,
           "mark": "bar",
           "title": "1919",
           "width": 120
          }
         ]
        },
        {
         "data": {
          "name": "data-0b9aeb9887d76cd155191421254f8161"
         },
         "hconcat": [
          {
           "columns": 4,
           "encoding": {
            "x": {
             "field": "count",
             "type": "quantitative"
            },
            "y": {
             "field": "word",
             "type": "nominal"
            }
           },
           "height": 120,
           "mark": "bar",
           "title": "1920",
           "width": 120
          },
          {
           "columns": 4,
           "data": {
            "name": "data-23634c772f51215a0ccdd33eba84f8c7"
           },
           "encoding": {
            "x": {
             "field": "count",
             "type": "quantitative"
            },
            "y": {
             "field": "word",
             "type": "nominal"
            }
           },
           "height": 120,
           "mark": "bar",
           "title": "1921",
           "width": 120
          },
          {
           "columns": 4,
           "data": {
            "name": "data-53a24e9f2f8535a64fa72b3681106d36"
           },
           "encoding": {
            "x": {
             "field": "count",
             "type": "quantitative"
            },
            "y": {
             "field": "word",
             "type": "nominal"
            }
           },
           "height": 120,
           "mark": "bar",
           "title": "1922",
           "width": 120
          },
          {
           "columns": 4,
           "data": {
            "name": "data-e0ea42bec8c43b2290c79979d3bb7551"
           },
           "encoding": {
            "x": {
             "field": "count",
             "type": "quantitative"
            },
            "y": {
             "field": "word",
             "type": "nominal"
            }
           },
           "height": 120,
           "mark": "bar",
           "title": "1923",
           "width": 120
          }
         ]
        },
        {
         "data": {
          "name": "data-6b4552c442c6bb33f31352c9670051fa"
         },
         "hconcat": [
          {
           "columns": 4,
           "encoding": {
            "x": {
             "field": "count",
             "type": "quantitative"
            },
            "y": {
             "field": "word",
             "type": "nominal"
            }
           },
           "height": 120,
           "mark": "bar",
           "title": "1924",
           "width": 120
          },
          {
           "columns": 4,
           "data": {
            "name": "data-c07f7709f01f48b27267317076ff2c2c"
           },
           "encoding": {
            "x": {
             "field": "count",
             "type": "quantitative"
            },
            "y": {
             "field": "word",
             "type": "nominal"
            }
           },
           "height": 120,
           "mark": "bar",
           "title": "1925",
           "width": 120
          },
          {
           "columns": 4,
           "data": {
            "name": "data-636a5ee6615b8edbd04ad901d7828ab3"
           },
           "encoding": {
            "x": {
             "field": "count",
             "type": "quantitative"
            },
            "y": {
             "field": "word",
             "type": "nominal"
            }
           },
           "height": 120,
           "mark": "bar",
           "title": "1926",
           "width": 120
          },
          {
           "columns": 4,
           "data": {
            "name": "data-d197ede87489e4696f3816ee8804f1a7"
           },
           "encoding": {
            "x": {
             "field": "count",
             "type": "quantitative"
            },
            "y": {
             "field": "word",
             "type": "nominal"
            }
           },
           "height": 120,
           "mark": "bar",
           "title": "1927",
           "width": 120
          }
         ]
        },
        {
         "data": {
          "name": "data-7fdda19d1d0e461a242ab3d2d9b0c28d"
         },
         "hconcat": [
          {
           "columns": 4,
           "encoding": {
            "x": {
             "field": "count",
             "type": "quantitative"
            },
            "y": {
             "field": "word",
             "type": "nominal"
            }
           },
           "height": 120,
           "mark": "bar",
           "title": "1928",
           "width": 120
          },
          {
           "columns": 4,
           "data": {
            "name": "data-c5d4978252976156a1b9071062de1c36"
           },
           "encoding": {
            "x": {
             "field": "count",
             "type": "quantitative"
            },
            "y": {
             "field": "word",
             "type": "nominal"
            }
           },
           "height": 120,
           "mark": "bar",
           "title": "1929",
           "width": 120
          },
          {
           "columns": 4,
           "data": {
            "name": "data-d403c640984d7018214b68bf8bccfcab"
           },
           "encoding": {
            "x": {
             "field": "count",
             "type": "quantitative"
            },
            "y": {
             "field": "word",
             "type": "nominal"
            }
           },
           "height": 120,
           "mark": "bar",
           "title": "1930",
           "width": 120
          },
          {
           "columns": 4,
           "data": {
            "name": "data-b85161432ffa1d1a8cd3895656f78353"
           },
           "encoding": {
            "x": {
             "field": "count",
             "type": "quantitative"
            },
            "y": {
             "field": "word",
             "type": "nominal"
            }
           },
           "height": 120,
           "mark": "bar",
           "title": "1931",
           "width": 120
          }
         ]
        },
        {
         "data": {
          "name": "data-758b544d1ce3115765b60233132c8ca8"
         },
         "hconcat": [
          {
           "columns": 4,
           "encoding": {
            "x": {
             "field": "count",
             "type": "quantitative"
            },
            "y": {
             "field": "word",
             "type": "nominal"
            }
           },
           "height": 120,
           "mark": "bar",
           "title": "1932",
           "width": 120
          },
          {
           "columns": 4,
           "data": {
            "name": "data-454e346b977ebe89d74d36080b4f97f5"
           },
           "encoding": {
            "x": {
             "field": "count",
             "type": "quantitative"
            },
            "y": {
             "field": "word",
             "type": "nominal"
            }
           },
           "height": 120,
           "mark": "bar",
           "title": "1933",
           "width": 120
          },
          {
           "columns": 4,
           "data": {
            "name": "data-0edc9a8010dfc2f4f6ad52bdc91d9849"
           },
           "encoding": {
            "x": {
             "field": "count",
             "type": "quantitative"
            },
            "y": {
             "field": "word",
             "type": "nominal"
            }
           },
           "height": 120,
           "mark": "bar",
           "title": "1934",
           "width": 120
          },
          {
           "columns": 4,
           "data": {
            "name": "data-d61590ee1d7ea2cbe05a21507c09757e"
           },
           "encoding": {
            "x": {
             "field": "count",
             "type": "quantitative"
            },
            "y": {
             "field": "word",
             "type": "nominal"
            }
           },
           "height": 120,
           "mark": "bar",
           "title": "1935",
           "width": 120
          }
         ]
        },
        {
         "data": {
          "name": "data-d9ad500c8602b2807fa497cd031a62dd"
         },
         "hconcat": [
          {
           "columns": 4,
           "encoding": {
            "x": {
             "field": "count",
             "type": "quantitative"
            },
            "y": {
             "field": "word",
             "type": "nominal"
            }
           },
           "height": 120,
           "mark": "bar",
           "title": "1936",
           "width": 120
          },
          {
           "columns": 4,
           "data": {
            "name": "data-6071fe51513fb71ff32eea9720a64c4a"
           },
           "encoding": {
            "x": {
             "field": "count",
             "type": "quantitative"
            },
            "y": {
             "field": "word",
             "type": "nominal"
            }
           },
           "height": 120,
           "mark": "bar",
           "title": "1937",
           "width": 120
          },
          {
           "columns": 4,
           "data": {
            "name": "data-d6a20f8d88518995f0ee108be8682d8e"
           },
           "encoding": {
            "x": {
             "field": "count",
             "type": "quantitative"
            },
            "y": {
             "field": "word",
             "type": "nominal"
            }
           },
           "height": 120,
           "mark": "bar",
           "title": "1938",
           "width": 120
          },
          {
           "columns": 4,
           "data": {
            "name": "data-c168242a69169adee0bdbda03a047f7c"
           },
           "encoding": {
            "x": {
             "field": "count",
             "type": "quantitative"
            },
            "y": {
             "field": "word",
             "type": "nominal"
            }
           },
           "height": 120,
           "mark": "bar",
           "title": "1939",
           "width": 120
          }
         ]
        },
        {
         "data": {
          "name": "data-cc0fb8d5ce7ccc656c7d0c4a3fe9692d"
         },
         "hconcat": [
          {
           "columns": 4,
           "encoding": {
            "x": {
             "field": "count",
             "type": "quantitative"
            },
            "y": {
             "field": "word",
             "type": "nominal"
            }
           },
           "height": 120,
           "mark": "bar",
           "title": "1940",
           "width": 120
          },
          {
           "columns": 4,
           "data": {
            "name": "data-513be4838f55599c0b6cf7887ce95f48"
           },
           "encoding": {
            "x": {
             "field": "count",
             "type": "quantitative"
            },
            "y": {
             "field": "word",
             "type": "nominal"
            }
           },
           "height": 120,
           "mark": "bar",
           "title": "1941",
           "width": 120
          },
          {
           "columns": 4,
           "data": {
            "name": "data-57442175d88dbcaec9b558d8ab61ec5a"
           },
           "encoding": {
            "x": {
             "field": "count",
             "type": "quantitative"
            },
            "y": {
             "field": "word",
             "type": "nominal"
            }
           },
           "height": 120,
           "mark": "bar",
           "title": "1942",
           "width": 120
          },
          {
           "columns": 4,
           "data": {
            "name": "data-a16066f589934087d11906c45dd679a0"
           },
           "encoding": {
            "x": {
             "field": "count",
             "type": "quantitative"
            },
            "y": {
             "field": "word",
             "type": "nominal"
            }
           },
           "height": 120,
           "mark": "bar",
           "title": "1943",
           "width": 120
          }
         ]
        },
        {
         "data": {
          "name": "data-933778585679c5b13089926c43534693"
         },
         "hconcat": [
          {
           "columns": 4,
           "encoding": {
            "x": {
             "field": "count",
             "type": "quantitative"
            },
            "y": {
             "field": "word",
             "type": "nominal"
            }
           },
           "height": 120,
           "mark": "bar",
           "title": "1944",
           "width": 120
          },
          {
           "columns": 4,
           "data": {
            "name": "data-747d381d127e01b6fc3583efef398fee"
           },
           "encoding": {
            "x": {
             "field": "count",
             "type": "quantitative"
            },
            "y": {
             "field": "word",
             "type": "nominal"
            }
           },
           "height": 120,
           "mark": "bar",
           "title": "1945",
           "width": 120
          },
          {
           "columns": 4,
           "data": {
            "name": "data-c4381a9518076374a19528d04b997d4d"
           },
           "encoding": {
            "x": {
             "field": "count",
             "type": "quantitative"
            },
            "y": {
             "field": "word",
             "type": "nominal"
            }
           },
           "height": 120,
           "mark": "bar",
           "title": "1946",
           "width": 120
          },
          {
           "columns": 4,
           "data": {
            "name": "data-b98d33c4a0303c507f31ed03b8a74614"
           },
           "encoding": {
            "x": {
             "field": "count",
             "type": "quantitative"
            },
            "y": {
             "field": "word",
             "type": "nominal"
            }
           },
           "height": 120,
           "mark": "bar",
           "title": "1947",
           "width": 120
          }
         ]
        },
        {
         "data": {
          "name": "data-38557c7b4b21f7209a41fedccb88da08"
         },
         "hconcat": [
          {
           "columns": 4,
           "encoding": {
            "x": {
             "field": "count",
             "type": "quantitative"
            },
            "y": {
             "field": "word",
             "type": "nominal"
            }
           },
           "height": 120,
           "mark": "bar",
           "title": "1948",
           "width": 120
          },
          {
           "columns": 4,
           "data": {
            "name": "data-8ba06f7b8fb309a782f28f019615ccc3"
           },
           "encoding": {
            "x": {
             "field": "count",
             "type": "quantitative"
            },
            "y": {
             "field": "word",
             "type": "nominal"
            }
           },
           "height": 120,
           "mark": "bar",
           "title": "1949",
           "width": 120
          }
         ]
        }
       ]
      },
      "image/png": "[encoded data removed]",
      "text/plain": [
       "<VegaLite 3 object>\n",
       "\n",
       "If you see this message, it means the renderer has not been properly enabled\n",
       "for the frontend that you are using. For more information, see\n",
       "https://altair-viz.github.io/user_guide/troubleshooting.html\n"
      ]
     },
     "execution_count": 13,
     "metadata": {},
     "output_type": "execute_result"
    }
   ],
   "source": [
    "compound_chart = alt.vconcat()\n",
    "years = get_years(journals.value)\n",
    "# Number of columns\n",
    "cols = 4\n",
    "start = 0\n",
    "while start < len(years):\n",
    "    row = alt.hconcat()\n",
    "    for year in years[start:start+cols]:\n",
    "        df_year_word_count = pd.DataFrame([{'word': w, 'count': df_tfidf_years.loc[year][w]} for w in df_years_top.loc[year].tolist()])\n",
    "        chart = alt.Chart(df_year_word_count).mark_bar().encode(\n",
    "            y='word:N',\n",
    "            x='count:Q',\n",
    "        ).properties(width=120, height=120, title=str(year), columns=4)\n",
    "        row |= chart\n",
    "    compound_chart &= row\n",
    "    start += cols\n",
    "compound_chart"
   ]
  },
  {
   "cell_type": "code",
   "execution_count": null,
   "metadata": {},
   "outputs": [],
   "source": []
  }
 ],
 "metadata": {
  "kernelspec": {
   "display_name": "Python 3",
   "language": "python",
   "name": "python3"
  },
  "language_info": {
   "codemirror_mode": {
    "name": "ipython",
    "version": 3
   },
   "file_extension": ".py",
   "mimetype": "text/x-python",
   "name": "python",
   "nbconvert_exporter": "python",
   "pygments_lexer": "ipython3",
   "version": "3.7.3"
  }
 },
 "nbformat": 4,
 "nbformat_minor": 4
}
