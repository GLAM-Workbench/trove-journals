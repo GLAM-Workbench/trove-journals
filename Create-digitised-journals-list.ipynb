{
 "cells": [
  {
   "cell_type": "markdown",
   "metadata": {},
   "source": [
    "# Create a list of Trove's digitised journals\n",
    "\n",
    "Everyone know's about Trove's newspapers, but there is also a growing collection of digitised journals available in the journals zone. They're not easy to find, however, which is why I created the [Trove Titles](https://trove-titles.herokuapp.com/) web app.\n",
    "\n",
    "This notebook uses the Trove API to harvest metadata relating to digitised journals – or more accurately, journals that are freely available online in a digital form. This includes some born digital publications that are available to view in formats like PDF and MOBI, but excludes some digital journals that have access restrictions.\n",
    "\n",
    "The search strategy to find digitised (and digital) journals takes advantage of the fact that Trove's digitised resources (excluding the newspapers) all have an identifier that includes the string `nla.obj`. So we start by searching in the journals zone for records that include `nla.obj` and have the `format` 'Periodical'. By specifying 'Periodical' we exclude individual articles from digitised journals.\n",
    "\n",
    "Then it's just a matter of looping through all the results and checking to see if a record includes a `fulltext` link to a digital copy. If it does it gets saved.\n",
    "\n",
    "You can see the results in [this CSV file](digital-journals.csv). Obviously you could extract additional metadata from each record if you wanted to.\n",
    "\n",
    "The default fields are:\n",
    "\n",
    "* `fulltext_url` – the url of the landing page of the digital version of the journal\n",
    "* `title` – the title of the journal\n",
    "* `trove_id` – the 'nla.obj' part of the fulltext_url, a unique identifier for the digital journal\n",
    "* `trove_url` – url of the journal's metadata record in Trove\n",
    "\n",
    "I've used this list to harvest all the OCRd text from digitised journals."
   ]
  },
  {
   "cell_type": "code",
   "execution_count": 39,
   "metadata": {},
   "outputs": [],
   "source": [
    "# Let's import the libraries we need.\n",
    "import requests\n",
    "import pandas as pd\n",
    "from bs4 import BeautifulSoup\n",
    "import time\n",
    "import json\n",
    "import os\n",
    "import re\n",
    "from tqdm import tqdm_notebook\n",
    "from requests.adapters import HTTPAdapter\n",
    "from requests.packages.urllib3.util.retry import Retry\n",
    "from slugify import slugify\n",
    "from IPython.display import display, FileLink\n",
    "\n",
    "s = requests.Session()\n",
    "retries = Retry(total=5, backoff_factor=1, status_forcelist=[ 502, 503, 504 ])\n",
    "s.mount('https://', HTTPAdapter(max_retries=retries))\n",
    "s.mount('http://', HTTPAdapter(max_retries=retries))"
   ]
  },
  {
   "cell_type": "markdown",
   "metadata": {},
   "source": [
    "## Add your Trove API key\n",
    "\n",
    "You can get a Trove API key by [following these instructions](https://help.nla.gov.au/trove/building-with-trove/api)."
   ]
  },
  {
   "cell_type": "code",
   "execution_count": 40,
   "metadata": {},
   "outputs": [],
   "source": [
    "# Add your Trove API key between the quotes\n",
    "api_key = ''"
   ]
  },
  {
   "cell_type": "markdown",
   "metadata": {},
   "source": [
    "## Define some functions to do the work"
   ]
  },
  {
   "cell_type": "code",
   "execution_count": 41,
   "metadata": {},
   "outputs": [],
   "source": [
    "def get_total_results(params):\n",
    "    '''\n",
    "    Get the total number of results for a search.\n",
    "    '''\n",
    "    these_params = params.copy()\n",
    "    these_params['n'] = 0\n",
    "    response = s.get('https://api.trove.nla.gov.au/v2/result', params=these_params)\n",
    "    data = response.json()\n",
    "    return int(data['response']['zone'][0]['records']['total'])\n",
    "\n",
    "\n",
    "def get_fulltext_url(links):\n",
    "    '''\n",
    "    Loop through the identifiers to find a link to the digital version of the journal.\n",
    "    '''\n",
    "    url = None\n",
    "    for link in links:\n",
    "        if link['linktype'] == 'fulltext' and 'nla.obj' in link['value']:\n",
    "            url = link['value']\n",
    "            break\n",
    "    return url\n",
    "\n",
    "\n",
    "def get_titles():\n",
    "    '''\n",
    "    Harvest metadata about digitised journals.\n",
    "    With a little adaptation, this basic pattern could be used to harvest\n",
    "    other types of works from Trove.\n",
    "    '''\n",
    "    url = 'http://api.trove.nla.gov.au/v2/result'\n",
    "    titles = []\n",
    "    params = {\n",
    "        'q': '\"nla.obj-\"',\n",
    "        'zone': 'article',\n",
    "        'l-format': 'Periodical', # Journals only, not journal articles\n",
    "        'include': 'links',\n",
    "        'bulkHarvest': 'true', # Needed to maintain a consistent order across requests\n",
    "        'key': api_key,\n",
    "        'n': 100,\n",
    "        'encoding': 'json'\n",
    "    }\n",
    "    start = '*'\n",
    "    total = get_total_results(params)\n",
    "    with tqdm_notebook(total=total) as pbar:\n",
    "        while start:\n",
    "            params['s'] = start\n",
    "            response = s.get(url, params=params)\n",
    "            data = response.json()\n",
    "            # If there's a startNext value then we get it to request the next page of results\n",
    "            try:\n",
    "                start = data['response']['zone'][0]['records']['nextStart']\n",
    "            except KeyError:\n",
    "                start = None\n",
    "            for work in data['response']['zone'][0]['records']['work']:\n",
    "                # Check to see if there's a link to a digital version\n",
    "                try:\n",
    "                    fulltext_url = get_fulltext_url(work['identifier'])\n",
    "                except KeyError:\n",
    "                    pass\n",
    "                else:\n",
    "                    if fulltext_url:\n",
    "                        trove_id = re.search(r'(nla\\.obj\\-\\d+)', fulltext_url).group(1)\n",
    "                        # Get basic metadata\n",
    "                        # You could add more work data here\n",
    "                        # Check the Trove API docs for work record structure\n",
    "                        title = {\n",
    "                            'title': work['title'],\n",
    "                            'fulltext_url': fulltext_url, \n",
    "                            'trove_url': work['troveUrl'],\n",
    "                            'trove_id': trove_id\n",
    "                        }\n",
    "                        titles.append(title)\n",
    "            time.sleep(0.2)\n",
    "            pbar.update(100)\n",
    "    return titles"
   ]
  },
  {
   "cell_type": "markdown",
   "metadata": {},
   "source": [
    "## Run the harvest"
   ]
  },
  {
   "cell_type": "code",
   "execution_count": 42,
   "metadata": {},
   "outputs": [
    {
     "data": {
      "application/vnd.jupyter.widget-view+json": {
       "model_id": "d5f9ba1e9f734d85bd2429bd69b49e74",
       "version_major": 2,
       "version_minor": 0
      },
      "text/plain": [
       "HBox(children=(IntProgress(value=0, max=2718), HTML(value='')))"
      ]
     },
     "metadata": {},
     "output_type": "display_data"
    },
    {
     "name": "stdout",
     "output_type": "stream",
     "text": [
      "\n"
     ]
    }
   ],
   "source": [
    "titles = get_titles()"
   ]
  },
  {
   "cell_type": "markdown",
   "metadata": {},
   "source": [
    "## Convert to a dataframe and save as a CSV file\n",
    "\n",
    "Let's convert the Python list to a Pandas DataFrame, have a peek inside, then save in CSV format."
   ]
  },
  {
   "cell_type": "code",
   "execution_count": 43,
   "metadata": {},
   "outputs": [
    {
     "data": {
      "text/html": [
       "<div>\n",
       "<style scoped>\n",
       "    .dataframe tbody tr th:only-of-type {\n",
       "        vertical-align: middle;\n",
       "    }\n",
       "\n",
       "    .dataframe tbody tr th {\n",
       "        vertical-align: top;\n",
       "    }\n",
       "\n",
       "    .dataframe thead th {\n",
       "        text-align: right;\n",
       "    }\n",
       "</style>\n",
       "<table border=\"1\" class=\"dataframe\">\n",
       "  <thead>\n",
       "    <tr style=\"text-align: right;\">\n",
       "      <th></th>\n",
       "      <th>fulltext_url</th>\n",
       "      <th>title</th>\n",
       "      <th>trove_id</th>\n",
       "      <th>trove_url</th>\n",
       "    </tr>\n",
       "  </thead>\n",
       "  <tbody>\n",
       "    <tr>\n",
       "      <th>0</th>\n",
       "      <td>http://nla.gov.au/nla.obj-54127737</td>\n",
       "      <td>Laws, etc. (Acts of the Parliament)</td>\n",
       "      <td>nla.obj-54127737</td>\n",
       "      <td>https://trove.nla.gov.au/work/10078182</td>\n",
       "    </tr>\n",
       "    <tr>\n",
       "      <th>1</th>\n",
       "      <td>http://nla.gov.au/nla.obj-862209995</td>\n",
       "      <td>Stonequarry journal / Picton &amp; District Histor...</td>\n",
       "      <td>nla.obj-862209995</td>\n",
       "      <td>https://trove.nla.gov.au/work/10106079</td>\n",
       "    </tr>\n",
       "    <tr>\n",
       "      <th>2</th>\n",
       "      <td>http://nla.gov.au/nla.obj-837116187</td>\n",
       "      <td>Review of activities / Department of Immigrati...</td>\n",
       "      <td>nla.obj-837116187</td>\n",
       "      <td>https://trove.nla.gov.au/work/10275254</td>\n",
       "    </tr>\n",
       "    <tr>\n",
       "      <th>3</th>\n",
       "      <td>http://nla.gov.au/nla.obj-55312521</td>\n",
       "      <td>Laws, etc</td>\n",
       "      <td>nla.obj-55312521</td>\n",
       "      <td>https://trove.nla.gov.au/work/10278751</td>\n",
       "    </tr>\n",
       "    <tr>\n",
       "      <th>4</th>\n",
       "      <td>http://nla.gov.au/nla.obj-55375446</td>\n",
       "      <td>Votes and proceedings of the Legislative Assem...</td>\n",
       "      <td>nla.obj-55375446</td>\n",
       "      <td>https://trove.nla.gov.au/work/10284532</td>\n",
       "    </tr>\n",
       "  </tbody>\n",
       "</table>\n",
       "</div>"
      ],
      "text/plain": [
       "                          fulltext_url  \\\n",
       "0   http://nla.gov.au/nla.obj-54127737   \n",
       "1  http://nla.gov.au/nla.obj-862209995   \n",
       "2  http://nla.gov.au/nla.obj-837116187   \n",
       "3   http://nla.gov.au/nla.obj-55312521   \n",
       "4   http://nla.gov.au/nla.obj-55375446   \n",
       "\n",
       "                                               title           trove_id  \\\n",
       "0                Laws, etc. (Acts of the Parliament)   nla.obj-54127737   \n",
       "1  Stonequarry journal / Picton & District Histor...  nla.obj-862209995   \n",
       "2  Review of activities / Department of Immigrati...  nla.obj-837116187   \n",
       "3                                          Laws, etc   nla.obj-55312521   \n",
       "4  Votes and proceedings of the Legislative Assem...   nla.obj-55375446   \n",
       "\n",
       "                                trove_url  \n",
       "0  https://trove.nla.gov.au/work/10078182  \n",
       "1  https://trove.nla.gov.au/work/10106079  \n",
       "2  https://trove.nla.gov.au/work/10275254  \n",
       "3  https://trove.nla.gov.au/work/10278751  \n",
       "4  https://trove.nla.gov.au/work/10284532  "
      ]
     },
     "execution_count": 43,
     "metadata": {},
     "output_type": "execute_result"
    }
   ],
   "source": [
    "df = pd.DataFrame(titles)\n",
    "df.head()"
   ]
  },
  {
   "cell_type": "code",
   "execution_count": 44,
   "metadata": {},
   "outputs": [
    {
     "data": {
      "text/plain": [
       "(2024, 4)"
      ]
     },
     "execution_count": 44,
     "metadata": {},
     "output_type": "execute_result"
    }
   ],
   "source": [
    "# How many journals are there?\n",
    "df.shape"
   ]
  },
  {
   "cell_type": "code",
   "execution_count": 46,
   "metadata": {},
   "outputs": [
    {
     "data": {
      "text/html": [
       "<a href='digital-journals.csv' target='_blank'>digital-journals.csv</a><br>"
      ],
      "text/plain": [
       "/Users/tim/mycode/glam-workbench/trove-journals/notebooks/digital-journals.csv"
      ]
     },
     "metadata": {},
     "output_type": "display_data"
    }
   ],
   "source": [
    "# Save as CSV and display a download link\n",
    "df.to_csv('digital-journals.csv', index=False)\n",
    "display(FileLink('digital-journals.csv'))"
   ]
  },
  {
   "cell_type": "markdown",
   "metadata": {},
   "source": [
    "----\n",
    "\n",
    "Created by [Tim Sherratt](https://timsherratt.org/).\n",
    "\n",
    "Work on this notebook was supported by the [Humanities, Arts and Social Sciences (HASS) Data Enhanced Virtual Lab](https://tinker.edu.au/)."
   ]
  }
 ],
 "metadata": {
  "kernelspec": {
   "display_name": "Python 3",
   "language": "python",
   "name": "python3"
  },
  "language_info": {
   "codemirror_mode": {
    "name": "ipython",
    "version": 3
   },
   "file_extension": ".py",
   "mimetype": "text/x-python",
   "name": "python",
   "nbconvert_exporter": "python",
   "pygments_lexer": "ipython3",
   "version": "3.7.3"
  }
 },
 "nbformat": 4,
 "nbformat_minor": 2
}
