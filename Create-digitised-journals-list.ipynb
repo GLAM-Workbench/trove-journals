{
 "cells": [
  {
   "cell_type": "markdown",
   "metadata": {},
   "source": [
    "# Create a list of Trove's digital periodicals\n",
    "\n",
    "Everyone know's about Trove's newspapers, but there is also a growing collection of digitised periodicals available in the 'Magazines & newsletters' category. They're not easy to find, however, which is why I created the [Trove Titles](https://trove-titles.herokuapp.com/) web app.\n",
    "\n",
    "This notebook uses the Trove API to harvest metadata relating to periodicals available from Trove in digital form. As well as digitised publications, this includes born digital publications in formats like PDF and MOBI that have been made available through the edeposit program.\n",
    "\n",
    "The search strategy to find digitised (and digital) periodicals takes advantage of the fact that Trove's digital resources (excluding the newspapers) all have an identifier that includes the string `nla.obj`. So we start by searching in the journals zone for records that include `nla.obj`. However, this search returns results for individual articles from periodicals, as well as the periodicals themselves, so to try and exclude the articles we add `NOT format:Article` to the query. To make sure that a digital copies of the periodicals are actually available, we loop through all the search results checking to see if a record includes a `fulltext` link to a digital copy. If it does it gets saved.\n",
    "\n",
    "You can see the results in [this CSV file](digital-journals-20220831.csv). Obviously you could extract additional metadata from each record if you wanted to.\n",
    "\n",
    "The default fields are:\n",
    "\n",
    "* `title` – the title of the periodical\n",
    "* `contributor` – information about creator or publisher\n",
    "* `issued` – publication date, or date range\n",
    "* `format` – the type of publication, all entries should include 'Periodical', but may include other types such as 'Government publication'\n",
    "* `trove_id` – the 'nla.obj' part of the fulltext_url, a unique identifier for the digital periodical\n",
    "* `trove_url` – url of the periodical's metadata record in Trove\n",
    "* `fulltext_url` – the url of the landing page of the digital version of the periodical\n",
    "* `fulltext_url_type` – the type of digital periodical, one of 'digitised', 'edeposit', or 'other'\n",
    "\n",
    "I've used this list to [harvest all the OCRd text from digitised periodicals](Download-text-for-all-digitised-journals.ipynb)."
   ]
  },
  {
   "cell_type": "code",
   "execution_count": 1,
   "metadata": {},
   "outputs": [],
   "source": [
    "# Let's import the libraries we need.\n",
    "import os\n",
    "import re\n",
    "import time\n",
    "from datetime import datetime\n",
    "\n",
    "import pandas as pd\n",
    "import requests\n",
    "from IPython.display import HTML, display\n",
    "from requests.adapters import HTTPAdapter\n",
    "from requests.packages.urllib3.util.retry import Retry\n",
    "\n",
    "# from slugify import slugify\n",
    "from tqdm.notebook import tqdm\n",
    "\n",
    "s = requests.Session()\n",
    "retries = Retry(total=5, backoff_factor=1, status_forcelist=[502, 503, 504])\n",
    "s.mount(\"https://\", HTTPAdapter(max_retries=retries))\n",
    "s.mount(\"http://\", HTTPAdapter(max_retries=retries))"
   ]
  },
  {
   "cell_type": "markdown",
   "metadata": {},
   "source": [
    "## Add your Trove API key\n",
    "\n",
    "You can get a Trove API key by [following these instructions](https://help.nla.gov.au/trove/building-with-trove/api)."
   ]
  },
  {
   "cell_type": "code",
   "execution_count": 2,
   "metadata": {},
   "outputs": [],
   "source": [
    "%%capture\n",
    "# Load variables from the .env file if it exists\n",
    "# Use %%capture to suppress messages\n",
    "%load_ext dotenv\n",
    "%dotenv"
   ]
  },
  {
   "cell_type": "code",
   "execution_count": 3,
   "metadata": {},
   "outputs": [],
   "source": [
    "# Insert your Trove API key\n",
    "API_KEY = \"YOUR API KEY\"\n",
    "\n",
    "# Use api key value from environment variables if it is available\n",
    "if os.getenv(\"TROVE_API_KEY\"):\n",
    "    API_KEY = os.getenv(\"TROVE_API_KEY\")"
   ]
  },
  {
   "cell_type": "markdown",
   "metadata": {},
   "source": [
    "## Define some functions to do the work"
   ]
  },
  {
   "cell_type": "code",
   "execution_count": 4,
   "metadata": {},
   "outputs": [],
   "source": [
    "def get_total_results(params):\n",
    "    \"\"\"\n",
    "    Get the total number of results for a search.\n",
    "    \"\"\"\n",
    "    these_params = params.copy()\n",
    "    these_params[\"n\"] = 0\n",
    "    response = s.get(\"https://api.trove.nla.gov.au/v2/result\", params=these_params)\n",
    "    data = response.json()\n",
    "    return int(data[\"response\"][\"zone\"][0][\"records\"][\"total\"])\n",
    "\n",
    "\n",
    "def get_fulltext_urls(links):\n",
    "    \"\"\"\n",
    "    Loop through the identifiers to find a link to the digital version of the journal.\n",
    "    \"\"\"\n",
    "    urls = []\n",
    "    for link in links:\n",
    "        if link[\"linktype\"] == \"fulltext\" and \"nla.obj\" in link[\"value\"]:\n",
    "            url = link[\"value\"]\n",
    "            if \"digitised\" in link[\"linktext\"].lower():\n",
    "                url_type = \"digitised\"\n",
    "            elif \"edeposit\" in link[\"linktext\"].lower():\n",
    "                url_type = \"edeposit\"\n",
    "            else:\n",
    "                url_type = \"other\"\n",
    "            urls.append({\"url\": url, \"url_type\": url_type})\n",
    "    return urls\n",
    "\n",
    "\n",
    "def listify(value):\n",
    "    if not isinstance(value, list):\n",
    "        value = [value]\n",
    "    return value\n",
    "\n",
    "\n",
    "def format_list(record, field):\n",
    "    value = record.get(field, [])\n",
    "    value = listify(value)\n",
    "    return \" | \".join(value)\n",
    "\n",
    "\n",
    "def get_titles():\n",
    "    \"\"\"\n",
    "    Harvest metadata about digitised journals.\n",
    "    With a little adaptation, this basic pattern could be used to harvest\n",
    "    other types of works from Trove.\n",
    "    \"\"\"\n",
    "    url = \"http://api.trove.nla.gov.au/v2/result\"\n",
    "    titles = []\n",
    "    params = {\n",
    "        # We can 'NOT' the format facet in the query\n",
    "        # \"q\": '\"nla.obj-\" NOT format:Article',\n",
    "        \"q\": '\"nla.obj\" NOT format:Article',\n",
    "        # 'q': '\"nla.obj-\" NOT format:Article',\n",
    "        \"zone\": \"article\",\n",
    "        # \"l-format\": format_type,  # Journals only\n",
    "        # 'l-format': 'Government publication',\n",
    "        \"include\": \"links\",\n",
    "        \"bulkHarvest\": \"true\",  # Needed to maintain a consistent order across requests\n",
    "        \"key\": API_KEY,\n",
    "        \"n\": 100,\n",
    "        \"encoding\": \"json\",\n",
    "    }\n",
    "    start = \"*\"\n",
    "    total = get_total_results(params)\n",
    "    with tqdm(total=total) as pbar:\n",
    "        while start:\n",
    "            params[\"s\"] = start\n",
    "            response = s.get(url, params=params)\n",
    "            data = response.json()\n",
    "            try:\n",
    "                works = data[\"response\"][\"zone\"][0][\"records\"][\"work\"]\n",
    "            except KeyError:\n",
    "                # It seems that if the result set ends with a full page of results,\n",
    "                # the nextStart value is included even though there are no more results\n",
    "                pass\n",
    "            for work in works:\n",
    "                # Check to see if there's a link to a digital version\n",
    "                try:\n",
    "                    fulltext_urls = get_fulltext_urls(work[\"identifier\"])\n",
    "                except (KeyError, TypeError):\n",
    "                    pass\n",
    "                else:\n",
    "                    for fulltext_url in fulltext_urls:\n",
    "                        trove_id = re.search(\n",
    "                            r\"(nla\\.obj\\-\\d+)\", fulltext_url[\"url\"]\n",
    "                        ).group(1)\n",
    "                        # Get basic metadata\n",
    "                        # You could add more work data here\n",
    "                        # Check the Trove API docs for work record structure\n",
    "                        title = {\n",
    "                            \"title\": work[\"title\"],\n",
    "                            \"contributor\": format_list(work, \"contributor\"),\n",
    "                            \"issued\": work.get(\"issued\", \"\"),\n",
    "                            \"format\": format_list(work, \"type\"),\n",
    "                            \"fulltext_url\": fulltext_url[\"url\"],\n",
    "                            \"trove_url\": work[\"troveUrl\"],\n",
    "                            \"trove_id\": trove_id,\n",
    "                            \"fulltext_url_type\": fulltext_url[\"url_type\"],\n",
    "                        }\n",
    "                        titles.append(title)\n",
    "            # If there's a startNext value then we get it to request the next page of results\n",
    "            try:\n",
    "                start = data[\"response\"][\"zone\"][0][\"records\"][\"nextStart\"]\n",
    "            except KeyError:\n",
    "                start = None\n",
    "            pbar.update(len(works))\n",
    "            time.sleep(0.2)\n",
    "    return titles"
   ]
  },
  {
   "cell_type": "markdown",
   "metadata": {},
   "source": [
    "## Run the harvest"
   ]
  },
  {
   "cell_type": "code",
   "execution_count": null,
   "metadata": {},
   "outputs": [],
   "source": [
    "titles = get_titles()"
   ]
  },
  {
   "cell_type": "code",
   "execution_count": 7,
   "metadata": {},
   "outputs": [],
   "source": [
    "df = pd.DataFrame(titles)"
   ]
  },
  {
   "cell_type": "code",
   "execution_count": 8,
   "metadata": {
    "tags": [
     "nbval-skip"
    ]
   },
   "outputs": [
    {
     "data": {
      "text/html": [
       "<a href=\"digital-journals-20220831.csv\" download=\"digital-journals-20220831.csv\">digital-journals-20220831.csv</a>"
      ],
      "text/plain": [
       "<IPython.core.display.HTML object>"
      ]
     },
     "metadata": {},
     "output_type": "display_data"
    }
   ],
   "source": [
    "# Save as CSV and display a download link\n",
    "csv_file = f'digital-journals-{datetime.now().strftime(\"%Y%m%d\")}.csv'\n",
    "df.to_csv(csv_file, index=False)\n",
    "display(HTML(f'<a href=\"{csv_file}\" download=\"{csv_file}\">{csv_file}</a>'))"
   ]
  },
  {
   "cell_type": "code",
   "execution_count": 9,
   "metadata": {},
   "outputs": [
    {
     "data": {
      "text/plain": [
       "(8728, 8)"
      ]
     },
     "execution_count": 9,
     "metadata": {},
     "output_type": "execute_result"
    }
   ],
   "source": [
    "# How many journals are there?\n",
    "df.shape"
   ]
  },
  {
   "cell_type": "markdown",
   "metadata": {},
   "source": [
    "Let's have a look at the different formats in the dataset. Remember that most records have multiple formats."
   ]
  },
  {
   "cell_type": "code",
   "execution_count": 10,
   "metadata": {},
   "outputs": [
    {
     "data": {
      "text/plain": [
       "Periodical                             8330\n",
       "Periodical/Journal, magazine, other    8269\n",
       "Government publication                 4462\n",
       "Conference Proceedings                  411\n",
       "Book                                    177\n",
       "Archived website                        171\n",
       "Microform                               130\n",
       "Book/Illustrated                        101\n",
       "Periodical/Newspaper                     81\n",
       "Map                                       6\n",
       "Book/Large print                          2\n",
       "Thesis                                    2\n",
       "Video                                     1\n",
       "Audio book                                1\n",
       "Sound                                     1\n",
       "Sound/Other sound                         1\n",
       "Name: format, dtype: int64"
      ]
     },
     "execution_count": 10,
     "metadata": {},
     "output_type": "execute_result"
    }
   ],
   "source": [
    "df[\"format\"] = df[\"format\"].str.split(\" | \", regex=False)\n",
    "formats = df.explode(\"format\")\n",
    "formats[\"format\"].value_counts()"
   ]
  },
  {
   "cell_type": "markdown",
   "metadata": {},
   "source": [
    "Seems that we've captured a few 'Books' as well as a lot of 'Government publications'. We could try and exclude them, but the metadata is a bit inconsistent, so I think it's safest to keep the dataset in it's current form and manage oddities as we come across them. We can also look at the types of fulltext link."
   ]
  },
  {
   "cell_type": "code",
   "execution_count": 11,
   "metadata": {},
   "outputs": [
    {
     "data": {
      "text/plain": [
       "edeposit     7184\n",
       "digitised    1474\n",
       "other          70\n",
       "Name: fulltext_url_type, dtype: int64"
      ]
     },
     "execution_count": 11,
     "metadata": {},
     "output_type": "execute_result"
    }
   ],
   "source": [
    "df[\"fulltext_url_type\"].value_counts()"
   ]
  },
  {
   "cell_type": "markdown",
   "metadata": {},
   "source": [
    "So most of the periodicals in the dataset have come via the edeposit scheme. Even those these are in digital form and available online, there can be access restrictions – you might only be able to view them onsite at a library."
   ]
  },
  {
   "cell_type": "markdown",
   "metadata": {},
   "source": [
    "For some reason there are a number of duplicates in the dataset, where multiple Trove work records point to the same digitised journal. Again, I'm leaving them in the dataset just in case there's useful information in the duplicate records. If you need to, you can display and remove duplicates like this."
   ]
  },
  {
   "cell_type": "code",
   "execution_count": 12,
   "metadata": {},
   "outputs": [
    {
     "data": {
      "text/html": [
       "<div>\n",
       "<style scoped>\n",
       "    .dataframe tbody tr th:only-of-type {\n",
       "        vertical-align: middle;\n",
       "    }\n",
       "\n",
       "    .dataframe tbody tr th {\n",
       "        vertical-align: top;\n",
       "    }\n",
       "\n",
       "    .dataframe thead th {\n",
       "        text-align: right;\n",
       "    }\n",
       "</style>\n",
       "<table border=\"1\" class=\"dataframe\">\n",
       "  <thead>\n",
       "    <tr style=\"text-align: right;\">\n",
       "      <th></th>\n",
       "      <th>title</th>\n",
       "      <th>contributor</th>\n",
       "      <th>issued</th>\n",
       "      <th>format</th>\n",
       "      <th>fulltext_url</th>\n",
       "      <th>trove_url</th>\n",
       "      <th>trove_id</th>\n",
       "      <th>fulltext_url_type</th>\n",
       "    </tr>\n",
       "  </thead>\n",
       "  <tbody>\n",
       "    <tr>\n",
       "      <th>6855</th>\n",
       "      <td>Wings (Sydney, N.S.W. Online)</td>\n",
       "      <td></td>\n",
       "      <td>2019-2022</td>\n",
       "      <td>[Periodical, Periodical/Journal, magazine, other]</td>\n",
       "      <td>https://nla.gov.au/nla.obj-1226109179</td>\n",
       "      <td>https://trove.nla.gov.au/work/248566050</td>\n",
       "      <td>nla.obj-1226109179</td>\n",
       "      <td>edeposit</td>\n",
       "    </tr>\n",
       "    <tr>\n",
       "      <th>7746</th>\n",
       "      <td>Wings (Sydney, N.S.W. Print)</td>\n",
       "      <td>Royal Australian Air Force Association.</td>\n",
       "      <td>1946-2022</td>\n",
       "      <td>[Periodical, Periodical/Journal, magazine, other]</td>\n",
       "      <td>https://nla.gov.au/nla.obj-1226109179</td>\n",
       "      <td>https://trove.nla.gov.au/work/30060307</td>\n",
       "      <td>nla.obj-1226109179</td>\n",
       "      <td>edeposit</td>\n",
       "    </tr>\n",
       "    <tr>\n",
       "      <th>1715</th>\n",
       "      <td>[Event programme] / Australian Festival of Cha...</td>\n",
       "      <td></td>\n",
       "      <td>1990-2022</td>\n",
       "      <td>[Periodical, Periodical/Journal, magazine, other]</td>\n",
       "      <td>https://nla.gov.au/nla.obj-1252107366</td>\n",
       "      <td>https://trove.nla.gov.au/work/205602387</td>\n",
       "      <td>nla.obj-1252107366</td>\n",
       "      <td>edeposit</td>\n",
       "    </tr>\n",
       "    <tr>\n",
       "      <th>4936</th>\n",
       "      <td>[Event programme] / Australian Festival of Cha...</td>\n",
       "      <td>Australian Festival of Chamber Music (Townsvil...</td>\n",
       "      <td>1990-2022</td>\n",
       "      <td>[Periodical, Periodical/Journal, magazine, other]</td>\n",
       "      <td>https://nla.gov.au/nla.obj-1252107366</td>\n",
       "      <td>https://trove.nla.gov.au/work/237613201</td>\n",
       "      <td>nla.obj-1252107366</td>\n",
       "      <td>edeposit</td>\n",
       "    </tr>\n",
       "    <tr>\n",
       "      <th>508</th>\n",
       "      <td>Newsletter (Fassifern Field Naturalists Club)</td>\n",
       "      <td>Newsletter (Fassifern Field Naturalists Club)</td>\n",
       "      <td>1990-2022</td>\n",
       "      <td>[Periodical, Periodical/Journal, magazine, other]</td>\n",
       "      <td>https://nla.gov.au/nla.obj-1252109161</td>\n",
       "      <td>https://trove.nla.gov.au/work/163410772</td>\n",
       "      <td>nla.obj-1252109161</td>\n",
       "      <td>edeposit</td>\n",
       "    </tr>\n",
       "    <tr>\n",
       "      <th>...</th>\n",
       "      <td>...</td>\n",
       "      <td>...</td>\n",
       "      <td>...</td>\n",
       "      <td>...</td>\n",
       "      <td>...</td>\n",
       "      <td>...</td>\n",
       "      <td>...</td>\n",
       "      <td>...</td>\n",
       "    </tr>\n",
       "    <tr>\n",
       "      <th>5013</th>\n",
       "      <td>Bookfellow (Sydney, N.S.W. : 1911 : Online)</td>\n",
       "      <td></td>\n",
       "      <td>1911-1925</td>\n",
       "      <td>[Periodical, Periodical/Journal, magazine, other]</td>\n",
       "      <td>http://nla.gov.au/nla.obj-768936943</td>\n",
       "      <td>https://trove.nla.gov.au/work/238051629</td>\n",
       "      <td>nla.obj-768936943</td>\n",
       "      <td>other</td>\n",
       "    </tr>\n",
       "    <tr>\n",
       "      <th>8384</th>\n",
       "      <td>The New Triad</td>\n",
       "      <td></td>\n",
       "      <td>1927-2022</td>\n",
       "      <td>[Periodical, Periodical/Journal, magazine, other]</td>\n",
       "      <td>http://nla.gov.au/nla.obj-788254980</td>\n",
       "      <td>https://trove.nla.gov.au/work/5552221</td>\n",
       "      <td>nla.obj-788254980</td>\n",
       "      <td>digitised</td>\n",
       "    </tr>\n",
       "    <tr>\n",
       "      <th>5015</th>\n",
       "      <td>New Triad (Online)</td>\n",
       "      <td></td>\n",
       "      <td>1927-1928</td>\n",
       "      <td>[Periodical, Periodical/Journal, magazine, other]</td>\n",
       "      <td>http://nla.gov.au/nla.obj-788254980</td>\n",
       "      <td>https://trove.nla.gov.au/work/238053099</td>\n",
       "      <td>nla.obj-788254980</td>\n",
       "      <td>other</td>\n",
       "    </tr>\n",
       "    <tr>\n",
       "      <th>7679</th>\n",
       "      <td>Triad (Sydney, N.S.W.)</td>\n",
       "      <td></td>\n",
       "      <td>1892-1927</td>\n",
       "      <td>[Periodical, Periodical/Journal, magazine, other]</td>\n",
       "      <td>https://nla.gov.au/nla.obj-875780662</td>\n",
       "      <td>https://trove.nla.gov.au/work/27592184</td>\n",
       "      <td>nla.obj-875780662</td>\n",
       "      <td>digitised</td>\n",
       "    </tr>\n",
       "    <tr>\n",
       "      <th>4988</th>\n",
       "      <td>Triad (Sydney, N.S.W. : Online)</td>\n",
       "      <td></td>\n",
       "      <td>1915-1927</td>\n",
       "      <td>[Periodical, Periodical/Journal, magazine, other]</td>\n",
       "      <td>https://nla.gov.au/nla.obj-875780662</td>\n",
       "      <td>https://trove.nla.gov.au/work/238009872</td>\n",
       "      <td>nla.obj-875780662</td>\n",
       "      <td>other</td>\n",
       "    </tr>\n",
       "  </tbody>\n",
       "</table>\n",
       "<p>132 rows × 8 columns</p>\n",
       "</div>"
      ],
      "text/plain": [
       "                                                  title  \\\n",
       "6855                      Wings (Sydney, N.S.W. Online)   \n",
       "7746                       Wings (Sydney, N.S.W. Print)   \n",
       "1715  [Event programme] / Australian Festival of Cha...   \n",
       "4936  [Event programme] / Australian Festival of Cha...   \n",
       "508       Newsletter (Fassifern Field Naturalists Club)   \n",
       "...                                                 ...   \n",
       "5013        Bookfellow (Sydney, N.S.W. : 1911 : Online)   \n",
       "8384                                      The New Triad   \n",
       "5015                                 New Triad (Online)   \n",
       "7679                             Triad (Sydney, N.S.W.)   \n",
       "4988                    Triad (Sydney, N.S.W. : Online)   \n",
       "\n",
       "                                            contributor     issued  \\\n",
       "6855                                                     2019-2022   \n",
       "7746            Royal Australian Air Force Association.  1946-2022   \n",
       "1715                                                     1990-2022   \n",
       "4936  Australian Festival of Chamber Music (Townsvil...  1990-2022   \n",
       "508       Newsletter (Fassifern Field Naturalists Club)  1990-2022   \n",
       "...                                                 ...        ...   \n",
       "5013                                                     1911-1925   \n",
       "8384                                                     1927-2022   \n",
       "5015                                                     1927-1928   \n",
       "7679                                                     1892-1927   \n",
       "4988                                                     1915-1927   \n",
       "\n",
       "                                                 format  \\\n",
       "6855  [Periodical, Periodical/Journal, magazine, other]   \n",
       "7746  [Periodical, Periodical/Journal, magazine, other]   \n",
       "1715  [Periodical, Periodical/Journal, magazine, other]   \n",
       "4936  [Periodical, Periodical/Journal, magazine, other]   \n",
       "508   [Periodical, Periodical/Journal, magazine, other]   \n",
       "...                                                 ...   \n",
       "5013  [Periodical, Periodical/Journal, magazine, other]   \n",
       "8384  [Periodical, Periodical/Journal, magazine, other]   \n",
       "5015  [Periodical, Periodical/Journal, magazine, other]   \n",
       "7679  [Periodical, Periodical/Journal, magazine, other]   \n",
       "4988  [Periodical, Periodical/Journal, magazine, other]   \n",
       "\n",
       "                               fulltext_url  \\\n",
       "6855  https://nla.gov.au/nla.obj-1226109179   \n",
       "7746  https://nla.gov.au/nla.obj-1226109179   \n",
       "1715  https://nla.gov.au/nla.obj-1252107366   \n",
       "4936  https://nla.gov.au/nla.obj-1252107366   \n",
       "508   https://nla.gov.au/nla.obj-1252109161   \n",
       "...                                     ...   \n",
       "5013    http://nla.gov.au/nla.obj-768936943   \n",
       "8384    http://nla.gov.au/nla.obj-788254980   \n",
       "5015    http://nla.gov.au/nla.obj-788254980   \n",
       "7679   https://nla.gov.au/nla.obj-875780662   \n",
       "4988   https://nla.gov.au/nla.obj-875780662   \n",
       "\n",
       "                                    trove_url            trove_id  \\\n",
       "6855  https://trove.nla.gov.au/work/248566050  nla.obj-1226109179   \n",
       "7746   https://trove.nla.gov.au/work/30060307  nla.obj-1226109179   \n",
       "1715  https://trove.nla.gov.au/work/205602387  nla.obj-1252107366   \n",
       "4936  https://trove.nla.gov.au/work/237613201  nla.obj-1252107366   \n",
       "508   https://trove.nla.gov.au/work/163410772  nla.obj-1252109161   \n",
       "...                                       ...                 ...   \n",
       "5013  https://trove.nla.gov.au/work/238051629   nla.obj-768936943   \n",
       "8384    https://trove.nla.gov.au/work/5552221   nla.obj-788254980   \n",
       "5015  https://trove.nla.gov.au/work/238053099   nla.obj-788254980   \n",
       "7679   https://trove.nla.gov.au/work/27592184   nla.obj-875780662   \n",
       "4988  https://trove.nla.gov.au/work/238009872   nla.obj-875780662   \n",
       "\n",
       "     fulltext_url_type  \n",
       "6855          edeposit  \n",
       "7746          edeposit  \n",
       "1715          edeposit  \n",
       "4936          edeposit  \n",
       "508           edeposit  \n",
       "...                ...  \n",
       "5013             other  \n",
       "8384         digitised  \n",
       "5015             other  \n",
       "7679         digitised  \n",
       "4988             other  \n",
       "\n",
       "[132 rows x 8 columns]"
      ]
     },
     "execution_count": 12,
     "metadata": {},
     "output_type": "execute_result"
    }
   ],
   "source": [
    "# Show dupes\n",
    "df.loc[df.duplicated(subset=[\"trove_id\"], keep=False)].sort_values(\n",
    "    by=[\"trove_id\", \"fulltext_url_type\"]\n",
    ")"
   ]
  },
  {
   "cell_type": "code",
   "execution_count": 15,
   "metadata": {},
   "outputs": [
    {
     "data": {
      "text/plain": [
       "8662"
      ]
     },
     "execution_count": 15,
     "metadata": {},
     "output_type": "execute_result"
    }
   ],
   "source": [
    "# How many unique ids after duplicates are removed\n",
    "df.drop_duplicates(subset=[\"trove_id\"], keep=\"last\").shape[0]"
   ]
  },
  {
   "cell_type": "markdown",
   "metadata": {},
   "source": [
    "----\n",
    "\n",
    "Created by [Tim Sherratt](https://timsherratt.org/) for the [GLAM Workbench](https://glam-workbench.github.io/).\n",
    "\n",
    "Work on this notebook was supported by the [Humanities, Arts and Social Sciences (HASS) Data Enhanced Virtual Lab](https://tinker.edu.au/)."
   ]
  }
 ],
 "metadata": {
  "kernelspec": {
   "display_name": "Python 3.9.9 64-bit",
   "language": "python",
   "name": "python3"
  },
  "language_info": {
   "codemirror_mode": {
    "name": "ipython",
    "version": 3
   },
   "file_extension": ".py",
   "mimetype": "text/x-python",
   "name": "python",
   "nbconvert_exporter": "python",
   "pygments_lexer": "ipython3",
   "version": "3.9.9"
  },
  "vscode": {
   "interpreter": {
    "hash": "e7370f93d1d0cde622a1f8e1c04877d8463912d04d973331ad4851f04de6915a"
   }
  },
  "widgets": {
   "application/vnd.jupyter.widget-state+json": {
    "state": {
     "01d73cf7b9a9458880f47bb1048e5d36": {
      "model_module": "@jupyter-widgets/controls",
      "model_module_version": "1.5.0",
      "model_name": "HBoxModel",
      "state": {
       "children": [
        "IPY_MODEL_e10586ec29de426899b0d06237fa430b",
        "IPY_MODEL_35e4923a56f64d68822764e0867b976e",
        "IPY_MODEL_07c01cb77f064b0da0a7f1cb45ace2a7"
       ],
       "layout": "IPY_MODEL_5c30e5925d2647a19f7639d47551533a"
      }
     },
     "07c01cb77f064b0da0a7f1cb45ace2a7": {
      "model_module": "@jupyter-widgets/controls",
      "model_module_version": "1.5.0",
      "model_name": "HTMLModel",
      "state": {
       "layout": "IPY_MODEL_6a63ea01c9d14de5bb7759717ceda1aa",
       "style": "IPY_MODEL_f7e3e55625234d32b3399a707ddb4658",
       "value": " 12045/12045 [02:09&lt;00:00, 60.74it/s]"
      }
     },
     "35e4923a56f64d68822764e0867b976e": {
      "model_module": "@jupyter-widgets/controls",
      "model_module_version": "1.5.0",
      "model_name": "FloatProgressModel",
      "state": {
       "bar_style": "success",
       "layout": "IPY_MODEL_b1524bce3bc947f5b72e03f8039b1095",
       "max": 12045,
       "style": "IPY_MODEL_edda7da77c69429c9f7300009467ad19",
       "value": 12045
      }
     },
     "5c30e5925d2647a19f7639d47551533a": {
      "model_module": "@jupyter-widgets/base",
      "model_module_version": "1.2.0",
      "model_name": "LayoutModel",
      "state": {}
     },
     "6a63ea01c9d14de5bb7759717ceda1aa": {
      "model_module": "@jupyter-widgets/base",
      "model_module_version": "1.2.0",
      "model_name": "LayoutModel",
      "state": {}
     },
     "94a6effe14614097913c60bbc0be6f9c": {
      "model_module": "@jupyter-widgets/controls",
      "model_module_version": "1.5.0",
      "model_name": "DescriptionStyleModel",
      "state": {
       "description_width": ""
      }
     },
     "b1524bce3bc947f5b72e03f8039b1095": {
      "model_module": "@jupyter-widgets/base",
      "model_module_version": "1.2.0",
      "model_name": "LayoutModel",
      "state": {}
     },
     "d8e82f1c9d5040409e1721eadccbc8a3": {
      "model_module": "@jupyter-widgets/base",
      "model_module_version": "1.2.0",
      "model_name": "LayoutModel",
      "state": {}
     },
     "e10586ec29de426899b0d06237fa430b": {
      "model_module": "@jupyter-widgets/controls",
      "model_module_version": "1.5.0",
      "model_name": "HTMLModel",
      "state": {
       "layout": "IPY_MODEL_d8e82f1c9d5040409e1721eadccbc8a3",
       "style": "IPY_MODEL_94a6effe14614097913c60bbc0be6f9c",
       "value": "100%"
      }
     },
     "edda7da77c69429c9f7300009467ad19": {
      "model_module": "@jupyter-widgets/controls",
      "model_module_version": "1.5.0",
      "model_name": "ProgressStyleModel",
      "state": {
       "description_width": ""
      }
     },
     "f7e3e55625234d32b3399a707ddb4658": {
      "model_module": "@jupyter-widgets/controls",
      "model_module_version": "1.5.0",
      "model_name": "DescriptionStyleModel",
      "state": {
       "description_width": ""
      }
     }
    },
    "version_major": 2,
    "version_minor": 0
   }
  }
 },
 "nbformat": 4,
 "nbformat_minor": 4
}
