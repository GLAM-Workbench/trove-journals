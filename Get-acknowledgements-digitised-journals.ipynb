{
 "cells": [
  {
   "cell_type": "markdown",
   "metadata": {},
   "source": [
    "# Get acknowledgements from digitised journals\n",
    "\n",
    "The landing page of a digitised journal in Trove retrieves any acknowledgements using an internal API. In this notebook I've used this API to get acknowledgements from the [list of digital journals with OCRd text](digital-journals-with-text.csv) that I [created here](Download-text-for-all-digitised-journals.ipynb)."
   ]
  },
  {
   "cell_type": "code",
   "execution_count": 31,
   "metadata": {},
   "outputs": [],
   "source": [
    "import requests\n",
    "from bs4 import BeautifulSoup\n",
    "import pandas as pd\n",
    "from tqdm import tqdm_notebook\n",
    "from IPython.display import display, HTML"
   ]
  },
  {
   "cell_type": "code",
   "execution_count": 11,
   "metadata": {
    "scrolled": false
   },
   "outputs": [
    {
     "data": {
      "application/vnd.jupyter.widget-view+json": {
       "model_id": "242c7cde1ff648fda370cfa95e855daa",
       "version_major": 2,
       "version_minor": 0
      },
      "text/plain": [
       "HBox(children=(IntProgress(value=1, bar_style='info', max=1), HTML(value='')))"
      ]
     },
     "metadata": {},
     "output_type": "display_data"
    },
    {
     "name": "stdout",
     "output_type": "stream",
     "text": [
      "\n"
     ]
    }
   ],
   "source": [
    "url = 'http://nla.gov.au/{}/details/ack'\n",
    "df = pd.read_csv('digital-journals-with-text.csv', keep_default_na=False)\n",
    "\n",
    "supporters = []\n",
    "for row in tqdm_notebook(df.itertuples()):\n",
    "    ack_url = url.format(row.trove_id)\n",
    "    response = requests.get(ack_url)\n",
    "    soup = BeautifulSoup(response.text)\n",
    "    try:\n",
    "        acks = soup.find(class_='list-acknowledgements').find_all('strong')\n",
    "    except AttributeError:\n",
    "        pass\n",
    "    else:\n",
    "        for ack in acks:\n",
    "            supporters.append({'trove_id': row.trove_id, 'title': row.title, 'supporter': ack.string})\n",
    "\n",
    "dfs = pd.DataFrame(supporters)"
   ]
  },
  {
   "cell_type": "code",
   "execution_count": 12,
   "metadata": {},
   "outputs": [
    {
     "data": {
      "text/html": [
       "<div>\n",
       "<style scoped>\n",
       "    .dataframe tbody tr th:only-of-type {\n",
       "        vertical-align: middle;\n",
       "    }\n",
       "\n",
       "    .dataframe tbody tr th {\n",
       "        vertical-align: top;\n",
       "    }\n",
       "\n",
       "    .dataframe thead th {\n",
       "        text-align: right;\n",
       "    }\n",
       "</style>\n",
       "<table border=\"1\" class=\"dataframe\">\n",
       "  <thead>\n",
       "    <tr style=\"text-align: right;\">\n",
       "      <th></th>\n",
       "      <th>supporter</th>\n",
       "      <th>title</th>\n",
       "      <th>trove_id</th>\n",
       "    </tr>\n",
       "  </thead>\n",
       "  <tbody>\n",
       "    <tr>\n",
       "      <th>0</th>\n",
       "      <td>NSW Soil Conservation Service</td>\n",
       "      <td>Journal of soil conservation, New South Wales</td>\n",
       "      <td>nla.obj-740911077</td>\n",
       "    </tr>\n",
       "    <tr>\n",
       "      <th>1</th>\n",
       "      <td>Chris Edye</td>\n",
       "      <td>The New South Wales school magazine of literat...</td>\n",
       "      <td>nla.obj-748141557</td>\n",
       "    </tr>\n",
       "    <tr>\n",
       "      <th>2</th>\n",
       "      <td>NSW Dept. of Education</td>\n",
       "      <td>The New South Wales school magazine of literat...</td>\n",
       "      <td>nla.obj-748141557</td>\n",
       "    </tr>\n",
       "    <tr>\n",
       "      <th>3</th>\n",
       "      <td>The School Magazine</td>\n",
       "      <td>The New South Wales school magazine of literat...</td>\n",
       "      <td>nla.obj-748141557</td>\n",
       "    </tr>\n",
       "    <tr>\n",
       "      <th>4</th>\n",
       "      <td>State Library of NSW Digital Excellence Program</td>\n",
       "      <td>The New South Wales Aborigines' advocate : a m...</td>\n",
       "      <td>nla.obj-554406117</td>\n",
       "    </tr>\n",
       "  </tbody>\n",
       "</table>\n",
       "</div>"
      ],
      "text/plain": [
       "                                         supporter  \\\n",
       "0                    NSW Soil Conservation Service   \n",
       "1                                       Chris Edye   \n",
       "2                           NSW Dept. of Education   \n",
       "3                              The School Magazine   \n",
       "4  State Library of NSW Digital Excellence Program   \n",
       "\n",
       "                                               title           trove_id  \n",
       "0      Journal of soil conservation, New South Wales  nla.obj-740911077  \n",
       "1  The New South Wales school magazine of literat...  nla.obj-748141557  \n",
       "2  The New South Wales school magazine of literat...  nla.obj-748141557  \n",
       "3  The New South Wales school magazine of literat...  nla.obj-748141557  \n",
       "4  The New South Wales Aborigines' advocate : a m...  nla.obj-554406117  "
      ]
     },
     "execution_count": 12,
     "metadata": {},
     "output_type": "execute_result"
    }
   ],
   "source": [
    "dfs.head()"
   ]
  },
  {
   "cell_type": "markdown",
   "metadata": {},
   "source": [
    "## Total acknowledgements"
   ]
  },
  {
   "cell_type": "code",
   "execution_count": 53,
   "metadata": {},
   "outputs": [
    {
     "data": {
      "text/html": [
       "<div>\n",
       "<style scoped>\n",
       "    .dataframe tbody tr th:only-of-type {\n",
       "        vertical-align: middle;\n",
       "    }\n",
       "\n",
       "    .dataframe tbody tr th {\n",
       "        vertical-align: top;\n",
       "    }\n",
       "\n",
       "    .dataframe thead th {\n",
       "        text-align: right;\n",
       "    }\n",
       "</style>\n",
       "<table border=\"1\" class=\"dataframe\">\n",
       "  <thead>\n",
       "    <tr style=\"text-align: right;\">\n",
       "      <th></th>\n",
       "      <th>supporter</th>\n",
       "    </tr>\n",
       "  </thead>\n",
       "  <tbody>\n",
       "    <tr>\n",
       "      <th>State Library of NSW Digital Excellence Program</th>\n",
       "      <td>47</td>\n",
       "    </tr>\n",
       "    <tr>\n",
       "      <th>State Library of Victoria</th>\n",
       "      <td>4</td>\n",
       "    </tr>\n",
       "    <tr>\n",
       "      <th>UNSW Australia</th>\n",
       "      <td>4</td>\n",
       "    </tr>\n",
       "    <tr>\n",
       "      <th>Victorian Canine Association's Laurie Luxmoore Library</th>\n",
       "      <td>3</td>\n",
       "    </tr>\n",
       "    <tr>\n",
       "      <th>Chris Edye</th>\n",
       "      <td>3</td>\n",
       "    </tr>\n",
       "    <tr>\n",
       "      <th>State Library of New South Wales</th>\n",
       "      <td>3</td>\n",
       "    </tr>\n",
       "    <tr>\n",
       "      <th>Public Record Office Victoria</th>\n",
       "      <td>3</td>\n",
       "    </tr>\n",
       "    <tr>\n",
       "      <th>State Library of Queensland</th>\n",
       "      <td>3</td>\n",
       "    </tr>\n",
       "    <tr>\n",
       "      <th>Victoria State Government</th>\n",
       "      <td>3</td>\n",
       "    </tr>\n",
       "    <tr>\n",
       "      <th>Northern Peninsula Area State College</th>\n",
       "      <td>3</td>\n",
       "    </tr>\n",
       "    <tr>\n",
       "      <th>Lovell Chen</th>\n",
       "      <td>3</td>\n",
       "    </tr>\n",
       "    <tr>\n",
       "      <th>University of Melbourne</th>\n",
       "      <td>3</td>\n",
       "    </tr>\n",
       "    <tr>\n",
       "      <th>Fisheries Research And Development Corporation</th>\n",
       "      <td>3</td>\n",
       "    </tr>\n",
       "    <tr>\n",
       "      <th>Editor of the Bush Fire Bulletin and the NSW Rural Fire Service Library</th>\n",
       "      <td>2</td>\n",
       "    </tr>\n",
       "    <tr>\n",
       "      <th>NSW Dept. of Education</th>\n",
       "      <td>2</td>\n",
       "    </tr>\n",
       "    <tr>\n",
       "      <th>Department of Veterans’ Affairs</th>\n",
       "      <td>2</td>\n",
       "    </tr>\n",
       "    <tr>\n",
       "      <th>University of Wollongong</th>\n",
       "      <td>2</td>\n",
       "    </tr>\n",
       "    <tr>\n",
       "      <th>The School Magazine</th>\n",
       "      <td>2</td>\n",
       "    </tr>\n",
       "    <tr>\n",
       "      <th>Catholic Diocese of Bathurst</th>\n",
       "      <td>1</td>\n",
       "    </tr>\n",
       "    <tr>\n",
       "      <th>AustLit, The University of Queensland</th>\n",
       "      <td>1</td>\n",
       "    </tr>\n",
       "    <tr>\n",
       "      <th>UNSW Canberra Special Collections</th>\n",
       "      <td>1</td>\n",
       "    </tr>\n",
       "    <tr>\n",
       "      <th>Australia Indonesia Institute</th>\n",
       "      <td>1</td>\n",
       "    </tr>\n",
       "    <tr>\n",
       "      <th>Daramalan College</th>\n",
       "      <td>1</td>\n",
       "    </tr>\n",
       "    <tr>\n",
       "      <th>Mount Isa City Council</th>\n",
       "      <td>1</td>\n",
       "    </tr>\n",
       "    <tr>\n",
       "      <th>Herb Feith Foundation</th>\n",
       "      <td>1</td>\n",
       "    </tr>\n",
       "    <tr>\n",
       "      <th>AEU NSW Teachers Federation Branch in commemoration of their centenary 2018</th>\n",
       "      <td>1</td>\n",
       "    </tr>\n",
       "    <tr>\n",
       "      <th>Open City Inc. RealTime</th>\n",
       "      <td>1</td>\n",
       "    </tr>\n",
       "    <tr>\n",
       "      <th>Tasmanian Archive and Heritage Office (TAHO)</th>\n",
       "      <td>1</td>\n",
       "    </tr>\n",
       "    <tr>\n",
       "      <th>Catholic Church Insurance Limited</th>\n",
       "      <td>1</td>\n",
       "    </tr>\n",
       "    <tr>\n",
       "      <th>RMC Duntroon Classes 1966, 1967 and 1968 for Armistice Centenary 2018</th>\n",
       "      <td>1</td>\n",
       "    </tr>\n",
       "    <tr>\n",
       "      <th>Bob Maynard</th>\n",
       "      <td>1</td>\n",
       "    </tr>\n",
       "    <tr>\n",
       "      <th>Mount Isa Mines, a Glencore Company</th>\n",
       "      <td>1</td>\n",
       "    </tr>\n",
       "    <tr>\n",
       "      <th>Frances Rand and Barbara Farrelly</th>\n",
       "      <td>1</td>\n",
       "    </tr>\n",
       "    <tr>\n",
       "      <th>Inside Indonesia</th>\n",
       "      <td>1</td>\n",
       "    </tr>\n",
       "    <tr>\n",
       "      <th>NSW Soil Conservation Service</th>\n",
       "      <td>1</td>\n",
       "    </tr>\n",
       "    <tr>\n",
       "      <th>The University of Queensland through a Humanities and Social Sciences Partnership Grant; annotated bibliography supported by the Australian Research Council (DP0984449).</th>\n",
       "      <td>1</td>\n",
       "    </tr>\n",
       "  </tbody>\n",
       "</table>\n",
       "</div>"
      ],
      "text/plain": [
       "                                                    supporter\n",
       "State Library of NSW Digital Excellence Program            47\n",
       "State Library of Victoria                                   4\n",
       "UNSW Australia                                              4\n",
       "Victorian Canine Association's Laurie Luxmoore ...          3\n",
       "Chris Edye                                                  3\n",
       "State Library of New South Wales                            3\n",
       "Public Record Office Victoria                               3\n",
       "State Library of Queensland                                 3\n",
       "Victoria State Government                                   3\n",
       "Northern Peninsula Area State College                       3\n",
       "Lovell Chen                                                 3\n",
       "University of Melbourne                                     3\n",
       "Fisheries Research And Development Corporation              3\n",
       "Editor of the Bush Fire Bulletin and the NSW Ru...          2\n",
       "NSW Dept. of Education                                      2\n",
       "Department of Veterans’ Affairs                             2\n",
       "University of Wollongong                                    2\n",
       "The School Magazine                                         2\n",
       "Catholic Diocese of Bathurst                                1\n",
       "AustLit, The University of Queensland                       1\n",
       "UNSW Canberra Special Collections                           1\n",
       "Australia Indonesia Institute                               1\n",
       "Daramalan College                                           1\n",
       "Mount Isa City Council                                      1\n",
       "Herb Feith Foundation                                       1\n",
       "AEU NSW Teachers Federation Branch in commemora...          1\n",
       "Open City Inc. RealTime                                     1\n",
       "Tasmanian Archive and Heritage Office (TAHO)                1\n",
       "Catholic Church Insurance Limited                           1\n",
       "RMC Duntroon Classes 1966, 1967 and 1968 for Ar...          1\n",
       "Bob Maynard                                                 1\n",
       "Mount Isa Mines, a Glencore Company                         1\n",
       "Frances Rand and Barbara Farrelly                           1\n",
       "Inside Indonesia                                            1\n",
       "NSW Soil Conservation Service                               1\n",
       "The University of Queensland through a Humaniti...          1"
      ]
     },
     "execution_count": 53,
     "metadata": {},
     "output_type": "execute_result"
    }
   ],
   "source": [
    "dfs['supporter'].value_counts().to_frame()"
   ]
  },
  {
   "cell_type": "markdown",
   "metadata": {},
   "source": [
    "## Acknowledgements by journal"
   ]
  },
  {
   "cell_type": "code",
   "execution_count": 51,
   "metadata": {
    "scrolled": false
   },
   "outputs": [
    {
     "data": {
      "text/html": [
       "<h4>Annual report / Repatriation Commission</h4><ul><li>Department of Veterans’ Affairs</li></ul><h4>Art in Australia</h4><ul><li>University of Wollongong</li><li>UNSW Australia</li></ul><h4>Art in Australia : a quarterly magazine</h4><ul><li>University of Wollongong</li><li>UNSW Australia</li></ul><h4>Australasian anthropological journal</h4><ul><li>State Library of NSW Digital Excellence Program</li></ul><h4>Australasian photo-review</h4><ul><li>State Library of NSW Digital Excellence Program</li></ul><h4>Australian Aborigines advocate : a monthly record of work amongst the dark people of Australia / the organ of the Australian Aborigines Mission</h4><ul><li>State Library of NSW Digital Excellence Program</li></ul><h4>Australian art : a monthly magazine & journal</h4><ul><li>State Library of NSW Digital Excellence Program</li></ul><h4>Australian fisheries</h4><ul><li>Fisheries Research And Development Corporation</li></ul><h4>Australian fisheries newsletter</h4><ul><li>Fisheries Research And Development Corporation</li></ul><h4>Australian literary journal (Online)</h4><ul><li>State Library of NSW Digital Excellence Program</li></ul><h4>Australian magazine (Sydney, N.S.W. : 1838)</h4><ul><li>State Library of NSW Digital Excellence Program</li></ul><h4>Australian magazine (Sydney, N.S.W. : 1899)</h4><ul><li>State Library of NSW Digital Excellence Program</li></ul><h4>Australian medical journal (1846)</h4><ul><li>State Library of NSW Digital Excellence Program</li></ul><h4>Australian penny journal (Online)</h4><ul><li>State Library of NSW Digital Excellence Program</li></ul><h4>Bamaga State High School</h4><ul><li>Northern Peninsula Area State College</li><li>State Library of Queensland</li></ul><h4>Bookfellow (Sydney, N.S.W. : 1899)</h4><ul><li>State Library of NSW Digital Excellence Program</li></ul><h4>Building (Sydney, N.S.W. : 1907)</h4><ul><li>State Library of NSW Digital Excellence Program</li></ul><h4>Building and engineering</h4><ul><li>State Library of NSW Digital Excellence Program</li></ul><h4>Building, lighting and engineering</h4><ul><li>State Library of NSW Digital Excellence Program</li></ul><h4>Bush fire bulletin (Sydney, N.S.W.)</h4><ul><li>Editor of the Bush Fire Bulletin and the NSW Rural Fire Service Library</li></ul><h4>Camp ink</h4><ul><li>State Library of NSW Digital Excellence Program</li></ul><h4>Decoration and glass</h4><ul><li>State Library of NSW Digital Excellence Program</li></ul><h4>Decoration and glass (Online)</h4><ul><li>State Library of NSW Digital Excellence Program</li></ul><h4>Dogs : the K.C.C. Kennel gazette : the official organ of the publisher the Kennel Control Council</h4><ul><li>Victorian Canine Association's Laurie Luxmoore Library</li><li>Public Record Office Victoria</li><li>Victoria State Government</li></ul><h4>Dogs on the bench & in the field (Online)</h4><ul><li>Victorian Canine Association's Laurie Luxmoore Library</li><li>Public Record Office Victoria</li><li>Victoria State Government</li></ul><h4>Education (Sydney, N.S.W.)</h4><ul><li>AEU NSW Teachers Federation Branch in commemoration of their centenary 2018</li></ul><h4>Everyones</h4><ul><li>State Library of NSW Digital Excellence Program</li></ul><h4>Fisheries news-letter / issued by the Fisheries Division of the Council for Scientific and Industrial Research</h4><ul><li>Fisheries Research And Development Corporation</li></ul><h4>Glass (Waterloo, N.S.W. : Online)</h4><ul><li>State Library of NSW Digital Excellence Program</li></ul><h4>Heads of the people (Sydney, N.S.W.)</h4><ul><li>State Library of NSW Digital Excellence Program</li></ul><h4>Home (Sydney, N.S.W. : 1920)</h4><ul><li>State Library of NSW Digital Excellence Program</li></ul><h4>Inside Indonesia : bulletin of the Indonesia Resources and Information Programme</h4><ul><li>Inside Indonesia</li><li>Australia Indonesia Institute</li><li>Herb Feith Foundation</li></ul><h4>Ironside's advertiser and Sydney price current (Online)</h4><ul><li>State Library of NSW Digital Excellence Program</li></ul><h4>Journal and proceedings (Royal Australian Historical Society)</h4><ul><li>Chris Edye</li><li>State Library of NSW Digital Excellence Program</li></ul><h4>Journal of proceedings (Royal Victorian Institute of Architects)</h4><ul><li>Lovell Chen</li><li>State Library of Victoria</li><li>University of Melbourne</li></ul><h4>Journal of proceedings of the Royal Victorian Institute of Architects</h4><ul><li>Lovell Chen</li><li>State Library of Victoria</li><li>University of Melbourne</li></ul><h4>Journal of soil conservation, New South Wales</h4><ul><li>NSW Soil Conservation Service</li></ul><h4>Journal of the Institute of Architects of New South Wales</h4><ul><li>State Library of NSW Digital Excellence Program</li></ul><h4>Journal of the Royal Military College of Australia</h4><ul><li>RMC Duntroon Classes 1966, 1967 and 1968 for Armistice Centenary 2018</li><li>UNSW Canberra Special Collections</li></ul><h4>Journal of the Royal Victorian Institute of Architects</h4><ul><li>Lovell Chen</li><li>State Library of Victoria</li><li>University of Melbourne</li></ul><h4>K.C.C. kennel gazette : the official organ of the publishers, the Kennel Control Council</h4><ul><li>Victorian Canine Association's Laurie Luxmoore Library</li><li>Public Record Office Victoria</li><li>Victoria State Government</li></ul><h4>Lesbians on the loose</h4><ul><li>Frances Rand and Barbara Farrelly</li></ul><h4>Liberty (Sydney, N.S.W.)</h4><ul><li>State Library of NSW Digital Excellence Program</li></ul><h4>Magazine / Bamaga P-12 School</h4><ul><li>Northern Peninsula Area State College</li><li>State Library of Queensland</li></ul><h4>Mimag / Mount Isa Mines Limited</h4><ul><li>State Library of Queensland</li><li>Mount Isa Mines, a Glencore Company</li><li>Mount Isa City Council</li></ul><h4>Month (Sydney, N.S.W.)</h4><ul><li>State Library of NSW Digital Excellence Program</li></ul><h4>Murray's Austral-Asiatic review</h4><ul><li>Tasmanian Archive and Heritage Office (TAHO)</li></ul><h4>Newcastle and Maitland Catholic Sentinel (Online)</h4><ul><li>Catholic Church Insurance Limited</li><li>State Library of New South Wales</li></ul><h4>Photographic review of reviews</h4><ul><li>State Library of NSW Digital Excellence Program</li></ul><h4>Pix</h4><ul><li>State Library of NSW Digital Excellence Program</li></ul><h4>Realtime</h4><ul><li>UNSW Australia</li><li>Open City Inc. RealTime</li></ul><h4>Record (Bathurst, N.S.W. : Online)</h4><ul><li>Catholic Diocese of Bathurst</li></ul><h4>Report of the Repatriation Commission... / Parliament of the Commonwealth of Australia. Australian Soldiers' Repatriation Act</h4><ul><li>Department of Veterans’ Affairs</li></ul><h4>Rugby League news (Sydney, N.S.W.)</h4><ul><li>State Library of NSW Digital Excellence Program</li></ul><h4>Science of man and journal of the Royal Anthropological Society of Australasia</h4><ul><li>State Library of NSW Digital Excellence Program</li></ul><h4>Sitrep (Sydney, N.S.W.)</h4><ul><li>Editor of the Bush Fire Bulletin and the NSW Rural Fire Service Library</li></ul><h4>Sporting times (Sydney, N.S.W. : 1848 : Online)</h4><ul><li>State Library of NSW Digital Excellence Program</li></ul><h4>Tegg's New South Wales pocket almanac and remembrancer</h4><ul><li>State Library of NSW Digital Excellence Program</li></ul><h4>Tegg's monthly magazine</h4><ul><li>State Library of NSW Digital Excellence Program</li></ul><h4>The Australian magazine, or, Compendium of religious, literary, and miscellaneous intelligence</h4><ul><li>State Library of NSW Digital Excellence Program</li></ul><h4>The Australian quarterly journal of theology, literature & science</h4><ul><li>State Library of NSW Digital Excellence Program</li></ul><h4>The Australian temperance magazine</h4><ul><li>State Library of NSW Digital Excellence Program</li></ul><h4>The Australian woman's mirror</h4><ul><li>State Library of NSW Digital Excellence Program</li></ul><h4>The Blossom</h4><ul><li>State Library of NSW Digital Excellence Program</li></ul><h4>The Bush brother : a quarterly paper</h4><ul><li>State Library of NSW Digital Excellence Program</li></ul><h4>The Lone hand</h4><ul><li>State Library of NSW Digital Excellence Program</li></ul><h4>The New South Wales Aborigines' advocate : a monthly record of missionary work amongst the Aborigines / issued under the auspices of the N.S.W. Aborigines' Mission</h4><ul><li>State Library of NSW Digital Excellence Program</li></ul><h4>The New South Wales Post Office directory</h4><ul><li>State Library of NSW Digital Excellence Program</li></ul><h4>The New South Wales school magazine of literature for our boys and girls</h4><ul><li>Chris Edye</li><li>NSW Dept. of Education</li><li>The School Magazine</li></ul><h4>The South-Asian register</h4><ul><li>State Library of NSW Digital Excellence Program</li></ul><h4>The Sydney coronal / By Charles M'Donald</h4><ul><li>State Library of NSW Digital Excellence Program</li></ul><h4>The Sydney once a week magazine</h4><ul><li>State Library of NSW Digital Excellence Program</li></ul><h4>The United Aborigines messenger</h4><ul><li>State Library of NSW Digital Excellence Program</li></ul><h4>The bulletin</h4><ul><li>AustLit, The University of Queensland</li><li>State Library of New South Wales</li><li>State Library of Victoria</li></ul><h4>The school magazine of literature for our boys and girls / the Department of Education, New South Wales</h4><ul><li>Chris Edye</li><li>NSW Dept. of Education</li><li>The School Magazine</li></ul><h4>The wireless weekly : the hundred per cent Australian radio journal / -1943</h4><ul><li>Bob Maynard</li></ul><h4>Uniken</h4><ul><li>UNSW Australia</li></ul><h4>Vision : a literary quarterly / edited by Frank C. Johnson, Jack Lindsay and Kenneth Slessor</h4><ul><li>State Library of NSW Digital Excellence Program</li></ul><h4>Walkabout (Melbourne, Vic.)</h4><ul><li>The University of Queensland through a Humanities and Social Sciences Partnership Grant; annotated bibliography supported by the Australian Research Council (DP0984449).</li></ul><h4>Will o' the wisp (Online)</h4><ul><li>State Library of New South Wales</li></ul><h4>Wise's New South Wales post office directory</h4><ul><li>State Library of NSW Digital Excellence Program</li></ul><h4>[Magazine] / Daramalan College</h4><ul><li>Daramalan College</li></ul><h4>[Magazine] / Northern Peninsula Area State College</h4><ul><li>Northern Peninsula Area State College</li></ul>"
      ],
      "text/plain": [
       "<IPython.core.display.HTML object>"
      ]
     },
     "metadata": {},
     "output_type": "display_data"
    }
   ],
   "source": [
    "titles = dfs.groupby('title')\n",
    "html = ''\n",
    "for title, supporters in titles:\n",
    "    html += '<h4>{}</h4><ul>'.format(title)\n",
    "    for supporter in supporters.itertuples():\n",
    "        html += '<li>{}</li>'.format(supporter.supporter)  \n",
    "    html += '</ul>'\n",
    "display(HTML(html))"
   ]
  },
  {
   "cell_type": "code",
   "execution_count": null,
   "metadata": {},
   "outputs": [],
   "source": []
  }
 ],
 "metadata": {
  "kernelspec": {
   "display_name": "Python 3",
   "language": "python",
   "name": "python3"
  },
  "language_info": {
   "codemirror_mode": {
    "name": "ipython",
    "version": 3
   },
   "file_extension": ".py",
   "mimetype": "text/x-python",
   "name": "python",
   "nbconvert_exporter": "python",
   "pygments_lexer": "ipython3",
   "version": "3.7.3"
  }
 },
 "nbformat": 4,
 "nbformat_minor": 2
}
