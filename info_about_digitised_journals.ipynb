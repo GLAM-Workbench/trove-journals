{
 "cells": [
  {
   "cell_type": "markdown",
   "metadata": {},
   "source": [
    "# Information about Trove's digitised journals\n",
    "\n",
    "This notebook explores metadata created by a [harvest of digitised journals in Trove](Download-text-for-all-digitised-journals.ipynb). It downloads and analyses title and issue data saved as CSV files as part of the harvesting process."
   ]
  },
  {
   "cell_type": "code",
   "execution_count": 125,
   "metadata": {},
   "outputs": [
    {
     "data": {
      "text/plain": [
       "DataTransformerRegistry.enable('json')"
      ]
     },
     "execution_count": 125,
     "metadata": {},
     "output_type": "execute_result"
    }
   ],
   "source": [
    "import re\n",
    "from io import BytesIO\n",
    "import pandas as pd\n",
    "import requests\n",
    "from tqdm.auto import tqdm\n",
    "import altair as alt\n",
    "\n",
    "alt.data_transformers.enable('json')"
   ]
  },
  {
   "cell_type": "markdown",
   "metadata": {},
   "source": [
    "## Load the titles data\n",
    "\n",
    "Summary information about digitised journals was [created by this notebook](Create-digitised-journals-list.ipynb). Additional information was added when [OCRd text was downloaded](Download-text-for-all-digitised-journals.ipynb) from each of the journals. Here we load the CSV file that was created by this process and see what we can find."
   ]
  },
  {
   "cell_type": "code",
   "execution_count": 126,
   "metadata": {},
   "outputs": [],
   "source": [
    "df = pd.read_csv('digital-journals-with-text.csv', dtype={'issues_with_text': 'int', 'issues': 'int'})"
   ]
  },
  {
   "cell_type": "code",
   "execution_count": 127,
   "metadata": {},
   "outputs": [
    {
     "data": {
      "text/html": [
       "<div>\n",
       "<style scoped>\n",
       "    .dataframe tbody tr th:only-of-type {\n",
       "        vertical-align: middle;\n",
       "    }\n",
       "\n",
       "    .dataframe tbody tr th {\n",
       "        vertical-align: top;\n",
       "    }\n",
       "\n",
       "    .dataframe thead th {\n",
       "        text-align: right;\n",
       "    }\n",
       "</style>\n",
       "<table border=\"1\" class=\"dataframe\">\n",
       "  <thead>\n",
       "    <tr style=\"text-align: right;\">\n",
       "      <th></th>\n",
       "      <th>directory</th>\n",
       "      <th>fulltext_url</th>\n",
       "      <th>issues</th>\n",
       "      <th>issues_with_text</th>\n",
       "      <th>title</th>\n",
       "      <th>trove_id</th>\n",
       "      <th>trove_url</th>\n",
       "    </tr>\n",
       "  </thead>\n",
       "  <tbody>\n",
       "    <tr>\n",
       "      <th>0</th>\n",
       "      <td>laws-etc-acts-of-the-parliament-nla.obj-54127737</td>\n",
       "      <td>http://nla.gov.au/nla.obj-54127737</td>\n",
       "      <td>15</td>\n",
       "      <td>15</td>\n",
       "      <td>Laws, etc. (Acts of the Parliament)</td>\n",
       "      <td>nla.obj-54127737</td>\n",
       "      <td>https://trove.nla.gov.au/work/10078182</td>\n",
       "    </tr>\n",
       "    <tr>\n",
       "      <th>1</th>\n",
       "      <td>laws-etc-nla.obj-55312521</td>\n",
       "      <td>http://nla.gov.au/nla.obj-55312521</td>\n",
       "      <td>23</td>\n",
       "      <td>0</td>\n",
       "      <td>Laws, etc</td>\n",
       "      <td>nla.obj-55312521</td>\n",
       "      <td>https://trove.nla.gov.au/work/10278751</td>\n",
       "    </tr>\n",
       "    <tr>\n",
       "      <th>2</th>\n",
       "      <td>parliamentary-papers-printed-during-the-nla.ob...</td>\n",
       "      <td>http://nla.gov.au/nla.obj-53867668</td>\n",
       "      <td>17</td>\n",
       "      <td>17</td>\n",
       "      <td>Parliamentary papers : printed during the ... ...</td>\n",
       "      <td>nla.obj-53867668</td>\n",
       "      <td>https://trove.nla.gov.au/work/10327501</td>\n",
       "    </tr>\n",
       "    <tr>\n",
       "      <th>3</th>\n",
       "      <td>the-order-of-service-for-the-annual-festival-t...</td>\n",
       "      <td>http://nla.gov.au/nla.obj-657473276</td>\n",
       "      <td>10</td>\n",
       "      <td>10</td>\n",
       "      <td>The Order of service for the annual festival t...</td>\n",
       "      <td>nla.obj-657473276</td>\n",
       "      <td>https://trove.nla.gov.au/work/10388163</td>\n",
       "    </tr>\n",
       "    <tr>\n",
       "      <th>4</th>\n",
       "      <td>journal-of-soil-conservation-new-south-wales-n...</td>\n",
       "      <td>http://nla.gov.au/nla.obj-740911077</td>\n",
       "      <td>183</td>\n",
       "      <td>183</td>\n",
       "      <td>Journal of soil conservation, New South Wales</td>\n",
       "      <td>nla.obj-740911077</td>\n",
       "      <td>https://trove.nla.gov.au/work/10411388</td>\n",
       "    </tr>\n",
       "  </tbody>\n",
       "</table>\n",
       "</div>"
      ],
      "text/plain": [
       "                                           directory  \\\n",
       "0   laws-etc-acts-of-the-parliament-nla.obj-54127737   \n",
       "1                          laws-etc-nla.obj-55312521   \n",
       "2  parliamentary-papers-printed-during-the-nla.ob...   \n",
       "3  the-order-of-service-for-the-annual-festival-t...   \n",
       "4  journal-of-soil-conservation-new-south-wales-n...   \n",
       "\n",
       "                          fulltext_url  issues  issues_with_text  \\\n",
       "0   http://nla.gov.au/nla.obj-54127737      15                15   \n",
       "1   http://nla.gov.au/nla.obj-55312521      23                 0   \n",
       "2   http://nla.gov.au/nla.obj-53867668      17                17   \n",
       "3  http://nla.gov.au/nla.obj-657473276      10                10   \n",
       "4  http://nla.gov.au/nla.obj-740911077     183               183   \n",
       "\n",
       "                                               title           trove_id  \\\n",
       "0                Laws, etc. (Acts of the Parliament)   nla.obj-54127737   \n",
       "1                                          Laws, etc   nla.obj-55312521   \n",
       "2  Parliamentary papers : printed during the ... ...   nla.obj-53867668   \n",
       "3  The Order of service for the annual festival t...  nla.obj-657473276   \n",
       "4      Journal of soil conservation, New South Wales  nla.obj-740911077   \n",
       "\n",
       "                                trove_url  \n",
       "0  https://trove.nla.gov.au/work/10078182  \n",
       "1  https://trove.nla.gov.au/work/10278751  \n",
       "2  https://trove.nla.gov.au/work/10327501  \n",
       "3  https://trove.nla.gov.au/work/10388163  \n",
       "4  https://trove.nla.gov.au/work/10411388  "
      ]
     },
     "execution_count": 127,
     "metadata": {},
     "output_type": "execute_result"
    }
   ],
   "source": [
    "df.head()"
   ]
  },
  {
   "cell_type": "markdown",
   "metadata": {},
   "source": [
    "How many journals have OCRd text?"
   ]
  },
  {
   "cell_type": "code",
   "execution_count": 128,
   "metadata": {},
   "outputs": [
    {
     "data": {
      "text/plain": [
       "(383, 7)"
      ]
     },
     "execution_count": 128,
     "metadata": {},
     "output_type": "execute_result"
    }
   ],
   "source": [
    "df_text = df.loc[df['issues_with_text'] > 0]\n",
    "df_text.shape"
   ]
  },
  {
   "cell_type": "markdown",
   "metadata": {},
   "source": [
    "How many journal issues have OCRd text?"
   ]
  },
  {
   "cell_type": "code",
   "execution_count": 129,
   "metadata": {},
   "outputs": [
    {
     "data": {
      "text/plain": [
       "30462"
      ]
     },
     "execution_count": 129,
     "metadata": {},
     "output_type": "execute_result"
    }
   ],
   "source": [
    "df_text['issues_with_text'].sum()"
   ]
  },
  {
   "cell_type": "markdown",
   "metadata": {},
   "source": [
    "## Get data about all issues\n",
    "\n",
    "Information about the issues available for each individual journal are available from a repository of the harvested journals on CloudStor. Here we download CSV files from each journal and combine them into one DataFrame."
   ]
  },
  {
   "cell_type": "code",
   "execution_count": 130,
   "metadata": {},
   "outputs": [
    {
     "data": {
      "application/vnd.jupyter.widget-view+json": {
       "model_id": "cca26f7d346d4ffd85741da0c57b1076",
       "version_major": 2,
       "version_minor": 0
      },
      "text/plain": [
       "HBox(children=(IntProgress(value=0, max=383), HTML(value='')))"
      ]
     },
     "metadata": {},
     "output_type": "display_data"
    },
    {
     "name": "stdout",
     "output_type": "stream",
     "text": [
      "\n"
     ]
    }
   ],
   "source": [
    "# Public link to CloudStor repo\n",
    "cloudstor_url = 'https://cloudstor.aarnet.edu.au/plus/s/QOmnqpGQCNCSC2h'\n",
    "dfs = []\n",
    "\n",
    "# Loop through the journal list\n",
    "for journal in tqdm(df_text.itertuples(), total= df_text.shape[0]):\n",
    "    \n",
    "    # For each journal get the issues list from CloudStor and connvert to a dataframe\n",
    "    j_issues = pd.read_csv('{}/download?path=%2F{}&files={}-issues.csv'.format(cloudstor_url, journal.directory, journal.trove_id), dtype={'pages': 'int'})\n",
    "    \n",
    "    # Add the dataframe to the list\n",
    "    dfs.append(j_issues)\n",
    "\n",
    "# Combine all the dataframes together\n",
    "all_issues = pd.concat(dfs, ignore_index=True)"
   ]
  },
  {
   "cell_type": "markdown",
   "metadata": {},
   "source": [
    "How many issues are there all together?"
   ]
  },
  {
   "cell_type": "code",
   "execution_count": 131,
   "metadata": {},
   "outputs": [
    {
     "data": {
      "text/plain": [
       "(31216, 5)"
      ]
     },
     "execution_count": 131,
     "metadata": {},
     "output_type": "execute_result"
    }
   ],
   "source": [
    "all_issues.shape"
   ]
  },
  {
   "cell_type": "markdown",
   "metadata": {},
   "source": [
    "How many digitised pages are there for all issues of all journals?"
   ]
  },
  {
   "cell_type": "code",
   "execution_count": 132,
   "metadata": {},
   "outputs": [
    {
     "data": {
      "text/plain": [
       "1472030"
      ]
     },
     "execution_count": 132,
     "metadata": {},
     "output_type": "execute_result"
    }
   ],
   "source": [
    "all_issues['pages'].sum()"
   ]
  },
  {
   "cell_type": "markdown",
   "metadata": {},
   "source": [
    "## Number of issues per year\n",
    "\n",
    "The issue filenames include the basic publication details extracted from Trove. Usually this includes a publication date. We can try to extract a year from the filename and use it to visualise the number of issues published over time. Note that because of variations in the way the metadata is recorded, extracting a year isn't always successful, and sometimes a string of digits that looks like a year might be an issue number. It's not perfect, but it seems fairly effective."
   ]
  },
  {
   "cell_type": "code",
   "execution_count": 133,
   "metadata": {},
   "outputs": [],
   "source": [
    "def extract_year(details):\n",
    "    '''\n",
    "    Try to extract a year value from a file name.\n",
    "    '''\n",
    "    # Get all the things that look like years from the file name\n",
    "    years = [int(y) for y in re.findall(r'\\b((?:18|19|20){1}\\d{2}\\b)', str(details)) if int(y) <= 2019]\n",
    "    \n",
    "    # If we found some\n",
    "    if years:\n",
    "        \n",
    "        # Take the last one -- this is because issue numbers generally seem to appear before dates.\n",
    "        year = years[-1]\n",
    "    else:\n",
    "        \n",
    "        # Nothing found, set to zero\n",
    "        year = 0\n",
    "    return year\n",
    "\n",
    "# Apply the extract_year function to each row in the issues dataframe, saving the results to a new column\n",
    "all_issues['year'] = all_issues['details'].apply(lambda x: extract_year(x))"
   ]
  },
  {
   "cell_type": "code",
   "execution_count": 134,
   "metadata": {},
   "outputs": [
    {
     "data": {
      "text/html": [
       "<div>\n",
       "<style scoped>\n",
       "    .dataframe tbody tr th:only-of-type {\n",
       "        vertical-align: middle;\n",
       "    }\n",
       "\n",
       "    .dataframe tbody tr th {\n",
       "        vertical-align: top;\n",
       "    }\n",
       "\n",
       "    .dataframe thead th {\n",
       "        text-align: right;\n",
       "    }\n",
       "</style>\n",
       "<table border=\"1\" class=\"dataframe\">\n",
       "  <thead>\n",
       "    <tr style=\"text-align: right;\">\n",
       "      <th></th>\n",
       "      <th>details</th>\n",
       "      <th>id</th>\n",
       "      <th>pages</th>\n",
       "      <th>text_file</th>\n",
       "      <th>title</th>\n",
       "      <th>year</th>\n",
       "    </tr>\n",
       "  </thead>\n",
       "  <tbody>\n",
       "    <tr>\n",
       "      <th>0</th>\n",
       "      <td>Children's Court Act 1906</td>\n",
       "      <td>nla.obj-54127745</td>\n",
       "      <td>14</td>\n",
       "      <td>acts-of-the-parliament-passed-in-the-first-yea...</td>\n",
       "      <td>Acts of the Parliament : passed in the first y...</td>\n",
       "      <td>1906</td>\n",
       "    </tr>\n",
       "    <tr>\n",
       "      <th>1</th>\n",
       "      <td>Neglected Children's Act 1915</td>\n",
       "      <td>nla.obj-54127759</td>\n",
       "      <td>23</td>\n",
       "      <td>acts-of-the-parliament-passed-in-the-first-yea...</td>\n",
       "      <td>Acts of the Parliament : passed in the first y...</td>\n",
       "      <td>1915</td>\n",
       "    </tr>\n",
       "    <tr>\n",
       "      <th>2</th>\n",
       "      <td>Infant Life Protection Act 1915</td>\n",
       "      <td>nla.obj-54127768</td>\n",
       "      <td>13</td>\n",
       "      <td>acts-of-the-parliament-passed-in-the-first-yea...</td>\n",
       "      <td>Acts of the Parliament : passed in the first y...</td>\n",
       "      <td>1915</td>\n",
       "    </tr>\n",
       "    <tr>\n",
       "      <th>3</th>\n",
       "      <td>Children's Maintenance Act 1919</td>\n",
       "      <td>nla.obj-54127776</td>\n",
       "      <td>10</td>\n",
       "      <td>acts-of-the-parliament-passed-in-the-first-yea...</td>\n",
       "      <td>Acts of the Parliament : passed in the first y...</td>\n",
       "      <td>1919</td>\n",
       "    </tr>\n",
       "    <tr>\n",
       "      <th>4</th>\n",
       "      <td>Children's Welfare Act 1928</td>\n",
       "      <td>nla.obj-54127784</td>\n",
       "      <td>36</td>\n",
       "      <td>acts-of-the-parliament-passed-in-the-first-yea...</td>\n",
       "      <td>Acts of the Parliament : passed in the first y...</td>\n",
       "      <td>1928</td>\n",
       "    </tr>\n",
       "  </tbody>\n",
       "</table>\n",
       "</div>"
      ],
      "text/plain": [
       "                           details                id  pages  \\\n",
       "0        Children's Court Act 1906  nla.obj-54127745     14   \n",
       "1    Neglected Children's Act 1915  nla.obj-54127759     23   \n",
       "2  Infant Life Protection Act 1915  nla.obj-54127768     13   \n",
       "3  Children's Maintenance Act 1919  nla.obj-54127776     10   \n",
       "4      Children's Welfare Act 1928  nla.obj-54127784     36   \n",
       "\n",
       "                                           text_file  \\\n",
       "0  acts-of-the-parliament-passed-in-the-first-yea...   \n",
       "1  acts-of-the-parliament-passed-in-the-first-yea...   \n",
       "2  acts-of-the-parliament-passed-in-the-first-yea...   \n",
       "3  acts-of-the-parliament-passed-in-the-first-yea...   \n",
       "4  acts-of-the-parliament-passed-in-the-first-yea...   \n",
       "\n",
       "                                               title  year  \n",
       "0  Acts of the Parliament : passed in the first y...  1906  \n",
       "1  Acts of the Parliament : passed in the first y...  1915  \n",
       "2  Acts of the Parliament : passed in the first y...  1915  \n",
       "3  Acts of the Parliament : passed in the first y...  1919  \n",
       "4  Acts of the Parliament : passed in the first y...  1928  "
      ]
     },
     "execution_count": 134,
     "metadata": {},
     "output_type": "execute_result"
    }
   ],
   "source": [
    "# Have a peek at the results\n",
    "all_issues.head()"
   ]
  },
  {
   "cell_type": "markdown",
   "metadata": {},
   "source": [
    "Let's create a simple chart showing the number of issues over time."
   ]
  },
  {
   "cell_type": "code",
   "execution_count": 135,
   "metadata": {},
   "outputs": [
    {
     "data": {
      "application/vnd.vegalite.v3+json": {
       "$schema": "https://vega.github.io/schema/vega-lite/v3.3.0.json",
       "config": {
        "mark": {
         "tooltip": null
        },
        "view": {
         "height": 300,
         "width": 400
        }
       },
       "data": {
        "format": {
         "type": "json"
        },
        "url": "altair-data-b504f8af059c885b711adc081de427da.json"
       },
       "encoding": {
        "x": {
         "bin": {
          "maxbins": 50
         },
         "field": "year",
         "title": "Year",
         "type": "nominal"
        },
        "y": {
         "aggregate": "count",
         "title": "Number of issues",
         "type": "quantitative"
        }
       },
       "mark": "bar"
      },
      "image/png": "[encoded data removed]",
      "text/plain": [
       "<VegaLite 3 object>\n",
       "\n",
       "If you see this message, it means the renderer has not been properly enabled\n",
       "for the frontend that you are using. For more information, see\n",
       "https://altair-viz.github.io/user_guide/troubleshooting.html\n"
      ]
     },
     "execution_count": 135,
     "metadata": {},
     "output_type": "execute_result"
    }
   ],
   "source": [
    "alt.Chart(all_issues.loc[all_issues['year'] > 0]).mark_bar().encode(\n",
    "    \n",
    "    # Year on the X axis -- bin the values to make it more readable\n",
    "    x=alt.X('year:N',  bin=alt.Bin(maxbins=50), title='Year'),\n",
    "    \n",
    "    # Number of issues on the Y axis\n",
    "    y=alt.Y('count():Q', title='Number of issues')\n",
    ")"
   ]
  }
 ],
 "metadata": {
  "kernelspec": {
   "display_name": "Python 3",
   "language": "python",
   "name": "python3"
  },
  "language_info": {
   "codemirror_mode": {
    "name": "ipython",
    "version": 3
   },
   "file_extension": ".py",
   "mimetype": "text/x-python",
   "name": "python",
   "nbconvert_exporter": "python",
   "pygments_lexer": "ipython3",
   "version": "3.7.3"
  }
 },
 "nbformat": 4,
 "nbformat_minor": 4
}
