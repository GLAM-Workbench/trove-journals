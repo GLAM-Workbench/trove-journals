{
 "cells": [
  {
   "cell_type": "markdown",
   "id": "29eb0dc4-e314-4126-a0b0-e0ca54da994a",
   "metadata": {
    "editable": true,
    "slideshow": {
     "slide_type": ""
    },
    "tags": []
   },
   "source": [
    "# Get details of periodicals from the `/magazine/titles` API endpoint\n",
    "\n",
    "Version 3 of the Trove API introduced a new `/magazine/titles` endpoint to deliver information about digitised periodicals (other than newspapers). Previously you had to try and construct a search for periodicals and then scrape the Trove website to get a list of issues. However, the API in its current form has a number of problems:\n",
    "\n",
    "- many duplicate records\n",
    "- includes many Parliamentary Papers\n",
    "- lists of issues can be incomplete\n",
    "\n",
    "This notebook uses the `/magazine/titles` endpoint to get details of titles and issues. It then tries to fix these problems by removing duplicates and Parliamentary Papers, and checking the lists of issues against those scraped from the Trove website."
   ]
  },
  {
   "cell_type": "code",
   "execution_count": 29,
   "id": "852f9a96-3f61-4a6e-85de-dd7c5757709a",
   "metadata": {
    "editable": true,
    "slideshow": {
     "slide_type": ""
    },
    "tags": []
   },
   "outputs": [
    {
     "data": {
      "text/plain": [
       "True"
      ]
     },
     "execution_count": 29,
     "metadata": {},
     "output_type": "execute_result"
    }
   ],
   "source": [
    "# Let's import the libraries we need.\n",
    "import json\n",
    "import os\n",
    "import re\n",
    "import time\n",
    "from datetime import timedelta\n",
    "from pathlib import Path\n",
    "\n",
    "import arrow\n",
    "import pandas as pd\n",
    "import requests_cache\n",
    "from bs4 import BeautifulSoup\n",
    "from dotenv import load_dotenv\n",
    "from requests.adapters import HTTPAdapter\n",
    "from requests.packages.urllib3.util.retry import Retry\n",
    "from tqdm.auto import tqdm\n",
    "\n",
    "s = requests_cache.CachedSession(expire_after=timedelta(days=30))\n",
    "retries = Retry(total=5, backoff_factor=1, status_forcelist=[502, 503, 504])\n",
    "s.mount(\"https://\", HTTPAdapter(max_retries=retries))\n",
    "s.mount(\"http://\", HTTPAdapter(max_retries=retries))\n",
    "\n",
    "load_dotenv()"
   ]
  },
  {
   "cell_type": "code",
   "execution_count": 30,
   "id": "b343cc5d-e588-49d0-81f0-0f59f7c0f5bd",
   "metadata": {
    "editable": true,
    "slideshow": {
     "slide_type": ""
    },
    "tags": []
   },
   "outputs": [],
   "source": [
    "# Insert your Trove API key\n",
    "API_KEY = \"YOUR API KEY\"\n",
    "\n",
    "# Use api key value from environment variables if it is available\n",
    "if os.getenv(\"TROVE_API_KEY\"):\n",
    "    API_KEY = os.getenv(\"TROVE_API_KEY\")"
   ]
  },
  {
   "cell_type": "markdown",
   "id": "f7f06806-51bd-4a5d-817b-f230f0f94226",
   "metadata": {
    "editable": true,
    "slideshow": {
     "slide_type": ""
    },
    "tags": []
   },
   "source": [
    "## Harvest a list of periodical titles from the `/magazine/titles` endpoint"
   ]
  },
  {
   "cell_type": "code",
   "execution_count": 31,
   "id": "70608c84-7219-490a-92f3-e32c1504f0b4",
   "metadata": {
    "editable": true,
    "slideshow": {
     "slide_type": ""
    },
    "tags": []
   },
   "outputs": [],
   "source": [
    "def get_total(params):\n",
    "    \"\"\"\n",
    "    Retrieve the total number of results.\n",
    "    \"\"\"\n",
    "    response = s.get(\n",
    "        \"https://api.trove.nla.gov.au/v3/magazine/titles\",\n",
    "        params=params,\n",
    "        headers={\"X-API-KEY\": API_KEY},\n",
    "    )\n",
    "    data = response.json()\n",
    "    return data[\"total\"]\n",
    "\n",
    "\n",
    "def get_titles():\n",
    "    \"\"\"\n",
    "    Save all records from the /magazine/titles endpoint.\n",
    "    \"\"\"\n",
    "    # Need to use limit and offset for pagination\n",
    "    params = {\"encoding\": \"json\", \"limit\": 100, \"offset\": 0}\n",
    "\n",
    "    headers = {\"X-API-KEY\": API_KEY}\n",
    "\n",
    "    titles = []\n",
    "    more = True\n",
    "\n",
    "    total = get_total(params)\n",
    "    with tqdm(total=total) as pbar:\n",
    "        while more:\n",
    "            response = s.get(\n",
    "                \"https://api.trove.nla.gov.au/v3/magazine/titles\",\n",
    "                params=params,\n",
    "                headers=headers,\n",
    "            )\n",
    "            data = response.json()\n",
    "            if \"magazine\" in data:\n",
    "                titles += data[\"magazine\"]\n",
    "                params[\"offset\"] += 100\n",
    "                pbar.update(len(data[\"magazine\"]))\n",
    "            else:\n",
    "                more = False\n",
    "\n",
    "    return titles"
   ]
  },
  {
   "cell_type": "code",
   "execution_count": null,
   "id": "37fddc0e-c0d1-4482-bf5b-d11a564af807",
   "metadata": {
    "editable": true,
    "slideshow": {
     "slide_type": ""
    },
    "tags": []
   },
   "outputs": [],
   "source": [
    "titles = get_titles()"
   ]
  },
  {
   "cell_type": "markdown",
   "id": "b1fff4fa-51a2-4852-a07f-7a72ff039cf3",
   "metadata": {
    "editable": true,
    "slideshow": {
     "slide_type": ""
    },
    "tags": []
   },
   "source": [
    "## Convert the results to a dataframe\n",
    "\n",
    "We'll convert the harvested results to a dataframe for further processing and analysis."
   ]
  },
  {
   "cell_type": "code",
   "execution_count": 33,
   "id": "ca324507-2972-4048-b1da-fd8a4d225d5f",
   "metadata": {
    "editable": true,
    "slideshow": {
     "slide_type": ""
    },
    "tags": []
   },
   "outputs": [
    {
     "data": {
      "text/html": [
       "<div>\n",
       "<style scoped>\n",
       "    .dataframe tbody tr th:only-of-type {\n",
       "        vertical-align: middle;\n",
       "    }\n",
       "\n",
       "    .dataframe tbody tr th {\n",
       "        vertical-align: top;\n",
       "    }\n",
       "\n",
       "    .dataframe thead th {\n",
       "        text-align: right;\n",
       "    }\n",
       "</style>\n",
       "<table border=\"1\" class=\"dataframe\">\n",
       "  <thead>\n",
       "    <tr style=\"text-align: right;\">\n",
       "      <th></th>\n",
       "      <th>id</th>\n",
       "      <th>title</th>\n",
       "      <th>publisher</th>\n",
       "      <th>place</th>\n",
       "      <th>troveUrl</th>\n",
       "      <th>startDate</th>\n",
       "      <th>endDate</th>\n",
       "      <th>issn</th>\n",
       "    </tr>\n",
       "  </thead>\n",
       "  <tbody>\n",
       "    <tr>\n",
       "      <th>0</th>\n",
       "      <td>nla.obj-2526944948</td>\n",
       "      <td>... Annual report of the Canned Fruits Control...</td>\n",
       "      <td>Printed and published for the Government of th...</td>\n",
       "      <td>[Australia]</td>\n",
       "      <td>https://nla.gov.au/nla.obj-2526944948</td>\n",
       "      <td>1927-01-01</td>\n",
       "      <td>1937-06-30</td>\n",
       "      <td>NaN</td>\n",
       "    </tr>\n",
       "    <tr>\n",
       "      <th>1</th>\n",
       "      <td>nla.obj-244631375</td>\n",
       "      <td>... musical cabinet, no. 1-37 by W.H. Glen &amp; C...</td>\n",
       "      <td>W.H. Glen &amp; Co.</td>\n",
       "      <td>NaN</td>\n",
       "      <td>https://nla.gov.au/nla.obj-244631375</td>\n",
       "      <td>NaN</td>\n",
       "      <td>NaN</td>\n",
       "      <td>NaN</td>\n",
       "    </tr>\n",
       "    <tr>\n",
       "      <th>2</th>\n",
       "      <td>nla.obj-243252799</td>\n",
       "      <td>... musical magazine, No. 1-89 by Nicholson, [...</td>\n",
       "      <td>Nicholson &amp; Co.; Nicholson &amp; Ascherberg; some ...</td>\n",
       "      <td>NaN</td>\n",
       "      <td>https://nla.gov.au/nla.obj-243252799</td>\n",
       "      <td>NaN</td>\n",
       "      <td>NaN</td>\n",
       "      <td>NaN</td>\n",
       "    </tr>\n",
       "    <tr>\n",
       "      <th>3</th>\n",
       "      <td>nla.obj-1179844258</td>\n",
       "      <td>... Review</td>\n",
       "      <td>Australian Govt. Pub. Service</td>\n",
       "      <td>[Australia]</td>\n",
       "      <td>https://nla.gov.au/nla.obj-1179844258</td>\n",
       "      <td>1974-01-01</td>\n",
       "      <td>1994-06-30</td>\n",
       "      <td>1034-585X</td>\n",
       "    </tr>\n",
       "    <tr>\n",
       "      <th>4</th>\n",
       "      <td>nla.obj-8423556</td>\n",
       "      <td>\"Coo-ee!\" : the journal of the Bishops Knoll H...</td>\n",
       "      <td>Partridge &amp; Love Ltd.</td>\n",
       "      <td>NaN</td>\n",
       "      <td>https://nla.gov.au/nla.obj-8423556</td>\n",
       "      <td>1916-01-01</td>\n",
       "      <td>1917-10-20</td>\n",
       "      <td>NaN</td>\n",
       "    </tr>\n",
       "  </tbody>\n",
       "</table>\n",
       "</div>"
      ],
      "text/plain": [
       "                   id                                              title  \\\n",
       "0  nla.obj-2526944948  ... Annual report of the Canned Fruits Control...   \n",
       "1   nla.obj-244631375  ... musical cabinet, no. 1-37 by W.H. Glen & C...   \n",
       "2   nla.obj-243252799  ... musical magazine, No. 1-89 by Nicholson, [...   \n",
       "3  nla.obj-1179844258                                         ... Review   \n",
       "4     nla.obj-8423556  \"Coo-ee!\" : the journal of the Bishops Knoll H...   \n",
       "\n",
       "                                           publisher        place  \\\n",
       "0  Printed and published for the Government of th...  [Australia]   \n",
       "1                                    W.H. Glen & Co.          NaN   \n",
       "2  Nicholson & Co.; Nicholson & Ascherberg; some ...          NaN   \n",
       "3                      Australian Govt. Pub. Service  [Australia]   \n",
       "4                              Partridge & Love Ltd.          NaN   \n",
       "\n",
       "                                troveUrl   startDate     endDate       issn  \n",
       "0  https://nla.gov.au/nla.obj-2526944948  1927-01-01  1937-06-30        NaN  \n",
       "1   https://nla.gov.au/nla.obj-244631375         NaN         NaN        NaN  \n",
       "2   https://nla.gov.au/nla.obj-243252799         NaN         NaN        NaN  \n",
       "3  https://nla.gov.au/nla.obj-1179844258  1974-01-01  1994-06-30  1034-585X  \n",
       "4     https://nla.gov.au/nla.obj-8423556  1916-01-01  1917-10-20        NaN  "
      ]
     },
     "execution_count": 33,
     "metadata": {},
     "output_type": "execute_result"
    }
   ],
   "source": [
    "df_titles = pd.DataFrame(titles)\n",
    "df_titles.head()"
   ]
  },
  {
   "cell_type": "markdown",
   "id": "c334450e-32db-45e2-bb48-21cb3c1d45a2",
   "metadata": {
    "editable": true,
    "slideshow": {
     "slide_type": ""
    },
    "tags": []
   },
   "source": [
    "How many titles do we have?"
   ]
  },
  {
   "cell_type": "code",
   "execution_count": 34,
   "id": "6ef6e980-1fdb-4bc6-9fe6-1cca89d16fcd",
   "metadata": {
    "editable": true,
    "slideshow": {
     "slide_type": ""
    },
    "tags": []
   },
   "outputs": [
    {
     "data": {
      "text/plain": [
       "2504"
      ]
     },
     "execution_count": 34,
     "metadata": {},
     "output_type": "execute_result"
    }
   ],
   "source": [
    "df_titles.shape[0]"
   ]
  },
  {
   "cell_type": "markdown",
   "id": "d4bc2f82-c762-4ac1-88d0-c77980559700",
   "metadata": {
    "editable": true,
    "slideshow": {
     "slide_type": ""
    },
    "tags": []
   },
   "source": [
    "## Dealing with duplicates\n",
    "\n",
    "Let's check to see if there are any duplicate title records."
   ]
  },
  {
   "cell_type": "code",
   "execution_count": 35,
   "id": "486d3acf-fee0-4506-8c3b-53a9a76ffc37",
   "metadata": {
    "editable": true,
    "slideshow": {
     "slide_type": ""
    },
    "tags": []
   },
   "outputs": [
    {
     "data": {
      "text/plain": [
       "311"
      ]
     },
     "execution_count": 35,
     "metadata": {},
     "output_type": "execute_result"
    }
   ],
   "source": [
    "df_titles.shape[0] - df_titles[\"id\"].nunique()"
   ]
  },
  {
   "cell_type": "markdown",
   "id": "10bac260-d181-4929-8db9-3d247faa2047",
   "metadata": {
    "editable": true,
    "slideshow": {
     "slide_type": ""
    },
    "tags": []
   },
   "source": [
    "Ok, so let's get rid of the duplicates."
   ]
  },
  {
   "cell_type": "code",
   "execution_count": 36,
   "id": "0e4cbd18-7565-4f6e-ab3f-f7bbf5db77cf",
   "metadata": {
    "editable": true,
    "slideshow": {
     "slide_type": ""
    },
    "tags": []
   },
   "outputs": [],
   "source": [
    "df_titles.drop_duplicates([\"id\"], inplace=True)"
   ]
  },
  {
   "cell_type": "markdown",
   "id": "3e3fbc80-082c-4386-a0d0-a30c4ab13502",
   "metadata": {
    "editable": true,
    "slideshow": {
     "slide_type": ""
    },
    "tags": []
   },
   "source": [
    "How many title records do we have noe?"
   ]
  },
  {
   "cell_type": "code",
   "execution_count": 37,
   "id": "bd32886d-79fc-4ce6-a751-3172fec6ddc5",
   "metadata": {
    "editable": true,
    "slideshow": {
     "slide_type": ""
    },
    "tags": []
   },
   "outputs": [
    {
     "data": {
      "text/plain": [
       "2193"
      ]
     },
     "execution_count": 37,
     "metadata": {},
     "output_type": "execute_result"
    }
   ],
   "source": [
    "df_titles.shape[0]"
   ]
  },
  {
   "cell_type": "markdown",
   "id": "bcb04c39-84fa-4450-b8e5-a53bac0716c0",
   "metadata": {
    "editable": true,
    "slideshow": {
     "slide_type": ""
    },
    "tags": []
   },
   "source": [
    "## Removing Parliamentary Papers\n",
    "\n",
    "If you poke around in the titles data you'll see that it includes a lot of Commonwealth Parliamentary Papers. I think it's better to treat the periodicals and Parliamentary Papers separately, so we'll try and remove the Parliamentary Papers from the dataset.\n",
    "\n",
    "Elsewhere, I've [created a dataset of Parliamentary Papers](https://glam-workbench.net/trove-government/trove-parliamentary-papers-data/). We'll use this to remove them from the periodicals data. First we'll load the Parliamentary Papers harvest into a dataframe."
   ]
  },
  {
   "cell_type": "code",
   "execution_count": 38,
   "id": "ef779e0a-6374-4085-80b8-2ee49d0b8e1c",
   "metadata": {
    "editable": true,
    "slideshow": {
     "slide_type": ""
    },
    "tags": []
   },
   "outputs": [],
   "source": [
    "dfpp = pd.read_csv(\n",
    "    \"https://raw.githubusercontent.com/GLAM-Workbench/trove-parliamentary-papers-data/main/trove-parliamentary-papers.csv\",\n",
    "    keep_default_na=False,\n",
    ")"
   ]
  },
  {
   "cell_type": "markdown",
   "id": "56c61973-dad1-4ca2-b1b7-7d983c3128a3",
   "metadata": {
    "editable": true,
    "slideshow": {
     "slide_type": ""
    },
    "tags": []
   },
   "source": [
    "Next, we'll extract a list of parent identifiers from the Parliamentary Papers data. The parent records should correspond to 'titles' in the periodicals data."
   ]
  },
  {
   "cell_type": "code",
   "execution_count": 39,
   "id": "df992403-7bed-4516-8115-19480cba7a14",
   "metadata": {
    "editable": true,
    "slideshow": {
     "slide_type": ""
    },
    "tags": []
   },
   "outputs": [
    {
     "data": {
      "text/plain": [
       "1654"
      ]
     },
     "execution_count": 39,
     "metadata": {},
     "output_type": "execute_result"
    }
   ],
   "source": [
    "pids = list(\n",
    "    dfpp.loc[dfpp[\"parent\"] != \"\"][\"parent\"]\n",
    "    .str.split(\"|\")\n",
    "    .explode()\n",
    "    .reset_index()[\"parent\"]\n",
    "    .unique()\n",
    ")\n",
    "len(pids)"
   ]
  },
  {
   "cell_type": "markdown",
   "id": "673ccfbc-3d36-49eb-980d-c4821bf399d3",
   "metadata": {
    "editable": true,
    "slideshow": {
     "slide_type": ""
    },
    "tags": []
   },
   "source": [
    "Now we can filter the titles by dropping an whose identifiers appear in the parent ids from the Parliamentary Papers."
   ]
  },
  {
   "cell_type": "code",
   "execution_count": 40,
   "id": "7f73ca10-0dd1-426c-b4f9-20f404c929b2",
   "metadata": {
    "editable": true,
    "slideshow": {
     "slide_type": ""
    },
    "tags": []
   },
   "outputs": [],
   "source": [
    "df_notpp = df_titles.loc[~df_titles[\"id\"].isin(pids)]"
   ]
  },
  {
   "cell_type": "markdown",
   "id": "08070bf9-7a2d-40d8-ab51-cce0a7a3e4b1",
   "metadata": {
    "editable": true,
    "slideshow": {
     "slide_type": ""
    },
    "tags": []
   },
   "source": [
    "How many titles are there now?"
   ]
  },
  {
   "cell_type": "code",
   "execution_count": 41,
   "id": "60ab7757-310f-4b57-bed5-5b12eb519791",
   "metadata": {
    "editable": true,
    "slideshow": {
     "slide_type": ""
    },
    "tags": []
   },
   "outputs": [
    {
     "data": {
      "text/plain": [
       "949"
      ]
     },
     "execution_count": 41,
     "metadata": {},
     "output_type": "execute_result"
    }
   ],
   "source": [
    "df_notpp.shape[0]"
   ]
  },
  {
   "cell_type": "markdown",
   "id": "8b2d5da8-08d5-40a4-9780-4aaee40bf295",
   "metadata": {
    "editable": true,
    "slideshow": {
     "slide_type": ""
    },
    "tags": []
   },
   "source": [
    "## Getting a list of issues for each title\n",
    "\n",
    "You can get additional information about a periodical by making a request to `/magazine/title/[TITLE IDj id]`. In particular, by setting the `include` parameter to `years` and providing a date range using the `range` parameter you can get a list of issues from that periodical within the supplied date range. However, there's [a bug](https://github.com/GLAM-Workbench/trove-api-intro/issues/49#issuecomment-1818005901) in the API that means issues that don't have a date are excluded from the results. There's also some titles that don't seem to have any issues.\n",
    "\n",
    "The code below harvests the available issue data and saves it into the titles dataset. It also adds a count of the issues without dates that are missing from the results."
   ]
  },
  {
   "cell_type": "code",
   "execution_count": 42,
   "id": "5bf5873e-d502-4a8c-a25e-c6be0c96833a",
   "metadata": {
    "editable": true,
    "slideshow": {
     "slide_type": ""
    },
    "tags": []
   },
   "outputs": [],
   "source": [
    "def get_periodical_issues(df, output_file=\"titles-issues.ndjson\"):\n",
    "    \"\"\"\n",
    "    Work through the list of titles harvesting details of available issues.\n",
    "    \"\"\"\n",
    "    params = {\"encoding\": \"json\", \"include\": \"years\"}\n",
    "    headers = {\"X-API-KEY\": API_KEY}\n",
    "\n",
    "    # File in which the data will be saved\n",
    "    output_ndjson = Path(output_file)\n",
    "    output_ndjson.unlink(missing_ok=True)\n",
    "\n",
    "    for title in tqdm(df.itertuples(), total=df.shape[0]):\n",
    "        # For each title use the include=years parameter to get the number of issues per year.\n",
    "        response = s.get(\n",
    "            f\"https://api.trove.nla.gov.au/v3/magazine/title/{title.id}\",\n",
    "            params=params,\n",
    "            headers=headers,\n",
    "        )\n",
    "        data = response.json()\n",
    "        years = []\n",
    "        unknown_dates = 0\n",
    "        issue_count = 0\n",
    "        issues = []\n",
    "        ranges = []\n",
    "        start_year = None\n",
    "        end_year = None\n",
    "        # Loop through the years in which issues were published\n",
    "        for year in data.get(\"year\", []):\n",
    "            # If the year is 'unknown' add to the unknown dates count\n",
    "            if year[\"date\"] == \"unknown\":\n",
    "                unknown_dates += int(year[\"issuecount\"])\n",
    "            # Otherwise add to the list of years\n",
    "            else:\n",
    "                issue_count += int(year[\"issuecount\"])\n",
    "                years.append(int(year[\"date\"]))\n",
    "        # print(years)\n",
    "        # If the list of years isn't empty, get the start and end of the date range\n",
    "        if years:\n",
    "            years_sorted = sorted(years)\n",
    "            start_year = years_sorted[0]\n",
    "            end_year = years_sorted[-1]\n",
    "        # If we have dates and the number of issues is large, split up the date range into blocks of 10 years\n",
    "        # These numbers are pretty arbitrary, it's just to avoid requesting details of thousands of issues in one hit\n",
    "        if years and issue_count > 500:\n",
    "            for r in range(start_year, end_year + 1, 10):\n",
    "                ranges.append(f\"{r}0101-{r+9}1231\")\n",
    "        # Otherwise just construct a single date range from the start and end dates\n",
    "        else:\n",
    "            ranges.append(f\"{start_year}0101-{end_year}1231\")\n",
    "        # For each date range request a list of issues\n",
    "        for date_range in ranges:\n",
    "            issue_params = params.copy()\n",
    "            issue_params[\"range\"] = date_range\n",
    "            issue_response = s.get(\n",
    "                f\"https://api.trove.nla.gov.au/v3/magazine/title/{title.id}\",\n",
    "                params=issue_params,\n",
    "                headers=headers,\n",
    "            )\n",
    "            issue_data = issue_response.json()\n",
    "            # Loop through the issue data saving it to issues\n",
    "            for year in issue_data.get(\"year\", []):\n",
    "                issues += year.get(\"issue\", [])\n",
    "        # Update the dataset with the issue values\n",
    "        data[\"start_year\"] = start_year\n",
    "        data[\"end_year\"] = end_year\n",
    "        data[\"issue_count\"] = issue_count\n",
    "        data[\"unknown_dates\"] = unknown_dates\n",
    "        data.pop(\"year\", None)\n",
    "        data[\"issues\"] = issues\n",
    "        # Write the updated data to an ndjson file\n",
    "        with output_ndjson.open(\"a\") as titles_file:\n",
    "            titles_file.write(json.dumps(data) + \"\\n\")"
   ]
  },
  {
   "cell_type": "code",
   "execution_count": null,
   "id": "c8da2742-68a1-4362-9209-ce1880dbf593",
   "metadata": {
    "editable": true,
    "slideshow": {
     "slide_type": ""
    },
    "tags": [
     "nbval-skip"
    ]
   },
   "outputs": [],
   "source": [
    "get_periodical_issues(df_notpp)"
   ]
  },
  {
   "cell_type": "markdown",
   "id": "2891f28c-f3a2-40ed-b74d-266f2593528f",
   "metadata": {
    "editable": true,
    "slideshow": {
     "slide_type": ""
    },
    "tags": []
   },
   "source": [
    "Let's load the full dataset that now includes all the issues."
   ]
  },
  {
   "cell_type": "code",
   "execution_count": 44,
   "id": "1cac6069-8b71-4b12-818c-81ba35b4caba",
   "metadata": {
    "editable": true,
    "slideshow": {
     "slide_type": ""
    },
    "tags": [
     "nbval-skip"
    ]
   },
   "outputs": [],
   "source": [
    "df_issues = pd.read_json(\"titles-issues.ndjson\", lines=True)"
   ]
  },
  {
   "cell_type": "markdown",
   "id": "503cb717-2b93-4d96-9ba6-81fed14a5842",
   "metadata": {
    "editable": true,
    "slideshow": {
     "slide_type": ""
    },
    "tags": []
   },
   "source": [
    "How many issues are there?"
   ]
  },
  {
   "cell_type": "code",
   "execution_count": 45,
   "id": "4beb84a0-db0f-4c50-b848-83c171067acb",
   "metadata": {
    "editable": true,
    "slideshow": {
     "slide_type": ""
    },
    "tags": [
     "nbval-skip"
    ]
   },
   "outputs": [
    {
     "data": {
      "text/plain": [
       "36554"
      ]
     },
     "execution_count": 45,
     "metadata": {},
     "output_type": "execute_result"
    }
   ],
   "source": [
    "df_issues[\"issue_count\"].sum()"
   ]
  },
  {
   "cell_type": "markdown",
   "id": "9e87075b-5f07-4df6-9107-97bacd911f7a",
   "metadata": {
    "editable": true,
    "slideshow": {
     "slide_type": ""
    },
    "tags": []
   },
   "source": [
    "How many issues with unknown dates are there? These issues will be missing from the data."
   ]
  },
  {
   "cell_type": "code",
   "execution_count": 46,
   "id": "2e266a77-fa11-4fc5-935e-8dceee58f01f",
   "metadata": {
    "editable": true,
    "slideshow": {
     "slide_type": ""
    },
    "tags": [
     "nbval-skip"
    ]
   },
   "outputs": [
    {
     "data": {
      "text/plain": [
       "727"
      ]
     },
     "execution_count": 46,
     "metadata": {},
     "output_type": "execute_result"
    }
   ],
   "source": [
    "df_issues[\"unknown_dates\"].sum()"
   ]
  },
  {
   "cell_type": "markdown",
   "id": "92c41c32-11d3-492f-be97-312dcff1225b",
   "metadata": {
    "editable": true,
    "slideshow": {
     "slide_type": ""
    },
    "tags": []
   },
   "source": [
    "How many issues should we have?"
   ]
  },
  {
   "cell_type": "code",
   "execution_count": 49,
   "id": "49566ea7-ccaf-4d92-ab4b-dc5454486e2e",
   "metadata": {
    "editable": true,
    "slideshow": {
     "slide_type": ""
    },
    "tags": [
     "nbval-skip"
    ]
   },
   "outputs": [
    {
     "data": {
      "text/plain": [
       "37281"
      ]
     },
     "execution_count": 49,
     "metadata": {},
     "output_type": "execute_result"
    }
   ],
   "source": [
    "df_issues[\"issue_count\"].sum() + df_issues[\"unknown_dates\"].sum()"
   ]
  },
  {
   "cell_type": "markdown",
   "id": "6a81ac96-950e-486d-9057-f3d9838514b5",
   "metadata": {
    "editable": true,
    "slideshow": {
     "slide_type": ""
    },
    "tags": []
   },
   "source": [
    "How many titles don't have any issues?"
   ]
  },
  {
   "cell_type": "code",
   "execution_count": 50,
   "id": "026f7a9d-02e2-4d26-90db-2fb32f2728c0",
   "metadata": {
    "editable": true,
    "slideshow": {
     "slide_type": ""
    },
    "tags": [
     "nbval-skip"
    ]
   },
   "outputs": [
    {
     "data": {
      "text/plain": [
       "110"
      ]
     },
     "execution_count": 50,
     "metadata": {},
     "output_type": "execute_result"
    }
   ],
   "source": [
    "df_issues.loc[\n",
    "    (df_issues[\"issue_count\"] == 0) & (df_issues[\"unknown_dates\"] == 0)\n",
    "].shape[0]"
   ]
  },
  {
   "cell_type": "markdown",
   "id": "81238067-b7e3-4f74-8a39-e0386108d0f6",
   "metadata": {
    "editable": true,
    "slideshow": {
     "slide_type": ""
    },
    "tags": []
   },
   "source": [
    "How many titles have missing issues?"
   ]
  },
  {
   "cell_type": "code",
   "execution_count": 51,
   "id": "09fd6d0b-9b51-482d-8f18-03e21c0f3642",
   "metadata": {
    "editable": true,
    "slideshow": {
     "slide_type": ""
    },
    "tags": [
     "nbval-skip"
    ]
   },
   "outputs": [
    {
     "data": {
      "text/plain": [
       "123"
      ]
     },
     "execution_count": 51,
     "metadata": {},
     "output_type": "execute_result"
    }
   ],
   "source": [
    "df_issues.loc[df_issues[\"unknown_dates\"] != 0].shape[0]"
   ]
  },
  {
   "cell_type": "markdown",
   "id": "851ee96b-c026-40ab-a73c-f1cd3177a7a3",
   "metadata": {
    "editable": true,
    "slideshow": {
     "slide_type": ""
    },
    "tags": []
   },
   "source": [
    "## Find missing issues\n",
    "\n",
    "From the information above we can see that at least 727 issues from 123 titles are missing. There's also another 110 titles that don't have any issues listed. Hopefully the problems with the API will fixed at some point, but for now we have to try and fill in the gaps.\n",
    "\n",
    "One way to do this is to scrape the list of issues from the digital collection viewer and compare this to the list of issues available from the API. Of course, we could completely dump the API results and just use the scraped data, but when (if?) the API is fixed I'm hoping this step can be removed."
   ]
  },
  {
   "cell_type": "code",
   "execution_count": 52,
   "id": "9306e80a-892b-431c-ac39-549405d79357",
   "metadata": {
    "editable": true,
    "slideshow": {
     "slide_type": ""
    },
    "tags": []
   },
   "outputs": [],
   "source": [
    "def get_metadata(id):\n",
    "    \"\"\"\n",
    "    Extract work data in a JSON string from the work's HTML page.\n",
    "    \"\"\"\n",
    "    if not id.startswith(\"http\"):\n",
    "        id = \"https://nla.gov.au/\" + id\n",
    "    response = s.get(id)\n",
    "    try:\n",
    "        work_data = re.search(\n",
    "            r\"var work = JSON\\.parse\\(JSON\\.stringify\\((\\{.*\\})\", response.text\n",
    "        ).group(1)\n",
    "    except AttributeError:\n",
    "        work_data = \"{}\"\n",
    "    if not response.from_cache:\n",
    "        time.sleep(0.2)\n",
    "    return json.loads(work_data)\n",
    "\n",
    "\n",
    "def get_issues(parent_id):\n",
    "    \"\"\"\n",
    "    Get the ids of issues that are children of the current record\n",
    "    by scraping the 'Browse this collection' box in the digital collection viewer.\n",
    "    See:\n",
    "    \"\"\"\n",
    "    start_url = \"https://nla.gov.au/{}/browse?startIdx={}&rows=20&op=c\"\n",
    "    # The initial startIdx value\n",
    "    start = 0\n",
    "    # Number of results per page\n",
    "    n = 20\n",
    "    parts = []\n",
    "    # If there aren't 20 results on the page then we've reached the end, so continue harvesting until that happens.\n",
    "    while n == 20:\n",
    "        # Get the browse page\n",
    "        response = s.get(start_url.format(parent_id, start))\n",
    "        # Beautifulsoup turns the HTML into an easily navigable structure\n",
    "        soup = BeautifulSoup(response.text, \"lxml\")\n",
    "        # Find all the divs containing issue details and loop through them\n",
    "        details = soup.find_all(class_=\"l-item-info\")\n",
    "        for detail in details:\n",
    "            title = detail.find(\"h3\")\n",
    "            if title:\n",
    "                issue_id = title.parent[\"href\"].strip(\"/\")\n",
    "            else:\n",
    "                issue_id = detail.find(\"a\")[\"href\"].strip(\"/\")\n",
    "            # Get the issue id\n",
    "            parts.append(issue_id)\n",
    "        if not response.from_cache:\n",
    "            time.sleep(0.2)\n",
    "        # Increment the startIdx\n",
    "        start += n\n",
    "        # Set n to the number of results on the current page\n",
    "        n = len(details)\n",
    "    return parts\n",
    "\n",
    "\n",
    "def get_iso_date(date):\n",
    "    \"\"\"\n",
    "    Try to convert a date string into an ISO formatted data\n",
    "    \"\"\"\n",
    "    if date:\n",
    "        iso_date = arrow.get(date, \"ddd, D MMM YYYY\").format(\"YYYY-MM-DD\")\n",
    "    else:\n",
    "        iso_date = \"\"\n",
    "    return iso_date\n",
    "\n",
    "\n",
    "def add_issue(title, issue, metadata):\n",
    "    \"\"\"\n",
    "    Create a record for an issue using metadata extracted from the digitised journal viewer.\n",
    "    \"\"\"\n",
    "    iso_date = get_iso_date(metadata.get(\"issueDate\", \"\"))\n",
    "    title[\"issues\"].append(\n",
    "        {\n",
    "            \"id\": issue,\n",
    "            \"date\": iso_date,\n",
    "            \"description\": metadata.get(\"subUnitNo\", \"\"),\n",
    "            \"url\": \"https://nla.gov.au/\" + issue,\n",
    "        }\n",
    "    )\n",
    "\n",
    "\n",
    "def add_missing_issues(\n",
    "    input_file=\"titles-issues.ndjson\", output_file=\"titles-issues-added.ndjson\"\n",
    "):\n",
    "    output_ndjson = Path(output_file)\n",
    "    output_ndjson.unlink(missing_ok=True)\n",
    "\n",
    "    total = sum(1 for _ in open(input_file))\n",
    "    with Path(input_file).open(\"r\") as ndjson_in:\n",
    "        with output_ndjson.open(\"w\") as ndjson_out:\n",
    "            for line in tqdm(ndjson_in, total=total):\n",
    "                title = json.loads(line)\n",
    "                title_issues = [i[\"id\"] for i in title[\"issues\"]]\n",
    "                # Get a list of issues scraped from the collection viewer\n",
    "                issues = get_issues(title[\"id\"])\n",
    "                for issue in issues:\n",
    "                    if issue not in title_issues:\n",
    "                        # print(title[\"id\"])\n",
    "                        # print(issue_url)\n",
    "                        # Get issue metadata from the digitised journal viewer\n",
    "                        issue_metadata = get_metadata(issue)\n",
    "                        # Construct a record for the missing issue and add it to the title data\n",
    "                        add_issue(title, issue, issue_metadata)\n",
    "                # Add a new issue count\n",
    "                title[\"new_issue_count\"] = len(title[\"issues\"])\n",
    "                ndjson_out.write(f\"{json.dumps(title)}\\n\")"
   ]
  },
  {
   "cell_type": "code",
   "execution_count": null,
   "id": "4297a4c1-187a-44c5-bde0-253048506b3c",
   "metadata": {
    "editable": true,
    "slideshow": {
     "slide_type": ""
    },
    "tags": [
     "nbval-skip"
    ]
   },
   "outputs": [],
   "source": [
    "add_missing_issues()"
   ]
  },
  {
   "cell_type": "markdown",
   "id": "008df84a-f7fb-4026-b33c-ae560f24ced0",
   "metadata": {
    "editable": true,
    "slideshow": {
     "slide_type": ""
    },
    "tags": []
   },
   "source": [
    "Let's load the updated dataset to see what we have now."
   ]
  },
  {
   "cell_type": "code",
   "execution_count": 54,
   "id": "0957f595-8b1c-4d6b-99f0-6fd757408018",
   "metadata": {
    "editable": true,
    "slideshow": {
     "slide_type": ""
    },
    "tags": [
     "nbval-skip"
    ]
   },
   "outputs": [],
   "source": [
    "df_added_issues = pd.read_json(\"titles-issues-added.ndjson\", lines=True)"
   ]
  },
  {
   "cell_type": "markdown",
   "id": "08035a63-7b74-4c02-b9d6-5e71a78edbda",
   "metadata": {
    "editable": true,
    "slideshow": {
     "slide_type": ""
    },
    "tags": []
   },
   "source": [
    "How many issues have been added?"
   ]
  },
  {
   "cell_type": "code",
   "execution_count": 55,
   "id": "db558892-5b37-436a-9329-e0bd2cefb749",
   "metadata": {
    "editable": true,
    "slideshow": {
     "slide_type": ""
    },
    "tags": [
     "nbval-skip"
    ]
   },
   "outputs": [
    {
     "data": {
      "text/plain": [
       "732"
      ]
     },
     "execution_count": 55,
     "metadata": {},
     "output_type": "execute_result"
    }
   ],
   "source": [
    "df_added_issues[\"new_issue_count\"].sum() - df_added_issues[\"issue_count\"].sum()"
   ]
  },
  {
   "cell_type": "markdown",
   "id": "193901c0-9c92-4454-90bf-65961b2fc6fe",
   "metadata": {
    "editable": true,
    "slideshow": {
     "slide_type": ""
    },
    "tags": []
   },
   "source": [
    "## Additional problems\n",
    "\n",
    "It seems we've managed to find the missing issues, and a few extras, but there's other problems in the data. Quite a few titles have no issues at all. The records might be broken, or the periodical might be in the process of being digitised, we can't really tell."
   ]
  },
  {
   "cell_type": "code",
   "execution_count": 57,
   "id": "20ffbd3d-88aa-4e4e-b3ed-fbcd472f0901",
   "metadata": {
    "editable": true,
    "slideshow": {
     "slide_type": ""
    },
    "tags": [
     "nbval-skip"
    ]
   },
   "outputs": [
    {
     "data": {
      "text/plain": [
       "108"
      ]
     },
     "execution_count": 57,
     "metadata": {},
     "output_type": "execute_result"
    }
   ],
   "source": [
    "df_added_issues.loc[df_added_issues[\"new_issue_count\"] == 0].shape[0]"
   ]
  },
  {
   "cell_type": "markdown",
   "id": "364189c9-1308-4e44-b53c-84d01329ef16",
   "metadata": {
    "editable": true,
    "slideshow": {
     "slide_type": ""
    },
    "tags": []
   },
   "source": [
    "Some things listed as titles acutally point to issues. And some things listed as issues, are actually collections of issues. These are problems in the way the data has been entered into Trove. To fix them in the dataset requires some complicated workarounds and a lot of extra processing. I've decided to leave this dataset as is, to reflect the process of working with the API to retrieve data about titles and issues. But I've attempted some additional cleaning and enrichment in [Enrich the list of periodicals from the Trove API](periodicals-enrich-for-datasette.ipynb)."
   ]
  },
  {
   "cell_type": "code",
   "execution_count": null,
   "id": "e0836582-1988-4c76-91b2-dc85eba66871",
   "metadata": {
    "editable": true,
    "slideshow": {
     "slide_type": ""
    },
    "tags": []
   },
   "outputs": [],
   "source": [
    "# IGNORE THIS CELL -- TESTING ONLY\n",
    "if os.getenv(\"GW_STATUS\") == \"dev\":\n",
    "    get_periodical_issues(df_notpp[:10], output_file=\"title-issues-test.ndjson\")\n",
    "    add_missing_issues(\n",
    "        input_file=\"title-issues-test.ndjson\",\n",
    "        output_file=\"titles-issues-added-test.ndjson\",\n",
    "    )"
   ]
  },
  {
   "cell_type": "markdown",
   "id": "fff78ee6-1c45-42cd-8e4d-a0927f4d984d",
   "metadata": {
    "editable": true,
    "slideshow": {
     "slide_type": ""
    },
    "tags": []
   },
   "source": [
    "----\n",
    "\n",
    "Created by [Tim Sherratt](https://timsherratt.au/) for the [GLAM Workbench](https://glam-workbench.net/).\n"
   ]
  }
 ],
 "metadata": {
  "kernelspec": {
   "display_name": "Python 3 (ipykernel)",
   "language": "python",
   "name": "python3"
  },
  "language_info": {
   "codemirror_mode": {
    "name": "ipython",
    "version": 3
   },
   "file_extension": ".py",
   "mimetype": "text/x-python",
   "name": "python",
   "nbconvert_exporter": "python",
   "pygments_lexer": "ipython3",
   "version": "3.10.12"
  },
  "rocrate": {
   "action": [
    {
     "isPartOf": "https://github.com/GLAM-Workbench/trove-periodicals-data/",
     "mainEntityOfPage": "https://glam-workbench.net/trove-journals/periodicals-data-api/",
     "name": "Trove periodicals data from API endpoint",
     "result": [
      {
       "description": "This file contains data describing digitised periodicals available from Trove. The titles and issues data was harvested from the Trove API and combined into a single file. Duplicate titles and Commonwealth Parliamentary Papers were removed. Additional data on issues missing from the API results was scraped from Trove web pages.",
       "license": "https://creativecommons.org/publicdomain/zero/1.0/",
       "url": "https://github.com/GLAM-Workbench/trove-periodicals-data/raw/main/titles-issues-added.ndjson"
      }
     ]
    }
   ],
   "author": [
    {
     "mainEntityOfPage": "https://timsherratt.au",
     "name": "Sherratt, Tim",
     "orcid": "https://orcid.org/0000-0001-7956-4498"
    }
   ],
   "description": "This notebook uses the /magazine/titles endpoint of the Trove API to get details of digitised periodical titles and issues. It then tries to fix some problems with the data by removing duplicates and Parliamentary Papers, and checking the lists of issues against those scraped from the Trove website.",
   "mainEntityOfPage": "https://glam-workbench.net/trove-journals/periodicals-from-api/",
   "name": "Get details of periodicals from the `/magazine/titles` API endpoint",
   "position": 1
  }
 },
 "nbformat": 4,
 "nbformat_minor": 5
}
