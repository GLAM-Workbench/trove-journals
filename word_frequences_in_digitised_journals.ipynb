{
 "cells": [
  {
   "cell_type": "markdown",
   "metadata": {},
   "source": [
    "# Word frequencies in digitised journals\n",
    "\n",
    "This notebook uses word frequency to explore the [OCRd texts harvested](Download-text-for-all-digitised-journals.ipynb) from Trove's digitised journals. More documentation coming..."
   ]
  },
  {
   "cell_type": "code",
   "execution_count": 1,
   "metadata": {},
   "outputs": [],
   "source": [
    "import re\n",
    "import tarfile\n",
    "import zipfile\n",
    "from io import BytesIO\n",
    "import pandas as pd\n",
    "import requests\n",
    "from tqdm.auto import tqdm\n",
    "import altair as alt\n",
    "import os\n",
    "from pathlib import Path\n",
    "import ipywidgets as widgets\n",
    "from sklearn.feature_extraction.text import TfidfVectorizer, CountVectorizer\n",
    "import numpy as np\n"
   ]
  },
  {
   "cell_type": "markdown",
   "metadata": {},
   "source": [
    "## Select a journal\n",
    "\n",
    "Create a dropdown widget to select a digitised journal. The cells below will use this widget to get the value of the currently selected journal."
   ]
  },
  {
   "cell_type": "code",
   "execution_count": 2,
   "metadata": {},
   "outputs": [
    {
     "data": {
      "application/vnd.jupyter.widget-view+json": {
       "model_id": "003667eb36324383918cbe392f4b317c",
       "version_major": 2,
       "version_minor": 0
      },
      "text/plain": [
       "Dropdown(options=(('\"Coo-ee!\" (Bishops Knoll Hospital (Bristol, England)) (12 issues)', 'coo-ee-bishops-knoll-…"
      ]
     },
     "metadata": {},
     "output_type": "display_data"
    }
   ],
   "source": [
    "# Load details of digitised journals from CSV\n",
    "df_journals = pd.read_csv('digital-journals-with-text.csv').sort_values(by='title')\n",
    "journal_list = [(f\"{j['title']} ({j['issues_with_text']} issues)\", j['directory']) for j in df_journals[['title', 'directory', 'issues_with_text']].to_dict('records')]\n",
    "journals = widgets.Dropdown(options=journal_list, disabled=False)\n",
    "display(journals)"
   ]
  },
  {
   "cell_type": "markdown",
   "metadata": {},
   "source": [
    "## Download all the issues of the journal"
   ]
  },
  {
   "cell_type": "code",
   "execution_count": null,
   "metadata": {},
   "outputs": [],
   "source": [
    "def download_journal(journal):\n",
    "    path = os.path.join('downloads', journal)\n",
    "    os.makedirs(path, exist_ok=True)\n",
    "    params = {\n",
    "        'path': f'/{journal}/texts'\n",
    "    }\n",
    "    response = requests.get('https://cloudstor.aarnet.edu.au/plus/s/QOmnqpGQCNCSC2h/download', params=params)\n",
    "    zipped = zipfile.ZipFile(BytesIO(response.content))\n",
    "    zipped.extractall(path)\n",
    "    print(f'{len(get_docs_path(journal))} issues downloaded')"
   ]
  },
  {
   "cell_type": "code",
   "execution_count": null,
   "metadata": {},
   "outputs": [],
   "source": [
    "download_journal(journals.value)"
   ]
  },
  {
   "cell_type": "markdown",
   "metadata": {},
   "source": [
    "## Calculate word frequencies"
   ]
  },
  {
   "cell_type": "code",
   "execution_count": 3,
   "metadata": {},
   "outputs": [],
   "source": [
    "def get_docs(journal):\n",
    "    docs_path = get_docs_path(journal)\n",
    "    for p in docs_path:\n",
    "        yield p.read_text(encoding='utf-8').strip()\n",
    "        \n",
    "def get_docs_path(journal):\n",
    "    path = os.path.join('downloads', journal, 'texts')\n",
    "    docs_path = [p for p in sorted(Path(path).glob('*.txt'))]\n",
    "    return docs_path\n",
    "\n",
    "def get_file_names(journal):\n",
    "    return [p.stem for p in get_docs_path(journal)]"
   ]
  },
  {
   "cell_type": "code",
   "execution_count": 4,
   "metadata": {},
   "outputs": [],
   "source": [
    "vectorizer = CountVectorizer(stop_words='english', max_features=10000, ngram_range=(1,2))\n",
    "# preprocessor = lambda x: re.sub(r'(\\d[\\d\\.])+', 'NUM', x.lower())\n",
    "X_freq = np.asarray(vectorizer.fit_transform(get_docs(journals.value)).todense())\n",
    "df_freq = pd.DataFrame(X_freq, columns=vectorizer.get_feature_names(), index=get_file_names(journals.value))"
   ]
  },
  {
   "cell_type": "code",
   "execution_count": null,
   "metadata": {},
   "outputs": [],
   "source": [
    "# Save to CSV\n",
    "# df_freq.to_csv(f'{journals.value}-word-frequencies.csv')"
   ]
  },
  {
   "cell_type": "markdown",
   "metadata": {},
   "source": [
    "## Most frequent words in the journal\n",
    "\n",
    "Change the number as you wish."
   ]
  },
  {
   "cell_type": "code",
   "execution_count": 5,
   "metadata": {},
   "outputs": [
    {
     "data": {
      "text/plain": [
       "little    21967\n",
       "said      21665\n",
       "day       13243\n",
       "like      12804\n",
       "came      10828\n",
       "come      10615\n",
       "time      10419\n",
       "man       10257\n",
       "great      9875\n",
       "old        9532\n",
       "did        8798\n",
       "away       8644\n",
       "long       8485\n",
       "went       8445\n",
       "good       8131\n",
       "men        7621\n",
       "just       7506\n",
       "way        7433\n",
       "king       7336\n",
       "water      6730\n",
       "dtype: int64"
      ]
     },
     "execution_count": 5,
     "metadata": {},
     "output_type": "execute_result"
    }
   ],
   "source": [
    "df_freq.sum().nlargest(20)"
   ]
  },
  {
   "cell_type": "markdown",
   "metadata": {},
   "source": [
    "## Frequency of a specific word"
   ]
  },
  {
   "cell_type": "code",
   "execution_count": 6,
   "metadata": {},
   "outputs": [],
   "source": [
    "word = 'captain cook'"
   ]
  },
  {
   "cell_type": "code",
   "execution_count": 7,
   "metadata": {},
   "outputs": [
    {
     "data": {
      "text/plain": [
       "305"
      ]
     },
     "execution_count": 7,
     "metadata": {},
     "output_type": "execute_result"
    }
   ],
   "source": [
    "# If the word's not in the index you'll get a KeyError -- don't worry about it, just try another word!!\n",
    "df_freq[word].sum()"
   ]
  },
  {
   "cell_type": "markdown",
   "metadata": {},
   "source": [
    "Find the issue that this word occurs in most frequently."
   ]
  },
  {
   "cell_type": "code",
   "execution_count": 8,
   "metadata": {},
   "outputs": [
    {
     "data": {
      "text/plain": [
       "'the-school-magazine-of-literature-for-our-boys-and-vol-24-no-9-part-2-class-4-october-2-1939-nla.obj-774980753'"
      ]
     },
     "execution_count": 8,
     "metadata": {},
     "output_type": "execute_result"
    }
   ],
   "source": [
    "df_freq[word].idxmax()"
   ]
  },
  {
   "cell_type": "markdown",
   "metadata": {},
   "source": [
    "## Most frequent words per issue\n",
    "\n",
    "Get the most frequent words for each issue of the journal. Set `num_words` to the number of words you want to show."
   ]
  },
  {
   "cell_type": "code",
   "execution_count": 9,
   "metadata": {},
   "outputs": [
    {
     "data": {
      "text/html": [
       "<div>\n",
       "<style scoped>\n",
       "    .dataframe tbody tr th:only-of-type {\n",
       "        vertical-align: middle;\n",
       "    }\n",
       "\n",
       "    .dataframe tbody tr th {\n",
       "        vertical-align: top;\n",
       "    }\n",
       "\n",
       "    .dataframe thead th {\n",
       "        text-align: right;\n",
       "    }\n",
       "</style>\n",
       "<table border=\"1\" class=\"dataframe\">\n",
       "  <thead>\n",
       "    <tr style=\"text-align: right;\">\n",
       "      <th></th>\n",
       "      <th>0</th>\n",
       "      <th>1</th>\n",
       "      <th>2</th>\n",
       "      <th>3</th>\n",
       "      <th>4</th>\n",
       "      <th>5</th>\n",
       "      <th>6</th>\n",
       "      <th>7</th>\n",
       "      <th>8</th>\n",
       "      <th>9</th>\n",
       "      <th>10</th>\n",
       "      <th>11</th>\n",
       "      <th>12</th>\n",
       "      <th>13</th>\n",
       "      <th>14</th>\n",
       "      <th>15</th>\n",
       "      <th>16</th>\n",
       "      <th>17</th>\n",
       "      <th>18</th>\n",
       "      <th>19</th>\n",
       "    </tr>\n",
       "  </thead>\n",
       "  <tbody>\n",
       "    <tr>\n",
       "      <th>no-title-available-vol-33-no-8-part-3-class-5-september-3-1947-nla.obj-831180245</th>\n",
       "      <td>said</td>\n",
       "      <td>alice</td>\n",
       "      <td>like</td>\n",
       "      <td>neck</td>\n",
       "      <td>hatter</td>\n",
       "      <td>prince</td>\n",
       "      <td>time</td>\n",
       "      <td>gay</td>\n",
       "      <td>gay neck</td>\n",
       "      <td>dormouse</td>\n",
       "      <td>march</td>\n",
       "      <td>baz</td>\n",
       "      <td>hare</td>\n",
       "      <td>march hare</td>\n",
       "      <td>flock</td>\n",
       "      <td>ll</td>\n",
       "      <td>walrus</td>\n",
       "      <td>know</td>\n",
       "      <td>old</td>\n",
       "      <td>black</td>\n",
       "    </tr>\n",
       "    <tr>\n",
       "      <th>the-school-magazine-of-literature-for-our-boys-and-150th-anniversary-celebrations-on-the-founding-of--nla.obj-774678501</th>\n",
       "      <td>australian</td>\n",
       "      <td>royal</td>\n",
       "      <td>society</td>\n",
       "      <td>royal australian</td>\n",
       "      <td>data</td>\n",
       "      <td>historical</td>\n",
       "      <td>historical society</td>\n",
       "      <td>australian historical</td>\n",
       "      <td>data royal</td>\n",
       "      <td>picture</td>\n",
       "      <td>australia</td>\n",
       "      <td>courtesy</td>\n",
       "      <td>south</td>\n",
       "      <td>sydney</td>\n",
       "      <td>new</td>\n",
       "      <td>society picture</td>\n",
       "      <td>captain</td>\n",
       "      <td>bay</td>\n",
       "      <td>cook</td>\n",
       "      <td>port</td>\n",
       "    </tr>\n",
       "    <tr>\n",
       "      <th>the-school-magazine-of-literature-for-our-boys-and-souvenir-of-children-s-festival-coronation-celebra-nla.obj-774657223</th>\n",
       "      <td>king</td>\n",
       "      <td>empire</td>\n",
       "      <td>coronation</td>\n",
       "      <td>great</td>\n",
       "      <td>queen</td>\n",
       "      <td>day</td>\n",
       "      <td>children</td>\n",
       "      <td>love</td>\n",
       "      <td>new</td>\n",
       "      <td>new south</td>\n",
       "      <td>south</td>\n",
       "      <td>south wales</td>\n",
       "      <td>wales</td>\n",
       "      <td>british</td>\n",
       "      <td>girls</td>\n",
       "      <td>loyalty</td>\n",
       "      <td>gracious</td>\n",
       "      <td>hearts</td>\n",
       "      <td>long</td>\n",
       "      <td>thy</td>\n",
       "    </tr>\n",
       "    <tr>\n",
       "      <th>the-school-magazine-of-literature-for-our-boys-and-vol-1-no-1-part-1-class-3-february-1-1916-nla.obj-770389941</th>\n",
       "      <td>little</td>\n",
       "      <td>jack</td>\n",
       "      <td>said</td>\n",
       "      <td>giant</td>\n",
       "      <td>mother</td>\n",
       "      <td>blackie</td>\n",
       "      <td>away</td>\n",
       "      <td>day</td>\n",
       "      <td>came</td>\n",
       "      <td>flower</td>\n",
       "      <td>flowers</td>\n",
       "      <td>saw</td>\n",
       "      <td>house</td>\n",
       "      <td>mouse</td>\n",
       "      <td>soon</td>\n",
       "      <td>stalk</td>\n",
       "      <td>time</td>\n",
       "      <td>wife</td>\n",
       "      <td>friend</td>\n",
       "      <td>garden</td>\n",
       "    </tr>\n",
       "    <tr>\n",
       "      <th>the-school-magazine-of-literature-for-our-boys-and-vol-1-no-1-part-2-classes-4-5-february-2-1916-nla.obj-770389964</th>\n",
       "      <td>44</td>\n",
       "      <td>betty</td>\n",
       "      <td>earl</td>\n",
       "      <td>said</td>\n",
       "      <td>time</td>\n",
       "      <td>great</td>\n",
       "      <td>jack</td>\n",
       "      <td>king</td>\n",
       "      <td>11</td>\n",
       "      <td>good</td>\n",
       "      <td>little</td>\n",
       "      <td>came</td>\n",
       "      <td>flag</td>\n",
       "      <td>home</td>\n",
       "      <td>know</td>\n",
       "      <td>old</td>\n",
       "      <td>did</td>\n",
       "      <td>like</td>\n",
       "      <td>way</td>\n",
       "      <td>boys</td>\n",
       "    </tr>\n",
       "  </tbody>\n",
       "</table>\n",
       "</div>"
      ],
      "text/plain": [
       "                                                            0       1   \\\n",
       "no-title-available-vol-33-no-8-part-3-class-5-s...        said   alice   \n",
       "the-school-magazine-of-literature-for-our-boys-...  australian   royal   \n",
       "the-school-magazine-of-literature-for-our-boys-...        king  empire   \n",
       "the-school-magazine-of-literature-for-our-boys-...      little    jack   \n",
       "the-school-magazine-of-literature-for-our-boys-...          44   betty   \n",
       "\n",
       "                                                            2   \\\n",
       "no-title-available-vol-33-no-8-part-3-class-5-s...        like   \n",
       "the-school-magazine-of-literature-for-our-boys-...     society   \n",
       "the-school-magazine-of-literature-for-our-boys-...  coronation   \n",
       "the-school-magazine-of-literature-for-our-boys-...        said   \n",
       "the-school-magazine-of-literature-for-our-boys-...        earl   \n",
       "\n",
       "                                                                  3       4   \\\n",
       "no-title-available-vol-33-no-8-part-3-class-5-s...              neck  hatter   \n",
       "the-school-magazine-of-literature-for-our-boys-...  royal australian    data   \n",
       "the-school-magazine-of-literature-for-our-boys-...             great   queen   \n",
       "the-school-magazine-of-literature-for-our-boys-...             giant  mother   \n",
       "the-school-magazine-of-literature-for-our-boys-...              said    time   \n",
       "\n",
       "                                                            5   \\\n",
       "no-title-available-vol-33-no-8-part-3-class-5-s...      prince   \n",
       "the-school-magazine-of-literature-for-our-boys-...  historical   \n",
       "the-school-magazine-of-literature-for-our-boys-...         day   \n",
       "the-school-magazine-of-literature-for-our-boys-...     blackie   \n",
       "the-school-magazine-of-literature-for-our-boys-...       great   \n",
       "\n",
       "                                                                    6   \\\n",
       "no-title-available-vol-33-no-8-part-3-class-5-s...                time   \n",
       "the-school-magazine-of-literature-for-our-boys-...  historical society   \n",
       "the-school-magazine-of-literature-for-our-boys-...            children   \n",
       "the-school-magazine-of-literature-for-our-boys-...                away   \n",
       "the-school-magazine-of-literature-for-our-boys-...                jack   \n",
       "\n",
       "                                                                       7   \\\n",
       "no-title-available-vol-33-no-8-part-3-class-5-s...                    gay   \n",
       "the-school-magazine-of-literature-for-our-boys-...  australian historical   \n",
       "the-school-magazine-of-literature-for-our-boys-...                   love   \n",
       "the-school-magazine-of-literature-for-our-boys-...                    day   \n",
       "the-school-magazine-of-literature-for-our-boys-...                   king   \n",
       "\n",
       "                                                            8          9   \\\n",
       "no-title-available-vol-33-no-8-part-3-class-5-s...    gay neck   dormouse   \n",
       "the-school-magazine-of-literature-for-our-boys-...  data royal    picture   \n",
       "the-school-magazine-of-literature-for-our-boys-...         new  new south   \n",
       "the-school-magazine-of-literature-for-our-boys-...        came     flower   \n",
       "the-school-magazine-of-literature-for-our-boys-...          11       good   \n",
       "\n",
       "                                                           10           11  \\\n",
       "no-title-available-vol-33-no-8-part-3-class-5-s...      march          baz   \n",
       "the-school-magazine-of-literature-for-our-boys-...  australia     courtesy   \n",
       "the-school-magazine-of-literature-for-our-boys-...      south  south wales   \n",
       "the-school-magazine-of-literature-for-our-boys-...    flowers          saw   \n",
       "the-school-magazine-of-literature-for-our-boys-...     little         came   \n",
       "\n",
       "                                                       12          13     14  \\\n",
       "no-title-available-vol-33-no-8-part-3-class-5-s...   hare  march hare  flock   \n",
       "the-school-magazine-of-literature-for-our-boys-...  south      sydney    new   \n",
       "the-school-magazine-of-literature-for-our-boys-...  wales     british  girls   \n",
       "the-school-magazine-of-literature-for-our-boys-...  house       mouse   soon   \n",
       "the-school-magazine-of-literature-for-our-boys-...   flag        home   know   \n",
       "\n",
       "                                                                 15        16  \\\n",
       "no-title-available-vol-33-no-8-part-3-class-5-s...               ll    walrus   \n",
       "the-school-magazine-of-literature-for-our-boys-...  society picture   captain   \n",
       "the-school-magazine-of-literature-for-our-boys-...          loyalty  gracious   \n",
       "the-school-magazine-of-literature-for-our-boys-...            stalk      time   \n",
       "the-school-magazine-of-literature-for-our-boys-...              old       did   \n",
       "\n",
       "                                                        17      18      19  \n",
       "no-title-available-vol-33-no-8-part-3-class-5-s...    know     old   black  \n",
       "the-school-magazine-of-literature-for-our-boys-...     bay    cook    port  \n",
       "the-school-magazine-of-literature-for-our-boys-...  hearts    long     thy  \n",
       "the-school-magazine-of-literature-for-our-boys-...    wife  friend  garden  \n",
       "the-school-magazine-of-literature-for-our-boys-...    like     way    boys  "
      ]
     },
     "execution_count": 9,
     "metadata": {},
     "output_type": "execute_result"
    }
   ],
   "source": [
    "# The number of words you want to show\n",
    "num_words = 20\n",
    "top_words = pd.DataFrame({n: df_freq.T[col].nlargest(num_words).index.tolist() for n, col in enumerate(df_freq.T)}).T\n",
    "top_words.index = get_file_names(journals.value)\n",
    "top_words.head()"
   ]
  },
  {
   "cell_type": "markdown",
   "metadata": {},
   "source": [
    "Get the top words for a specific issue."
   ]
  },
  {
   "cell_type": "code",
   "execution_count": null,
   "metadata": {},
   "outputs": [],
   "source": [
    "top_words.loc[top_words.index.str.contains('nla.obj-774168904')]"
   ]
  },
  {
   "cell_type": "markdown",
   "metadata": {},
   "source": [
    "## Track word frequencies over time"
   ]
  },
  {
   "cell_type": "code",
   "execution_count": 10,
   "metadata": {},
   "outputs": [
    {
     "name": "stdout",
     "output_type": "stream",
     "text": [
      "YEAR NOT FOUND: the-school-magazine-of-literature-for-our-boys-and-150th-anniversary-celebrations-on-the-founding-of--nla.obj-774678501\n",
      "YEAR NOT FOUND: the-school-magazine-of-literature-for-our-boys-and-souvenir-of-children-s-festival-coronation-celebra-nla.obj-774657223\n"
     ]
    }
   ],
   "source": [
    "def extract_year(name):\n",
    "    '''\n",
    "    Try to extract the year from the filename.\n",
    "    '''\n",
    "    try:\n",
    "        years = re.findall(r'-((?:18|19|20)\\d{2})-', name)\n",
    "        year = int(years[-1])\n",
    "    except IndexError:\n",
    "        year = 0\n",
    "        print(f'YEAR NOT FOUND: {name}')\n",
    "    return year\n",
    "    \n",
    "df_freq['year'] = df_freq.apply(lambda x: extract_year(x.name), axis=1)"
   ]
  },
  {
   "cell_type": "code",
   "execution_count": 11,
   "metadata": {},
   "outputs": [
    {
     "data": {
      "text/html": [
       "<div>\n",
       "<style scoped>\n",
       "    .dataframe tbody tr th:only-of-type {\n",
       "        vertical-align: middle;\n",
       "    }\n",
       "\n",
       "    .dataframe tbody tr th {\n",
       "        vertical-align: top;\n",
       "    }\n",
       "\n",
       "    .dataframe thead th {\n",
       "        text-align: right;\n",
       "    }\n",
       "</style>\n",
       "<table border=\"1\" class=\"dataframe\">\n",
       "  <thead>\n",
       "    <tr style=\"text-align: right;\">\n",
       "      <th></th>\n",
       "      <th>0</th>\n",
       "      <th>1</th>\n",
       "      <th>2</th>\n",
       "      <th>3</th>\n",
       "      <th>4</th>\n",
       "      <th>5</th>\n",
       "      <th>6</th>\n",
       "      <th>7</th>\n",
       "      <th>8</th>\n",
       "      <th>9</th>\n",
       "    </tr>\n",
       "  </thead>\n",
       "  <tbody>\n",
       "    <tr>\n",
       "      <th>0</th>\n",
       "      <td>australian</td>\n",
       "      <td>royal</td>\n",
       "      <td>society</td>\n",
       "      <td>royal australian</td>\n",
       "      <td>data</td>\n",
       "      <td>historical</td>\n",
       "      <td>historical society</td>\n",
       "      <td>australian historical</td>\n",
       "      <td>data royal</td>\n",
       "      <td>australia</td>\n",
       "    </tr>\n",
       "    <tr>\n",
       "      <th>1916</th>\n",
       "      <td>little</td>\n",
       "      <td>said</td>\n",
       "      <td>44</td>\n",
       "      <td>time</td>\n",
       "      <td>great</td>\n",
       "      <td>day</td>\n",
       "      <td>came</td>\n",
       "      <td>like</td>\n",
       "      <td>king</td>\n",
       "      <td>did</td>\n",
       "    </tr>\n",
       "    <tr>\n",
       "      <th>1917</th>\n",
       "      <td>little</td>\n",
       "      <td>said</td>\n",
       "      <td>day</td>\n",
       "      <td>great</td>\n",
       "      <td>came</td>\n",
       "      <td>man</td>\n",
       "      <td>men</td>\n",
       "      <td>king</td>\n",
       "      <td>old</td>\n",
       "      <td>away</td>\n",
       "    </tr>\n",
       "    <tr>\n",
       "      <th>1918</th>\n",
       "      <td>said</td>\n",
       "      <td>little</td>\n",
       "      <td>day</td>\n",
       "      <td>time</td>\n",
       "      <td>great</td>\n",
       "      <td>came</td>\n",
       "      <td>mother</td>\n",
       "      <td>man</td>\n",
       "      <td>alice</td>\n",
       "      <td>like</td>\n",
       "    </tr>\n",
       "    <tr>\n",
       "      <th>1919</th>\n",
       "      <td>said</td>\n",
       "      <td>little</td>\n",
       "      <td>day</td>\n",
       "      <td>men</td>\n",
       "      <td>man</td>\n",
       "      <td>like</td>\n",
       "      <td>time</td>\n",
       "      <td>came</td>\n",
       "      <td>king</td>\n",
       "      <td>good</td>\n",
       "    </tr>\n",
       "  </tbody>\n",
       "</table>\n",
       "</div>"
      ],
      "text/plain": [
       "               0       1        2                 3      4           5  \\\n",
       "0     australian   royal  society  royal australian   data  historical   \n",
       "1916      little    said       44              time  great         day   \n",
       "1917      little    said      day             great   came         man   \n",
       "1918        said  little      day              time  great        came   \n",
       "1919        said  little      day               men    man        like   \n",
       "\n",
       "                       6                      7           8          9  \n",
       "0     historical society  australian historical  data royal  australia  \n",
       "1916                came                   like        king        did  \n",
       "1917                 men                   king         old       away  \n",
       "1918              mother                    man       alice       like  \n",
       "1919                time                   came        king       good  "
      ]
     },
     "execution_count": 11,
     "metadata": {},
     "output_type": "execute_result"
    }
   ],
   "source": [
    "# Top words per year\n",
    "year_groups = df_freq.groupby(by='year')\n",
    "year_group_totals = year_groups.sum()\n",
    "df_years = pd.DataFrame({n: year_group_totals.T[col].nlargest(10).index.tolist() for n, col in enumerate(year_group_totals.T)}).T\n",
    "df_years.index = [name for name, _ in year_groups]\n",
    "df_years.head()"
   ]
  },
  {
   "cell_type": "code",
   "execution_count": 12,
   "metadata": {},
   "outputs": [],
   "source": [
    "def words_by_year(df, words):\n",
    "    df_words = pd.DataFrame()\n",
    "    for word in words:\n",
    "        try:\n",
    "            df_word = df.groupby(by='year').sum()[word].to_frame().reset_index().rename({word: 'count'}, axis=1)\n",
    "        except KeyError:\n",
    "            print(f\"'{word}' not found\")\n",
    "        else:\n",
    "            df_word['word'] = word\n",
    "            df_words = df_words.append(df_word, ignore_index=True)\n",
    "    return df_words"
   ]
  },
  {
   "cell_type": "markdown",
   "metadata": {},
   "source": [
    "Make a list of words that we want to compare."
   ]
  },
  {
   "cell_type": "code",
   "execution_count": null,
   "metadata": {},
   "outputs": [],
   "source": [
    "words = ['queen', 'captain cook', 'chinese', 'kangaroo']"
   ]
  },
  {
   "cell_type": "markdown",
   "metadata": {},
   "source": [
    "Get the data for those words."
   ]
  },
  {
   "cell_type": "code",
   "execution_count": 17,
   "metadata": {},
   "outputs": [],
   "source": [
    "df_words = words_by_year(df_freq, words)"
   ]
  },
  {
   "cell_type": "markdown",
   "metadata": {},
   "source": [
    "Create a faceted line chart."
   ]
  },
  {
   "cell_type": "code",
   "execution_count": 18,
   "metadata": {},
   "outputs": [
    {
     "data": {
      "application/vnd.vegalite.v3+json": {
       "$schema": "https://vega.github.io/schema/vega-lite/v3.3.0.json",
       "columns": 1,
       "config": {
        "mark": {
         "tooltip": null
        },
        "view": {
         "height": 300,
         "width": 400
        }
       },
       "data": {
        "name": "data-839fc6b7c272c15d4fbc6d6f0225cb57"
       },
       "datasets": {
        "data-839fc6b7c272c15d4fbc6d6f0225cb57": [
         {
          "count": 48,
          "word": "queen",
          "year": 1916
         },
         {
          "count": 51,
          "word": "queen",
          "year": 1917
         },
         {
          "count": 47,
          "word": "queen",
          "year": 1918
         },
         {
          "count": 86,
          "word": "queen",
          "year": 1919
         },
         {
          "count": 60,
          "word": "queen",
          "year": 1920
         },
         {
          "count": 55,
          "word": "queen",
          "year": 1921
         },
         {
          "count": 102,
          "word": "queen",
          "year": 1922
         },
         {
          "count": 64,
          "word": "queen",
          "year": 1923
         },
         {
          "count": 235,
          "word": "queen",
          "year": 1924
         },
         {
          "count": 94,
          "word": "queen",
          "year": 1925
         },
         {
          "count": 104,
          "word": "queen",
          "year": 1926
         },
         {
          "count": 103,
          "word": "queen",
          "year": 1927
         },
         {
          "count": 76,
          "word": "queen",
          "year": 1928
         },
         {
          "count": 72,
          "word": "queen",
          "year": 1929
         },
         {
          "count": 32,
          "word": "queen",
          "year": 1930
         },
         {
          "count": 154,
          "word": "queen",
          "year": 1931
         },
         {
          "count": 135,
          "word": "queen",
          "year": 1932
         },
         {
          "count": 45,
          "word": "queen",
          "year": 1933
         },
         {
          "count": 56,
          "word": "queen",
          "year": 1934
         },
         {
          "count": 139,
          "word": "queen",
          "year": 1935
         },
         {
          "count": 126,
          "word": "queen",
          "year": 1936
         },
         {
          "count": 95,
          "word": "queen",
          "year": 1937
         },
         {
          "count": 43,
          "word": "queen",
          "year": 1938
         },
         {
          "count": 26,
          "word": "queen",
          "year": 1939
         },
         {
          "count": 45,
          "word": "queen",
          "year": 1940
         },
         {
          "count": 81,
          "word": "queen",
          "year": 1941
         },
         {
          "count": 57,
          "word": "queen",
          "year": 1942
         },
         {
          "count": 42,
          "word": "queen",
          "year": 1943
         },
         {
          "count": 53,
          "word": "queen",
          "year": 1944
         },
         {
          "count": 39,
          "word": "queen",
          "year": 1945
         },
         {
          "count": 83,
          "word": "queen",
          "year": 1946
         },
         {
          "count": 100,
          "word": "queen",
          "year": 1947
         },
         {
          "count": 108,
          "word": "queen",
          "year": 1948
         },
         {
          "count": 74,
          "word": "queen",
          "year": 1949
         },
         {
          "count": 2,
          "word": "captain cook",
          "year": 1916
         },
         {
          "count": 5,
          "word": "captain cook",
          "year": 1917
         },
         {
          "count": 7,
          "word": "captain cook",
          "year": 1918
         },
         {
          "count": 6,
          "word": "captain cook",
          "year": 1919
         },
         {
          "count": 18,
          "word": "captain cook",
          "year": 1920
         },
         {
          "count": 5,
          "word": "captain cook",
          "year": 1921
         },
         {
          "count": 1,
          "word": "captain cook",
          "year": 1922
         },
         {
          "count": 1,
          "word": "captain cook",
          "year": 1923
         },
         {
          "count": 2,
          "word": "captain cook",
          "year": 1924
         },
         {
          "count": 5,
          "word": "captain cook",
          "year": 1925
         },
         {
          "count": 0,
          "word": "captain cook",
          "year": 1926
         },
         {
          "count": 12,
          "word": "captain cook",
          "year": 1927
         },
         {
          "count": 24,
          "word": "captain cook",
          "year": 1928
         },
         {
          "count": 1,
          "word": "captain cook",
          "year": 1929
         },
         {
          "count": 9,
          "word": "captain cook",
          "year": 1930
         },
         {
          "count": 3,
          "word": "captain cook",
          "year": 1931
         },
         {
          "count": 7,
          "word": "captain cook",
          "year": 1932
         },
         {
          "count": 1,
          "word": "captain cook",
          "year": 1933
         },
         {
          "count": 5,
          "word": "captain cook",
          "year": 1934
         },
         {
          "count": 3,
          "word": "captain cook",
          "year": 1935
         },
         {
          "count": 6,
          "word": "captain cook",
          "year": 1936
         },
         {
          "count": 5,
          "word": "captain cook",
          "year": 1937
         },
         {
          "count": 20,
          "word": "captain cook",
          "year": 1938
         },
         {
          "count": 46,
          "word": "captain cook",
          "year": 1939
         },
         {
          "count": 3,
          "word": "captain cook",
          "year": 1940
         },
         {
          "count": 1,
          "word": "captain cook",
          "year": 1941
         },
         {
          "count": 18,
          "word": "captain cook",
          "year": 1942
         },
         {
          "count": 2,
          "word": "captain cook",
          "year": 1943
         },
         {
          "count": 9,
          "word": "captain cook",
          "year": 1944
         },
         {
          "count": 13,
          "word": "captain cook",
          "year": 1945
         },
         {
          "count": 14,
          "word": "captain cook",
          "year": 1946
         },
         {
          "count": 19,
          "word": "captain cook",
          "year": 1947
         },
         {
          "count": 11,
          "word": "captain cook",
          "year": 1948
         },
         {
          "count": 3,
          "word": "captain cook",
          "year": 1949
         },
         {
          "count": 17,
          "word": "chinese",
          "year": 1916
         },
         {
          "count": 34,
          "word": "chinese",
          "year": 1917
         },
         {
          "count": 5,
          "word": "chinese",
          "year": 1918
         },
         {
          "count": 0,
          "word": "chinese",
          "year": 1919
         },
         {
          "count": 15,
          "word": "chinese",
          "year": 1920
         },
         {
          "count": 5,
          "word": "chinese",
          "year": 1921
         },
         {
          "count": 5,
          "word": "chinese",
          "year": 1922
         },
         {
          "count": 5,
          "word": "chinese",
          "year": 1923
         },
         {
          "count": 2,
          "word": "chinese",
          "year": 1924
         },
         {
          "count": 1,
          "word": "chinese",
          "year": 1925
         },
         {
          "count": 2,
          "word": "chinese",
          "year": 1926
         },
         {
          "count": 2,
          "word": "chinese",
          "year": 1927
         },
         {
          "count": 15,
          "word": "chinese",
          "year": 1928
         },
         {
          "count": 3,
          "word": "chinese",
          "year": 1929
         },
         {
          "count": 38,
          "word": "chinese",
          "year": 1930
         },
         {
          "count": 0,
          "word": "chinese",
          "year": 1931
         },
         {
          "count": 6,
          "word": "chinese",
          "year": 1932
         },
         {
          "count": 9,
          "word": "chinese",
          "year": 1933
         },
         {
          "count": 8,
          "word": "chinese",
          "year": 1934
         },
         {
          "count": 5,
          "word": "chinese",
          "year": 1935
         },
         {
          "count": 13,
          "word": "chinese",
          "year": 1936
         },
         {
          "count": 10,
          "word": "chinese",
          "year": 1937
         },
         {
          "count": 16,
          "word": "chinese",
          "year": 1938
         },
         {
          "count": 25,
          "word": "chinese",
          "year": 1939
         },
         {
          "count": 6,
          "word": "chinese",
          "year": 1940
         },
         {
          "count": 47,
          "word": "chinese",
          "year": 1941
         },
         {
          "count": 4,
          "word": "chinese",
          "year": 1942
         },
         {
          "count": 2,
          "word": "chinese",
          "year": 1943
         },
         {
          "count": 13,
          "word": "chinese",
          "year": 1944
         },
         {
          "count": 2,
          "word": "chinese",
          "year": 1945
         },
         {
          "count": 31,
          "word": "chinese",
          "year": 1946
         },
         {
          "count": 8,
          "word": "chinese",
          "year": 1947
         },
         {
          "count": 17,
          "word": "chinese",
          "year": 1948
         },
         {
          "count": 7,
          "word": "chinese",
          "year": 1949
         },
         {
          "count": 1,
          "word": "kangaroo",
          "year": 1916
         },
         {
          "count": 78,
          "word": "kangaroo",
          "year": 1917
         },
         {
          "count": 3,
          "word": "kangaroo",
          "year": 1918
         },
         {
          "count": 16,
          "word": "kangaroo",
          "year": 1919
         },
         {
          "count": 11,
          "word": "kangaroo",
          "year": 1920
         },
         {
          "count": 12,
          "word": "kangaroo",
          "year": 1921
         },
         {
          "count": 10,
          "word": "kangaroo",
          "year": 1922
         },
         {
          "count": 2,
          "word": "kangaroo",
          "year": 1923
         },
         {
          "count": 3,
          "word": "kangaroo",
          "year": 1924
         },
         {
          "count": 8,
          "word": "kangaroo",
          "year": 1925
         },
         {
          "count": 7,
          "word": "kangaroo",
          "year": 1926
         },
         {
          "count": 32,
          "word": "kangaroo",
          "year": 1927
         },
         {
          "count": 41,
          "word": "kangaroo",
          "year": 1928
         },
         {
          "count": 11,
          "word": "kangaroo",
          "year": 1929
         },
         {
          "count": 9,
          "word": "kangaroo",
          "year": 1930
         },
         {
          "count": 65,
          "word": "kangaroo",
          "year": 1931
         },
         {
          "count": 24,
          "word": "kangaroo",
          "year": 1932
         },
         {
          "count": 3,
          "word": "kangaroo",
          "year": 1933
         },
         {
          "count": 3,
          "word": "kangaroo",
          "year": 1934
         },
         {
          "count": 10,
          "word": "kangaroo",
          "year": 1935
         },
         {
          "count": 36,
          "word": "kangaroo",
          "year": 1936
         },
         {
          "count": 58,
          "word": "kangaroo",
          "year": 1937
         },
         {
          "count": 65,
          "word": "kangaroo",
          "year": 1938
         },
         {
          "count": 9,
          "word": "kangaroo",
          "year": 1939
         },
         {
          "count": 5,
          "word": "kangaroo",
          "year": 1940
         },
         {
          "count": 24,
          "word": "kangaroo",
          "year": 1941
         },
         {
          "count": 21,
          "word": "kangaroo",
          "year": 1942
         },
         {
          "count": 48,
          "word": "kangaroo",
          "year": 1943
         },
         {
          "count": 4,
          "word": "kangaroo",
          "year": 1944
         },
         {
          "count": 48,
          "word": "kangaroo",
          "year": 1945
         },
         {
          "count": 3,
          "word": "kangaroo",
          "year": 1946
         },
         {
          "count": 20,
          "word": "kangaroo",
          "year": 1947
         },
         {
          "count": 15,
          "word": "kangaroo",
          "year": 1948
         },
         {
          "count": 131,
          "word": "kangaroo",
          "year": 1949
         }
        ]
       },
       "encoding": {
        "color": {
         "field": "word",
         "type": "nominal"
        },
        "facet": {
         "field": "word",
         "type": "nominal"
        },
        "x": {
         "axis": {
          "format": "c",
          "title": "Year"
         },
         "field": "year",
         "type": "quantitative"
        },
        "y": {
         "field": "count",
         "type": "quantitative"
        }
       },
       "height": 100,
       "mark": "line",
       "width": 700
      },
      "image/png": "[encoded data removed]",
      "text/plain": [
       "<VegaLite 3 object>\n",
       "\n",
       "If you see this message, it means the renderer has not been properly enabled\n",
       "for the frontend that you are using. For more information, see\n",
       "https://altair-viz.github.io/user_guide/troubleshooting.html\n"
      ]
     },
     "execution_count": 18,
     "metadata": {},
     "output_type": "execute_result"
    }
   ],
   "source": [
    "alt.Chart(df_words.loc[df_words['year'] > 0]).mark_line().encode(\n",
    "    x=alt.X('year:Q', axis=alt.Axis(format='c', title='Year')),\n",
    "    y='count:Q',\n",
    "    color='word:N',\n",
    "    facet='word:N'\n",
    ").properties(width=700, height=100, columns=1)"
   ]
  },
  {
   "cell_type": "markdown",
   "metadata": {},
   "source": [
    "Or perhaps you prefer bubblelines."
   ]
  },
  {
   "cell_type": "code",
   "execution_count": 19,
   "metadata": {},
   "outputs": [
    {
     "data": {
      "application/vnd.vegalite.v3+json": {
       "$schema": "https://vega.github.io/schema/vega-lite/v3.3.0.json",
       "config": {
        "mark": {
         "tooltip": null
        },
        "view": {
         "height": 300,
         "width": 400
        }
       },
       "data": {
        "name": "data-839fc6b7c272c15d4fbc6d6f0225cb57"
       },
       "datasets": {
        "data-839fc6b7c272c15d4fbc6d6f0225cb57": [
         {
          "count": 48,
          "word": "queen",
          "year": 1916
         },
         {
          "count": 51,
          "word": "queen",
          "year": 1917
         },
         {
          "count": 47,
          "word": "queen",
          "year": 1918
         },
         {
          "count": 86,
          "word": "queen",
          "year": 1919
         },
         {
          "count": 60,
          "word": "queen",
          "year": 1920
         },
         {
          "count": 55,
          "word": "queen",
          "year": 1921
         },
         {
          "count": 102,
          "word": "queen",
          "year": 1922
         },
         {
          "count": 64,
          "word": "queen",
          "year": 1923
         },
         {
          "count": 235,
          "word": "queen",
          "year": 1924
         },
         {
          "count": 94,
          "word": "queen",
          "year": 1925
         },
         {
          "count": 104,
          "word": "queen",
          "year": 1926
         },
         {
          "count": 103,
          "word": "queen",
          "year": 1927
         },
         {
          "count": 76,
          "word": "queen",
          "year": 1928
         },
         {
          "count": 72,
          "word": "queen",
          "year": 1929
         },
         {
          "count": 32,
          "word": "queen",
          "year": 1930
         },
         {
          "count": 154,
          "word": "queen",
          "year": 1931
         },
         {
          "count": 135,
          "word": "queen",
          "year": 1932
         },
         {
          "count": 45,
          "word": "queen",
          "year": 1933
         },
         {
          "count": 56,
          "word": "queen",
          "year": 1934
         },
         {
          "count": 139,
          "word": "queen",
          "year": 1935
         },
         {
          "count": 126,
          "word": "queen",
          "year": 1936
         },
         {
          "count": 95,
          "word": "queen",
          "year": 1937
         },
         {
          "count": 43,
          "word": "queen",
          "year": 1938
         },
         {
          "count": 26,
          "word": "queen",
          "year": 1939
         },
         {
          "count": 45,
          "word": "queen",
          "year": 1940
         },
         {
          "count": 81,
          "word": "queen",
          "year": 1941
         },
         {
          "count": 57,
          "word": "queen",
          "year": 1942
         },
         {
          "count": 42,
          "word": "queen",
          "year": 1943
         },
         {
          "count": 53,
          "word": "queen",
          "year": 1944
         },
         {
          "count": 39,
          "word": "queen",
          "year": 1945
         },
         {
          "count": 83,
          "word": "queen",
          "year": 1946
         },
         {
          "count": 100,
          "word": "queen",
          "year": 1947
         },
         {
          "count": 108,
          "word": "queen",
          "year": 1948
         },
         {
          "count": 74,
          "word": "queen",
          "year": 1949
         },
         {
          "count": 2,
          "word": "captain cook",
          "year": 1916
         },
         {
          "count": 5,
          "word": "captain cook",
          "year": 1917
         },
         {
          "count": 7,
          "word": "captain cook",
          "year": 1918
         },
         {
          "count": 6,
          "word": "captain cook",
          "year": 1919
         },
         {
          "count": 18,
          "word": "captain cook",
          "year": 1920
         },
         {
          "count": 5,
          "word": "captain cook",
          "year": 1921
         },
         {
          "count": 1,
          "word": "captain cook",
          "year": 1922
         },
         {
          "count": 1,
          "word": "captain cook",
          "year": 1923
         },
         {
          "count": 2,
          "word": "captain cook",
          "year": 1924
         },
         {
          "count": 5,
          "word": "captain cook",
          "year": 1925
         },
         {
          "count": 0,
          "word": "captain cook",
          "year": 1926
         },
         {
          "count": 12,
          "word": "captain cook",
          "year": 1927
         },
         {
          "count": 24,
          "word": "captain cook",
          "year": 1928
         },
         {
          "count": 1,
          "word": "captain cook",
          "year": 1929
         },
         {
          "count": 9,
          "word": "captain cook",
          "year": 1930
         },
         {
          "count": 3,
          "word": "captain cook",
          "year": 1931
         },
         {
          "count": 7,
          "word": "captain cook",
          "year": 1932
         },
         {
          "count": 1,
          "word": "captain cook",
          "year": 1933
         },
         {
          "count": 5,
          "word": "captain cook",
          "year": 1934
         },
         {
          "count": 3,
          "word": "captain cook",
          "year": 1935
         },
         {
          "count": 6,
          "word": "captain cook",
          "year": 1936
         },
         {
          "count": 5,
          "word": "captain cook",
          "year": 1937
         },
         {
          "count": 20,
          "word": "captain cook",
          "year": 1938
         },
         {
          "count": 46,
          "word": "captain cook",
          "year": 1939
         },
         {
          "count": 3,
          "word": "captain cook",
          "year": 1940
         },
         {
          "count": 1,
          "word": "captain cook",
          "year": 1941
         },
         {
          "count": 18,
          "word": "captain cook",
          "year": 1942
         },
         {
          "count": 2,
          "word": "captain cook",
          "year": 1943
         },
         {
          "count": 9,
          "word": "captain cook",
          "year": 1944
         },
         {
          "count": 13,
          "word": "captain cook",
          "year": 1945
         },
         {
          "count": 14,
          "word": "captain cook",
          "year": 1946
         },
         {
          "count": 19,
          "word": "captain cook",
          "year": 1947
         },
         {
          "count": 11,
          "word": "captain cook",
          "year": 1948
         },
         {
          "count": 3,
          "word": "captain cook",
          "year": 1949
         },
         {
          "count": 17,
          "word": "chinese",
          "year": 1916
         },
         {
          "count": 34,
          "word": "chinese",
          "year": 1917
         },
         {
          "count": 5,
          "word": "chinese",
          "year": 1918
         },
         {
          "count": 0,
          "word": "chinese",
          "year": 1919
         },
         {
          "count": 15,
          "word": "chinese",
          "year": 1920
         },
         {
          "count": 5,
          "word": "chinese",
          "year": 1921
         },
         {
          "count": 5,
          "word": "chinese",
          "year": 1922
         },
         {
          "count": 5,
          "word": "chinese",
          "year": 1923
         },
         {
          "count": 2,
          "word": "chinese",
          "year": 1924
         },
         {
          "count": 1,
          "word": "chinese",
          "year": 1925
         },
         {
          "count": 2,
          "word": "chinese",
          "year": 1926
         },
         {
          "count": 2,
          "word": "chinese",
          "year": 1927
         },
         {
          "count": 15,
          "word": "chinese",
          "year": 1928
         },
         {
          "count": 3,
          "word": "chinese",
          "year": 1929
         },
         {
          "count": 38,
          "word": "chinese",
          "year": 1930
         },
         {
          "count": 0,
          "word": "chinese",
          "year": 1931
         },
         {
          "count": 6,
          "word": "chinese",
          "year": 1932
         },
         {
          "count": 9,
          "word": "chinese",
          "year": 1933
         },
         {
          "count": 8,
          "word": "chinese",
          "year": 1934
         },
         {
          "count": 5,
          "word": "chinese",
          "year": 1935
         },
         {
          "count": 13,
          "word": "chinese",
          "year": 1936
         },
         {
          "count": 10,
          "word": "chinese",
          "year": 1937
         },
         {
          "count": 16,
          "word": "chinese",
          "year": 1938
         },
         {
          "count": 25,
          "word": "chinese",
          "year": 1939
         },
         {
          "count": 6,
          "word": "chinese",
          "year": 1940
         },
         {
          "count": 47,
          "word": "chinese",
          "year": 1941
         },
         {
          "count": 4,
          "word": "chinese",
          "year": 1942
         },
         {
          "count": 2,
          "word": "chinese",
          "year": 1943
         },
         {
          "count": 13,
          "word": "chinese",
          "year": 1944
         },
         {
          "count": 2,
          "word": "chinese",
          "year": 1945
         },
         {
          "count": 31,
          "word": "chinese",
          "year": 1946
         },
         {
          "count": 8,
          "word": "chinese",
          "year": 1947
         },
         {
          "count": 17,
          "word": "chinese",
          "year": 1948
         },
         {
          "count": 7,
          "word": "chinese",
          "year": 1949
         },
         {
          "count": 1,
          "word": "kangaroo",
          "year": 1916
         },
         {
          "count": 78,
          "word": "kangaroo",
          "year": 1917
         },
         {
          "count": 3,
          "word": "kangaroo",
          "year": 1918
         },
         {
          "count": 16,
          "word": "kangaroo",
          "year": 1919
         },
         {
          "count": 11,
          "word": "kangaroo",
          "year": 1920
         },
         {
          "count": 12,
          "word": "kangaroo",
          "year": 1921
         },
         {
          "count": 10,
          "word": "kangaroo",
          "year": 1922
         },
         {
          "count": 2,
          "word": "kangaroo",
          "year": 1923
         },
         {
          "count": 3,
          "word": "kangaroo",
          "year": 1924
         },
         {
          "count": 8,
          "word": "kangaroo",
          "year": 1925
         },
         {
          "count": 7,
          "word": "kangaroo",
          "year": 1926
         },
         {
          "count": 32,
          "word": "kangaroo",
          "year": 1927
         },
         {
          "count": 41,
          "word": "kangaroo",
          "year": 1928
         },
         {
          "count": 11,
          "word": "kangaroo",
          "year": 1929
         },
         {
          "count": 9,
          "word": "kangaroo",
          "year": 1930
         },
         {
          "count": 65,
          "word": "kangaroo",
          "year": 1931
         },
         {
          "count": 24,
          "word": "kangaroo",
          "year": 1932
         },
         {
          "count": 3,
          "word": "kangaroo",
          "year": 1933
         },
         {
          "count": 3,
          "word": "kangaroo",
          "year": 1934
         },
         {
          "count": 10,
          "word": "kangaroo",
          "year": 1935
         },
         {
          "count": 36,
          "word": "kangaroo",
          "year": 1936
         },
         {
          "count": 58,
          "word": "kangaroo",
          "year": 1937
         },
         {
          "count": 65,
          "word": "kangaroo",
          "year": 1938
         },
         {
          "count": 9,
          "word": "kangaroo",
          "year": 1939
         },
         {
          "count": 5,
          "word": "kangaroo",
          "year": 1940
         },
         {
          "count": 24,
          "word": "kangaroo",
          "year": 1941
         },
         {
          "count": 21,
          "word": "kangaroo",
          "year": 1942
         },
         {
          "count": 48,
          "word": "kangaroo",
          "year": 1943
         },
         {
          "count": 4,
          "word": "kangaroo",
          "year": 1944
         },
         {
          "count": 48,
          "word": "kangaroo",
          "year": 1945
         },
         {
          "count": 3,
          "word": "kangaroo",
          "year": 1946
         },
         {
          "count": 20,
          "word": "kangaroo",
          "year": 1947
         },
         {
          "count": 15,
          "word": "kangaroo",
          "year": 1948
         },
         {
          "count": 131,
          "word": "kangaroo",
          "year": 1949
         }
        ]
       },
       "encoding": {
        "color": {
         "field": "word",
         "legend": null,
         "type": "nominal"
        },
        "size": {
         "field": "count",
         "legend": {
          "title": "Frequency"
         },
         "scale": {
          "range": [
           0,
           2000
          ]
         },
         "type": "quantitative"
        },
        "tooltip": [
         {
          "field": "word",
          "title": "Word",
          "type": "nominal"
         },
         {
          "field": "year",
          "title": "Year",
          "type": "ordinal"
         },
         {
          "field": "count",
          "format": ",",
          "title": "Frequency",
          "type": "quantitative"
         }
        ],
        "x": {
         "axis": {
          "format": "c",
          "labelAngle": 0,
          "title": "Year"
         },
         "field": "year",
         "type": "ordinal"
        },
        "y": {
         "field": "word",
         "title": "Word",
         "type": "nominal"
        }
       },
       "height": 300,
       "mark": {
        "opacity": 0.8,
        "stroke": "black",
        "strokeWidth": 1,
        "type": "circle"
       },
       "width": 700
      },
      "image/png": "[encoded data removed]",
      "text/plain": [
       "<VegaLite 3 object>\n",
       "\n",
       "If you see this message, it means the renderer has not been properly enabled\n",
       "for the frontend that you are using. For more information, see\n",
       "https://altair-viz.github.io/user_guide/troubleshooting.html\n"
      ]
     },
     "execution_count": 19,
     "metadata": {},
     "output_type": "execute_result"
    }
   ],
   "source": [
    "# Create a chart\n",
    "alt.Chart(df_words.loc[df_words['year'] > 0]).mark_circle(\n",
    "    \n",
    "    # Style the circles\n",
    "    opacity=0.8,\n",
    "    stroke='black',\n",
    "    strokeWidth=1\n",
    ").encode(\n",
    "    \n",
    "    # Year on the X axis\n",
    "    x=alt.X('year:O', axis=alt.Axis(format='c', title='Year', labelAngle=0)),\n",
    "    \n",
    "    # Object type on the Y axis\n",
    "    y=alt.Y('word:N', title='Word'),\n",
    "    \n",
    "    # Size of the circles represents the number of objects\n",
    "    size=alt.Size('count:Q',\n",
    "        scale=alt.Scale(range=[0, 2000]),\n",
    "        legend=alt.Legend(title='Frequency')\n",
    "    ),\n",
    "    \n",
    "    # Color the circles by object type\n",
    "    color=alt.Color('word:N', legend=None),\n",
    "    \n",
    "    # More details on hover\n",
    "    tooltip=[alt.Tooltip('word:N', title='Word'), alt.Tooltip('year:O', title='Year'), alt.Tooltip('count:Q', title='Frequency', format=',')]\n",
    ").properties(\n",
    "    width=700,\n",
    "    height=300\n",
    ")"
   ]
  },
  {
   "cell_type": "code",
   "execution_count": null,
   "metadata": {},
   "outputs": [],
   "source": []
  }
 ],
 "metadata": {
  "kernelspec": {
   "display_name": "Python 3",
   "language": "python",
   "name": "python3"
  },
  "language_info": {
   "codemirror_mode": {
    "name": "ipython",
    "version": 3
   },
   "file_extension": ".py",
   "mimetype": "text/x-python",
   "name": "python",
   "nbconvert_exporter": "python",
   "pygments_lexer": "ipython3",
   "version": "3.7.3"
  }
 },
 "nbformat": 4,
 "nbformat_minor": 4
}
