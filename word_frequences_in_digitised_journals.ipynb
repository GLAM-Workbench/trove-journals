{
 "cells": [
  {
   "cell_type": "markdown",
   "metadata": {},
   "source": [
    "# Word frequencies in digitised journals\n",
    "\n",
    "This notebook uses word frequency to explore the [OCRd texts harvested](Download-text-for-all-digitised-journals.ipynb) from Trove's digitised journals. More documentation coming..."
   ]
  },
  {
   "cell_type": "code",
   "execution_count": 1,
   "metadata": {},
   "outputs": [],
   "source": [
    "import re\n",
    "import tarfile\n",
    "import zipfile\n",
    "from io import BytesIO\n",
    "import pandas as pd\n",
    "import requests\n",
    "from tqdm.auto import tqdm\n",
    "import altair as alt\n",
    "import os\n",
    "from pathlib import Path\n",
    "import ipywidgets as widgets\n",
    "from sklearn.feature_extraction.text import TfidfVectorizer, CountVectorizer\n",
    "import numpy as np"
   ]
  },
  {
   "cell_type": "markdown",
   "metadata": {},
   "source": [
    "## Select a journal\n",
    "\n",
    "Create a dropdown widget to select a digitised journal. The cells below will use this widget to get the value of the currently selected journal."
   ]
  },
  {
   "cell_type": "code",
   "execution_count": 2,
   "metadata": {},
   "outputs": [
    {
     "data": {
      "application/vnd.jupyter.widget-view+json": {
       "model_id": "faa8bea49e3e46d3ad0202400027d0a9",
       "version_major": 2,
       "version_minor": 0
      },
      "text/plain": [
       "Dropdown(options=(('\"Coo-ee!\" (Bishops Knoll Hospital (Bristol, England)) (12 issues)', 'coo-ee-bishops-knoll-…"
      ]
     },
     "metadata": {},
     "output_type": "display_data"
    }
   ],
   "source": [
    "# Load details of digitised journals from CSV\n",
    "df_journals = pd.read_csv('digital-journals-with-text.csv').sort_values(by='title')\n",
    "journal_list = [(f\"{j['title']} ({j['issues_with_text']} issues)\", j['directory']) for j in df_journals[['title', 'directory', 'issues_with_text']].to_dict('records')]\n",
    "journals = widgets.Dropdown(options=journal_list, disabled=False)\n",
    "display(journals)"
   ]
  },
  {
   "cell_type": "markdown",
   "metadata": {},
   "source": [
    "## Download all the issues of the journal"
   ]
  },
  {
   "cell_type": "code",
   "execution_count": 3,
   "metadata": {},
   "outputs": [],
   "source": [
    "def get_docs_path(journal):\n",
    "    path = os.path.join('downloads', journal, 'texts')\n",
    "    docs_path = [p for p in sorted(Path(path).glob('*.txt'))]\n",
    "    return docs_path\n",
    "\n",
    "def download_journal(journal):\n",
    "    path = os.path.join('downloads', journal)\n",
    "    os.makedirs(path, exist_ok=True)\n",
    "    params = {\n",
    "        'path': f'/{journal}/texts'\n",
    "    }\n",
    "    response = requests.get('https://cloudstor.aarnet.edu.au/plus/s/QOmnqpGQCNCSC2h/download', params=params)\n",
    "    zipped = zipfile.ZipFile(BytesIO(response.content))\n",
    "    zipped.extractall(path)\n",
    "    print(f'{len(get_docs_path(journal))} issues downloaded')"
   ]
  },
  {
   "cell_type": "code",
   "execution_count": 4,
   "metadata": {},
   "outputs": [
    {
     "name": "stdout",
     "output_type": "stream",
     "text": [
      "12 issues downloaded\n"
     ]
    }
   ],
   "source": [
    "download_journal(journals.value)"
   ]
  },
  {
   "cell_type": "markdown",
   "metadata": {},
   "source": [
    "## Calculate word frequencies"
   ]
  },
  {
   "cell_type": "code",
   "execution_count": 5,
   "metadata": {},
   "outputs": [],
   "source": [
    "def get_docs(journal):\n",
    "    docs_path = get_docs_path(journal)\n",
    "    for p in docs_path:\n",
    "        yield p.read_text(encoding='utf-8').strip()\n",
    "\n",
    "def get_file_names(journal):\n",
    "    return [p.stem for p in get_docs_path(journal)]"
   ]
  },
  {
   "cell_type": "code",
   "execution_count": 6,
   "metadata": {},
   "outputs": [],
   "source": [
    "# Remove numbers\n",
    "# preprocessor = lambda x: re.sub(r'\\b(\\w*\\d\\w*)\\b', 'NUM', x.lower())\n",
    "vectorizer = CountVectorizer(\n",
    "    stop_words='english', \n",
    "    ngram_range=(1,1), \n",
    "    token_pattern='[a-z]{3,}', \n",
    "    lowercase=True, \n",
    "    max_features=100000\n",
    ")\n",
    "\n",
    "X_freq = np.asarray(vectorizer.fit_transform(get_docs(journals.value)).todense())\n",
    "df_freq = pd.DataFrame(X_freq, columns=vectorizer.get_feature_names(), index=get_file_names(journals.value))"
   ]
  },
  {
   "cell_type": "code",
   "execution_count": 7,
   "metadata": {},
   "outputs": [],
   "source": [
    "# Save to CSV\n",
    "df_freq.to_csv(f'{journals.value}-word-frequencies.csv')"
   ]
  },
  {
   "cell_type": "code",
   "execution_count": 8,
   "metadata": {},
   "outputs": [],
   "source": [
    "np.save(f'{journals.value}-word-frequencies.npy', X_freq)"
   ]
  },
  {
   "cell_type": "code",
   "execution_count": 9,
   "metadata": {},
   "outputs": [
    {
     "data": {
      "text/plain": [
       "(12, 15893)"
      ]
     },
     "execution_count": 9,
     "metadata": {},
     "output_type": "execute_result"
    }
   ],
   "source": [
    "df_freq.shape"
   ]
  },
  {
   "cell_type": "code",
   "execution_count": 10,
   "metadata": {},
   "outputs": [],
   "source": [
    "totals = df_freq.sum().to_frame().reset_index()"
   ]
  },
  {
   "cell_type": "code",
   "execution_count": 11,
   "metadata": {},
   "outputs": [],
   "source": [
    "totals.columns = ['word', 'count']"
   ]
  },
  {
   "cell_type": "code",
   "execution_count": 12,
   "metadata": {},
   "outputs": [
    {
     "data": {
      "text/plain": [
       "(33, 2)"
      ]
     },
     "execution_count": 12,
     "metadata": {},
     "output_type": "execute_result"
    }
   ],
   "source": [
    "totals.loc[totals['count'] > 180].shape"
   ]
  },
  {
   "cell_type": "code",
   "execution_count": 13,
   "metadata": {},
   "outputs": [
    {
     "data": {
      "text/html": [
       "<div>\n",
       "<style scoped>\n",
       "    .dataframe tbody tr th:only-of-type {\n",
       "        vertical-align: middle;\n",
       "    }\n",
       "\n",
       "    .dataframe tbody tr th {\n",
       "        vertical-align: top;\n",
       "    }\n",
       "\n",
       "    .dataframe thead th {\n",
       "        text-align: right;\n",
       "    }\n",
       "</style>\n",
       "<table border=\"1\" class=\"dataframe\">\n",
       "  <thead>\n",
       "    <tr style=\"text-align: right;\">\n",
       "      <th></th>\n",
       "      <th>word</th>\n",
       "      <th>count</th>\n",
       "    </tr>\n",
       "  </thead>\n",
       "  <tbody>\n",
       "    <tr>\n",
       "      <th>0</th>\n",
       "      <td>abandoned</td>\n",
       "      <td>3</td>\n",
       "    </tr>\n",
       "    <tr>\n",
       "      <th>1</th>\n",
       "      <td>abate</td>\n",
       "      <td>2</td>\n",
       "    </tr>\n",
       "    <tr>\n",
       "      <th>2</th>\n",
       "      <td>abberration</td>\n",
       "      <td>1</td>\n",
       "    </tr>\n",
       "    <tr>\n",
       "      <th>3</th>\n",
       "      <td>abberrations</td>\n",
       "      <td>1</td>\n",
       "    </tr>\n",
       "    <tr>\n",
       "      <th>4</th>\n",
       "      <td>abbey</td>\n",
       "      <td>9</td>\n",
       "    </tr>\n",
       "    <tr>\n",
       "      <th>...</th>\n",
       "      <td>...</td>\n",
       "      <td>...</td>\n",
       "    </tr>\n",
       "    <tr>\n",
       "      <th>15888</th>\n",
       "      <td>zoo</td>\n",
       "      <td>8</td>\n",
       "    </tr>\n",
       "    <tr>\n",
       "      <th>15889</th>\n",
       "      <td>zoological</td>\n",
       "      <td>1</td>\n",
       "    </tr>\n",
       "    <tr>\n",
       "      <th>15890</th>\n",
       "      <td>zoologist</td>\n",
       "      <td>1</td>\n",
       "    </tr>\n",
       "    <tr>\n",
       "      <th>15891</th>\n",
       "      <td>zur</td>\n",
       "      <td>1</td>\n",
       "    </tr>\n",
       "    <tr>\n",
       "      <th>15892</th>\n",
       "      <td>zyork</td>\n",
       "      <td>1</td>\n",
       "    </tr>\n",
       "  </tbody>\n",
       "</table>\n",
       "<p>15893 rows × 2 columns</p>\n",
       "</div>"
      ],
      "text/plain": [
       "               word  count\n",
       "0         abandoned      3\n",
       "1             abate      2\n",
       "2       abberration      1\n",
       "3      abberrations      1\n",
       "4             abbey      9\n",
       "...             ...    ...\n",
       "15888           zoo      8\n",
       "15889    zoological      1\n",
       "15890     zoologist      1\n",
       "15891           zur      1\n",
       "15892         zyork      1\n",
       "\n",
       "[15893 rows x 2 columns]"
      ]
     },
     "execution_count": 13,
     "metadata": {},
     "output_type": "execute_result"
    }
   ],
   "source": [
    "totals"
   ]
  },
  {
   "cell_type": "markdown",
   "metadata": {},
   "source": [
    "## Most frequent words in the journal\n",
    "\n",
    "Change the number as you wish."
   ]
  },
  {
   "cell_type": "code",
   "execution_count": 14,
   "metadata": {},
   "outputs": [
    {
     "data": {
      "text/plain": [
       "pte           927\n",
       "bristol       499\n",
       "time          432\n",
       "day           399\n",
       "private       387\n",
       "good          371\n",
       "hospital      352\n",
       "old           351\n",
       "coo           333\n",
       "man           319\n",
       "men           314\n",
       "war           307\n",
       "great         295\n",
       "said          291\n",
       "just          258\n",
       "knoll         254\n",
       "little        249\n",
       "like          247\n",
       "australian    241\n",
       "bishop        226\n",
       "dtype: int64"
      ]
     },
     "execution_count": 14,
     "metadata": {},
     "output_type": "execute_result"
    }
   ],
   "source": [
    "df_freq.sum().nlargest(20)"
   ]
  },
  {
   "cell_type": "markdown",
   "metadata": {},
   "source": [
    "## Frequency of a specific word"
   ]
  },
  {
   "cell_type": "code",
   "execution_count": 15,
   "metadata": {},
   "outputs": [],
   "source": [
    "word = 'chinese'"
   ]
  },
  {
   "cell_type": "code",
   "execution_count": 16,
   "metadata": {},
   "outputs": [
    {
     "ename": "KeyError",
     "evalue": "'chinese'",
     "output_type": "error",
     "traceback": [
      "\u001b[0;31m---------------------------------------------------------------------------\u001b[0m",
      "\u001b[0;31mKeyError\u001b[0m                                  Traceback (most recent call last)",
      "\u001b[0;32m/Volumes/Workspace/mycode/glam-workbench/trove-journals/lib/python3.7/site-packages/pandas/core/indexes/base.py\u001b[0m in \u001b[0;36mget_loc\u001b[0;34m(self, key, method, tolerance)\u001b[0m\n\u001b[1;32m   2645\u001b[0m             \u001b[0;32mtry\u001b[0m\u001b[0;34m:\u001b[0m\u001b[0;34m\u001b[0m\u001b[0;34m\u001b[0m\u001b[0m\n\u001b[0;32m-> 2646\u001b[0;31m                 \u001b[0;32mreturn\u001b[0m \u001b[0mself\u001b[0m\u001b[0;34m.\u001b[0m\u001b[0m_engine\u001b[0m\u001b[0;34m.\u001b[0m\u001b[0mget_loc\u001b[0m\u001b[0;34m(\u001b[0m\u001b[0mkey\u001b[0m\u001b[0;34m)\u001b[0m\u001b[0;34m\u001b[0m\u001b[0;34m\u001b[0m\u001b[0m\n\u001b[0m\u001b[1;32m   2647\u001b[0m             \u001b[0;32mexcept\u001b[0m \u001b[0mKeyError\u001b[0m\u001b[0;34m:\u001b[0m\u001b[0;34m\u001b[0m\u001b[0;34m\u001b[0m\u001b[0m\n",
      "\u001b[0;32mpandas/_libs/index.pyx\u001b[0m in \u001b[0;36mpandas._libs.index.IndexEngine.get_loc\u001b[0;34m()\u001b[0m\n",
      "\u001b[0;32mpandas/_libs/index.pyx\u001b[0m in \u001b[0;36mpandas._libs.index.IndexEngine.get_loc\u001b[0;34m()\u001b[0m\n",
      "\u001b[0;32mpandas/_libs/hashtable_class_helper.pxi\u001b[0m in \u001b[0;36mpandas._libs.hashtable.PyObjectHashTable.get_item\u001b[0;34m()\u001b[0m\n",
      "\u001b[0;32mpandas/_libs/hashtable_class_helper.pxi\u001b[0m in \u001b[0;36mpandas._libs.hashtable.PyObjectHashTable.get_item\u001b[0;34m()\u001b[0m\n",
      "\u001b[0;31mKeyError\u001b[0m: 'chinese'",
      "\nDuring handling of the above exception, another exception occurred:\n",
      "\u001b[0;31mKeyError\u001b[0m                                  Traceback (most recent call last)",
      "\u001b[0;32m<ipython-input-16-3d9c3ee23f74>\u001b[0m in \u001b[0;36m<module>\u001b[0;34m\u001b[0m\n\u001b[1;32m      1\u001b[0m \u001b[0;31m# If the word's not in the index you'll get a KeyError -- don't worry about it, just try another word!!\u001b[0m\u001b[0;34m\u001b[0m\u001b[0;34m\u001b[0m\u001b[0;34m\u001b[0m\u001b[0m\n\u001b[0;32m----> 2\u001b[0;31m \u001b[0mdf_freq\u001b[0m\u001b[0;34m[\u001b[0m\u001b[0mword\u001b[0m\u001b[0;34m]\u001b[0m\u001b[0;34m.\u001b[0m\u001b[0msum\u001b[0m\u001b[0;34m(\u001b[0m\u001b[0;34m)\u001b[0m\u001b[0;34m\u001b[0m\u001b[0;34m\u001b[0m\u001b[0m\n\u001b[0m",
      "\u001b[0;32m/Volumes/Workspace/mycode/glam-workbench/trove-journals/lib/python3.7/site-packages/pandas/core/frame.py\u001b[0m in \u001b[0;36m__getitem__\u001b[0;34m(self, key)\u001b[0m\n\u001b[1;32m   2798\u001b[0m             \u001b[0;32mif\u001b[0m \u001b[0mself\u001b[0m\u001b[0;34m.\u001b[0m\u001b[0mcolumns\u001b[0m\u001b[0;34m.\u001b[0m\u001b[0mnlevels\u001b[0m \u001b[0;34m>\u001b[0m \u001b[0;36m1\u001b[0m\u001b[0;34m:\u001b[0m\u001b[0;34m\u001b[0m\u001b[0;34m\u001b[0m\u001b[0m\n\u001b[1;32m   2799\u001b[0m                 \u001b[0;32mreturn\u001b[0m \u001b[0mself\u001b[0m\u001b[0;34m.\u001b[0m\u001b[0m_getitem_multilevel\u001b[0m\u001b[0;34m(\u001b[0m\u001b[0mkey\u001b[0m\u001b[0;34m)\u001b[0m\u001b[0;34m\u001b[0m\u001b[0;34m\u001b[0m\u001b[0m\n\u001b[0;32m-> 2800\u001b[0;31m             \u001b[0mindexer\u001b[0m \u001b[0;34m=\u001b[0m \u001b[0mself\u001b[0m\u001b[0;34m.\u001b[0m\u001b[0mcolumns\u001b[0m\u001b[0;34m.\u001b[0m\u001b[0mget_loc\u001b[0m\u001b[0;34m(\u001b[0m\u001b[0mkey\u001b[0m\u001b[0;34m)\u001b[0m\u001b[0;34m\u001b[0m\u001b[0;34m\u001b[0m\u001b[0m\n\u001b[0m\u001b[1;32m   2801\u001b[0m             \u001b[0;32mif\u001b[0m \u001b[0mis_integer\u001b[0m\u001b[0;34m(\u001b[0m\u001b[0mindexer\u001b[0m\u001b[0;34m)\u001b[0m\u001b[0;34m:\u001b[0m\u001b[0;34m\u001b[0m\u001b[0;34m\u001b[0m\u001b[0m\n\u001b[1;32m   2802\u001b[0m                 \u001b[0mindexer\u001b[0m \u001b[0;34m=\u001b[0m \u001b[0;34m[\u001b[0m\u001b[0mindexer\u001b[0m\u001b[0;34m]\u001b[0m\u001b[0;34m\u001b[0m\u001b[0;34m\u001b[0m\u001b[0m\n",
      "\u001b[0;32m/Volumes/Workspace/mycode/glam-workbench/trove-journals/lib/python3.7/site-packages/pandas/core/indexes/base.py\u001b[0m in \u001b[0;36mget_loc\u001b[0;34m(self, key, method, tolerance)\u001b[0m\n\u001b[1;32m   2646\u001b[0m                 \u001b[0;32mreturn\u001b[0m \u001b[0mself\u001b[0m\u001b[0;34m.\u001b[0m\u001b[0m_engine\u001b[0m\u001b[0;34m.\u001b[0m\u001b[0mget_loc\u001b[0m\u001b[0;34m(\u001b[0m\u001b[0mkey\u001b[0m\u001b[0;34m)\u001b[0m\u001b[0;34m\u001b[0m\u001b[0;34m\u001b[0m\u001b[0m\n\u001b[1;32m   2647\u001b[0m             \u001b[0;32mexcept\u001b[0m \u001b[0mKeyError\u001b[0m\u001b[0;34m:\u001b[0m\u001b[0;34m\u001b[0m\u001b[0;34m\u001b[0m\u001b[0m\n\u001b[0;32m-> 2648\u001b[0;31m                 \u001b[0;32mreturn\u001b[0m \u001b[0mself\u001b[0m\u001b[0;34m.\u001b[0m\u001b[0m_engine\u001b[0m\u001b[0;34m.\u001b[0m\u001b[0mget_loc\u001b[0m\u001b[0;34m(\u001b[0m\u001b[0mself\u001b[0m\u001b[0;34m.\u001b[0m\u001b[0m_maybe_cast_indexer\u001b[0m\u001b[0;34m(\u001b[0m\u001b[0mkey\u001b[0m\u001b[0;34m)\u001b[0m\u001b[0;34m)\u001b[0m\u001b[0;34m\u001b[0m\u001b[0;34m\u001b[0m\u001b[0m\n\u001b[0m\u001b[1;32m   2649\u001b[0m         \u001b[0mindexer\u001b[0m \u001b[0;34m=\u001b[0m \u001b[0mself\u001b[0m\u001b[0;34m.\u001b[0m\u001b[0mget_indexer\u001b[0m\u001b[0;34m(\u001b[0m\u001b[0;34m[\u001b[0m\u001b[0mkey\u001b[0m\u001b[0;34m]\u001b[0m\u001b[0;34m,\u001b[0m \u001b[0mmethod\u001b[0m\u001b[0;34m=\u001b[0m\u001b[0mmethod\u001b[0m\u001b[0;34m,\u001b[0m \u001b[0mtolerance\u001b[0m\u001b[0;34m=\u001b[0m\u001b[0mtolerance\u001b[0m\u001b[0;34m)\u001b[0m\u001b[0;34m\u001b[0m\u001b[0;34m\u001b[0m\u001b[0m\n\u001b[1;32m   2650\u001b[0m         \u001b[0;32mif\u001b[0m \u001b[0mindexer\u001b[0m\u001b[0;34m.\u001b[0m\u001b[0mndim\u001b[0m \u001b[0;34m>\u001b[0m \u001b[0;36m1\u001b[0m \u001b[0;32mor\u001b[0m \u001b[0mindexer\u001b[0m\u001b[0;34m.\u001b[0m\u001b[0msize\u001b[0m \u001b[0;34m>\u001b[0m \u001b[0;36m1\u001b[0m\u001b[0;34m:\u001b[0m\u001b[0;34m\u001b[0m\u001b[0;34m\u001b[0m\u001b[0m\n",
      "\u001b[0;32mpandas/_libs/index.pyx\u001b[0m in \u001b[0;36mpandas._libs.index.IndexEngine.get_loc\u001b[0;34m()\u001b[0m\n",
      "\u001b[0;32mpandas/_libs/index.pyx\u001b[0m in \u001b[0;36mpandas._libs.index.IndexEngine.get_loc\u001b[0;34m()\u001b[0m\n",
      "\u001b[0;32mpandas/_libs/hashtable_class_helper.pxi\u001b[0m in \u001b[0;36mpandas._libs.hashtable.PyObjectHashTable.get_item\u001b[0;34m()\u001b[0m\n",
      "\u001b[0;32mpandas/_libs/hashtable_class_helper.pxi\u001b[0m in \u001b[0;36mpandas._libs.hashtable.PyObjectHashTable.get_item\u001b[0;34m()\u001b[0m\n",
      "\u001b[0;31mKeyError\u001b[0m: 'chinese'"
     ]
    }
   ],
   "source": [
    "# If the word's not in the index you'll get a KeyError -- don't worry about it, just try another word!!\n",
    "df_freq[word].sum()"
   ]
  },
  {
   "cell_type": "markdown",
   "metadata": {},
   "source": [
    "Find the issue that this word occurs in most frequently."
   ]
  },
  {
   "cell_type": "code",
   "execution_count": 105,
   "metadata": {},
   "outputs": [
    {
     "data": {
      "text/plain": [
       "'the-bulletin-vol-9-no-0428-14-apr-1888-nla.obj-706788911'"
      ]
     },
     "execution_count": 105,
     "metadata": {},
     "output_type": "execute_result"
    }
   ],
   "source": [
    "df_freq[word].idxmax()"
   ]
  },
  {
   "cell_type": "markdown",
   "metadata": {},
   "source": [
    "## Most frequent words per issue\n",
    "\n",
    "Get the most frequent words for each issue of the journal. Set `num_words` to the number of words you want to show."
   ]
  },
  {
   "cell_type": "code",
   "execution_count": 17,
   "metadata": {},
   "outputs": [
    {
     "data": {
      "text/html": [
       "<div>\n",
       "<style scoped>\n",
       "    .dataframe tbody tr th:only-of-type {\n",
       "        vertical-align: middle;\n",
       "    }\n",
       "\n",
       "    .dataframe tbody tr th {\n",
       "        vertical-align: top;\n",
       "    }\n",
       "\n",
       "    .dataframe thead th {\n",
       "        text-align: right;\n",
       "    }\n",
       "</style>\n",
       "<table border=\"1\" class=\"dataframe\">\n",
       "  <thead>\n",
       "    <tr style=\"text-align: right;\">\n",
       "      <th></th>\n",
       "      <th>0</th>\n",
       "      <th>1</th>\n",
       "      <th>2</th>\n",
       "      <th>3</th>\n",
       "      <th>4</th>\n",
       "      <th>5</th>\n",
       "      <th>6</th>\n",
       "      <th>7</th>\n",
       "      <th>8</th>\n",
       "      <th>9</th>\n",
       "      <th>10</th>\n",
       "      <th>11</th>\n",
       "      <th>12</th>\n",
       "      <th>13</th>\n",
       "      <th>14</th>\n",
       "      <th>15</th>\n",
       "      <th>16</th>\n",
       "      <th>17</th>\n",
       "      <th>18</th>\n",
       "      <th>19</th>\n",
       "    </tr>\n",
       "  </thead>\n",
       "  <tbody>\n",
       "    <tr>\n",
       "      <th>coo-ee-the-journal-of-the-bishops-knoll-hospital-b-issue-vol-i-no-10-bristol-august-24th-nla.obj-15922909</th>\n",
       "      <td>pte</td>\n",
       "      <td>bristol</td>\n",
       "      <td>hospital</td>\n",
       "      <td>day</td>\n",
       "      <td>time</td>\n",
       "      <td>war</td>\n",
       "      <td>milk</td>\n",
       "      <td>coo</td>\n",
       "      <td>little</td>\n",
       "      <td>great</td>\n",
       "      <td>good</td>\n",
       "      <td>private</td>\n",
       "      <td>australian</td>\n",
       "      <td>new</td>\n",
       "      <td>patients</td>\n",
       "      <td>home</td>\n",
       "      <td>old</td>\n",
       "      <td>work</td>\n",
       "      <td>boys</td>\n",
       "      <td>given</td>\n",
       "    </tr>\n",
       "    <tr>\n",
       "      <th>coo-ee-the-journal-of-the-bishops-knoll-hospital-b-issue-volume-1-no-12-nla.obj-9878439</th>\n",
       "      <td>pte</td>\n",
       "      <td>private</td>\n",
       "      <td>good</td>\n",
       "      <td>hospital</td>\n",
       "      <td>knoll</td>\n",
       "      <td>time</td>\n",
       "      <td>bishop</td>\n",
       "      <td>bristol</td>\n",
       "      <td>round</td>\n",
       "      <td>men</td>\n",
       "      <td>say</td>\n",
       "      <td>man</td>\n",
       "      <td>western</td>\n",
       "      <td>right</td>\n",
       "      <td>war</td>\n",
       "      <td>australian</td>\n",
       "      <td>day</td>\n",
       "      <td>great</td>\n",
       "      <td>half</td>\n",
       "      <td>ward</td>\n",
       "    </tr>\n",
       "    <tr>\n",
       "      <th>coo-ee-the-journal-of-the-bishops-knoll-hospital-b-issue-volume-1-number-9-nla.obj-9139951</th>\n",
       "      <td>pte</td>\n",
       "      <td>just</td>\n",
       "      <td>time</td>\n",
       "      <td>old</td>\n",
       "      <td>private</td>\n",
       "      <td>war</td>\n",
       "      <td>hospital</td>\n",
       "      <td>said</td>\n",
       "      <td>good</td>\n",
       "      <td>bristol</td>\n",
       "      <td>day</td>\n",
       "      <td>man</td>\n",
       "      <td>way</td>\n",
       "      <td>coo</td>\n",
       "      <td>men</td>\n",
       "      <td>know</td>\n",
       "      <td>long</td>\n",
       "      <td>did</td>\n",
       "      <td>knoll</td>\n",
       "      <td>little</td>\n",
       "    </tr>\n",
       "    <tr>\n",
       "      <th>coo-ee-the-journal-of-the-bishops-knoll-hospital-b-volume-1-number-1-nla.obj-8447243</th>\n",
       "      <td>pte</td>\n",
       "      <td>bristol</td>\n",
       "      <td>coo</td>\n",
       "      <td>war</td>\n",
       "      <td>knoll</td>\n",
       "      <td>old</td>\n",
       "      <td>time</td>\n",
       "      <td>bishop</td>\n",
       "      <td>day</td>\n",
       "      <td>hospital</td>\n",
       "      <td>great</td>\n",
       "      <td>australia</td>\n",
       "      <td>patients</td>\n",
       "      <td>came</td>\n",
       "      <td>days</td>\n",
       "      <td>long</td>\n",
       "      <td>plain</td>\n",
       "      <td>south</td>\n",
       "      <td>way</td>\n",
       "      <td>like</td>\n",
       "    </tr>\n",
       "    <tr>\n",
       "      <th>coo-ee-the-journal-of-the-bishops-knoll-hospital-b-volume-1-number-11-nla.obj-9557231</th>\n",
       "      <td>pte</td>\n",
       "      <td>private</td>\n",
       "      <td>bristol</td>\n",
       "      <td>coo</td>\n",
       "      <td>man</td>\n",
       "      <td>men</td>\n",
       "      <td>hospital</td>\n",
       "      <td>day</td>\n",
       "      <td>good</td>\n",
       "      <td>miss</td>\n",
       "      <td>old</td>\n",
       "      <td>time</td>\n",
       "      <td>patients</td>\n",
       "      <td>just</td>\n",
       "      <td>plain</td>\n",
       "      <td>great</td>\n",
       "      <td>round</td>\n",
       "      <td>australian</td>\n",
       "      <td>smith</td>\n",
       "      <td>ward</td>\n",
       "    </tr>\n",
       "  </tbody>\n",
       "</table>\n",
       "</div>"
      ],
      "text/plain": [
       "                                                      0        1         2  \\\n",
       "coo-ee-the-journal-of-the-bishops-knoll-hospita...  pte  bristol  hospital   \n",
       "coo-ee-the-journal-of-the-bishops-knoll-hospita...  pte  private      good   \n",
       "coo-ee-the-journal-of-the-bishops-knoll-hospita...  pte     just      time   \n",
       "coo-ee-the-journal-of-the-bishops-knoll-hospita...  pte  bristol       coo   \n",
       "coo-ee-the-journal-of-the-bishops-knoll-hospita...  pte  private   bristol   \n",
       "\n",
       "                                                           3        4     5  \\\n",
       "coo-ee-the-journal-of-the-bishops-knoll-hospita...       day     time   war   \n",
       "coo-ee-the-journal-of-the-bishops-knoll-hospita...  hospital    knoll  time   \n",
       "coo-ee-the-journal-of-the-bishops-knoll-hospita...       old  private   war   \n",
       "coo-ee-the-journal-of-the-bishops-knoll-hospita...       war    knoll   old   \n",
       "coo-ee-the-journal-of-the-bishops-knoll-hospita...       coo      man   men   \n",
       "\n",
       "                                                           6        7       8  \\\n",
       "coo-ee-the-journal-of-the-bishops-knoll-hospita...      milk      coo  little   \n",
       "coo-ee-the-journal-of-the-bishops-knoll-hospita...    bishop  bristol   round   \n",
       "coo-ee-the-journal-of-the-bishops-knoll-hospita...  hospital     said    good   \n",
       "coo-ee-the-journal-of-the-bishops-knoll-hospita...      time   bishop     day   \n",
       "coo-ee-the-journal-of-the-bishops-knoll-hospita...  hospital      day    good   \n",
       "\n",
       "                                                           9     10  \\\n",
       "coo-ee-the-journal-of-the-bishops-knoll-hospita...     great   good   \n",
       "coo-ee-the-journal-of-the-bishops-knoll-hospita...       men    say   \n",
       "coo-ee-the-journal-of-the-bishops-knoll-hospita...   bristol    day   \n",
       "coo-ee-the-journal-of-the-bishops-knoll-hospita...  hospital  great   \n",
       "coo-ee-the-journal-of-the-bishops-knoll-hospita...      miss    old   \n",
       "\n",
       "                                                           11          12  \\\n",
       "coo-ee-the-journal-of-the-bishops-knoll-hospita...    private  australian   \n",
       "coo-ee-the-journal-of-the-bishops-knoll-hospita...        man     western   \n",
       "coo-ee-the-journal-of-the-bishops-knoll-hospita...        man         way   \n",
       "coo-ee-the-journal-of-the-bishops-knoll-hospita...  australia    patients   \n",
       "coo-ee-the-journal-of-the-bishops-knoll-hospita...       time    patients   \n",
       "\n",
       "                                                       13        14  \\\n",
       "coo-ee-the-journal-of-the-bishops-knoll-hospita...    new  patients   \n",
       "coo-ee-the-journal-of-the-bishops-knoll-hospita...  right       war   \n",
       "coo-ee-the-journal-of-the-bishops-knoll-hospita...    coo       men   \n",
       "coo-ee-the-journal-of-the-bishops-knoll-hospita...   came      days   \n",
       "coo-ee-the-journal-of-the-bishops-knoll-hospita...   just     plain   \n",
       "\n",
       "                                                            15     16  \\\n",
       "coo-ee-the-journal-of-the-bishops-knoll-hospita...        home    old   \n",
       "coo-ee-the-journal-of-the-bishops-knoll-hospita...  australian    day   \n",
       "coo-ee-the-journal-of-the-bishops-knoll-hospita...        know   long   \n",
       "coo-ee-the-journal-of-the-bishops-knoll-hospita...        long  plain   \n",
       "coo-ee-the-journal-of-the-bishops-knoll-hospita...       great  round   \n",
       "\n",
       "                                                            17     18      19  \n",
       "coo-ee-the-journal-of-the-bishops-knoll-hospita...        work   boys   given  \n",
       "coo-ee-the-journal-of-the-bishops-knoll-hospita...       great   half    ward  \n",
       "coo-ee-the-journal-of-the-bishops-knoll-hospita...         did  knoll  little  \n",
       "coo-ee-the-journal-of-the-bishops-knoll-hospita...       south    way    like  \n",
       "coo-ee-the-journal-of-the-bishops-knoll-hospita...  australian  smith    ward  "
      ]
     },
     "execution_count": 17,
     "metadata": {},
     "output_type": "execute_result"
    }
   ],
   "source": [
    "# The number of words you want to show\n",
    "num_words = 20\n",
    "top_words = pd.DataFrame({n: df_freq.T[col].nlargest(num_words).index.tolist() for n, col in enumerate(df_freq.T)}).T\n",
    "top_words.index = get_file_names(journals.value)\n",
    "top_words.head()"
   ]
  },
  {
   "cell_type": "markdown",
   "metadata": {},
   "source": [
    "Get the top words for a specific issue."
   ]
  },
  {
   "cell_type": "code",
   "execution_count": 18,
   "metadata": {},
   "outputs": [
    {
     "data": {
      "text/html": [
       "<div>\n",
       "<style scoped>\n",
       "    .dataframe tbody tr th:only-of-type {\n",
       "        vertical-align: middle;\n",
       "    }\n",
       "\n",
       "    .dataframe tbody tr th {\n",
       "        vertical-align: top;\n",
       "    }\n",
       "\n",
       "    .dataframe thead th {\n",
       "        text-align: right;\n",
       "    }\n",
       "</style>\n",
       "<table border=\"1\" class=\"dataframe\">\n",
       "  <thead>\n",
       "    <tr style=\"text-align: right;\">\n",
       "      <th></th>\n",
       "      <th>0</th>\n",
       "      <th>1</th>\n",
       "      <th>2</th>\n",
       "      <th>3</th>\n",
       "      <th>4</th>\n",
       "      <th>5</th>\n",
       "      <th>6</th>\n",
       "      <th>7</th>\n",
       "      <th>8</th>\n",
       "      <th>9</th>\n",
       "      <th>10</th>\n",
       "      <th>11</th>\n",
       "      <th>12</th>\n",
       "      <th>13</th>\n",
       "      <th>14</th>\n",
       "      <th>15</th>\n",
       "      <th>16</th>\n",
       "      <th>17</th>\n",
       "      <th>18</th>\n",
       "      <th>19</th>\n",
       "    </tr>\n",
       "  </thead>\n",
       "  <tbody>\n",
       "  </tbody>\n",
       "</table>\n",
       "</div>"
      ],
      "text/plain": [
       "Empty DataFrame\n",
       "Columns: [0, 1, 2, 3, 4, 5, 6, 7, 8, 9, 10, 11, 12, 13, 14, 15, 16, 17, 18, 19]\n",
       "Index: []"
      ]
     },
     "execution_count": 18,
     "metadata": {},
     "output_type": "execute_result"
    }
   ],
   "source": [
    "top_words.loc[top_words.index.str.contains('nla.obj-774168904')]"
   ]
  },
  {
   "cell_type": "markdown",
   "metadata": {},
   "source": [
    "## Track word frequencies over time"
   ]
  },
  {
   "cell_type": "code",
   "execution_count": 19,
   "metadata": {},
   "outputs": [
    {
     "name": "stdout",
     "output_type": "stream",
     "text": [
      "YEAR NOT FOUND: coo-ee-the-journal-of-the-bishops-knoll-hospital-b-issue-vol-i-no-10-bristol-august-24th-nla.obj-15922909\n",
      "YEAR NOT FOUND: coo-ee-the-journal-of-the-bishops-knoll-hospital-b-issue-volume-1-no-12-nla.obj-9878439\n",
      "YEAR NOT FOUND: coo-ee-the-journal-of-the-bishops-knoll-hospital-b-issue-volume-1-number-9-nla.obj-9139951\n",
      "YEAR NOT FOUND: coo-ee-the-journal-of-the-bishops-knoll-hospital-b-volume-1-number-1-nla.obj-8447243\n",
      "YEAR NOT FOUND: coo-ee-the-journal-of-the-bishops-knoll-hospital-b-volume-1-number-11-nla.obj-9557231\n",
      "YEAR NOT FOUND: coo-ee-the-journal-of-the-bishops-knoll-hospital-b-volume-1-number-2-nla.obj-8452230\n",
      "YEAR NOT FOUND: coo-ee-the-journal-of-the-bishops-knoll-hospital-b-volume-1-number-3-nla.obj-8458012\n",
      "YEAR NOT FOUND: coo-ee-the-journal-of-the-bishops-knoll-hospital-b-volume-1-number-4-nla.obj-8465575\n",
      "YEAR NOT FOUND: coo-ee-the-journal-of-the-bishops-knoll-hospital-b-volume-1-number-5-nla.obj-8469716\n",
      "YEAR NOT FOUND: coo-ee-the-journal-of-the-bishops-knoll-hospital-b-volume-1-number-6-nla.obj-8473393\n",
      "YEAR NOT FOUND: coo-ee-the-journal-of-the-bishops-knoll-hospital-b-volume-1-number-7-nla.obj-8477277\n",
      "YEAR NOT FOUND: coo-ee-the-journal-of-the-bishops-knoll-hospital-b-volume-1-number-8-nla.obj-8480954\n"
     ]
    }
   ],
   "source": [
    "def extract_year(name):\n",
    "    '''\n",
    "    Try to extract the year from the filename.\n",
    "    '''\n",
    "    try:\n",
    "        years = re.findall(r'-((?:18|19|20)\\d{2})-', name)\n",
    "        year = int(years[-1])\n",
    "    except IndexError:\n",
    "        year = 0\n",
    "        print(f'YEAR NOT FOUND: {name}')\n",
    "    return year\n",
    "    \n",
    "df_freq['year'] = df_freq.apply(lambda x: extract_year(x.name), axis=1)"
   ]
  },
  {
   "cell_type": "code",
   "execution_count": 109,
   "metadata": {},
   "outputs": [
    {
     "data": {
      "text/html": [
       "<div>\n",
       "<style scoped>\n",
       "    .dataframe tbody tr th:only-of-type {\n",
       "        vertical-align: middle;\n",
       "    }\n",
       "\n",
       "    .dataframe tbody tr th {\n",
       "        vertical-align: top;\n",
       "    }\n",
       "\n",
       "    .dataframe thead th {\n",
       "        text-align: right;\n",
       "    }\n",
       "</style>\n",
       "<table border=\"1\" class=\"dataframe\">\n",
       "  <thead>\n",
       "    <tr style=\"text-align: right;\">\n",
       "      <th></th>\n",
       "      <th>0</th>\n",
       "      <th>1</th>\n",
       "      <th>2</th>\n",
       "      <th>3</th>\n",
       "      <th>4</th>\n",
       "      <th>5</th>\n",
       "      <th>6</th>\n",
       "      <th>7</th>\n",
       "      <th>8</th>\n",
       "      <th>9</th>\n",
       "    </tr>\n",
       "  </thead>\n",
       "  <tbody>\n",
       "    <tr>\n",
       "      <th>0</th>\n",
       "      <td>said</td>\n",
       "      <td>man</td>\n",
       "      <td>sydney</td>\n",
       "      <td>street</td>\n",
       "      <td>old</td>\n",
       "      <td>like</td>\n",
       "      <td>time</td>\n",
       "      <td>new</td>\n",
       "      <td>good</td>\n",
       "      <td>little</td>\n",
       "    </tr>\n",
       "    <tr>\n",
       "      <th>1880</th>\n",
       "      <td>sydney</td>\n",
       "      <td>street</td>\n",
       "      <td>new</td>\n",
       "      <td>man</td>\n",
       "      <td>good</td>\n",
       "      <td>george</td>\n",
       "      <td>time</td>\n",
       "      <td>great</td>\n",
       "      <td>said</td>\n",
       "      <td>melbourne</td>\n",
       "    </tr>\n",
       "    <tr>\n",
       "      <th>1881</th>\n",
       "      <td>street</td>\n",
       "      <td>sydney</td>\n",
       "      <td>new</td>\n",
       "      <td>man</td>\n",
       "      <td>day</td>\n",
       "      <td>good</td>\n",
       "      <td>time</td>\n",
       "      <td>great</td>\n",
       "      <td>said</td>\n",
       "      <td>best</td>\n",
       "    </tr>\n",
       "    <tr>\n",
       "      <th>1882</th>\n",
       "      <td>street</td>\n",
       "      <td>sydney</td>\n",
       "      <td>man</td>\n",
       "      <td>new</td>\n",
       "      <td>tho</td>\n",
       "      <td>time</td>\n",
       "      <td>day</td>\n",
       "      <td>good</td>\n",
       "      <td>old</td>\n",
       "      <td>said</td>\n",
       "    </tr>\n",
       "    <tr>\n",
       "      <th>1883</th>\n",
       "      <td>street</td>\n",
       "      <td>sydney</td>\n",
       "      <td>man</td>\n",
       "      <td>new</td>\n",
       "      <td>time</td>\n",
       "      <td>tho</td>\n",
       "      <td>day</td>\n",
       "      <td>good</td>\n",
       "      <td>old</td>\n",
       "      <td>little</td>\n",
       "    </tr>\n",
       "  </tbody>\n",
       "</table>\n",
       "</div>"
      ],
      "text/plain": [
       "           0       1       2       3     4       5     6      7     8  \\\n",
       "0       said     man  sydney  street   old    like  time    new  good   \n",
       "1880  sydney  street     new     man  good  george  time  great  said   \n",
       "1881  street  sydney     new     man   day    good  time  great  said   \n",
       "1882  street  sydney     man     new   tho    time   day   good   old   \n",
       "1883  street  sydney     man     new  time     tho   day   good   old   \n",
       "\n",
       "              9  \n",
       "0        little  \n",
       "1880  melbourne  \n",
       "1881       best  \n",
       "1882       said  \n",
       "1883     little  "
      ]
     },
     "execution_count": 109,
     "metadata": {},
     "output_type": "execute_result"
    }
   ],
   "source": [
    "# Top words per year\n",
    "year_groups = df_freq.groupby(by='year')\n",
    "year_group_totals = year_groups.sum()\n",
    "df_years = pd.DataFrame({n: year_group_totals.T[col].nlargest(10).index.tolist() for n, col in enumerate(year_group_totals.T)}).T\n",
    "df_years.index = [name for name, _ in year_groups]\n",
    "df_years.head()"
   ]
  },
  {
   "cell_type": "code",
   "execution_count": 112,
   "metadata": {},
   "outputs": [],
   "source": [
    "year_group_totals.to_csv('words_by_year.csv')"
   ]
  },
  {
   "cell_type": "code",
   "execution_count": 111,
   "metadata": {},
   "outputs": [],
   "source": [
    "year_group_totals['total_words'] = year_group_totals.sum(axis=1)"
   ]
  },
  {
   "cell_type": "code",
   "execution_count": 55,
   "metadata": {},
   "outputs": [
    {
     "data": {
      "text/html": [
       "<div>\n",
       "<style scoped>\n",
       "    .dataframe tbody tr th:only-of-type {\n",
       "        vertical-align: middle;\n",
       "    }\n",
       "\n",
       "    .dataframe tbody tr th {\n",
       "        vertical-align: top;\n",
       "    }\n",
       "\n",
       "    .dataframe thead th {\n",
       "        text-align: right;\n",
       "    }\n",
       "</style>\n",
       "<table border=\"1\" class=\"dataframe\">\n",
       "  <thead>\n",
       "    <tr style=\"text-align: right;\">\n",
       "      <th></th>\n",
       "      <th>aa</th>\n",
       "      <th>aaa</th>\n",
       "      <th>aaaa</th>\n",
       "      <th>aac</th>\n",
       "      <th>aachen</th>\n",
       "      <th>aad</th>\n",
       "      <th>aae</th>\n",
       "      <th>aah</th>\n",
       "      <th>aai</th>\n",
       "      <th>aaid</th>\n",
       "      <th>...</th>\n",
       "      <th>zuyder</th>\n",
       "      <th>zv</th>\n",
       "      <th>zw</th>\n",
       "      <th>zwar</th>\n",
       "      <th>zweig</th>\n",
       "      <th>zx</th>\n",
       "      <th>zy</th>\n",
       "      <th>zz</th>\n",
       "      <th>zzz</th>\n",
       "      <th>total_words</th>\n",
       "    </tr>\n",
       "    <tr>\n",
       "      <th>year</th>\n",
       "      <th></th>\n",
       "      <th></th>\n",
       "      <th></th>\n",
       "      <th></th>\n",
       "      <th></th>\n",
       "      <th></th>\n",
       "      <th></th>\n",
       "      <th></th>\n",
       "      <th></th>\n",
       "      <th></th>\n",
       "      <th></th>\n",
       "      <th></th>\n",
       "      <th></th>\n",
       "      <th></th>\n",
       "      <th></th>\n",
       "      <th></th>\n",
       "      <th></th>\n",
       "      <th></th>\n",
       "      <th></th>\n",
       "      <th></th>\n",
       "      <th></th>\n",
       "    </tr>\n",
       "  </thead>\n",
       "  <tbody>\n",
       "    <tr>\n",
       "      <th>0</th>\n",
       "      <td>19</td>\n",
       "      <td>2</td>\n",
       "      <td>0</td>\n",
       "      <td>0</td>\n",
       "      <td>0</td>\n",
       "      <td>1</td>\n",
       "      <td>0</td>\n",
       "      <td>0</td>\n",
       "      <td>0</td>\n",
       "      <td>0</td>\n",
       "      <td>...</td>\n",
       "      <td>0</td>\n",
       "      <td>1</td>\n",
       "      <td>1</td>\n",
       "      <td>0</td>\n",
       "      <td>0</td>\n",
       "      <td>3</td>\n",
       "      <td>2</td>\n",
       "      <td>4</td>\n",
       "      <td>0</td>\n",
       "      <td>564704</td>\n",
       "    </tr>\n",
       "    <tr>\n",
       "      <th>1880</th>\n",
       "      <td>27</td>\n",
       "      <td>0</td>\n",
       "      <td>0</td>\n",
       "      <td>1</td>\n",
       "      <td>0</td>\n",
       "      <td>9</td>\n",
       "      <td>0</td>\n",
       "      <td>0</td>\n",
       "      <td>0</td>\n",
       "      <td>1</td>\n",
       "      <td>...</td>\n",
       "      <td>0</td>\n",
       "      <td>1</td>\n",
       "      <td>0</td>\n",
       "      <td>0</td>\n",
       "      <td>0</td>\n",
       "      <td>0</td>\n",
       "      <td>0</td>\n",
       "      <td>1</td>\n",
       "      <td>0</td>\n",
       "      <td>942178</td>\n",
       "    </tr>\n",
       "    <tr>\n",
       "      <th>1881</th>\n",
       "      <td>53</td>\n",
       "      <td>3</td>\n",
       "      <td>0</td>\n",
       "      <td>0</td>\n",
       "      <td>0</td>\n",
       "      <td>36</td>\n",
       "      <td>1</td>\n",
       "      <td>0</td>\n",
       "      <td>1</td>\n",
       "      <td>0</td>\n",
       "      <td>...</td>\n",
       "      <td>0</td>\n",
       "      <td>0</td>\n",
       "      <td>0</td>\n",
       "      <td>0</td>\n",
       "      <td>0</td>\n",
       "      <td>0</td>\n",
       "      <td>0</td>\n",
       "      <td>0</td>\n",
       "      <td>0</td>\n",
       "      <td>1319179</td>\n",
       "    </tr>\n",
       "    <tr>\n",
       "      <th>1882</th>\n",
       "      <td>225</td>\n",
       "      <td>1</td>\n",
       "      <td>2</td>\n",
       "      <td>3</td>\n",
       "      <td>0</td>\n",
       "      <td>130</td>\n",
       "      <td>1</td>\n",
       "      <td>1</td>\n",
       "      <td>1</td>\n",
       "      <td>5</td>\n",
       "      <td>...</td>\n",
       "      <td>0</td>\n",
       "      <td>0</td>\n",
       "      <td>0</td>\n",
       "      <td>0</td>\n",
       "      <td>0</td>\n",
       "      <td>0</td>\n",
       "      <td>2</td>\n",
       "      <td>0</td>\n",
       "      <td>0</td>\n",
       "      <td>1365659</td>\n",
       "    </tr>\n",
       "    <tr>\n",
       "      <th>1883</th>\n",
       "      <td>196</td>\n",
       "      <td>6</td>\n",
       "      <td>0</td>\n",
       "      <td>1</td>\n",
       "      <td>0</td>\n",
       "      <td>107</td>\n",
       "      <td>2</td>\n",
       "      <td>3</td>\n",
       "      <td>3</td>\n",
       "      <td>4</td>\n",
       "      <td>...</td>\n",
       "      <td>0</td>\n",
       "      <td>0</td>\n",
       "      <td>2</td>\n",
       "      <td>0</td>\n",
       "      <td>0</td>\n",
       "      <td>0</td>\n",
       "      <td>0</td>\n",
       "      <td>3</td>\n",
       "      <td>0</td>\n",
       "      <td>1625329</td>\n",
       "    </tr>\n",
       "  </tbody>\n",
       "</table>\n",
       "<p>5 rows × 100000 columns</p>\n",
       "</div>"
      ],
      "text/plain": [
       "       aa  aaa  aaaa  aac  aachen  aad  aae  aah  aai  aaid  ...  zuyder  zv  \\\n",
       "year                                                         ...               \n",
       "0      19    2     0    0       0    1    0    0    0     0  ...       0   1   \n",
       "1880   27    0     0    1       0    9    0    0    0     1  ...       0   1   \n",
       "1881   53    3     0    0       0   36    1    0    1     0  ...       0   0   \n",
       "1882  225    1     2    3       0  130    1    1    1     5  ...       0   0   \n",
       "1883  196    6     0    1       0  107    2    3    3     4  ...       0   0   \n",
       "\n",
       "      zw  zwar  zweig  zx  zy  zz  zzz  total_words  \n",
       "year                                                 \n",
       "0      1     0      0   3   2   4    0       564704  \n",
       "1880   0     0      0   0   0   1    0       942178  \n",
       "1881   0     0      0   0   0   0    0      1319179  \n",
       "1882   0     0      0   0   2   0    0      1365659  \n",
       "1883   2     0      0   0   0   3    0      1625329  \n",
       "\n",
       "[5 rows x 100000 columns]"
      ]
     },
     "execution_count": 55,
     "metadata": {},
     "output_type": "execute_result"
    }
   ],
   "source": []
  },
  {
   "cell_type": "code",
   "execution_count": 22,
   "metadata": {},
   "outputs": [],
   "source": [
    "def words_by_year(df, words):\n",
    "    df_words = pd.DataFrame()\n",
    "    for word in words:\n",
    "        try:\n",
    "            df_word = df.groupby(by='year').sum()[word].to_frame().reset_index().rename({word: 'count'}, axis=1)\n",
    "        except KeyError:\n",
    "            print(f\"'{word}' not found\")\n",
    "        else:\n",
    "            df_word['word'] = word\n",
    "            df_words = df_words.append(df_word, ignore_index=True)\n",
    "    return df_words"
   ]
  },
  {
   "cell_type": "markdown",
   "metadata": {},
   "source": [
    "Make a list of words that we want to compare."
   ]
  },
  {
   "cell_type": "code",
   "execution_count": 35,
   "metadata": {},
   "outputs": [],
   "source": [
    "words = ['nation', 'chinese', 'republic', 'worker', 'unions', 'union', 'labor']"
   ]
  },
  {
   "cell_type": "markdown",
   "metadata": {},
   "source": [
    "Get the data for those words."
   ]
  },
  {
   "cell_type": "code",
   "execution_count": 36,
   "metadata": {},
   "outputs": [],
   "source": [
    "df_words = words_by_year(df_freq, words)"
   ]
  },
  {
   "cell_type": "markdown",
   "metadata": {},
   "source": [
    "Create a faceted line chart."
   ]
  },
  {
   "cell_type": "code",
   "execution_count": 33,
   "metadata": {},
   "outputs": [
    {
     "data": {
      "application/vnd.vegalite.v3+json": {
       "$schema": "https://vega.github.io/schema/vega-lite/v3.3.0.json",
       "columns": 1,
       "config": {
        "mark": {
         "tooltip": null
        },
        "view": {
         "height": 300,
         "width": 400
        }
       },
       "data": {
        "name": "data-3665182678660ceb7418c136167bf906"
       },
       "datasets": {
        "data-3665182678660ceb7418c136167bf906": [
         {
          "count": 51,
          "word": "nation",
          "year": 1880
         },
         {
          "count": 132,
          "word": "nation",
          "year": 1881
         },
         {
          "count": 133,
          "word": "nation",
          "year": 1882
         },
         {
          "count": 276,
          "word": "nation",
          "year": 1883
         },
         {
          "count": 253,
          "word": "nation",
          "year": 1884
         },
         {
          "count": 253,
          "word": "nation",
          "year": 1885
         },
         {
          "count": 220,
          "word": "nation",
          "year": 1886
         },
         {
          "count": 267,
          "word": "nation",
          "year": 1887
         },
         {
          "count": 423,
          "word": "nation",
          "year": 1888
         },
         {
          "count": 231,
          "word": "nation",
          "year": 1889
         },
         {
          "count": 362,
          "word": "nation",
          "year": 1890
         },
         {
          "count": 463,
          "word": "nation",
          "year": 1891
         },
         {
          "count": 310,
          "word": "nation",
          "year": 1892
         },
         {
          "count": 228,
          "word": "nation",
          "year": 1893
         },
         {
          "count": 193,
          "word": "nation",
          "year": 1894
         },
         {
          "count": 184,
          "word": "nation",
          "year": 1895
         },
         {
          "count": 163,
          "word": "nation",
          "year": 1896
         },
         {
          "count": 198,
          "word": "nation",
          "year": 1897
         },
         {
          "count": 224,
          "word": "nation",
          "year": 1898
         },
         {
          "count": 193,
          "word": "nation",
          "year": 1899
         },
         {
          "count": 239,
          "word": "nation",
          "year": 1900
         },
         {
          "count": 285,
          "word": "nation",
          "year": 1901
         },
         {
          "count": 234,
          "word": "nation",
          "year": 1902
         },
         {
          "count": 254,
          "word": "nation",
          "year": 1903
         },
         {
          "count": 95,
          "word": "nation",
          "year": 1904
         },
         {
          "count": 218,
          "word": "nation",
          "year": 1905
         },
         {
          "count": 250,
          "word": "nation",
          "year": 1906
         },
         {
          "count": 314,
          "word": "nation",
          "year": 1907
         },
         {
          "count": 270,
          "word": "nation",
          "year": 1908
         },
         {
          "count": 415,
          "word": "nation",
          "year": 1909
         },
         {
          "count": 187,
          "word": "nation",
          "year": 1910
         },
         {
          "count": 324,
          "word": "nation",
          "year": 1911
         },
         {
          "count": 235,
          "word": "nation",
          "year": 1912
         },
         {
          "count": 379,
          "word": "nation",
          "year": 1913
         },
         {
          "count": 373,
          "word": "nation",
          "year": 1914
         },
         {
          "count": 582,
          "word": "nation",
          "year": 1915
         },
         {
          "count": 573,
          "word": "nation",
          "year": 1916
         },
         {
          "count": 482,
          "word": "nation",
          "year": 1917
         },
         {
          "count": 381,
          "word": "nation",
          "year": 1918
         },
         {
          "count": 323,
          "word": "nation",
          "year": 1919
         },
         {
          "count": 415,
          "word": "nation",
          "year": 1920
         },
         {
          "count": 381,
          "word": "nation",
          "year": 1921
         },
         {
          "count": 345,
          "word": "nation",
          "year": 1922
         },
         {
          "count": 339,
          "word": "nation",
          "year": 1923
         },
         {
          "count": 445,
          "word": "nation",
          "year": 1924
         },
         {
          "count": 319,
          "word": "nation",
          "year": 1925
         },
         {
          "count": 291,
          "word": "nation",
          "year": 1926
         },
         {
          "count": 297,
          "word": "nation",
          "year": 1927
         },
         {
          "count": 269,
          "word": "nation",
          "year": 1928
         },
         {
          "count": 357,
          "word": "nation",
          "year": 1929
         },
         {
          "count": 334,
          "word": "nation",
          "year": 1930
         },
         {
          "count": 294,
          "word": "nation",
          "year": 1931
         },
         {
          "count": 325,
          "word": "nation",
          "year": 1932
         },
         {
          "count": 280,
          "word": "nation",
          "year": 1933
         },
         {
          "count": 269,
          "word": "nation",
          "year": 1934
         },
         {
          "count": 252,
          "word": "nation",
          "year": 1935
         },
         {
          "count": 238,
          "word": "nation",
          "year": 1936
         },
         {
          "count": 284,
          "word": "nation",
          "year": 1937
         },
         {
          "count": 479,
          "word": "nation",
          "year": 1938
         },
         {
          "count": 715,
          "word": "nation",
          "year": 1939
         },
         {
          "count": 653,
          "word": "nation",
          "year": 1940
         },
         {
          "count": 715,
          "word": "nation",
          "year": 1941
         },
         {
          "count": 477,
          "word": "nation",
          "year": 1942
         },
         {
          "count": 536,
          "word": "nation",
          "year": 1943
         },
         {
          "count": 650,
          "word": "nation",
          "year": 1944
         },
         {
          "count": 765,
          "word": "nation",
          "year": 1945
         },
         {
          "count": 573,
          "word": "nation",
          "year": 1946
         },
         {
          "count": 569,
          "word": "nation",
          "year": 1947
         },
         {
          "count": 452,
          "word": "nation",
          "year": 1948
         },
         {
          "count": 464,
          "word": "nation",
          "year": 1949
         },
         {
          "count": 419,
          "word": "nation",
          "year": 1950
         },
         {
          "count": 380,
          "word": "nation",
          "year": 1951
         },
         {
          "count": 304,
          "word": "nation",
          "year": 1952
         },
         {
          "count": 307,
          "word": "nation",
          "year": 1953
         },
         {
          "count": 344,
          "word": "nation",
          "year": 1954
         },
         {
          "count": 303,
          "word": "nation",
          "year": 1955
         },
         {
          "count": 353,
          "word": "nation",
          "year": 1956
         },
         {
          "count": 317,
          "word": "nation",
          "year": 1957
         },
         {
          "count": 268,
          "word": "nation",
          "year": 1958
         },
         {
          "count": 276,
          "word": "nation",
          "year": 1959
         },
         {
          "count": 272,
          "word": "nation",
          "year": 1960
         },
         {
          "count": 307,
          "word": "nation",
          "year": 1961
         },
         {
          "count": 342,
          "word": "nation",
          "year": 1962
         },
         {
          "count": 327,
          "word": "nation",
          "year": 1963
         },
         {
          "count": 381,
          "word": "nation",
          "year": 1964
         },
         {
          "count": 392,
          "word": "nation",
          "year": 1965
         },
         {
          "count": 349,
          "word": "nation",
          "year": 1966
         },
         {
          "count": 366,
          "word": "nation",
          "year": 1967
         },
         {
          "count": 587,
          "word": "nation",
          "year": 1968
         },
         {
          "count": 102,
          "word": "nation",
          "year": 1970
         },
         {
          "count": 222,
          "word": "chinese",
          "year": 1880
         },
         {
          "count": 366,
          "word": "chinese",
          "year": 1881
         },
         {
          "count": 226,
          "word": "chinese",
          "year": 1882
         },
         {
          "count": 273,
          "word": "chinese",
          "year": 1883
         },
         {
          "count": 244,
          "word": "chinese",
          "year": 1884
         },
         {
          "count": 188,
          "word": "chinese",
          "year": 1885
         },
         {
          "count": 360,
          "word": "chinese",
          "year": 1886
         },
         {
          "count": 430,
          "word": "chinese",
          "year": 1887
         },
         {
          "count": 747,
          "word": "chinese",
          "year": 1888
         },
         {
          "count": 279,
          "word": "chinese",
          "year": 1889
         },
         {
          "count": 215,
          "word": "chinese",
          "year": 1890
         },
         {
          "count": 248,
          "word": "chinese",
          "year": 1891
         },
         {
          "count": 233,
          "word": "chinese",
          "year": 1892
         },
         {
          "count": 227,
          "word": "chinese",
          "year": 1893
         },
         {
          "count": 285,
          "word": "chinese",
          "year": 1894
         },
         {
          "count": 382,
          "word": "chinese",
          "year": 1895
         },
         {
          "count": 323,
          "word": "chinese",
          "year": 1896
         },
         {
          "count": 276,
          "word": "chinese",
          "year": 1897
         },
         {
          "count": 399,
          "word": "chinese",
          "year": 1898
         },
         {
          "count": 206,
          "word": "chinese",
          "year": 1899
         },
         {
          "count": 374,
          "word": "chinese",
          "year": 1900
         },
         {
          "count": 282,
          "word": "chinese",
          "year": 1901
         },
         {
          "count": 278,
          "word": "chinese",
          "year": 1902
         },
         {
          "count": 321,
          "word": "chinese",
          "year": 1903
         },
         {
          "count": 261,
          "word": "chinese",
          "year": 1904
         },
         {
          "count": 393,
          "word": "chinese",
          "year": 1905
         },
         {
          "count": 447,
          "word": "chinese",
          "year": 1906
         },
         {
          "count": 391,
          "word": "chinese",
          "year": 1907
         },
         {
          "count": 272,
          "word": "chinese",
          "year": 1908
         },
         {
          "count": 307,
          "word": "chinese",
          "year": 1909
         },
         {
          "count": 153,
          "word": "chinese",
          "year": 1910
         },
         {
          "count": 278,
          "word": "chinese",
          "year": 1911
         },
         {
          "count": 182,
          "word": "chinese",
          "year": 1912
         },
         {
          "count": 292,
          "word": "chinese",
          "year": 1913
         },
         {
          "count": 205,
          "word": "chinese",
          "year": 1914
         },
         {
          "count": 149,
          "word": "chinese",
          "year": 1915
         },
         {
          "count": 139,
          "word": "chinese",
          "year": 1916
         },
         {
          "count": 211,
          "word": "chinese",
          "year": 1917
         },
         {
          "count": 134,
          "word": "chinese",
          "year": 1918
         },
         {
          "count": 237,
          "word": "chinese",
          "year": 1919
         },
         {
          "count": 187,
          "word": "chinese",
          "year": 1920
         },
         {
          "count": 210,
          "word": "chinese",
          "year": 1921
         },
         {
          "count": 283,
          "word": "chinese",
          "year": 1922
         },
         {
          "count": 216,
          "word": "chinese",
          "year": 1923
         },
         {
          "count": 311,
          "word": "chinese",
          "year": 1924
         },
         {
          "count": 304,
          "word": "chinese",
          "year": 1925
         },
         {
          "count": 315,
          "word": "chinese",
          "year": 1926
         },
         {
          "count": 398,
          "word": "chinese",
          "year": 1927
         },
         {
          "count": 308,
          "word": "chinese",
          "year": 1928
         },
         {
          "count": 317,
          "word": "chinese",
          "year": 1929
         },
         {
          "count": 338,
          "word": "chinese",
          "year": 1930
         },
         {
          "count": 254,
          "word": "chinese",
          "year": 1931
         },
         {
          "count": 318,
          "word": "chinese",
          "year": 1932
         },
         {
          "count": 353,
          "word": "chinese",
          "year": 1933
         },
         {
          "count": 303,
          "word": "chinese",
          "year": 1934
         },
         {
          "count": 232,
          "word": "chinese",
          "year": 1935
         },
         {
          "count": 244,
          "word": "chinese",
          "year": 1936
         },
         {
          "count": 397,
          "word": "chinese",
          "year": 1937
         },
         {
          "count": 383,
          "word": "chinese",
          "year": 1938
         },
         {
          "count": 515,
          "word": "chinese",
          "year": 1939
         },
         {
          "count": 336,
          "word": "chinese",
          "year": 1940
         },
         {
          "count": 408,
          "word": "chinese",
          "year": 1941
         },
         {
          "count": 301,
          "word": "chinese",
          "year": 1942
         },
         {
          "count": 242,
          "word": "chinese",
          "year": 1943
         },
         {
          "count": 331,
          "word": "chinese",
          "year": 1944
         },
         {
          "count": 486,
          "word": "chinese",
          "year": 1945
         },
         {
          "count": 353,
          "word": "chinese",
          "year": 1946
         },
         {
          "count": 267,
          "word": "chinese",
          "year": 1947
         },
         {
          "count": 330,
          "word": "chinese",
          "year": 1948
         },
         {
          "count": 489,
          "word": "chinese",
          "year": 1949
         },
         {
          "count": 648,
          "word": "chinese",
          "year": 1950
         },
         {
          "count": 374,
          "word": "chinese",
          "year": 1951
         },
         {
          "count": 443,
          "word": "chinese",
          "year": 1952
         },
         {
          "count": 509,
          "word": "chinese",
          "year": 1953
         },
         {
          "count": 386,
          "word": "chinese",
          "year": 1954
         },
         {
          "count": 358,
          "word": "chinese",
          "year": 1955
         },
         {
          "count": 377,
          "word": "chinese",
          "year": 1956
         },
         {
          "count": 346,
          "word": "chinese",
          "year": 1957
         },
         {
          "count": 331,
          "word": "chinese",
          "year": 1958
         },
         {
          "count": 488,
          "word": "chinese",
          "year": 1959
         },
         {
          "count": 463,
          "word": "chinese",
          "year": 1960
         },
         {
          "count": 587,
          "word": "chinese",
          "year": 1961
         },
         {
          "count": 515,
          "word": "chinese",
          "year": 1962
         },
         {
          "count": 585,
          "word": "chinese",
          "year": 1963
         },
         {
          "count": 573,
          "word": "chinese",
          "year": 1964
         },
         {
          "count": 571,
          "word": "chinese",
          "year": 1965
         },
         {
          "count": 498,
          "word": "chinese",
          "year": 1966
         },
         {
          "count": 567,
          "word": "chinese",
          "year": 1967
         },
         {
          "count": 434,
          "word": "chinese",
          "year": 1968
         },
         {
          "count": 94,
          "word": "chinese",
          "year": 1970
         },
         {
          "count": 15,
          "word": "republic",
          "year": 1880
         },
         {
          "count": 14,
          "word": "republic",
          "year": 1881
         },
         {
          "count": 13,
          "word": "republic",
          "year": 1882
         },
         {
          "count": 37,
          "word": "republic",
          "year": 1883
         },
         {
          "count": 55,
          "word": "republic",
          "year": 1884
         },
         {
          "count": 37,
          "word": "republic",
          "year": 1885
         },
         {
          "count": 36,
          "word": "republic",
          "year": 1886
         },
         {
          "count": 62,
          "word": "republic",
          "year": 1887
         },
         {
          "count": 83,
          "word": "republic",
          "year": 1888
         },
         {
          "count": 79,
          "word": "republic",
          "year": 1889
         },
         {
          "count": 129,
          "word": "republic",
          "year": 1890
         },
         {
          "count": 177,
          "word": "republic",
          "year": 1891
         },
         {
          "count": 70,
          "word": "republic",
          "year": 1892
         },
         {
          "count": 74,
          "word": "republic",
          "year": 1893
         },
         {
          "count": 47,
          "word": "republic",
          "year": 1894
         },
         {
          "count": 34,
          "word": "republic",
          "year": 1895
         },
         {
          "count": 28,
          "word": "republic",
          "year": 1896
         },
         {
          "count": 20,
          "word": "republic",
          "year": 1897
         },
         {
          "count": 37,
          "word": "republic",
          "year": 1898
         },
         {
          "count": 92,
          "word": "republic",
          "year": 1899
         },
         {
          "count": 44,
          "word": "republic",
          "year": 1900
         },
         {
          "count": 44,
          "word": "republic",
          "year": 1901
         },
         {
          "count": 60,
          "word": "republic",
          "year": 1902
         },
         {
          "count": 23,
          "word": "republic",
          "year": 1903
         },
         {
          "count": 8,
          "word": "republic",
          "year": 1904
         },
         {
          "count": 30,
          "word": "republic",
          "year": 1905
         },
         {
          "count": 37,
          "word": "republic",
          "year": 1906
         },
         {
          "count": 18,
          "word": "republic",
          "year": 1907
         },
         {
          "count": 34,
          "word": "republic",
          "year": 1908
         },
         {
          "count": 41,
          "word": "republic",
          "year": 1909
         },
         {
          "count": 28,
          "word": "republic",
          "year": 1910
         },
         {
          "count": 39,
          "word": "republic",
          "year": 1911
         },
         {
          "count": 28,
          "word": "republic",
          "year": 1912
         },
         {
          "count": 71,
          "word": "republic",
          "year": 1913
         },
         {
          "count": 48,
          "word": "republic",
          "year": 1914
         },
         {
          "count": 38,
          "word": "republic",
          "year": 1915
         },
         {
          "count": 44,
          "word": "republic",
          "year": 1916
         },
         {
          "count": 62,
          "word": "republic",
          "year": 1917
         },
         {
          "count": 78,
          "word": "republic",
          "year": 1918
         },
         {
          "count": 119,
          "word": "republic",
          "year": 1919
         },
         {
          "count": 146,
          "word": "republic",
          "year": 1920
         },
         {
          "count": 101,
          "word": "republic",
          "year": 1921
         },
         {
          "count": 79,
          "word": "republic",
          "year": 1922
         },
         {
          "count": 66,
          "word": "republic",
          "year": 1923
         },
         {
          "count": 88,
          "word": "republic",
          "year": 1924
         },
         {
          "count": 218,
          "word": "republic",
          "year": 1925
         },
         {
          "count": 201,
          "word": "republic",
          "year": 1926
         },
         {
          "count": 202,
          "word": "republic",
          "year": 1927
         },
         {
          "count": 114,
          "word": "republic",
          "year": 1928
         },
         {
          "count": 130,
          "word": "republic",
          "year": 1929
         },
         {
          "count": 51,
          "word": "republic",
          "year": 1930
         },
         {
          "count": 74,
          "word": "republic",
          "year": 1931
         },
         {
          "count": 82,
          "word": "republic",
          "year": 1932
         },
         {
          "count": 43,
          "word": "republic",
          "year": 1933
         },
         {
          "count": 59,
          "word": "republic",
          "year": 1934
         },
         {
          "count": 46,
          "word": "republic",
          "year": 1935
         },
         {
          "count": 43,
          "word": "republic",
          "year": 1936
         },
         {
          "count": 58,
          "word": "republic",
          "year": 1937
         },
         {
          "count": 113,
          "word": "republic",
          "year": 1938
         },
         {
          "count": 140,
          "word": "republic",
          "year": 1939
         },
         {
          "count": 115,
          "word": "republic",
          "year": 1940
         },
         {
          "count": 62,
          "word": "republic",
          "year": 1941
         },
         {
          "count": 30,
          "word": "republic",
          "year": 1942
         },
         {
          "count": 27,
          "word": "republic",
          "year": 1943
         },
         {
          "count": 46,
          "word": "republic",
          "year": 1944
         },
         {
          "count": 73,
          "word": "republic",
          "year": 1945
         },
         {
          "count": 77,
          "word": "republic",
          "year": 1946
         },
         {
          "count": 85,
          "word": "republic",
          "year": 1947
         },
         {
          "count": 63,
          "word": "republic",
          "year": 1948
         },
         {
          "count": 81,
          "word": "republic",
          "year": 1949
         },
         {
          "count": 92,
          "word": "republic",
          "year": 1950
         },
         {
          "count": 49,
          "word": "republic",
          "year": 1951
         },
         {
          "count": 36,
          "word": "republic",
          "year": 1952
         },
         {
          "count": 43,
          "word": "republic",
          "year": 1953
         },
         {
          "count": 76,
          "word": "republic",
          "year": 1954
         },
         {
          "count": 52,
          "word": "republic",
          "year": 1955
         },
         {
          "count": 61,
          "word": "republic",
          "year": 1956
         },
         {
          "count": 42,
          "word": "republic",
          "year": 1957
         },
         {
          "count": 93,
          "word": "republic",
          "year": 1958
         },
         {
          "count": 99,
          "word": "republic",
          "year": 1959
         },
         {
          "count": 89,
          "word": "republic",
          "year": 1960
         },
         {
          "count": 68,
          "word": "republic",
          "year": 1961
         },
         {
          "count": 70,
          "word": "republic",
          "year": 1962
         },
         {
          "count": 83,
          "word": "republic",
          "year": 1963
         },
         {
          "count": 66,
          "word": "republic",
          "year": 1964
         },
         {
          "count": 104,
          "word": "republic",
          "year": 1965
         },
         {
          "count": 81,
          "word": "republic",
          "year": 1966
         },
         {
          "count": 69,
          "word": "republic",
          "year": 1967
         },
         {
          "count": 96,
          "word": "republic",
          "year": 1968
         },
         {
          "count": 9,
          "word": "republic",
          "year": 1970
         },
         {
          "count": 23,
          "word": "worker",
          "year": 1880
         },
         {
          "count": 17,
          "word": "worker",
          "year": 1881
         },
         {
          "count": 14,
          "word": "worker",
          "year": 1882
         },
         {
          "count": 18,
          "word": "worker",
          "year": 1883
         },
         {
          "count": 13,
          "word": "worker",
          "year": 1884
         },
         {
          "count": 11,
          "word": "worker",
          "year": 1885
         },
         {
          "count": 16,
          "word": "worker",
          "year": 1886
         },
         {
          "count": 16,
          "word": "worker",
          "year": 1887
         },
         {
          "count": 34,
          "word": "worker",
          "year": 1888
         },
         {
          "count": 39,
          "word": "worker",
          "year": 1889
         },
         {
          "count": 124,
          "word": "worker",
          "year": 1890
         },
         {
          "count": 69,
          "word": "worker",
          "year": 1891
         },
         {
          "count": 65,
          "word": "worker",
          "year": 1892
         },
         {
          "count": 83,
          "word": "worker",
          "year": 1893
         },
         {
          "count": 63,
          "word": "worker",
          "year": 1894
         },
         {
          "count": 50,
          "word": "worker",
          "year": 1895
         },
         {
          "count": 56,
          "word": "worker",
          "year": 1896
         },
         {
          "count": 64,
          "word": "worker",
          "year": 1897
         },
         {
          "count": 77,
          "word": "worker",
          "year": 1898
         },
         {
          "count": 120,
          "word": "worker",
          "year": 1899
         },
         {
          "count": 61,
          "word": "worker",
          "year": 1900
         },
         {
          "count": 106,
          "word": "worker",
          "year": 1901
         },
         {
          "count": 108,
          "word": "worker",
          "year": 1902
         },
         {
          "count": 212,
          "word": "worker",
          "year": 1903
         },
         {
          "count": 126,
          "word": "worker",
          "year": 1904
         },
         {
          "count": 133,
          "word": "worker",
          "year": 1905
         },
         {
          "count": 139,
          "word": "worker",
          "year": 1906
         },
         {
          "count": 219,
          "word": "worker",
          "year": 1907
         },
         {
          "count": 115,
          "word": "worker",
          "year": 1908
         },
         {
          "count": 182,
          "word": "worker",
          "year": 1909
         },
         {
          "count": 125,
          "word": "worker",
          "year": 1910
         },
         {
          "count": 244,
          "word": "worker",
          "year": 1911
         },
         {
          "count": 196,
          "word": "worker",
          "year": 1912
         },
         {
          "count": 194,
          "word": "worker",
          "year": 1913
         },
         {
          "count": 224,
          "word": "worker",
          "year": 1914
         },
         {
          "count": 170,
          "word": "worker",
          "year": 1915
         },
         {
          "count": 196,
          "word": "worker",
          "year": 1916
         },
         {
          "count": 158,
          "word": "worker",
          "year": 1917
         },
         {
          "count": 220,
          "word": "worker",
          "year": 1918
         },
         {
          "count": 255,
          "word": "worker",
          "year": 1919
         },
         {
          "count": 214,
          "word": "worker",
          "year": 1920
         },
         {
          "count": 196,
          "word": "worker",
          "year": 1921
         },
         {
          "count": 166,
          "word": "worker",
          "year": 1922
         },
         {
          "count": 172,
          "word": "worker",
          "year": 1923
         },
         {
          "count": 186,
          "word": "worker",
          "year": 1924
         },
         {
          "count": 191,
          "word": "worker",
          "year": 1925
         },
         {
          "count": 174,
          "word": "worker",
          "year": 1926
         },
         {
          "count": 209,
          "word": "worker",
          "year": 1927
         },
         {
          "count": 181,
          "word": "worker",
          "year": 1928
         },
         {
          "count": 187,
          "word": "worker",
          "year": 1929
         },
         {
          "count": 222,
          "word": "worker",
          "year": 1930
         },
         {
          "count": 238,
          "word": "worker",
          "year": 1931
         },
         {
          "count": 214,
          "word": "worker",
          "year": 1932
         },
         {
          "count": 160,
          "word": "worker",
          "year": 1933
         },
         {
          "count": 147,
          "word": "worker",
          "year": 1934
         },
         {
          "count": 124,
          "word": "worker",
          "year": 1935
         },
         {
          "count": 123,
          "word": "worker",
          "year": 1936
         },
         {
          "count": 121,
          "word": "worker",
          "year": 1937
         },
         {
          "count": 131,
          "word": "worker",
          "year": 1938
         },
         {
          "count": 181,
          "word": "worker",
          "year": 1939
         },
         {
          "count": 185,
          "word": "worker",
          "year": 1940
         },
         {
          "count": 213,
          "word": "worker",
          "year": 1941
         },
         {
          "count": 191,
          "word": "worker",
          "year": 1942
         },
         {
          "count": 154,
          "word": "worker",
          "year": 1943
         },
         {
          "count": 140,
          "word": "worker",
          "year": 1944
         },
         {
          "count": 122,
          "word": "worker",
          "year": 1945
         },
         {
          "count": 178,
          "word": "worker",
          "year": 1946
         },
         {
          "count": 205,
          "word": "worker",
          "year": 1947
         },
         {
          "count": 128,
          "word": "worker",
          "year": 1948
         },
         {
          "count": 204,
          "word": "worker",
          "year": 1949
         },
         {
          "count": 177,
          "word": "worker",
          "year": 1950
         },
         {
          "count": 121,
          "word": "worker",
          "year": 1951
         },
         {
          "count": 165,
          "word": "worker",
          "year": 1952
         },
         {
          "count": 130,
          "word": "worker",
          "year": 1953
         },
         {
          "count": 133,
          "word": "worker",
          "year": 1954
         },
         {
          "count": 128,
          "word": "worker",
          "year": 1955
         },
         {
          "count": 154,
          "word": "worker",
          "year": 1956
         },
         {
          "count": 145,
          "word": "worker",
          "year": 1957
         },
         {
          "count": 128,
          "word": "worker",
          "year": 1958
         },
         {
          "count": 94,
          "word": "worker",
          "year": 1959
         },
         {
          "count": 74,
          "word": "worker",
          "year": 1960
         },
         {
          "count": 107,
          "word": "worker",
          "year": 1961
         },
         {
          "count": 130,
          "word": "worker",
          "year": 1962
         },
         {
          "count": 77,
          "word": "worker",
          "year": 1963
         },
         {
          "count": 95,
          "word": "worker",
          "year": 1964
         },
         {
          "count": 94,
          "word": "worker",
          "year": 1965
         },
         {
          "count": 86,
          "word": "worker",
          "year": 1966
         },
         {
          "count": 61,
          "word": "worker",
          "year": 1967
         },
         {
          "count": 44,
          "word": "worker",
          "year": 1968
         },
         {
          "count": 15,
          "word": "worker",
          "year": 1970
         },
         {
          "count": 7,
          "word": "unions",
          "year": 1880
         },
         {
          "count": 4,
          "word": "unions",
          "year": 1881
         },
         {
          "count": 7,
          "word": "unions",
          "year": 1882
         },
         {
          "count": 6,
          "word": "unions",
          "year": 1883
         },
         {
          "count": 22,
          "word": "unions",
          "year": 1884
         },
         {
          "count": 18,
          "word": "unions",
          "year": 1885
         },
         {
          "count": 52,
          "word": "unions",
          "year": 1886
         },
         {
          "count": 16,
          "word": "unions",
          "year": 1887
         },
         {
          "count": 28,
          "word": "unions",
          "year": 1888
         },
         {
          "count": 32,
          "word": "unions",
          "year": 1889
         },
         {
          "count": 94,
          "word": "unions",
          "year": 1890
         },
         {
          "count": 74,
          "word": "unions",
          "year": 1891
         },
         {
          "count": 60,
          "word": "unions",
          "year": 1892
         },
         {
          "count": 35,
          "word": "unions",
          "year": 1893
         },
         {
          "count": 30,
          "word": "unions",
          "year": 1894
         },
         {
          "count": 22,
          "word": "unions",
          "year": 1895
         },
         {
          "count": 53,
          "word": "unions",
          "year": 1896
         },
         {
          "count": 38,
          "word": "unions",
          "year": 1897
         },
         {
          "count": 52,
          "word": "unions",
          "year": 1898
         },
         {
          "count": 25,
          "word": "unions",
          "year": 1899
         },
         {
          "count": 38,
          "word": "unions",
          "year": 1900
         },
         {
          "count": 46,
          "word": "unions",
          "year": 1901
         },
         {
          "count": 73,
          "word": "unions",
          "year": 1902
         },
         {
          "count": 120,
          "word": "unions",
          "year": 1903
         },
         {
          "count": 35,
          "word": "unions",
          "year": 1904
         },
         {
          "count": 92,
          "word": "unions",
          "year": 1905
         },
         {
          "count": 68,
          "word": "unions",
          "year": 1906
         },
         {
          "count": 40,
          "word": "unions",
          "year": 1907
         },
         {
          "count": 72,
          "word": "unions",
          "year": 1908
         },
         {
          "count": 92,
          "word": "unions",
          "year": 1909
         },
         {
          "count": 52,
          "word": "unions",
          "year": 1910
         },
         {
          "count": 121,
          "word": "unions",
          "year": 1911
         },
         {
          "count": 65,
          "word": "unions",
          "year": 1912
         },
         {
          "count": 72,
          "word": "unions",
          "year": 1913
         },
         {
          "count": 70,
          "word": "unions",
          "year": 1914
         },
         {
          "count": 78,
          "word": "unions",
          "year": 1915
         },
         {
          "count": 109,
          "word": "unions",
          "year": 1916
         },
         {
          "count": 127,
          "word": "unions",
          "year": 1917
         },
         {
          "count": 133,
          "word": "unions",
          "year": 1918
         },
         {
          "count": 61,
          "word": "unions",
          "year": 1919
         },
         {
          "count": 122,
          "word": "unions",
          "year": 1920
         },
         {
          "count": 114,
          "word": "unions",
          "year": 1921
         },
         {
          "count": 103,
          "word": "unions",
          "year": 1922
         },
         {
          "count": 92,
          "word": "unions",
          "year": 1923
         },
         {
          "count": 82,
          "word": "unions",
          "year": 1924
         },
         {
          "count": 169,
          "word": "unions",
          "year": 1925
         },
         {
          "count": 170,
          "word": "unions",
          "year": 1926
         },
         {
          "count": 140,
          "word": "unions",
          "year": 1927
         },
         {
          "count": 172,
          "word": "unions",
          "year": 1928
         },
         {
          "count": 96,
          "word": "unions",
          "year": 1929
         },
         {
          "count": 128,
          "word": "unions",
          "year": 1930
         },
         {
          "count": 122,
          "word": "unions",
          "year": 1931
         },
         {
          "count": 111,
          "word": "unions",
          "year": 1932
         },
         {
          "count": 98,
          "word": "unions",
          "year": 1933
         },
         {
          "count": 103,
          "word": "unions",
          "year": 1934
         },
         {
          "count": 65,
          "word": "unions",
          "year": 1935
         },
         {
          "count": 42,
          "word": "unions",
          "year": 1936
         },
         {
          "count": 52,
          "word": "unions",
          "year": 1937
         },
         {
          "count": 71,
          "word": "unions",
          "year": 1938
         },
         {
          "count": 61,
          "word": "unions",
          "year": 1939
         },
         {
          "count": 103,
          "word": "unions",
          "year": 1940
         },
         {
          "count": 97,
          "word": "unions",
          "year": 1941
         },
         {
          "count": 99,
          "word": "unions",
          "year": 1942
         },
         {
          "count": 186,
          "word": "unions",
          "year": 1943
         },
         {
          "count": 132,
          "word": "unions",
          "year": 1944
         },
         {
          "count": 177,
          "word": "unions",
          "year": 1945
         },
         {
          "count": 290,
          "word": "unions",
          "year": 1946
         },
         {
          "count": 329,
          "word": "unions",
          "year": 1947
         },
         {
          "count": 366,
          "word": "unions",
          "year": 1948
         },
         {
          "count": 482,
          "word": "unions",
          "year": 1949
         },
         {
          "count": 462,
          "word": "unions",
          "year": 1950
         },
         {
          "count": 429,
          "word": "unions",
          "year": 1951
         },
         {
          "count": 316,
          "word": "unions",
          "year": 1952
         },
         {
          "count": 222,
          "word": "unions",
          "year": 1953
         },
         {
          "count": 240,
          "word": "unions",
          "year": 1954
         },
         {
          "count": 216,
          "word": "unions",
          "year": 1955
         },
         {
          "count": 225,
          "word": "unions",
          "year": 1956
         },
         {
          "count": 193,
          "word": "unions",
          "year": 1957
         },
         {
          "count": 210,
          "word": "unions",
          "year": 1958
         },
         {
          "count": 263,
          "word": "unions",
          "year": 1959
         },
         {
          "count": 146,
          "word": "unions",
          "year": 1960
         },
         {
          "count": 472,
          "word": "unions",
          "year": 1961
         },
         {
          "count": 308,
          "word": "unions",
          "year": 1962
         },
         {
          "count": 257,
          "word": "unions",
          "year": 1963
         },
         {
          "count": 262,
          "word": "unions",
          "year": 1964
         },
         {
          "count": 335,
          "word": "unions",
          "year": 1965
         },
         {
          "count": 145,
          "word": "unions",
          "year": 1966
         },
         {
          "count": 150,
          "word": "unions",
          "year": 1967
         },
         {
          "count": 153,
          "word": "unions",
          "year": 1968
         },
         {
          "count": 63,
          "word": "unions",
          "year": 1970
         }
        ]
       },
       "encoding": {
        "color": {
         "field": "word",
         "type": "nominal"
        },
        "facet": {
         "field": "word",
         "type": "nominal"
        },
        "x": {
         "axis": {
          "format": "c",
          "title": "Year"
         },
         "field": "year",
         "type": "quantitative"
        },
        "y": {
         "field": "count",
         "type": "quantitative"
        }
       },
       "height": 100,
       "mark": "line",
       "width": 700
      },
      "image/png": "[encoded data removed]",
      "text/plain": [
       "<VegaLite 3 object>\n",
       "\n",
       "If you see this message, it means the renderer has not been properly enabled\n",
       "for the frontend that you are using. For more information, see\n",
       "https://altair-viz.github.io/user_guide/troubleshooting.html\n"
      ]
     },
     "execution_count": 33,
     "metadata": {},
     "output_type": "execute_result"
    }
   ],
   "source": [
    "alt.Chart(df_words.loc[df_words['year'] > 0]).mark_line().encode(\n",
    "    x=alt.X('year:Q', axis=alt.Axis(format='c', title='Year')),\n",
    "    y='count:Q',\n",
    "    color='word:N',\n",
    "    facet='word:N'\n",
    ").properties(width=700, height=100, columns=1)"
   ]
  },
  {
   "cell_type": "markdown",
   "metadata": {},
   "source": [
    "Or perhaps you prefer bubblelines."
   ]
  },
  {
   "cell_type": "code",
   "execution_count": 34,
   "metadata": {},
   "outputs": [
    {
     "data": {
      "application/vnd.vegalite.v3+json": {
       "$schema": "https://vega.github.io/schema/vega-lite/v3.3.0.json",
       "config": {
        "mark": {
         "tooltip": null
        },
        "view": {
         "height": 300,
         "width": 400
        }
       },
       "data": {
        "name": "data-3665182678660ceb7418c136167bf906"
       },
       "datasets": {
        "data-3665182678660ceb7418c136167bf906": [
         {
          "count": 51,
          "word": "nation",
          "year": 1880
         },
         {
          "count": 132,
          "word": "nation",
          "year": 1881
         },
         {
          "count": 133,
          "word": "nation",
          "year": 1882
         },
         {
          "count": 276,
          "word": "nation",
          "year": 1883
         },
         {
          "count": 253,
          "word": "nation",
          "year": 1884
         },
         {
          "count": 253,
          "word": "nation",
          "year": 1885
         },
         {
          "count": 220,
          "word": "nation",
          "year": 1886
         },
         {
          "count": 267,
          "word": "nation",
          "year": 1887
         },
         {
          "count": 423,
          "word": "nation",
          "year": 1888
         },
         {
          "count": 231,
          "word": "nation",
          "year": 1889
         },
         {
          "count": 362,
          "word": "nation",
          "year": 1890
         },
         {
          "count": 463,
          "word": "nation",
          "year": 1891
         },
         {
          "count": 310,
          "word": "nation",
          "year": 1892
         },
         {
          "count": 228,
          "word": "nation",
          "year": 1893
         },
         {
          "count": 193,
          "word": "nation",
          "year": 1894
         },
         {
          "count": 184,
          "word": "nation",
          "year": 1895
         },
         {
          "count": 163,
          "word": "nation",
          "year": 1896
         },
         {
          "count": 198,
          "word": "nation",
          "year": 1897
         },
         {
          "count": 224,
          "word": "nation",
          "year": 1898
         },
         {
          "count": 193,
          "word": "nation",
          "year": 1899
         },
         {
          "count": 239,
          "word": "nation",
          "year": 1900
         },
         {
          "count": 285,
          "word": "nation",
          "year": 1901
         },
         {
          "count": 234,
          "word": "nation",
          "year": 1902
         },
         {
          "count": 254,
          "word": "nation",
          "year": 1903
         },
         {
          "count": 95,
          "word": "nation",
          "year": 1904
         },
         {
          "count": 218,
          "word": "nation",
          "year": 1905
         },
         {
          "count": 250,
          "word": "nation",
          "year": 1906
         },
         {
          "count": 314,
          "word": "nation",
          "year": 1907
         },
         {
          "count": 270,
          "word": "nation",
          "year": 1908
         },
         {
          "count": 415,
          "word": "nation",
          "year": 1909
         },
         {
          "count": 187,
          "word": "nation",
          "year": 1910
         },
         {
          "count": 324,
          "word": "nation",
          "year": 1911
         },
         {
          "count": 235,
          "word": "nation",
          "year": 1912
         },
         {
          "count": 379,
          "word": "nation",
          "year": 1913
         },
         {
          "count": 373,
          "word": "nation",
          "year": 1914
         },
         {
          "count": 582,
          "word": "nation",
          "year": 1915
         },
         {
          "count": 573,
          "word": "nation",
          "year": 1916
         },
         {
          "count": 482,
          "word": "nation",
          "year": 1917
         },
         {
          "count": 381,
          "word": "nation",
          "year": 1918
         },
         {
          "count": 323,
          "word": "nation",
          "year": 1919
         },
         {
          "count": 415,
          "word": "nation",
          "year": 1920
         },
         {
          "count": 381,
          "word": "nation",
          "year": 1921
         },
         {
          "count": 345,
          "word": "nation",
          "year": 1922
         },
         {
          "count": 339,
          "word": "nation",
          "year": 1923
         },
         {
          "count": 445,
          "word": "nation",
          "year": 1924
         },
         {
          "count": 319,
          "word": "nation",
          "year": 1925
         },
         {
          "count": 291,
          "word": "nation",
          "year": 1926
         },
         {
          "count": 297,
          "word": "nation",
          "year": 1927
         },
         {
          "count": 269,
          "word": "nation",
          "year": 1928
         },
         {
          "count": 357,
          "word": "nation",
          "year": 1929
         },
         {
          "count": 334,
          "word": "nation",
          "year": 1930
         },
         {
          "count": 294,
          "word": "nation",
          "year": 1931
         },
         {
          "count": 325,
          "word": "nation",
          "year": 1932
         },
         {
          "count": 280,
          "word": "nation",
          "year": 1933
         },
         {
          "count": 269,
          "word": "nation",
          "year": 1934
         },
         {
          "count": 252,
          "word": "nation",
          "year": 1935
         },
         {
          "count": 238,
          "word": "nation",
          "year": 1936
         },
         {
          "count": 284,
          "word": "nation",
          "year": 1937
         },
         {
          "count": 479,
          "word": "nation",
          "year": 1938
         },
         {
          "count": 715,
          "word": "nation",
          "year": 1939
         },
         {
          "count": 653,
          "word": "nation",
          "year": 1940
         },
         {
          "count": 715,
          "word": "nation",
          "year": 1941
         },
         {
          "count": 477,
          "word": "nation",
          "year": 1942
         },
         {
          "count": 536,
          "word": "nation",
          "year": 1943
         },
         {
          "count": 650,
          "word": "nation",
          "year": 1944
         },
         {
          "count": 765,
          "word": "nation",
          "year": 1945
         },
         {
          "count": 573,
          "word": "nation",
          "year": 1946
         },
         {
          "count": 569,
          "word": "nation",
          "year": 1947
         },
         {
          "count": 452,
          "word": "nation",
          "year": 1948
         },
         {
          "count": 464,
          "word": "nation",
          "year": 1949
         },
         {
          "count": 419,
          "word": "nation",
          "year": 1950
         },
         {
          "count": 380,
          "word": "nation",
          "year": 1951
         },
         {
          "count": 304,
          "word": "nation",
          "year": 1952
         },
         {
          "count": 307,
          "word": "nation",
          "year": 1953
         },
         {
          "count": 344,
          "word": "nation",
          "year": 1954
         },
         {
          "count": 303,
          "word": "nation",
          "year": 1955
         },
         {
          "count": 353,
          "word": "nation",
          "year": 1956
         },
         {
          "count": 317,
          "word": "nation",
          "year": 1957
         },
         {
          "count": 268,
          "word": "nation",
          "year": 1958
         },
         {
          "count": 276,
          "word": "nation",
          "year": 1959
         },
         {
          "count": 272,
          "word": "nation",
          "year": 1960
         },
         {
          "count": 307,
          "word": "nation",
          "year": 1961
         },
         {
          "count": 342,
          "word": "nation",
          "year": 1962
         },
         {
          "count": 327,
          "word": "nation",
          "year": 1963
         },
         {
          "count": 381,
          "word": "nation",
          "year": 1964
         },
         {
          "count": 392,
          "word": "nation",
          "year": 1965
         },
         {
          "count": 349,
          "word": "nation",
          "year": 1966
         },
         {
          "count": 366,
          "word": "nation",
          "year": 1967
         },
         {
          "count": 587,
          "word": "nation",
          "year": 1968
         },
         {
          "count": 102,
          "word": "nation",
          "year": 1970
         },
         {
          "count": 222,
          "word": "chinese",
          "year": 1880
         },
         {
          "count": 366,
          "word": "chinese",
          "year": 1881
         },
         {
          "count": 226,
          "word": "chinese",
          "year": 1882
         },
         {
          "count": 273,
          "word": "chinese",
          "year": 1883
         },
         {
          "count": 244,
          "word": "chinese",
          "year": 1884
         },
         {
          "count": 188,
          "word": "chinese",
          "year": 1885
         },
         {
          "count": 360,
          "word": "chinese",
          "year": 1886
         },
         {
          "count": 430,
          "word": "chinese",
          "year": 1887
         },
         {
          "count": 747,
          "word": "chinese",
          "year": 1888
         },
         {
          "count": 279,
          "word": "chinese",
          "year": 1889
         },
         {
          "count": 215,
          "word": "chinese",
          "year": 1890
         },
         {
          "count": 248,
          "word": "chinese",
          "year": 1891
         },
         {
          "count": 233,
          "word": "chinese",
          "year": 1892
         },
         {
          "count": 227,
          "word": "chinese",
          "year": 1893
         },
         {
          "count": 285,
          "word": "chinese",
          "year": 1894
         },
         {
          "count": 382,
          "word": "chinese",
          "year": 1895
         },
         {
          "count": 323,
          "word": "chinese",
          "year": 1896
         },
         {
          "count": 276,
          "word": "chinese",
          "year": 1897
         },
         {
          "count": 399,
          "word": "chinese",
          "year": 1898
         },
         {
          "count": 206,
          "word": "chinese",
          "year": 1899
         },
         {
          "count": 374,
          "word": "chinese",
          "year": 1900
         },
         {
          "count": 282,
          "word": "chinese",
          "year": 1901
         },
         {
          "count": 278,
          "word": "chinese",
          "year": 1902
         },
         {
          "count": 321,
          "word": "chinese",
          "year": 1903
         },
         {
          "count": 261,
          "word": "chinese",
          "year": 1904
         },
         {
          "count": 393,
          "word": "chinese",
          "year": 1905
         },
         {
          "count": 447,
          "word": "chinese",
          "year": 1906
         },
         {
          "count": 391,
          "word": "chinese",
          "year": 1907
         },
         {
          "count": 272,
          "word": "chinese",
          "year": 1908
         },
         {
          "count": 307,
          "word": "chinese",
          "year": 1909
         },
         {
          "count": 153,
          "word": "chinese",
          "year": 1910
         },
         {
          "count": 278,
          "word": "chinese",
          "year": 1911
         },
         {
          "count": 182,
          "word": "chinese",
          "year": 1912
         },
         {
          "count": 292,
          "word": "chinese",
          "year": 1913
         },
         {
          "count": 205,
          "word": "chinese",
          "year": 1914
         },
         {
          "count": 149,
          "word": "chinese",
          "year": 1915
         },
         {
          "count": 139,
          "word": "chinese",
          "year": 1916
         },
         {
          "count": 211,
          "word": "chinese",
          "year": 1917
         },
         {
          "count": 134,
          "word": "chinese",
          "year": 1918
         },
         {
          "count": 237,
          "word": "chinese",
          "year": 1919
         },
         {
          "count": 187,
          "word": "chinese",
          "year": 1920
         },
         {
          "count": 210,
          "word": "chinese",
          "year": 1921
         },
         {
          "count": 283,
          "word": "chinese",
          "year": 1922
         },
         {
          "count": 216,
          "word": "chinese",
          "year": 1923
         },
         {
          "count": 311,
          "word": "chinese",
          "year": 1924
         },
         {
          "count": 304,
          "word": "chinese",
          "year": 1925
         },
         {
          "count": 315,
          "word": "chinese",
          "year": 1926
         },
         {
          "count": 398,
          "word": "chinese",
          "year": 1927
         },
         {
          "count": 308,
          "word": "chinese",
          "year": 1928
         },
         {
          "count": 317,
          "word": "chinese",
          "year": 1929
         },
         {
          "count": 338,
          "word": "chinese",
          "year": 1930
         },
         {
          "count": 254,
          "word": "chinese",
          "year": 1931
         },
         {
          "count": 318,
          "word": "chinese",
          "year": 1932
         },
         {
          "count": 353,
          "word": "chinese",
          "year": 1933
         },
         {
          "count": 303,
          "word": "chinese",
          "year": 1934
         },
         {
          "count": 232,
          "word": "chinese",
          "year": 1935
         },
         {
          "count": 244,
          "word": "chinese",
          "year": 1936
         },
         {
          "count": 397,
          "word": "chinese",
          "year": 1937
         },
         {
          "count": 383,
          "word": "chinese",
          "year": 1938
         },
         {
          "count": 515,
          "word": "chinese",
          "year": 1939
         },
         {
          "count": 336,
          "word": "chinese",
          "year": 1940
         },
         {
          "count": 408,
          "word": "chinese",
          "year": 1941
         },
         {
          "count": 301,
          "word": "chinese",
          "year": 1942
         },
         {
          "count": 242,
          "word": "chinese",
          "year": 1943
         },
         {
          "count": 331,
          "word": "chinese",
          "year": 1944
         },
         {
          "count": 486,
          "word": "chinese",
          "year": 1945
         },
         {
          "count": 353,
          "word": "chinese",
          "year": 1946
         },
         {
          "count": 267,
          "word": "chinese",
          "year": 1947
         },
         {
          "count": 330,
          "word": "chinese",
          "year": 1948
         },
         {
          "count": 489,
          "word": "chinese",
          "year": 1949
         },
         {
          "count": 648,
          "word": "chinese",
          "year": 1950
         },
         {
          "count": 374,
          "word": "chinese",
          "year": 1951
         },
         {
          "count": 443,
          "word": "chinese",
          "year": 1952
         },
         {
          "count": 509,
          "word": "chinese",
          "year": 1953
         },
         {
          "count": 386,
          "word": "chinese",
          "year": 1954
         },
         {
          "count": 358,
          "word": "chinese",
          "year": 1955
         },
         {
          "count": 377,
          "word": "chinese",
          "year": 1956
         },
         {
          "count": 346,
          "word": "chinese",
          "year": 1957
         },
         {
          "count": 331,
          "word": "chinese",
          "year": 1958
         },
         {
          "count": 488,
          "word": "chinese",
          "year": 1959
         },
         {
          "count": 463,
          "word": "chinese",
          "year": 1960
         },
         {
          "count": 587,
          "word": "chinese",
          "year": 1961
         },
         {
          "count": 515,
          "word": "chinese",
          "year": 1962
         },
         {
          "count": 585,
          "word": "chinese",
          "year": 1963
         },
         {
          "count": 573,
          "word": "chinese",
          "year": 1964
         },
         {
          "count": 571,
          "word": "chinese",
          "year": 1965
         },
         {
          "count": 498,
          "word": "chinese",
          "year": 1966
         },
         {
          "count": 567,
          "word": "chinese",
          "year": 1967
         },
         {
          "count": 434,
          "word": "chinese",
          "year": 1968
         },
         {
          "count": 94,
          "word": "chinese",
          "year": 1970
         },
         {
          "count": 15,
          "word": "republic",
          "year": 1880
         },
         {
          "count": 14,
          "word": "republic",
          "year": 1881
         },
         {
          "count": 13,
          "word": "republic",
          "year": 1882
         },
         {
          "count": 37,
          "word": "republic",
          "year": 1883
         },
         {
          "count": 55,
          "word": "republic",
          "year": 1884
         },
         {
          "count": 37,
          "word": "republic",
          "year": 1885
         },
         {
          "count": 36,
          "word": "republic",
          "year": 1886
         },
         {
          "count": 62,
          "word": "republic",
          "year": 1887
         },
         {
          "count": 83,
          "word": "republic",
          "year": 1888
         },
         {
          "count": 79,
          "word": "republic",
          "year": 1889
         },
         {
          "count": 129,
          "word": "republic",
          "year": 1890
         },
         {
          "count": 177,
          "word": "republic",
          "year": 1891
         },
         {
          "count": 70,
          "word": "republic",
          "year": 1892
         },
         {
          "count": 74,
          "word": "republic",
          "year": 1893
         },
         {
          "count": 47,
          "word": "republic",
          "year": 1894
         },
         {
          "count": 34,
          "word": "republic",
          "year": 1895
         },
         {
          "count": 28,
          "word": "republic",
          "year": 1896
         },
         {
          "count": 20,
          "word": "republic",
          "year": 1897
         },
         {
          "count": 37,
          "word": "republic",
          "year": 1898
         },
         {
          "count": 92,
          "word": "republic",
          "year": 1899
         },
         {
          "count": 44,
          "word": "republic",
          "year": 1900
         },
         {
          "count": 44,
          "word": "republic",
          "year": 1901
         },
         {
          "count": 60,
          "word": "republic",
          "year": 1902
         },
         {
          "count": 23,
          "word": "republic",
          "year": 1903
         },
         {
          "count": 8,
          "word": "republic",
          "year": 1904
         },
         {
          "count": 30,
          "word": "republic",
          "year": 1905
         },
         {
          "count": 37,
          "word": "republic",
          "year": 1906
         },
         {
          "count": 18,
          "word": "republic",
          "year": 1907
         },
         {
          "count": 34,
          "word": "republic",
          "year": 1908
         },
         {
          "count": 41,
          "word": "republic",
          "year": 1909
         },
         {
          "count": 28,
          "word": "republic",
          "year": 1910
         },
         {
          "count": 39,
          "word": "republic",
          "year": 1911
         },
         {
          "count": 28,
          "word": "republic",
          "year": 1912
         },
         {
          "count": 71,
          "word": "republic",
          "year": 1913
         },
         {
          "count": 48,
          "word": "republic",
          "year": 1914
         },
         {
          "count": 38,
          "word": "republic",
          "year": 1915
         },
         {
          "count": 44,
          "word": "republic",
          "year": 1916
         },
         {
          "count": 62,
          "word": "republic",
          "year": 1917
         },
         {
          "count": 78,
          "word": "republic",
          "year": 1918
         },
         {
          "count": 119,
          "word": "republic",
          "year": 1919
         },
         {
          "count": 146,
          "word": "republic",
          "year": 1920
         },
         {
          "count": 101,
          "word": "republic",
          "year": 1921
         },
         {
          "count": 79,
          "word": "republic",
          "year": 1922
         },
         {
          "count": 66,
          "word": "republic",
          "year": 1923
         },
         {
          "count": 88,
          "word": "republic",
          "year": 1924
         },
         {
          "count": 218,
          "word": "republic",
          "year": 1925
         },
         {
          "count": 201,
          "word": "republic",
          "year": 1926
         },
         {
          "count": 202,
          "word": "republic",
          "year": 1927
         },
         {
          "count": 114,
          "word": "republic",
          "year": 1928
         },
         {
          "count": 130,
          "word": "republic",
          "year": 1929
         },
         {
          "count": 51,
          "word": "republic",
          "year": 1930
         },
         {
          "count": 74,
          "word": "republic",
          "year": 1931
         },
         {
          "count": 82,
          "word": "republic",
          "year": 1932
         },
         {
          "count": 43,
          "word": "republic",
          "year": 1933
         },
         {
          "count": 59,
          "word": "republic",
          "year": 1934
         },
         {
          "count": 46,
          "word": "republic",
          "year": 1935
         },
         {
          "count": 43,
          "word": "republic",
          "year": 1936
         },
         {
          "count": 58,
          "word": "republic",
          "year": 1937
         },
         {
          "count": 113,
          "word": "republic",
          "year": 1938
         },
         {
          "count": 140,
          "word": "republic",
          "year": 1939
         },
         {
          "count": 115,
          "word": "republic",
          "year": 1940
         },
         {
          "count": 62,
          "word": "republic",
          "year": 1941
         },
         {
          "count": 30,
          "word": "republic",
          "year": 1942
         },
         {
          "count": 27,
          "word": "republic",
          "year": 1943
         },
         {
          "count": 46,
          "word": "republic",
          "year": 1944
         },
         {
          "count": 73,
          "word": "republic",
          "year": 1945
         },
         {
          "count": 77,
          "word": "republic",
          "year": 1946
         },
         {
          "count": 85,
          "word": "republic",
          "year": 1947
         },
         {
          "count": 63,
          "word": "republic",
          "year": 1948
         },
         {
          "count": 81,
          "word": "republic",
          "year": 1949
         },
         {
          "count": 92,
          "word": "republic",
          "year": 1950
         },
         {
          "count": 49,
          "word": "republic",
          "year": 1951
         },
         {
          "count": 36,
          "word": "republic",
          "year": 1952
         },
         {
          "count": 43,
          "word": "republic",
          "year": 1953
         },
         {
          "count": 76,
          "word": "republic",
          "year": 1954
         },
         {
          "count": 52,
          "word": "republic",
          "year": 1955
         },
         {
          "count": 61,
          "word": "republic",
          "year": 1956
         },
         {
          "count": 42,
          "word": "republic",
          "year": 1957
         },
         {
          "count": 93,
          "word": "republic",
          "year": 1958
         },
         {
          "count": 99,
          "word": "republic",
          "year": 1959
         },
         {
          "count": 89,
          "word": "republic",
          "year": 1960
         },
         {
          "count": 68,
          "word": "republic",
          "year": 1961
         },
         {
          "count": 70,
          "word": "republic",
          "year": 1962
         },
         {
          "count": 83,
          "word": "republic",
          "year": 1963
         },
         {
          "count": 66,
          "word": "republic",
          "year": 1964
         },
         {
          "count": 104,
          "word": "republic",
          "year": 1965
         },
         {
          "count": 81,
          "word": "republic",
          "year": 1966
         },
         {
          "count": 69,
          "word": "republic",
          "year": 1967
         },
         {
          "count": 96,
          "word": "republic",
          "year": 1968
         },
         {
          "count": 9,
          "word": "republic",
          "year": 1970
         },
         {
          "count": 23,
          "word": "worker",
          "year": 1880
         },
         {
          "count": 17,
          "word": "worker",
          "year": 1881
         },
         {
          "count": 14,
          "word": "worker",
          "year": 1882
         },
         {
          "count": 18,
          "word": "worker",
          "year": 1883
         },
         {
          "count": 13,
          "word": "worker",
          "year": 1884
         },
         {
          "count": 11,
          "word": "worker",
          "year": 1885
         },
         {
          "count": 16,
          "word": "worker",
          "year": 1886
         },
         {
          "count": 16,
          "word": "worker",
          "year": 1887
         },
         {
          "count": 34,
          "word": "worker",
          "year": 1888
         },
         {
          "count": 39,
          "word": "worker",
          "year": 1889
         },
         {
          "count": 124,
          "word": "worker",
          "year": 1890
         },
         {
          "count": 69,
          "word": "worker",
          "year": 1891
         },
         {
          "count": 65,
          "word": "worker",
          "year": 1892
         },
         {
          "count": 83,
          "word": "worker",
          "year": 1893
         },
         {
          "count": 63,
          "word": "worker",
          "year": 1894
         },
         {
          "count": 50,
          "word": "worker",
          "year": 1895
         },
         {
          "count": 56,
          "word": "worker",
          "year": 1896
         },
         {
          "count": 64,
          "word": "worker",
          "year": 1897
         },
         {
          "count": 77,
          "word": "worker",
          "year": 1898
         },
         {
          "count": 120,
          "word": "worker",
          "year": 1899
         },
         {
          "count": 61,
          "word": "worker",
          "year": 1900
         },
         {
          "count": 106,
          "word": "worker",
          "year": 1901
         },
         {
          "count": 108,
          "word": "worker",
          "year": 1902
         },
         {
          "count": 212,
          "word": "worker",
          "year": 1903
         },
         {
          "count": 126,
          "word": "worker",
          "year": 1904
         },
         {
          "count": 133,
          "word": "worker",
          "year": 1905
         },
         {
          "count": 139,
          "word": "worker",
          "year": 1906
         },
         {
          "count": 219,
          "word": "worker",
          "year": 1907
         },
         {
          "count": 115,
          "word": "worker",
          "year": 1908
         },
         {
          "count": 182,
          "word": "worker",
          "year": 1909
         },
         {
          "count": 125,
          "word": "worker",
          "year": 1910
         },
         {
          "count": 244,
          "word": "worker",
          "year": 1911
         },
         {
          "count": 196,
          "word": "worker",
          "year": 1912
         },
         {
          "count": 194,
          "word": "worker",
          "year": 1913
         },
         {
          "count": 224,
          "word": "worker",
          "year": 1914
         },
         {
          "count": 170,
          "word": "worker",
          "year": 1915
         },
         {
          "count": 196,
          "word": "worker",
          "year": 1916
         },
         {
          "count": 158,
          "word": "worker",
          "year": 1917
         },
         {
          "count": 220,
          "word": "worker",
          "year": 1918
         },
         {
          "count": 255,
          "word": "worker",
          "year": 1919
         },
         {
          "count": 214,
          "word": "worker",
          "year": 1920
         },
         {
          "count": 196,
          "word": "worker",
          "year": 1921
         },
         {
          "count": 166,
          "word": "worker",
          "year": 1922
         },
         {
          "count": 172,
          "word": "worker",
          "year": 1923
         },
         {
          "count": 186,
          "word": "worker",
          "year": 1924
         },
         {
          "count": 191,
          "word": "worker",
          "year": 1925
         },
         {
          "count": 174,
          "word": "worker",
          "year": 1926
         },
         {
          "count": 209,
          "word": "worker",
          "year": 1927
         },
         {
          "count": 181,
          "word": "worker",
          "year": 1928
         },
         {
          "count": 187,
          "word": "worker",
          "year": 1929
         },
         {
          "count": 222,
          "word": "worker",
          "year": 1930
         },
         {
          "count": 238,
          "word": "worker",
          "year": 1931
         },
         {
          "count": 214,
          "word": "worker",
          "year": 1932
         },
         {
          "count": 160,
          "word": "worker",
          "year": 1933
         },
         {
          "count": 147,
          "word": "worker",
          "year": 1934
         },
         {
          "count": 124,
          "word": "worker",
          "year": 1935
         },
         {
          "count": 123,
          "word": "worker",
          "year": 1936
         },
         {
          "count": 121,
          "word": "worker",
          "year": 1937
         },
         {
          "count": 131,
          "word": "worker",
          "year": 1938
         },
         {
          "count": 181,
          "word": "worker",
          "year": 1939
         },
         {
          "count": 185,
          "word": "worker",
          "year": 1940
         },
         {
          "count": 213,
          "word": "worker",
          "year": 1941
         },
         {
          "count": 191,
          "word": "worker",
          "year": 1942
         },
         {
          "count": 154,
          "word": "worker",
          "year": 1943
         },
         {
          "count": 140,
          "word": "worker",
          "year": 1944
         },
         {
          "count": 122,
          "word": "worker",
          "year": 1945
         },
         {
          "count": 178,
          "word": "worker",
          "year": 1946
         },
         {
          "count": 205,
          "word": "worker",
          "year": 1947
         },
         {
          "count": 128,
          "word": "worker",
          "year": 1948
         },
         {
          "count": 204,
          "word": "worker",
          "year": 1949
         },
         {
          "count": 177,
          "word": "worker",
          "year": 1950
         },
         {
          "count": 121,
          "word": "worker",
          "year": 1951
         },
         {
          "count": 165,
          "word": "worker",
          "year": 1952
         },
         {
          "count": 130,
          "word": "worker",
          "year": 1953
         },
         {
          "count": 133,
          "word": "worker",
          "year": 1954
         },
         {
          "count": 128,
          "word": "worker",
          "year": 1955
         },
         {
          "count": 154,
          "word": "worker",
          "year": 1956
         },
         {
          "count": 145,
          "word": "worker",
          "year": 1957
         },
         {
          "count": 128,
          "word": "worker",
          "year": 1958
         },
         {
          "count": 94,
          "word": "worker",
          "year": 1959
         },
         {
          "count": 74,
          "word": "worker",
          "year": 1960
         },
         {
          "count": 107,
          "word": "worker",
          "year": 1961
         },
         {
          "count": 130,
          "word": "worker",
          "year": 1962
         },
         {
          "count": 77,
          "word": "worker",
          "year": 1963
         },
         {
          "count": 95,
          "word": "worker",
          "year": 1964
         },
         {
          "count": 94,
          "word": "worker",
          "year": 1965
         },
         {
          "count": 86,
          "word": "worker",
          "year": 1966
         },
         {
          "count": 61,
          "word": "worker",
          "year": 1967
         },
         {
          "count": 44,
          "word": "worker",
          "year": 1968
         },
         {
          "count": 15,
          "word": "worker",
          "year": 1970
         },
         {
          "count": 7,
          "word": "unions",
          "year": 1880
         },
         {
          "count": 4,
          "word": "unions",
          "year": 1881
         },
         {
          "count": 7,
          "word": "unions",
          "year": 1882
         },
         {
          "count": 6,
          "word": "unions",
          "year": 1883
         },
         {
          "count": 22,
          "word": "unions",
          "year": 1884
         },
         {
          "count": 18,
          "word": "unions",
          "year": 1885
         },
         {
          "count": 52,
          "word": "unions",
          "year": 1886
         },
         {
          "count": 16,
          "word": "unions",
          "year": 1887
         },
         {
          "count": 28,
          "word": "unions",
          "year": 1888
         },
         {
          "count": 32,
          "word": "unions",
          "year": 1889
         },
         {
          "count": 94,
          "word": "unions",
          "year": 1890
         },
         {
          "count": 74,
          "word": "unions",
          "year": 1891
         },
         {
          "count": 60,
          "word": "unions",
          "year": 1892
         },
         {
          "count": 35,
          "word": "unions",
          "year": 1893
         },
         {
          "count": 30,
          "word": "unions",
          "year": 1894
         },
         {
          "count": 22,
          "word": "unions",
          "year": 1895
         },
         {
          "count": 53,
          "word": "unions",
          "year": 1896
         },
         {
          "count": 38,
          "word": "unions",
          "year": 1897
         },
         {
          "count": 52,
          "word": "unions",
          "year": 1898
         },
         {
          "count": 25,
          "word": "unions",
          "year": 1899
         },
         {
          "count": 38,
          "word": "unions",
          "year": 1900
         },
         {
          "count": 46,
          "word": "unions",
          "year": 1901
         },
         {
          "count": 73,
          "word": "unions",
          "year": 1902
         },
         {
          "count": 120,
          "word": "unions",
          "year": 1903
         },
         {
          "count": 35,
          "word": "unions",
          "year": 1904
         },
         {
          "count": 92,
          "word": "unions",
          "year": 1905
         },
         {
          "count": 68,
          "word": "unions",
          "year": 1906
         },
         {
          "count": 40,
          "word": "unions",
          "year": 1907
         },
         {
          "count": 72,
          "word": "unions",
          "year": 1908
         },
         {
          "count": 92,
          "word": "unions",
          "year": 1909
         },
         {
          "count": 52,
          "word": "unions",
          "year": 1910
         },
         {
          "count": 121,
          "word": "unions",
          "year": 1911
         },
         {
          "count": 65,
          "word": "unions",
          "year": 1912
         },
         {
          "count": 72,
          "word": "unions",
          "year": 1913
         },
         {
          "count": 70,
          "word": "unions",
          "year": 1914
         },
         {
          "count": 78,
          "word": "unions",
          "year": 1915
         },
         {
          "count": 109,
          "word": "unions",
          "year": 1916
         },
         {
          "count": 127,
          "word": "unions",
          "year": 1917
         },
         {
          "count": 133,
          "word": "unions",
          "year": 1918
         },
         {
          "count": 61,
          "word": "unions",
          "year": 1919
         },
         {
          "count": 122,
          "word": "unions",
          "year": 1920
         },
         {
          "count": 114,
          "word": "unions",
          "year": 1921
         },
         {
          "count": 103,
          "word": "unions",
          "year": 1922
         },
         {
          "count": 92,
          "word": "unions",
          "year": 1923
         },
         {
          "count": 82,
          "word": "unions",
          "year": 1924
         },
         {
          "count": 169,
          "word": "unions",
          "year": 1925
         },
         {
          "count": 170,
          "word": "unions",
          "year": 1926
         },
         {
          "count": 140,
          "word": "unions",
          "year": 1927
         },
         {
          "count": 172,
          "word": "unions",
          "year": 1928
         },
         {
          "count": 96,
          "word": "unions",
          "year": 1929
         },
         {
          "count": 128,
          "word": "unions",
          "year": 1930
         },
         {
          "count": 122,
          "word": "unions",
          "year": 1931
         },
         {
          "count": 111,
          "word": "unions",
          "year": 1932
         },
         {
          "count": 98,
          "word": "unions",
          "year": 1933
         },
         {
          "count": 103,
          "word": "unions",
          "year": 1934
         },
         {
          "count": 65,
          "word": "unions",
          "year": 1935
         },
         {
          "count": 42,
          "word": "unions",
          "year": 1936
         },
         {
          "count": 52,
          "word": "unions",
          "year": 1937
         },
         {
          "count": 71,
          "word": "unions",
          "year": 1938
         },
         {
          "count": 61,
          "word": "unions",
          "year": 1939
         },
         {
          "count": 103,
          "word": "unions",
          "year": 1940
         },
         {
          "count": 97,
          "word": "unions",
          "year": 1941
         },
         {
          "count": 99,
          "word": "unions",
          "year": 1942
         },
         {
          "count": 186,
          "word": "unions",
          "year": 1943
         },
         {
          "count": 132,
          "word": "unions",
          "year": 1944
         },
         {
          "count": 177,
          "word": "unions",
          "year": 1945
         },
         {
          "count": 290,
          "word": "unions",
          "year": 1946
         },
         {
          "count": 329,
          "word": "unions",
          "year": 1947
         },
         {
          "count": 366,
          "word": "unions",
          "year": 1948
         },
         {
          "count": 482,
          "word": "unions",
          "year": 1949
         },
         {
          "count": 462,
          "word": "unions",
          "year": 1950
         },
         {
          "count": 429,
          "word": "unions",
          "year": 1951
         },
         {
          "count": 316,
          "word": "unions",
          "year": 1952
         },
         {
          "count": 222,
          "word": "unions",
          "year": 1953
         },
         {
          "count": 240,
          "word": "unions",
          "year": 1954
         },
         {
          "count": 216,
          "word": "unions",
          "year": 1955
         },
         {
          "count": 225,
          "word": "unions",
          "year": 1956
         },
         {
          "count": 193,
          "word": "unions",
          "year": 1957
         },
         {
          "count": 210,
          "word": "unions",
          "year": 1958
         },
         {
          "count": 263,
          "word": "unions",
          "year": 1959
         },
         {
          "count": 146,
          "word": "unions",
          "year": 1960
         },
         {
          "count": 472,
          "word": "unions",
          "year": 1961
         },
         {
          "count": 308,
          "word": "unions",
          "year": 1962
         },
         {
          "count": 257,
          "word": "unions",
          "year": 1963
         },
         {
          "count": 262,
          "word": "unions",
          "year": 1964
         },
         {
          "count": 335,
          "word": "unions",
          "year": 1965
         },
         {
          "count": 145,
          "word": "unions",
          "year": 1966
         },
         {
          "count": 150,
          "word": "unions",
          "year": 1967
         },
         {
          "count": 153,
          "word": "unions",
          "year": 1968
         },
         {
          "count": 63,
          "word": "unions",
          "year": 1970
         }
        ]
       },
       "encoding": {
        "color": {
         "field": "word",
         "legend": null,
         "type": "nominal"
        },
        "size": {
         "field": "count",
         "legend": {
          "title": "Frequency"
         },
         "scale": {
          "range": [
           0,
           1000
          ]
         },
         "type": "quantitative"
        },
        "tooltip": [
         {
          "field": "word",
          "title": "Word",
          "type": "nominal"
         },
         {
          "field": "year",
          "title": "Year",
          "type": "ordinal"
         },
         {
          "field": "count",
          "format": ",",
          "title": "Frequency",
          "type": "quantitative"
         }
        ],
        "x": {
         "axis": {
          "format": "c",
          "labelAngle": 0,
          "title": "Year"
         },
         "field": "year",
         "type": "ordinal"
        },
        "y": {
         "field": "word",
         "title": "Word",
         "type": "nominal"
        }
       },
       "height": 300,
       "mark": {
        "opacity": 0.8,
        "stroke": "black",
        "strokeWidth": 1,
        "type": "circle"
       },
       "width": 700
      },
      "image/png": "[encoded data removed]",
      "text/plain": [
       "<VegaLite 3 object>\n",
       "\n",
       "If you see this message, it means the renderer has not been properly enabled\n",
       "for the frontend that you are using. For more information, see\n",
       "https://altair-viz.github.io/user_guide/troubleshooting.html\n"
      ]
     },
     "execution_count": 34,
     "metadata": {},
     "output_type": "execute_result"
    }
   ],
   "source": [
    "# Create a chart\n",
    "alt.Chart(df_words.loc[df_words['year'] > 0]).mark_circle(\n",
    "    \n",
    "    # Style the circles\n",
    "    opacity=0.8,\n",
    "    stroke='black',\n",
    "    strokeWidth=1\n",
    ").encode(\n",
    "    \n",
    "    # Year on the X axis\n",
    "    x=alt.X('year:O', axis=alt.Axis(format='c', title='Year', labelAngle=0)),\n",
    "    \n",
    "    # Object type on the Y axis\n",
    "    y=alt.Y('word:N', title='Word'),\n",
    "    \n",
    "    # Size of the circles represents the number of objects\n",
    "    size=alt.Size('count:Q',\n",
    "        scale=alt.Scale(range=[0, 1000]),\n",
    "        legend=alt.Legend(title='Frequency')\n",
    "    ),\n",
    "    \n",
    "    # Color the circles by object type\n",
    "    color=alt.Color('word:N', legend=None),\n",
    "    \n",
    "    # More details on hover\n",
    "    tooltip=[alt.Tooltip('word:N', title='Word'), alt.Tooltip('year:O', title='Year'), alt.Tooltip('count:Q', title='Frequency', format=',')]\n",
    ").properties(\n",
    "    width=700,\n",
    "    height=300\n",
    ")"
   ]
  },
  {
   "cell_type": "code",
   "execution_count": null,
   "metadata": {},
   "outputs": [],
   "source": []
  }
 ],
 "metadata": {
  "kernelspec": {
   "display_name": "Python 3",
   "language": "python",
   "name": "python3"
  },
  "language_info": {
   "codemirror_mode": {
    "name": "ipython",
    "version": 3
   },
   "file_extension": ".py",
   "mimetype": "text/x-python",
   "name": "python",
   "nbconvert_exporter": "python",
   "pygments_lexer": "ipython3",
   "version": "3.7.7"
  }
 },
 "nbformat": 4,
 "nbformat_minor": 4
}
