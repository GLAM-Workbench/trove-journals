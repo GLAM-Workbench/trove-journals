{
 "cells": [
  {
   "cell_type": "markdown",
   "metadata": {},
   "source": [
    "# Harvest parliament press releases from Trove"
   ]
  },
  {
   "cell_type": "markdown",
   "metadata": {
    "tags": []
   },
   "source": [
    "Trove includes more than 370,000 press releases, speeches, and interview transcripts issued by Australian federal politicians and saved by the Parliamentary Library. You can view them all in Trove by searching for [nuc:\"APAR:PR\" in the books & libraries category](http://trove.nla.gov.au/search/category/books?keyword=nuc%3A%22APAR%3APR%22).\n",
    "\n",
    "This notebook shows you how to harvest both metadata and full text from a search of the parliamentary press releases. The metadata is available from Trove, but to get the full text we have to go back to the Parliamentary Library's database, ParlInfo. The code in this notebook updates [my original GitHub repository](https://github.com/wragge/trove-parliament-pressreleases).\n",
    "\n",
    "There are two main steps:\n",
    "\n",
    "* Use the Trove API to search for specific keywords within the press releases and harvest metadata from the results. This gives us urls that we can use to get the text of the press releases from ParlInfo.\n",
    "* Use the harvested urls to retrieve the press release from ParlInfo. The text of each release is extracted from the HTML page and saved as a plain text file.\n",
    "\n",
    "Sometimes multiple press releases can be grouped together as 'works' in Trove. This is because Trove thinks that they're versions of the same thing. However, these versions are not always identical, and sometimes Trove has grouped press releases together incorrectly. To make sure that we harvest as many individual press releases as possible, the code below unpacks any versions contained within a 'work' and turns them into individual records.\n",
    "\n",
    "It looks like the earlier documents have been OCRd and the results are quite variable. If you follow the `fulltext_url` link you should be able to view a PDF version for comparison.\n",
    "\n",
    "It also seems that some documents only have a PDF version and not any OCRd text. These documents will be ignored by the `save_texts()` function, so you might end up with fewer texts than records.\n",
    "\n",
    "The copyright statement attached to each record in Trove reads:\n",
    "\n",
    "> Copyright remains with the copyright holder. Contact the Australian Copyright Council for further information on your rights and responsibilities.\n",
    "\n",
    "So depending on what you want to do with them, you might need to contact individual copyright holders for permission.\n",
    "\n",
    "## Duplicates and false positives\n",
    "\n",
    "As noted Trove sometimes groups different press releases together as a single `work`. This seems to happen when press releases share a title and creator – for example, if an MP issues a press release titled 'Anzac Day' every year, these might be grouped as a single work. As noted above, all the different versions will be harvested by default. However, because search is operating at the work level, it's entirely possible that some of the grouped versions won't actually contain the search term you're looking for. To exclude these, we need to examine the text of each version individually to see if they match.\n",
    "\n",
    "There will also be press releases that have exactly the same text content, both within and across works. For example, when a press release is issued both by a Minister and their department, or when MPs disseminate press releases issued by their party.\n",
    "\n",
    "To make it easier to deal with these two issues, I've added some post-harvest processing steps to:\n",
    "\n",
    "* remove records where the text content of the press release doesn't include any of the search terms (you'll need to adjust this to meet your needs)\n",
    "* add a `hash` column that represents the text content of a press release – this can be used to identify duplicates\n"
   ]
  },
  {
   "cell_type": "markdown",
   "metadata": {},
   "source": [
    "## An example – politicians talking about 'immigrants' and 'refugees'\n",
    "\n",
    "I've used this notebook to update an example dataset relating to refugees that I first generated in December 2017. It's been created by searching for the terms 'immigrant', 'asylum seeker', 'boat people', 'illegal arrivals', and 'boat arrivals' amongst the press releases. The exact query used is:\n",
    "\n",
    "```\n",
    "nuc:\"APAR:PR\" AND (\"illegal arrival\" OR text:\"immigrant\" OR text:\"immigrants\" OR \"asylum seeker\" OR \"boat people\" OR refugee OR \"boat arrivals\")\n",
    "```\n",
    "\n",
    "You can view the [results of this query on Trove](https://trove.nla.gov.au/search/category/books?keyword=nuc%3A%22APAR%3APR%22%20AND%20%28%22illegal%20arrival%22%20OR%20text%3A%22immigrant%22%20OR%20text%3A%22immigrants%22%20OR%20%22asylum%20seeker%22%20OR%20%22boat%20people%22%20OR%20refugee%20OR%20%22boat%20arrivals%22%29).\n",
    "\n",
    "After unpacking the versions and harvesting available texts I ended up with 12,619 text files. You can [browse the files on CloudStor](https://cloudstor.aarnet.edu.au/plus/s/Msoj978Zlrud40g), or download the complete dataset as a [zip file (43mb)](https://cloudstor.aarnet.edu.au/plus/s/diwB0tnpv1X1ORN)."
   ]
  },
  {
   "cell_type": "markdown",
   "metadata": {},
   "source": [
    "## Import the libraries we'll need"
   ]
  },
  {
   "cell_type": "code",
   "execution_count": null,
   "metadata": {
    "tags": []
   },
   "outputs": [],
   "source": [
    "import hashlib\n",
    "import os\n",
    "import re\n",
    "import shutil\n",
    "import time\n",
    "from pathlib import Path\n",
    "\n",
    "import pandas as pd\n",
    "import requests\n",
    "from bs4 import BeautifulSoup\n",
    "from IPython.display import HTML, display\n",
    "from requests.adapters import HTTPAdapter\n",
    "from requests.packages.urllib3.util.retry import Retry\n",
    "from slugify import slugify\n",
    "from tqdm.auto import tqdm\n",
    "\n",
    "s = requests.Session()\n",
    "retries = Retry(total=5, backoff_factor=1, status_forcelist=[502, 503, 504])\n",
    "s.mount(\"https://\", HTTPAdapter(max_retries=retries))\n",
    "s.mount(\"http://\", HTTPAdapter(max_retries=retries))"
   ]
  },
  {
   "cell_type": "code",
   "execution_count": null,
   "metadata": {},
   "outputs": [],
   "source": [
    "%%capture\n",
    "# Load variables from the .env file if it exists\n",
    "# Use %%capture to suppress messages\n",
    "%load_ext dotenv\n",
    "%dotenv"
   ]
  },
  {
   "cell_type": "markdown",
   "metadata": {},
   "source": [
    "## Set your options"
   ]
  },
  {
   "cell_type": "markdown",
   "metadata": {},
   "source": [
    "In the cell below you need to insert your search query and your Trove API key. You can get a Trove API key by [following these instructions](https://help.nla.gov.au/trove/building-with-trove/api)."
   ]
  },
  {
   "cell_type": "code",
   "execution_count": null,
   "metadata": {},
   "outputs": [],
   "source": [
    "# Insert your Trove API key\n",
    "API_KEY = \"YOUR API KEY\"\n",
    "\n",
    "# Use api key value from environment variables if it is available\n",
    "if os.getenv(\"TROVE_API_KEY\"):\n",
    "    API_KEY = os.getenv(\"TROVE_API_KEY\")"
   ]
  },
  {
   "cell_type": "markdown",
   "metadata": {},
   "source": [
    "The search query can be anything you would enter in the Trove search box. As you can see from the examples below it can include phrases, exact phrases, and boolean operators (`AND`, `OR`, and `NOT`).\n",
    "\n",
    "You can change `output_dir` to save the results to a specific directory on your machine."
   ]
  },
  {
   "cell_type": "code",
   "execution_count": null,
   "metadata": {},
   "outputs": [],
   "source": [
    "# Insert your query between the single quotes.\n",
    "# query = '\"illegal arrival\" OR text:\"immigrant\" OR text:\"immigrants\" OR \"asylum seeker\" OR \"boat people\" OR refugee OR \"boat arrivals\"'\n",
    "query = \"ufo\"\n",
    "# You don't have to change this\n",
    "output_dir = \"press-releases\""
   ]
  },
  {
   "cell_type": "markdown",
   "metadata": {},
   "source": [
    "## Define some functions to do the work"
   ]
  },
  {
   "cell_type": "code",
   "execution_count": null,
   "metadata": {},
   "outputs": [],
   "source": [
    "def get_total_results(params):\n",
    "    \"\"\"\n",
    "    Get the total number of results for a search.\n",
    "    \"\"\"\n",
    "    these_params = params.copy()\n",
    "    these_params[\"n\"] = 0\n",
    "    response = s.get(\"https://api.trove.nla.gov.au/v2/result\", params=these_params)\n",
    "    data = response.json()\n",
    "    return int(data[\"response\"][\"zone\"][0][\"records\"][\"total\"])\n",
    "\n",
    "\n",
    "def get_fulltext_url(links):\n",
    "    \"\"\"\n",
    "    Loop through the identifiers to find a link to the digital version of the journal.\n",
    "    \"\"\"\n",
    "    url = None\n",
    "    for link in links:\n",
    "        if link[\"linktype\"] == \"fulltext\":\n",
    "            url = link[\"value\"]\n",
    "            break\n",
    "    return url\n",
    "\n",
    "\n",
    "def get_source(version):\n",
    "    \"\"\"\n",
    "    Get the metadata source of a version.\n",
    "    \"\"\"\n",
    "    if \"metadataSource\" in version:\n",
    "        try:\n",
    "            source = version[\"metadataSource\"][\"value\"]\n",
    "        except TypeError:\n",
    "            try:\n",
    "                source = version[\"metadataSource\"]\n",
    "            except TypeError:\n",
    "                print(version)\n",
    "\n",
    "        except KeyError:\n",
    "            source = None\n",
    "    else:\n",
    "        source = None\n",
    "    return source\n",
    "\n",
    "\n",
    "def harvest_prs(query):\n",
    "    \"\"\"\n",
    "    Harvest details of parliamentary press releases using the Trove API.\n",
    "    This function saves the 'version' level records individually (these are grouped under 'works').\n",
    "    \"\"\"\n",
    "    # Define parameters for the search -- you could change this of course\n",
    "    # The nuc:\"APAR:PR\" limits the results to the Parliamentary Press Releases\n",
    "    params = {\n",
    "        \"q\": 'nuc:\"APAR:PR\" AND ({})'.format(query),\n",
    "        \"zone\": \"article\",\n",
    "        \"n\": 100,\n",
    "        \"key\": API_KEY,\n",
    "        \"bulkHarvest\": \"true\",\n",
    "        \"encoding\": \"json\",\n",
    "        \"include\": \"workVersions\",\n",
    "        \"l-availability\": \"y\",\n",
    "    }\n",
    "    start = \"*\"\n",
    "    total = get_total_results(params)\n",
    "    records = []\n",
    "    url = \"http://api.trove.nla.gov.au/v2/result\"\n",
    "    with tqdm(total=total) as pbar:\n",
    "        while start:\n",
    "            params[\"s\"] = start\n",
    "            response = s.get(url, params=params)\n",
    "            data = response.json()\n",
    "            # If there's a startNext value then we get it to request the next page of results\n",
    "            try:\n",
    "                start = data[\"response\"][\"zone\"][0][\"records\"][\"nextStart\"]\n",
    "            except KeyError:\n",
    "                start = None\n",
    "            for work in data[\"response\"][\"zone\"][0][\"records\"][\"work\"]:\n",
    "                # Different records can be grouped within works as versions.\n",
    "                # So we're going to extract each version as a separate record.\n",
    "                for version in work[\"version\"]:\n",
    "                    # Sometimes there are even versions grouped together in a version... ¯\\_(ツ)_/¯\n",
    "                    # We need to extract their ids from a single string\n",
    "                    ids = version[\"id\"].split()\n",
    "                    # This may or may not be a list...\n",
    "                    if isinstance(version[\"record\"], list):\n",
    "                        version_records = version[\"record\"]\n",
    "                    else:\n",
    "                        version_records = [version[\"record\"]]\n",
    "                    # Loop through versions in versions.\n",
    "                    for index, record in enumerate(version_records):\n",
    "                        source = get_source(record)\n",
    "                        if source == \"APAR:PR\":\n",
    "                            # Add the id to the version record\n",
    "                            record[\"version_id\"] = ids[index]\n",
    "                            record[\"work_id\"] = work[\"id\"]\n",
    "                            record = clean_metadata(record)\n",
    "                            records.append(record)\n",
    "                # Try to avoid hitting the API request limit\n",
    "            pbar.update(100)\n",
    "            time.sleep(0.2)\n",
    "    return records\n",
    "\n",
    "\n",
    "def stringify_values(version, field):\n",
    "    \"\"\"\n",
    "    If a value is a list, join it into a pipe separate string.\n",
    "    Otherwise just return the string value.\n",
    "    \"\"\"\n",
    "    try:\n",
    "        if isinstance(version[field], list):\n",
    "            values = [str(v) for v in version.get(field)]\n",
    "            value = \"|\".join(values)\n",
    "        else:\n",
    "            value = version.get(field, \"\")\n",
    "    except KeyError:\n",
    "        value = \"\"\n",
    "    return value\n",
    "\n",
    "\n",
    "def clean_metadata(version):\n",
    "    \"\"\"\n",
    "    Standardises, cleans, and stringifies record metadata.\n",
    "    \"\"\"\n",
    "    record = {}\n",
    "    record[\"work_id\"] = version[\"work_id\"]\n",
    "    record[\"version_id\"] = version[\"version_id\"]\n",
    "    record[\"title\"] = version.get(\"title\")\n",
    "    record[\"date\"] = version.get(\"date\")\n",
    "    # Make sure creators is a list\n",
    "    record[\"creators\"] = stringify_values(version, \"creator\")\n",
    "    record[\"subjects\"] = stringify_values(version, \"subject\")\n",
    "    record[\"source\"] = stringify_values(version, \"source\")\n",
    "    # Get the fulltext url from the list of identifiers\n",
    "    try:\n",
    "        record[\"fulltext_url\"] = get_fulltext_url(version[\"identifier\"])\n",
    "    except KeyError:\n",
    "        record[\"fulltext_url\"] = \"\"\n",
    "    record[\"trove_url\"] = \"https://trove.nla.gov.au/version/{}\".format(\n",
    "        version[\"version_id\"]\n",
    "    )\n",
    "    return record\n",
    "\n",
    "\n",
    "def save_texts(records, output_dir, query):\n",
    "    \"\"\"\n",
    "    Get the text of press releases in the ParlInfo db.\n",
    "    This function uses urls harvested from Trove to request press releases from Parlinfo.\n",
    "    Text is extracted from the HTML files and saved as individual text files.\n",
    "    \"\"\"\n",
    "    # Loop through all the previously harvested records\n",
    "    for record in tqdm(records):\n",
    "        output_path = Path(output_dir, f\"press-releases-{slugify(query)}\", \"texts\")\n",
    "        output_path.mkdir(parents=True, exist_ok=True)\n",
    "        filename = \"{}-{}-{}.txt\".format(\n",
    "            record[\"date\"], slugify(record[\"creators\"]), record[\"version_id\"]\n",
    "        )\n",
    "        file_path = os.path.join(output_path, filename)\n",
    "        # Only save files we haven't saved before\n",
    "        if not os.path.exists(file_path):\n",
    "            # Get the Parlinfo web page\n",
    "            response = s.get(record[\"fulltext_url\"])\n",
    "            # Parse web page in Beautiful Soup\n",
    "            soup = BeautifulSoup(response.text, \"lxml\")\n",
    "            content = soup.find(\"div\", class_=\"box\")\n",
    "            # If we find some text on the web page then save it.\n",
    "            if content:\n",
    "                # Open file\n",
    "                # print 'Saving file...'\n",
    "                with open(file_path, \"w\", encoding=\"utf-8\") as text_file:\n",
    "                    # Get the contents of each paragraph and write it to the file\n",
    "                    for para in content.find_all(\"p\"):\n",
    "                        text_file.write(\"{}\\n\\n\".format(para.get_text().strip()))\n",
    "            time.sleep(0.5)"
   ]
  },
  {
   "cell_type": "markdown",
   "metadata": {},
   "source": [
    "## Harvest the metadata!\n",
    "\n",
    "Running the cell below will harvest details of all the press releases matching our query using the Trove API. The results will be saved in the `records` variable for further use."
   ]
  },
  {
   "cell_type": "code",
   "execution_count": null,
   "metadata": {},
   "outputs": [],
   "source": [
    "records = harvest_prs(query)"
   ]
  },
  {
   "cell_type": "markdown",
   "metadata": {},
   "source": [
    "## Save the harvested metadata\n",
    "\n",
    "The cells below convert the `records` variable into a Pandas DataFrame, have a little peek inside, and then save all the harvested metadata as a CSV formatted text file. This file provides an index to the harvested press releases."
   ]
  },
  {
   "cell_type": "code",
   "execution_count": null,
   "metadata": {},
   "outputs": [],
   "source": [
    "df = pd.DataFrame(records)\n",
    "df.head()"
   ]
  },
  {
   "cell_type": "markdown",
   "metadata": {},
   "source": [
    "Note that the number of records in the harvested data might be different to the number of search results. This is because we've unpacked versions that had been combined into a single work."
   ]
  },
  {
   "cell_type": "code",
   "execution_count": null,
   "metadata": {},
   "outputs": [],
   "source": [
    "# How many records\n",
    "df.shape[0]"
   ]
  },
  {
   "cell_type": "markdown",
   "metadata": {},
   "source": [
    "## Download the text files\n",
    "\n",
    "The details we've harvested from the Trove API include a url that points to the full text of the press release in the ParlInfo database. Now we can loop through all those urls, saving the text of the press releases."
   ]
  },
  {
   "cell_type": "code",
   "execution_count": null,
   "metadata": {},
   "outputs": [],
   "source": [
    "save_texts(records, output_dir, query)"
   ]
  },
  {
   "cell_type": "markdown",
   "metadata": {},
   "source": [
    "## Removing non-matches\n",
    "\n",
    "As noted above, some of the press releases might not actually match our search. The cell below uses regular expressions to run a very basic check of the harvested text files to see if they contain the desired search terms. You will need to adjust `pattern` to suit your desired search results. In particular, you'll need to consider the amount of fuzziness you might expect in your search results and whether that will be captured by the regular expression pattern. If this is a problem, it might be better to use something like [`fuzzysearch`](https://pypi.org/project/fuzzysearch/) to do the comparisons.\n",
    "\n",
    "If the desired search terms are not found in a text file, the corresponding Trove record is removed from the results dataframe, and the text file is deleted."
   ]
  },
  {
   "cell_type": "code",
   "execution_count": null,
   "metadata": {},
   "outputs": [],
   "source": [
    "# Change this!\n",
    "# pattern = r'(covid|coronavirus)'\n",
    "pattern = r\"ufo\"\n",
    "\n",
    "for text_file in Path(output_dir, f\"press-releases-{slugify(query)}\", \"texts\").glob(\n",
    "    \"*.txt\"\n",
    "):\n",
    "    # Are our search terms in the file?\n",
    "    if re.findall(pattern, text_file.read_text().lower()) == []:\n",
    "        # Get the version id\n",
    "        version_id = re.search(r\"\\-(\\d+)\\.txt\", text_file.name).group(1)\n",
    "        # Remove the record with that version_id from the dataset\n",
    "        df = df.loc[df[\"version_id\"] != version_id]\n",
    "        # Delete the text file\n",
    "        text_file.unlink()"
   ]
  },
  {
   "cell_type": "markdown",
   "metadata": {},
   "source": [
    "How many records do we have now?"
   ]
  },
  {
   "cell_type": "code",
   "execution_count": null,
   "metadata": {},
   "outputs": [],
   "source": [
    "df.shape[0]"
   ]
  },
  {
   "cell_type": "markdown",
   "metadata": {
    "tags": []
   },
   "source": [
    "## Find press releases with duplicate content\n",
    "\n",
    "As noted above, there might be press releases that have the same content, but different metadata (eg title or creator). To make these duplicates easy to identify, this cell adds a `hash` column to the dataset. The `hash` value is a short string representation of each record's associated text file. If two records have the same `hash` value, then the contents of the press releases will be the same.\n",
    "\n",
    "If you want, you can use this column to drop duplicates from the dataset. On the other hand, if you're interested in seeing how press releases are disseminated, you might want to group records by their `hash` values and compare the metadata within each group."
   ]
  },
  {
   "cell_type": "code",
   "execution_count": null,
   "metadata": {},
   "outputs": [],
   "source": [
    "def get_hash(version_id):\n",
    "    try:\n",
    "        text_file = next(\n",
    "            Path(output_dir, f\"press-releases-{slugify(query)}\", \"texts\").glob(\n",
    "                f\"*-{version_id}.txt\"\n",
    "            )\n",
    "        )\n",
    "        hashed = hashlib.sha1(text_file.read_text().encode()).hexdigest()\n",
    "    except StopIteration:\n",
    "        print(version_id)\n",
    "        hashed = None\n",
    "    return hashed\n",
    "\n",
    "\n",
    "df[\"hash\"] = df[\"version_id\"].apply(get_hash)"
   ]
  },
  {
   "cell_type": "markdown",
   "metadata": {},
   "source": [
    "How many unique press releases are there?"
   ]
  },
  {
   "cell_type": "code",
   "execution_count": null,
   "metadata": {},
   "outputs": [],
   "source": [
    "df[\"hash\"].nunique()"
   ]
  },
  {
   "cell_type": "markdown",
   "metadata": {},
   "source": [
    "## Save the dataset and zip all the results for easy download\n",
    "\n",
    "Let's save the dataset as a CSV file for download."
   ]
  },
  {
   "cell_type": "code",
   "execution_count": null,
   "metadata": {
    "tags": [
     "nbval-skip"
    ]
   },
   "outputs": [],
   "source": [
    "# Save the data as a CSV file\n",
    "output_path = Path(output_dir, f\"press-releases-{slugify(query)}\")\n",
    "output_path.mkdir(parents=True, exist_ok=True)\n",
    "df.to_csv(Path(output_path, f\"press-releases-{slugify(query)}.csv\"), index=False)"
   ]
  },
  {
   "cell_type": "markdown",
   "metadata": {},
   "source": [
    "The metadata and text files we've harvested are all sitting in a directory named using the `query` value. If you're running this notebook on a cloud service, like Binder, you probably want to download it all. Running the cell below will zip up the whole directory and provide a convenient download link."
   ]
  },
  {
   "cell_type": "code",
   "execution_count": null,
   "metadata": {
    "tags": [
     "nbval-skip"
    ]
   },
   "outputs": [],
   "source": [
    "shutil.make_archive(output_path, \"zip\", output_path)\n",
    "display(HTML(\"<b>Download results</b>\"))\n",
    "# display(FileLink('{}.zip'.format(output_path)))\n",
    "display(\n",
    "    HTML(\n",
    "        f'<a download=\"press-releases-{slugify(query)}.zip\" href=\"{output_path}.zip\">{output_path}.zip</a>'\n",
    "    )\n",
    ")"
   ]
  },
  {
   "cell_type": "markdown",
   "metadata": {},
   "source": [
    "----\n",
    "\n",
    "Created by [Tim Sherratt](https://timsherratt.org/) for the [GLAM Workbench](https://glam-workbench.github.io/).\n",
    "\n",
    "Work on this notebook was supported by the [Humanities, Arts and Social Sciences (HASS) Data Enhanced Virtual Lab](https://tinker.edu.au/)."
   ]
  }
 ],
 "metadata": {
  "kernelspec": {
   "display_name": "Python 3 (ipykernel)",
   "language": "python",
   "name": "python3"
  },
  "language_info": {
   "codemirror_mode": {
    "name": "ipython",
    "version": 3
   },
   "file_extension": ".py",
   "mimetype": "text/x-python",
   "name": "python",
   "nbconvert_exporter": "python",
   "pygments_lexer": "ipython3",
   "version": "3.8.12"
  },
  "widgets": {
   "application/vnd.jupyter.widget-state+json": {
    "state": {
     "090553305adc4c64a9bc1c22c8d6090f": {
      "model_module": "@jupyter-widgets/base",
      "model_module_version": "1.2.0",
      "model_name": "LayoutModel",
      "state": {}
     },
     "095d35dd371746ebbd736b0888d78d39": {
      "model_module": "@jupyter-widgets/controls",
      "model_module_version": "1.5.0",
      "model_name": "HBoxModel",
      "state": {
       "children": [
        "IPY_MODEL_2cb879a596e44f21a2298470f7eb9b3f",
        "IPY_MODEL_b2d18b3db7fb48e4a3b372842be90c40",
        "IPY_MODEL_d8aa93a199aa4fb3b4604dfe4aad89ea"
       ],
       "layout": "IPY_MODEL_20aa58b616734d51bc49eeb5902ea4b5"
      }
     },
     "0a572cfa4498415aac27d6a0bc8c05ca": {
      "model_module": "@jupyter-widgets/base",
      "model_module_version": "1.2.0",
      "model_name": "LayoutModel",
      "state": {}
     },
     "0f774dca00aa4665a08f86fa5f2eb24f": {
      "model_module": "@jupyter-widgets/controls",
      "model_module_version": "1.5.0",
      "model_name": "DescriptionStyleModel",
      "state": {
       "description_width": ""
      }
     },
     "13acf85822044d439708dccd6146e5c6": {
      "model_module": "@jupyter-widgets/controls",
      "model_module_version": "1.5.0",
      "model_name": "ProgressStyleModel",
      "state": {
       "description_width": ""
      }
     },
     "14dc0cc9d0b7434eb8ec4fad85f4f1fb": {
      "model_module": "@jupyter-widgets/controls",
      "model_module_version": "1.5.0",
      "model_name": "HTMLModel",
      "state": {
       "layout": "IPY_MODEL_3991f931039549cf85f5dbd105dfa21d",
       "style": "IPY_MODEL_e187703a2b3a427cac55c8d10a574ba5",
       "value": "100%"
      }
     },
     "1cd9c450300543a9bc3223490869e491": {
      "model_module": "@jupyter-widgets/base",
      "model_module_version": "1.2.0",
      "model_name": "LayoutModel",
      "state": {}
     },
     "20aa58b616734d51bc49eeb5902ea4b5": {
      "model_module": "@jupyter-widgets/base",
      "model_module_version": "1.2.0",
      "model_name": "LayoutModel",
      "state": {}
     },
     "21f4d883baf846d08c3c39798caaf23e": {
      "model_module": "@jupyter-widgets/controls",
      "model_module_version": "1.5.0",
      "model_name": "FloatProgressModel",
      "state": {
       "bar_style": "success",
       "layout": "IPY_MODEL_624e6959b98a42c8bdfce3711ac7bdb5",
       "max": 9,
       "style": "IPY_MODEL_ebf402203d05418ca2fd16d793f8db4b",
       "value": 9
      }
     },
     "22515adadf9f444ebfd5736fca113856": {
      "model_module": "@jupyter-widgets/controls",
      "model_module_version": "1.5.0",
      "model_name": "ProgressStyleModel",
      "state": {
       "description_width": ""
      }
     },
     "22e761747a114288b315f4b3ed32893e": {
      "model_module": "@jupyter-widgets/base",
      "model_module_version": "1.2.0",
      "model_name": "LayoutModel",
      "state": {}
     },
     "297be3c7dddc4274a143ca642691ec0e": {
      "model_module": "@jupyter-widgets/controls",
      "model_module_version": "1.5.0",
      "model_name": "HTMLModel",
      "state": {
       "layout": "IPY_MODEL_0a572cfa4498415aac27d6a0bc8c05ca",
       "style": "IPY_MODEL_0f774dca00aa4665a08f86fa5f2eb24f",
       "value": " 9/9 [00:01&lt;00:00,  2.00it/s]"
      }
     },
     "2cb879a596e44f21a2298470f7eb9b3f": {
      "model_module": "@jupyter-widgets/controls",
      "model_module_version": "1.5.0",
      "model_name": "HTMLModel",
      "state": {
       "layout": "IPY_MODEL_22e761747a114288b315f4b3ed32893e",
       "style": "IPY_MODEL_bd307d8af6e94c8fad5665e58dd15a4c",
       "value": "100%"
      }
     },
     "3991f931039549cf85f5dbd105dfa21d": {
      "model_module": "@jupyter-widgets/base",
      "model_module_version": "1.2.0",
      "model_name": "LayoutModel",
      "state": {}
     },
     "423f4709b6cf44de8fd10110bd9af90e": {
      "model_module": "@jupyter-widgets/controls",
      "model_module_version": "1.5.0",
      "model_name": "HTMLModel",
      "state": {
       "layout": "IPY_MODEL_94f10d82bb704db2a2b1aa73958ed6fd",
       "style": "IPY_MODEL_f5ad104107b447debbf331c7049b69ac",
       "value": "100%"
      }
     },
     "45bfb654ca304fcc92c64c1084f55dc7": {
      "model_module": "@jupyter-widgets/controls",
      "model_module_version": "1.5.0",
      "model_name": "HTMLModel",
      "state": {
       "layout": "IPY_MODEL_dd7d04874a6842d39323ed9034bbf80e",
       "style": "IPY_MODEL_c75e99cedd3a490a9059745975d7f383"
      }
     },
     "624e6959b98a42c8bdfce3711ac7bdb5": {
      "model_module": "@jupyter-widgets/base",
      "model_module_version": "1.2.0",
      "model_name": "LayoutModel",
      "state": {}
     },
     "672e6a6b436f4cd881931f70356cb999": {
      "model_module": "@jupyter-widgets/controls",
      "model_module_version": "1.5.0",
      "model_name": "DescriptionStyleModel",
      "state": {
       "description_width": ""
      }
     },
     "786150f9e1054915bf67cb9061e17d24": {
      "model_module": "@jupyter-widgets/base",
      "model_module_version": "1.2.0",
      "model_name": "LayoutModel",
      "state": {}
     },
     "91e1f2ece7cd44b39d639b7def1a3fe5": {
      "model_module": "@jupyter-widgets/controls",
      "model_module_version": "1.5.0",
      "model_name": "FloatProgressModel",
      "state": {
       "bar_style": "success",
       "layout": "IPY_MODEL_e9e7451675a64a6f88b959d12deebbad",
       "max": 9,
       "style": "IPY_MODEL_22515adadf9f444ebfd5736fca113856",
       "value": 9
      }
     },
     "945f40d41ea846b68264e212d44dd625": {
      "model_module": "@jupyter-widgets/base",
      "model_module_version": "1.2.0",
      "model_name": "LayoutModel",
      "state": {}
     },
     "94f10d82bb704db2a2b1aa73958ed6fd": {
      "model_module": "@jupyter-widgets/base",
      "model_module_version": "1.2.0",
      "model_name": "LayoutModel",
      "state": {}
     },
     "a0ae07ac130345e18831459686702af0": {
      "model_module": "@jupyter-widgets/controls",
      "model_module_version": "1.5.0",
      "model_name": "HBoxModel",
      "state": {
       "children": [
        "IPY_MODEL_423f4709b6cf44de8fd10110bd9af90e",
        "IPY_MODEL_91e1f2ece7cd44b39d639b7def1a3fe5",
        "IPY_MODEL_dca3a0bcad1f4d9aa19fc0525e71b96d"
       ],
       "layout": "IPY_MODEL_d91fea9b5280467cbb8d63eda4c778f6"
      }
     },
     "a3aeafeac8f243a4894d51db0e8f410e": {
      "model_module": "@jupyter-widgets/base",
      "model_module_version": "1.2.0",
      "model_name": "LayoutModel",
      "state": {}
     },
     "b2d18b3db7fb48e4a3b372842be90c40": {
      "model_module": "@jupyter-widgets/controls",
      "model_module_version": "1.5.0",
      "model_name": "FloatProgressModel",
      "state": {
       "bar_style": "success",
       "layout": "IPY_MODEL_d4853c1c2e214e179cc6c168099e7b81",
       "max": 9,
       "style": "IPY_MODEL_13acf85822044d439708dccd6146e5c6",
       "value": 9
      }
     },
     "b3c0bb8a5d764f28ba3a4d418986460e": {
      "model_module": "@jupyter-widgets/controls",
      "model_module_version": "1.5.0",
      "model_name": "HBoxModel",
      "state": {
       "children": [
        "IPY_MODEL_14dc0cc9d0b7434eb8ec4fad85f4f1fb",
        "IPY_MODEL_b5fb1d21192548ffb5fa72d44ca5fe09",
        "IPY_MODEL_297be3c7dddc4274a143ca642691ec0e"
       ],
       "layout": "IPY_MODEL_1cd9c450300543a9bc3223490869e491"
      }
     },
     "b5834df18ad64be2b780b9b9e2057e7d": {
      "model_module": "@jupyter-widgets/controls",
      "model_module_version": "1.5.0",
      "model_name": "DescriptionStyleModel",
      "state": {
       "description_width": ""
      }
     },
     "b5fb1d21192548ffb5fa72d44ca5fe09": {
      "model_module": "@jupyter-widgets/controls",
      "model_module_version": "1.5.0",
      "model_name": "FloatProgressModel",
      "state": {
       "bar_style": "success",
       "layout": "IPY_MODEL_945f40d41ea846b68264e212d44dd625",
       "max": 9,
       "style": "IPY_MODEL_e215e1a69c5f41159351fb857503bd84",
       "value": 9
      }
     },
     "b89e7753bedc43a4a21000c0b617b808": {
      "model_module": "@jupyter-widgets/controls",
      "model_module_version": "1.5.0",
      "model_name": "HBoxModel",
      "state": {
       "children": [
        "IPY_MODEL_45bfb654ca304fcc92c64c1084f55dc7",
        "IPY_MODEL_21f4d883baf846d08c3c39798caaf23e",
        "IPY_MODEL_e0eae4978d9144adaa79afd0d52dd95e"
       ],
       "layout": "IPY_MODEL_786150f9e1054915bf67cb9061e17d24"
      }
     },
     "bd307d8af6e94c8fad5665e58dd15a4c": {
      "model_module": "@jupyter-widgets/controls",
      "model_module_version": "1.5.0",
      "model_name": "DescriptionStyleModel",
      "state": {
       "description_width": ""
      }
     },
     "c75e99cedd3a490a9059745975d7f383": {
      "model_module": "@jupyter-widgets/controls",
      "model_module_version": "1.5.0",
      "model_name": "DescriptionStyleModel",
      "state": {
       "description_width": ""
      }
     },
     "d4853c1c2e214e179cc6c168099e7b81": {
      "model_module": "@jupyter-widgets/base",
      "model_module_version": "1.2.0",
      "model_name": "LayoutModel",
      "state": {}
     },
     "d8aa93a199aa4fb3b4604dfe4aad89ea": {
      "model_module": "@jupyter-widgets/controls",
      "model_module_version": "1.5.0",
      "model_name": "HTMLModel",
      "state": {
       "layout": "IPY_MODEL_fb026dc6a8174c4599b2e56f7be7786f",
       "style": "IPY_MODEL_e2577f16eaf74a8cad6f1ee2d7297702",
       "value": " 9/9 [00:05&lt;00:00,  1.91s/it]"
      }
     },
     "d91fea9b5280467cbb8d63eda4c778f6": {
      "model_module": "@jupyter-widgets/base",
      "model_module_version": "1.2.0",
      "model_name": "LayoutModel",
      "state": {}
     },
     "dca3a0bcad1f4d9aa19fc0525e71b96d": {
      "model_module": "@jupyter-widgets/controls",
      "model_module_version": "1.5.0",
      "model_name": "HTMLModel",
      "state": {
       "layout": "IPY_MODEL_a3aeafeac8f243a4894d51db0e8f410e",
       "style": "IPY_MODEL_b5834df18ad64be2b780b9b9e2057e7d",
       "value": " 9/9 [00:12&lt;00:00,  1.11it/s]"
      }
     },
     "dd7d04874a6842d39323ed9034bbf80e": {
      "model_module": "@jupyter-widgets/base",
      "model_module_version": "1.2.0",
      "model_name": "LayoutModel",
      "state": {}
     },
     "e0eae4978d9144adaa79afd0d52dd95e": {
      "model_module": "@jupyter-widgets/controls",
      "model_module_version": "1.5.0",
      "model_name": "HTMLModel",
      "state": {
       "layout": "IPY_MODEL_090553305adc4c64a9bc1c22c8d6090f",
       "style": "IPY_MODEL_672e6a6b436f4cd881931f70356cb999",
       "value": " 100/? [00:00&lt;00:00, 192.42it/s]"
      }
     },
     "e187703a2b3a427cac55c8d10a574ba5": {
      "model_module": "@jupyter-widgets/controls",
      "model_module_version": "1.5.0",
      "model_name": "DescriptionStyleModel",
      "state": {
       "description_width": ""
      }
     },
     "e215e1a69c5f41159351fb857503bd84": {
      "model_module": "@jupyter-widgets/controls",
      "model_module_version": "1.5.0",
      "model_name": "ProgressStyleModel",
      "state": {
       "description_width": ""
      }
     },
     "e2577f16eaf74a8cad6f1ee2d7297702": {
      "model_module": "@jupyter-widgets/controls",
      "model_module_version": "1.5.0",
      "model_name": "DescriptionStyleModel",
      "state": {
       "description_width": ""
      }
     },
     "e9e7451675a64a6f88b959d12deebbad": {
      "model_module": "@jupyter-widgets/base",
      "model_module_version": "1.2.0",
      "model_name": "LayoutModel",
      "state": {}
     },
     "ebf402203d05418ca2fd16d793f8db4b": {
      "model_module": "@jupyter-widgets/controls",
      "model_module_version": "1.5.0",
      "model_name": "ProgressStyleModel",
      "state": {
       "description_width": ""
      }
     },
     "f5ad104107b447debbf331c7049b69ac": {
      "model_module": "@jupyter-widgets/controls",
      "model_module_version": "1.5.0",
      "model_name": "DescriptionStyleModel",
      "state": {
       "description_width": ""
      }
     },
     "fb026dc6a8174c4599b2e56f7be7786f": {
      "model_module": "@jupyter-widgets/base",
      "model_module_version": "1.2.0",
      "model_name": "LayoutModel",
      "state": {}
     }
    },
    "version_major": 2,
    "version_minor": 0
   }
  }
 },
 "nbformat": 4,
 "nbformat_minor": 4
}
