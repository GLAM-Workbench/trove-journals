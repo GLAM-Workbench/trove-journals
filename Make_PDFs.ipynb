{
 "cells": [
  {
   "cell_type": "code",
   "execution_count": 167,
   "metadata": {},
   "outputs": [],
   "source": [
    "import os\n",
    "from tqdm import tqdm_notebook\n",
    "import glob\n",
    "import re\n",
    "from fpdf import FPDF\n",
    "import sys\n",
    "from PIL import Image\n",
    "import arrow"
   ]
  },
  {
   "cell_type": "code",
   "execution_count": 168,
   "metadata": {},
   "outputs": [
    {
     "data": {
      "application/vnd.jupyter.widget-view+json": {
       "model_id": "1ee88e20283d44c68139743c98b7294b",
       "version_major": 2,
       "version_minor": 0
      },
      "text/plain": [
       "HBox(children=(IntProgress(value=0, max=178), HTML(value='')))"
      ]
     },
     "metadata": {},
     "output_type": "display_data"
    },
    {
     "data": {
      "application/vnd.jupyter.widget-view+json": {
       "model_id": "e6c021c1558246229b6e34dbf4ec8918",
       "version_major": 2,
       "version_minor": 0
      },
      "text/plain": [
       "HBox(children=(IntProgress(value=0, max=521), HTML(value='')))"
      ]
     },
     "metadata": {},
     "output_type": "display_data"
    },
    {
     "data": {
      "application/vnd.jupyter.widget-view+json": {
       "model_id": "b2a7104fc6e64c098904cbac81d7f006",
       "version_major": 2,
       "version_minor": 0
      },
      "text/plain": [
       "HBox(children=(IntProgress(value=0, max=522), HTML(value='')))"
      ]
     },
     "metadata": {},
     "output_type": "display_data"
    },
    {
     "data": {
      "application/vnd.jupyter.widget-view+json": {
       "model_id": "d0db9b32c325461685d58c33e3c7f3f4",
       "version_major": 2,
       "version_minor": 0
      },
      "text/plain": [
       "HBox(children=(IntProgress(value=0, max=524), HTML(value='')))"
      ]
     },
     "metadata": {},
     "output_type": "display_data"
    },
    {
     "data": {
      "application/vnd.jupyter.widget-view+json": {
       "model_id": "d3866faa4a7948d085b6983c754468a1",
       "version_major": 2,
       "version_minor": 0
      },
      "text/plain": [
       "HBox(children=(IntProgress(value=0, max=523), HTML(value='')))"
      ]
     },
     "metadata": {},
     "output_type": "display_data"
    },
    {
     "data": {
      "application/vnd.jupyter.widget-view+json": {
       "model_id": "6010828716c2476e8b2bab4186b70daf",
       "version_major": 2,
       "version_minor": 0
      },
      "text/plain": [
       "HBox(children=(IntProgress(value=0, max=523), HTML(value='')))"
      ]
     },
     "metadata": {},
     "output_type": "display_data"
    },
    {
     "data": {
      "application/vnd.jupyter.widget-view+json": {
       "model_id": "be94c4b48039481f9151a848b24ea301",
       "version_major": 2,
       "version_minor": 0
      },
      "text/plain": [
       "HBox(children=(IntProgress(value=0, max=537), HTML(value='')))"
      ]
     },
     "metadata": {},
     "output_type": "display_data"
    },
    {
     "data": {
      "application/vnd.jupyter.widget-view+json": {
       "model_id": "a40a093e62cb4f7a9acc56c168753063",
       "version_major": 2,
       "version_minor": 0
      },
      "text/plain": [
       "HBox(children=(IntProgress(value=0, max=143), HTML(value='')))"
      ]
     },
     "metadata": {},
     "output_type": "display_data"
    }
   ],
   "source": [
    "\n",
    "title = '''\n",
    "    <h1>The Bulletin</h1>\n",
    "    <h3>Editorial cartoons {} to {}</h3>\n",
    "'''\n",
    "\n",
    "html = '''\n",
    "    <h2>Warning</h2>\n",
    "    <p>The language, images, and ideas presented in <i>The Bulletin</i> were often racist, \n",
    "anti-Semitic, and sexist. You won't have to look far within this collection to find \n",
    "something offensive. This was, after all, the journal whose slogan for many years was \n",
    "'Australia for the white man'.</p>\n",
    "    <p>&nbsp;</p>\n",
    "    \n",
    "    <h2>Artists and copyright</h2>\n",
    "    <p>The artists represented in this collection include (amongst others):</p>\n",
    "    <ul>\n",
    "    <li>Livingston Hopkins (Hop) (1846-1927)</li>\n",
    "    <li>Percy Leason (1889-1959)</li>\n",
    "    <li>Norman Lindsay (1879-1969)</li>\n",
    "    <li>Phil May (1864-1903)</li>\n",
    "    <li>CH Percival (1891-?)</li>\n",
    "    <li>Edward Scorfield (1884-1968)</li>\n",
    "    </ul>\n",
    "    </p>\n",
    "    <p>&nbsp;</p>\n",
    "    <p>The creators of many of these works can be identified by their signatures. \n",
    "If the artist died before 1955, then their work will be out of copyright. Otherwise \n",
    "the work will remain in copyright until seventy years after their death. For example, \n",
    "many of the works are by Norman Lindsay who died in 1969. His works will remain in \n",
    "copyright until 2039. However, depending on the conditions under which the artists \n",
    "were employed, the copyright in the images might be owned by <i>The Bulletin</i> and its \n",
    "corporate successors, rather than the artists and their families. \n",
    "Here's a <a href=\"http://www.cartoonists.org.au/members/history\">useful biographical source</a> \n",
    "on Australian cartoonists.</p>\n",
    "    <p>&nbsp;</p>\n",
    "    <p>If the work is unsigned, and the artist can't be identified in some other way, \n",
    "then it's out of copyright as all the works in this collection were published before 1955.</p>\n",
    "    <p>&nbsp;</p>\n",
    "    <h2>Acknowledgements</h2>\n",
    "    <p>These images were downloaded from <a href=\"https://trove.nla.gov.au\">Trove</a>. \n",
    "Digitisation of <i>The Bulletin</i> was supported by:</p>\n",
    "    <ul>\n",
    "    <li>AustLit (University of Queensland)</li>\n",
    "    <li>State Library of New South Wales</li>\n",
    "    <li>State Library of Victoria</li>\n",
    "    </ul>\n",
    "    <p>&nbsp;</p>\n",
    "    <h2>More info</h2>\n",
    "    <p>This collection was compiled by <a href=\"https://timsherratt.org\">Tim Sherratt</a> to help researchers and promote use of Australia's digital cultural collections. The methods used to harvest \n",
    "the metadata and images are described in the <a href=\"https://glam-workbench.github.io/trove-journals/\">Trove Journals</a> \n",
    "section of his <a href=\"https://glam-workbench.github.io/\">GLAM Workbench</a>.</p>\n",
    "    <p>&nbsp;</p> \n",
    "    <p>Click on the links below each cartoon to view and download individual images from Trove. The complete collection of high-resolution images (about 60gb in total) can be \n",
    "<a href=\"https://cloudstor.aarnet.edu.au/plus/s/bI7hJREvO0oJLGL\">downloaded from CloudStor</a>.\n",
    "'''\n",
    "\n",
    "issue_info = '''\n",
    "    <p><i>The Bulletin</i>, no. {0}, {1}, page {2}<br>\n",
    "<a href=\"https://nla.gov.au/{3}\">https://nla.gov.au/{3}</a></p>\n",
    "'''\n",
    "\n",
    "from fpdf import FPDF, HTMLMixin\n",
    "\n",
    "class MyFPDF(FPDF, HTMLMixin):\n",
    "    pass\n",
    "\n",
    "def get_year(path):\n",
    "    return os.path.basename(path)[:4]\n",
    "\n",
    "for decade in range(188, 196):\n",
    "    pdf = MyFPDF()\n",
    "    # compression is not yet supported in py3k version\n",
    "    pdf.compress = True\n",
    "    pdf.set_left_margin(25)\n",
    "    pdf.set_right_margin(25)\n",
    "    pdf.set_top_margin(20)\n",
    "    pages = glob.glob('/Volumes/bigdata/mydata/Trove-text/Bulletin/covers/images/{}*.jpg'.format(decade))\n",
    "    pages = sorted(pages)\n",
    "    start = get_year(pages[0])\n",
    "    end = get_year(pages[-1])\n",
    "    pdf.add_page()\n",
    "    pdf.write_html(title.format(start, end))\n",
    "    pdf.add_page()\n",
    "    pdf.set_font('Times', '', 11)\n",
    "    pdf.write_html(html)\n",
    "    for page in tqdm_notebook(pages):\n",
    "        filename = os.path.basename(page)\n",
    "        date, number, issue_id, page_number = re.search(r'(\\d+)-(\\w+)-(nla\\.obj-\\d+)-(\\d+).jpg', filename).groups()\n",
    "        fdate = arrow.get(date, 'YYYYMMDD').format('D MMMM YYYY')\n",
    "        pdf.add_page()\n",
    "        \n",
    "        # Unicode is not yet supported in the py3k version; use windows-1252 standard font  \n",
    "        img = Image.open(page)\n",
    "        w, h = img.size\n",
    "        scale = 1500 / h\n",
    "        w = round(w * scale)\n",
    "        img = img.resize((w, 1500), Image.LANCZOS)\n",
    "        img.save('temp/{}'.format(filename), quality=75)\n",
    "        pdf.image('temp/{}'.format(filename), 25, 20, h=230)\n",
    "        pdf.ln(230)\n",
    "        pdf.write_html(issue_info.format(number, fdate, page_number, issue_id))\n",
    "    pdf.output('bulletin-{}-{}.pdf'.format(start, end), 'F')"
   ]
  },
  {
   "cell_type": "code",
   "execution_count": null,
   "metadata": {},
   "outputs": [],
   "source": []
  }
 ],
 "metadata": {
  "kernelspec": {
   "display_name": "Python 3",
   "language": "python",
   "name": "python3"
  },
  "language_info": {
   "codemirror_mode": {
    "name": "ipython",
    "version": 3
   },
   "file_extension": ".py",
   "mimetype": "text/x-python",
   "name": "python",
   "nbconvert_exporter": "python",
   "pygments_lexer": "ipython3",
   "version": "3.7.3"
  }
 },
 "nbformat": 4,
 "nbformat_minor": 2
}
